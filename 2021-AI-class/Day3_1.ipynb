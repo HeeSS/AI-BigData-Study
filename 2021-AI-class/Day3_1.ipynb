{
 "cells": [
  {
   "cell_type": "code",
   "execution_count": 1,
   "metadata": {
    "id": "6hzewbbyo5Ab"
   },
   "outputs": [],
   "source": [
    "# modules\n",
    "import numpy as np\n",
    "import scipy as sp\n",
    "import scipy.stats\n",
    "import pandas as pd\n",
    "import matplotlib.pyplot as plt\n",
    "from sklearn.model_selection import cross_val_score\n",
    "from sklearn.model_selection import train_test_split\n",
    "from sklearn.metrics import precision_recall_curve\n",
    "\n",
    "# my score function\n",
    "def myscore(y,yhat_prob,min_r=0.95,th_f=None):\n",
    "    p,r,th = precision_recall_curve(y,yhat_prob[:,1])\n",
    "    if th_f == None:\n",
    "        th_f = np.concatenate(([0],th))[r>min_r].max()\n",
    "    yhat = (yhat_prob[:,1]>th_f)+1-1\n",
    "    ct = pd.crosstab(yhat,y).values\n",
    "    if ct.shape[0] == 1:\n",
    "        m = np.array([0,0,ct[0][0],ct[0][1]])\n",
    "    else:\n",
    "        m = ct.reshape((4,))\n",
    "    acc = (m[0]+m[3])/m.sum()\n",
    "    precision = m[3]/(m[2]+m[3])\n",
    "    recall = m[3]/(m[1]+m[3])\n",
    "    return acc, precision, recall, m[0], m[1], m[2], m[3], th_f"
   ]
  },
  {
   "cell_type": "code",
   "execution_count": 2,
   "metadata": {
    "id": "zmsEkq9JphuQ"
   },
   "outputs": [],
   "source": [
    "# read data\n",
    "df = pd.read_csv('data_semi_train_clean.csv')\n",
    "X = df.iloc[:,1:].values\n",
    "Y = (df['Label']=='defect').values+1-1"
   ]
  },
  {
   "cell_type": "code",
   "execution_count": 3,
   "metadata": {
    "colab": {
     "base_uri": "https://localhost:8080/"
    },
    "id": "QiUd4ZkipnH9",
    "outputId": "664f56ba-3426-4a82-e9b8-70a97c093831"
   },
   "outputs": [
    {
     "data": {
      "text/plain": [
       "(11466, 303)"
      ]
     },
     "execution_count": 3,
     "metadata": {},
     "output_type": "execute_result"
    }
   ],
   "source": [
    "X.shape"
   ]
  },
  {
   "cell_type": "code",
   "execution_count": 4,
   "metadata": {
    "colab": {
     "base_uri": "https://localhost:8080/"
    },
    "id": "Xju4T7WVppbk",
    "outputId": "2445a448-830b-45e5-fcf3-ac623011f5dd"
   },
   "outputs": [
    {
     "data": {
      "text/plain": [
       "(11466,)"
      ]
     },
     "execution_count": 4,
     "metadata": {},
     "output_type": "execute_result"
    }
   ],
   "source": [
    "Y.shape"
   ]
  },
  {
   "cell_type": "code",
   "execution_count": 5,
   "metadata": {
    "id": "YVf7-0Otptzs"
   },
   "outputs": [],
   "source": [
    "# normalization\n",
    "from sklearn.preprocessing import StandardScaler\n",
    "f = StandardScaler()\n",
    "X = f.fit_transform(X)"
   ]
  },
  {
   "cell_type": "code",
   "execution_count": 6,
   "metadata": {
    "id": "6ILY6cQFpwFM"
   },
   "outputs": [],
   "source": [
    "xtrain, xval, ytrain, yval = train_test_split(X,Y,test_size=0.2,random_state=0)"
   ]
  },
  {
   "cell_type": "code",
   "execution_count": 7,
   "metadata": {
    "colab": {
     "base_uri": "https://localhost:8080/"
    },
    "id": "bLeHm7J8pylS",
    "outputId": "6f302cac-6792-4872-d217-7eea313297d2"
   },
   "outputs": [
    {
     "data": {
      "text/plain": [
       "(9172, 303)"
      ]
     },
     "execution_count": 7,
     "metadata": {},
     "output_type": "execute_result"
    }
   ],
   "source": [
    "xtrain.shape"
   ]
  },
  {
   "cell_type": "code",
   "execution_count": 8,
   "metadata": {
    "colab": {
     "base_uri": "https://localhost:8080/"
    },
    "id": "HPBi7YO1p0d7",
    "outputId": "8d4da24d-253a-4b65-933e-7b5db893a669"
   },
   "outputs": [
    {
     "data": {
      "text/plain": [
       "(2294, 303)"
      ]
     },
     "execution_count": 8,
     "metadata": {},
     "output_type": "execute_result"
    }
   ],
   "source": [
    "xval.shape"
   ]
  },
  {
   "cell_type": "code",
   "execution_count": 9,
   "metadata": {
    "id": "-sT735NHp1-Y"
   },
   "outputs": [],
   "source": [
    "from sklearn.tree import DecisionTreeClassifier"
   ]
  },
  {
   "cell_type": "code",
   "execution_count": 10,
   "metadata": {
    "colab": {
     "base_uri": "https://localhost:8080/"
    },
    "id": "iAfDdjGoqOkJ",
    "outputId": "6c1fdd11-bfd5-4041-c484-2a4cc9059cb2"
   },
   "outputs": [
    {
     "data": {
      "text/plain": [
       "DecisionTreeClassifier()"
      ]
     },
     "execution_count": 10,
     "metadata": {},
     "output_type": "execute_result"
    }
   ],
   "source": [
    "f = DecisionTreeClassifier()\n",
    "f.fit(xtrain,ytrain)"
   ]
  },
  {
   "cell_type": "code",
   "execution_count": 11,
   "metadata": {
    "colab": {
     "base_uri": "https://localhost:8080/"
    },
    "id": "HB2Krqh2qafO",
    "outputId": "9d966253-9e83-430b-dbfe-608957102f35"
   },
   "outputs": [
    {
     "data": {
      "text/plain": [
       "(1.0, 1.0, 1.0, 8581, 0, 0, 591, 0.0)"
      ]
     },
     "execution_count": 11,
     "metadata": {},
     "output_type": "execute_result"
    }
   ],
   "source": [
    "yhat_prob = f.predict_proba(xtrain)\n",
    "myscore(ytrain,yhat_prob,min_r=0.95)"
   ]
  },
  {
   "cell_type": "code",
   "execution_count": 12,
   "metadata": {
    "colab": {
     "base_uri": "https://localhost:8080/"
    },
    "id": "DlZD1if3qq1s",
    "outputId": "51f48d93-f633-41d2-ee7d-73ebd74d024a"
   },
   "outputs": [
    {
     "data": {
      "text/plain": [
       "(0.9402789886660854,\n",
       " 0.5341614906832298,\n",
       " 0.581081081081081,\n",
       " 2071,\n",
       " 62,\n",
       " 75,\n",
       " 86,\n",
       " 0.0)"
      ]
     },
     "execution_count": 12,
     "metadata": {},
     "output_type": "execute_result"
    }
   ],
   "source": [
    "yhat_prob = f.predict_proba(xval)\n",
    "myscore(yval,yhat_prob,min_r=0.95)"
   ]
  },
  {
   "cell_type": "code",
   "execution_count": 13,
   "metadata": {
    "colab": {
     "base_uri": "https://localhost:8080/"
    },
    "id": "OspOdIQ5rDpH",
    "outputId": "2e1143dd-1d8e-4e9c-e3f6-4d01bd5b777f"
   },
   "outputs": [
    {
     "data": {
      "text/plain": [
       "RandomForestClassifier()"
      ]
     },
     "execution_count": 13,
     "metadata": {},
     "output_type": "execute_result"
    }
   ],
   "source": [
    "from sklearn.ensemble import RandomForestClassifier\n",
    "f = RandomForestClassifier()\n",
    "f.fit(xtrain,ytrain)"
   ]
  },
  {
   "cell_type": "code",
   "execution_count": 14,
   "metadata": {
    "colab": {
     "base_uri": "https://localhost:8080/"
    },
    "id": "0UG5wgwqsfh6",
    "outputId": "539f097d-c47f-44cb-cded-8bfd3fc60852"
   },
   "outputs": [
    {
     "data": {
      "text/plain": [
       "GradientBoostingClassifier()"
      ]
     },
     "execution_count": 14,
     "metadata": {},
     "output_type": "execute_result"
    }
   ],
   "source": [
    "from sklearn.ensemble import GradientBoostingClassifier\n",
    "f = GradientBoostingClassifier()\n",
    "f.fit(xtrain,ytrain)"
   ]
  },
  {
   "cell_type": "code",
   "execution_count": 15,
   "metadata": {
    "colab": {
     "base_uri": "https://localhost:8080/"
    },
    "id": "DGUKLxR1tf86",
    "outputId": "e1908d45-e905-43cf-b1ea-59188d696750"
   },
   "outputs": [
    {
     "data": {
      "text/plain": [
       "SVC(probability=True)"
      ]
     },
     "execution_count": 15,
     "metadata": {},
     "output_type": "execute_result"
    }
   ],
   "source": [
    "from sklearn.svm import SVC\n",
    "f = SVC(probability=True)\n",
    "f.fit(xtrain,ytrain)"
   ]
  },
  {
   "cell_type": "code",
   "execution_count": 16,
   "metadata": {
    "colab": {
     "base_uri": "https://localhost:8080/"
    },
    "id": "VpRdgHZqudE-",
    "outputId": "127a08ea-4898-466a-c899-523dec6c9d9c"
   },
   "outputs": [
    {
     "data": {
      "text/plain": [
       "(0.8635571054925893,\n",
       " 0.31543624161073824,\n",
       " 0.9527027027027027,\n",
       " 1840,\n",
       " 7,\n",
       " 306,\n",
       " 141,\n",
       " 0.07281365520673126)"
      ]
     },
     "execution_count": 16,
     "metadata": {},
     "output_type": "execute_result"
    }
   ],
   "source": [
    "from sklearn.ensemble import RandomForestClassifier\n",
    "f = RandomForestClassifier(n_estimators=200,min_samples_leaf=5,max_leaf_nodes=100)\n",
    "f.fit(xtrain,ytrain)\n",
    "yhat_prob = f.predict_proba(xval)\n",
    "myscore(yval,yhat_prob,min_r=0.95)"
   ]
  },
  {
   "cell_type": "code",
   "execution_count": 17,
   "metadata": {
    "id": "Awdq4wNBEQ0J"
   },
   "outputs": [],
   "source": [
    "# parameter tuning\n",
    "params = [10,20,50,100,200,500,1000]\n",
    "res = np.zeros( (len(params),3) )\n",
    "for i in range(len(params)):\n",
    "    f = RandomForestClassifier(n_estimators=200,min_samples_leaf=5,max_leaf_nodes=params[i])\n",
    "    f.fit(xtrain,ytrain)\n",
    "    yhat_prob = f.predict_proba(xval)\n",
    "    r = myscore(yval,yhat_prob)\n",
    "    res[i,] = [i,params[i],r[1]]"
   ]
  },
  {
   "cell_type": "code",
   "execution_count": 18,
   "metadata": {
    "colab": {
     "base_uri": "https://localhost:8080/",
     "height": 284
    },
    "id": "7bbFkHwEEuP1",
    "outputId": "6c55abe2-87d7-41ba-d162-f335738d7ab8"
   },
   "outputs": [
    {
     "data": {
      "text/plain": [
       "[<matplotlib.lines.Line2D at 0x7f50a8379a90>]"
      ]
     },
     "execution_count": 18,
     "metadata": {},
     "output_type": "execute_result"
    },
    {
     "data": {
      "image/png": "[encoded data removed]",
      "text/plain": [
       "<Figure size 432x288 with 1 Axes>"
      ]
     },
     "metadata": {
      "needs_background": "light"
     },
     "output_type": "display_data"
    }
   ],
   "source": [
    "pd.DataFrame(res)\n",
    "plt.plot(np.log10(res[:,1]),res[:,2])"
   ]
  },
  {
   "cell_type": "code",
   "execution_count": 19,
   "metadata": {
    "colab": {
     "base_uri": "https://localhost:8080/"
    },
    "id": "jLKmuF6gFghl",
    "outputId": "554ab8f7-8f35-4c78-c88c-f6e489ee1685"
   },
   "outputs": [
    {
     "data": {
      "text/plain": [
       "(0.9965126416739319,\n",
       " 0.9929577464788732,\n",
       " 0.9527027027027027,\n",
       " 2145,\n",
       " 7,\n",
       " 1,\n",
       " 141,\n",
       " 0.6643787111773128)"
      ]
     },
     "execution_count": 19,
     "metadata": {},
     "output_type": "execute_result"
    }
   ],
   "source": [
    "from sklearn.svm import SVC\n",
    "f = SVC(probability=True)\n",
    "f.fit(xtrain,ytrain)\n",
    "yhat_prob = f.predict_proba(xval)\n",
    "myscore(yval,yhat_prob,min_r=0.95)"
   ]
  },
  {
   "cell_type": "code",
   "execution_count": 20,
   "metadata": {
    "colab": {
     "base_uri": "https://localhost:8080/"
    },
    "id": "Fqf1SMTrFuA8",
    "outputId": "a40debb1-6d7e-402c-b5d5-51c84d25cc2b"
   },
   "outputs": [
    {
     "data": {
      "text/plain": [
       "(0.9446381865736705,\n",
       " 0.5384615384615384,\n",
       " 0.9932432432432432,\n",
       " 2020,\n",
       " 1,\n",
       " 126,\n",
       " 147,\n",
       " 0.00857288321372433)"
      ]
     },
     "execution_count": 20,
     "metadata": {},
     "output_type": "execute_result"
    }
   ],
   "source": [
    "myscore(yval,yhat_prob,min_r=0.99)"
   ]
  },
  {
   "cell_type": "code",
   "execution_count": 21,
   "metadata": {
    "id": "uDduS9klGEwG"
   },
   "outputs": [],
   "source": [
    "# parameter tuning\n",
    "C_list = 10**np.linspace(-5,5,num=6)\n",
    "res = np.zeros( (len(C_list),3) )\n",
    "for i in range(len(C_list)):\n",
    "    f = SVC(C=C_list[i],probability=True)\n",
    "    f.fit(xtrain,ytrain)\n",
    "    yhat_prob = f.predict_proba(xval)\n",
    "    r = myscore(yval,yhat_prob,min_r=0.99)\n",
    "    res[i,] = [i,C_list[i],r[1]]"
   ]
  },
  {
   "cell_type": "code",
   "execution_count": 22,
   "metadata": {
    "colab": {
     "base_uri": "https://localhost:8080/",
     "height": 284
    },
    "id": "7Du0JZm4GaHh",
    "outputId": "51240d4c-f74e-4e79-c10b-9ce16308d01c"
   },
   "outputs": [
    {
     "data": {
      "text/plain": [
       "[<matplotlib.lines.Line2D at 0x7f50a6277c18>]"
      ]
     },
     "execution_count": 22,
     "metadata": {},
     "output_type": "execute_result"
    },
    {
     "data": {
      "image/png": "[encoded data removed]",
      "text/plain": [
       "<Figure size 432x288 with 1 Axes>"
      ]
     },
     "metadata": {
      "needs_background": "light"
     },
     "output_type": "display_data"
    }
   ],
   "source": [
    "pd.DataFrame(res)\n",
    "plt.plot(np.log10(res[:,1]),res[:,2])"
   ]
  },
  {
   "cell_type": "code",
   "execution_count": 23,
   "metadata": {
    "colab": {
     "base_uri": "https://localhost:8080/",
     "height": 237
    },
    "id": "0AkhMLalHaYL",
    "outputId": "0418e29a-d937-4779-9285-e2680a5dcdee"
   },
   "outputs": [
    {
     "data": {
      "text/html": [
       "<div>\n",
       "<style scoped>\n",
       "    .dataframe tbody tr th:only-of-type {\n",
       "        vertical-align: middle;\n",
       "    }\n",
       "\n",
       "    .dataframe tbody tr th {\n",
       "        vertical-align: top;\n",
       "    }\n",
       "\n",
       "    .dataframe thead th {\n",
       "        text-align: right;\n",
       "    }\n",
       "</style>\n",
       "<table border=\"1\" class=\"dataframe\">\n",
       "  <thead>\n",
       "    <tr style=\"text-align: right;\">\n",
       "      <th></th>\n",
       "      <th>0</th>\n",
       "      <th>1</th>\n",
       "      <th>2</th>\n",
       "    </tr>\n",
       "  </thead>\n",
       "  <tbody>\n",
       "    <tr>\n",
       "      <th>0</th>\n",
       "      <td>0.0</td>\n",
       "      <td>0.00001</td>\n",
       "      <td>0.104775</td>\n",
       "    </tr>\n",
       "    <tr>\n",
       "      <th>1</th>\n",
       "      <td>1.0</td>\n",
       "      <td>0.00100</td>\n",
       "      <td>0.144970</td>\n",
       "    </tr>\n",
       "    <tr>\n",
       "      <th>2</th>\n",
       "      <td>2.0</td>\n",
       "      <td>0.10000</td>\n",
       "      <td>0.142442</td>\n",
       "    </tr>\n",
       "    <tr>\n",
       "      <th>3</th>\n",
       "      <td>3.0</td>\n",
       "      <td>10.00000</td>\n",
       "      <td>0.790323</td>\n",
       "    </tr>\n",
       "    <tr>\n",
       "      <th>4</th>\n",
       "      <td>4.0</td>\n",
       "      <td>1000.00000</td>\n",
       "      <td>0.790323</td>\n",
       "    </tr>\n",
       "    <tr>\n",
       "      <th>5</th>\n",
       "      <td>5.0</td>\n",
       "      <td>100000.00000</td>\n",
       "      <td>0.790323</td>\n",
       "    </tr>\n",
       "  </tbody>\n",
       "</table>\n",
       "</div>"
      ],
      "text/plain": [
       "     0             1         2\n",
       "0  0.0       0.00001  0.104775\n",
       "1  1.0       0.00100  0.144970\n",
       "2  2.0       0.10000  0.142442\n",
       "3  3.0      10.00000  0.790323\n",
       "4  4.0    1000.00000  0.790323\n",
       "5  5.0  100000.00000  0.790323"
      ]
     },
     "execution_count": 23,
     "metadata": {},
     "output_type": "execute_result"
    }
   ],
   "source": [
    "pd.DataFrame(res)"
   ]
  },
  {
   "cell_type": "code",
   "execution_count": 24,
   "metadata": {
    "id": "xBaO5HSyHlIZ"
   },
   "outputs": [],
   "source": [
    "# final performance\n",
    "f = SVC(C=10,probability=True)\n",
    "f.fit(xtrain,ytrain)\n",
    "yhat_prob = f.predict_proba(xval)"
   ]
  },
  {
   "cell_type": "code",
   "execution_count": 25,
   "metadata": {
    "colab": {
     "base_uri": "https://localhost:8080/"
    },
    "id": "CvstX1IqHuKh",
    "outputId": "cfbeb069-fe37-4957-f13a-f19e67230abd"
   },
   "outputs": [
    {
     "data": {
      "text/plain": [
       "(0.9825632083696599,\n",
       " 0.7903225806451613,\n",
       " 0.9932432432432432,\n",
       " 2107,\n",
       " 1,\n",
       " 39,\n",
       " 147,\n",
       " 0.03155749258178255)"
      ]
     },
     "execution_count": 25,
     "metadata": {},
     "output_type": "execute_result"
    }
   ],
   "source": [
    "myscore(yval,yhat_prob,min_r=0.99)"
   ]
  },
  {
   "cell_type": "code",
   "execution_count": 26,
   "metadata": {
    "colab": {
     "base_uri": "https://localhost:8080/"
    },
    "id": "pQYfLNiZH9M9",
    "outputId": "2297bdfb-04ea-4175-9c3d-b6f5a08a1a1c"
   },
   "outputs": [
    {
     "data": {
      "text/plain": [
       "MLPClassifier(alpha=0.001, learning_rate_init=0.01, max_iter=1000,\n",
       "              random_state=0)"
      ]
     },
     "execution_count": 26,
     "metadata": {},
     "output_type": "execute_result"
    }
   ],
   "source": [
    "# neural network\n",
    "from sklearn.neural_network import MLPClassifier\n",
    "f = MLPClassifier(\n",
    "        hidden_layer_sizes = (100,),\n",
    "        activation = 'relu',\n",
    "        alpha = 0.001,\n",
    "        solver = 'adam',        \n",
    "        batch_size = 'auto',\n",
    "        learning_rate = 'constant',\n",
    "        learning_rate_init = 0.01,\n",
    "        random_state = 0,\n",
    "        max_iter = 1000)\n",
    "f.fit(xtrain,ytrain)"
   ]
  },
  {
   "cell_type": "code",
   "execution_count": 27,
   "metadata": {
    "colab": {
     "base_uri": "https://localhost:8080/"
    },
    "id": "FejDwqOIJfpW",
    "outputId": "a66f762a-c4d4-4afa-df76-c72b2743bb67"
   },
   "outputs": [
    {
     "data": {
      "text/plain": [
       "(0.990409764603313,\n",
       " 0.8888888888888888,\n",
       " 0.972972972972973,\n",
       " 2128,\n",
       " 4,\n",
       " 18,\n",
       " 144,\n",
       " 0.08965025362276142)"
      ]
     },
     "execution_count": 27,
     "metadata": {},
     "output_type": "execute_result"
    }
   ],
   "source": [
    "yhat_prob = f.predict_proba(xval)\n",
    "myscore(yval,yhat_prob,min_r=0.97)"
   ]
  },
  {
   "cell_type": "code",
   "execution_count": 28,
   "metadata": {
    "colab": {
     "base_uri": "https://localhost:8080/"
    },
    "id": "VlVYQYvDJi_I",
    "outputId": "4e0f3b32-366f-4c6f-eb60-2d5e3f579a69"
   },
   "outputs": [
    {
     "data": {
      "text/plain": [
       "MLPClassifier(activation='logistic', alpha=0.01,\n",
       "              hidden_layer_sizes=(500, 300, 200), learning_rate_init=0.01,\n",
       "              max_iter=1000, random_state=0)"
      ]
     },
     "execution_count": 28,
     "metadata": {},
     "output_type": "execute_result"
    }
   ],
   "source": [
    "# neural network\n",
    "from sklearn.neural_network import MLPClassifier\n",
    "f = MLPClassifier(\n",
    "        hidden_layer_sizes = (500,300,200),\n",
    "        activation = 'logistic',\n",
    "        alpha = 0.01,\n",
    "        solver = 'adam',        \n",
    "        batch_size = 'auto',\n",
    "        learning_rate = 'constant',\n",
    "        learning_rate_init = 0.01,\n",
    "        random_state = 0,\n",
    "        max_iter = 1000)\n",
    "f.fit(xtrain,ytrain)"
   ]
  },
  {
   "cell_type": "code",
   "execution_count": 29,
   "metadata": {
    "colab": {
     "base_uri": "https://localhost:8080/"
    },
    "id": "mluwKDfhJzYE",
    "outputId": "ea768809-303a-4cbf-d37b-a8eabea04670"
   },
   "outputs": [
    {
     "data": {
      "text/plain": [
       "(0.990409764603313,\n",
       " 0.9038461538461539,\n",
       " 0.9527027027027027,\n",
       " 2131,\n",
       " 7,\n",
       " 15,\n",
       " 141,\n",
       " 0.23778794943157436)"
      ]
     },
     "execution_count": 29,
     "metadata": {},
     "output_type": "execute_result"
    }
   ],
   "source": [
    "yhat_prob = f.predict_proba(xval)\n",
    "myscore(yval,yhat_prob,min_r=0.95)"
   ]
  },
  {
   "cell_type": "code",
   "execution_count": 30,
   "metadata": {
    "colab": {
     "base_uri": "https://localhost:8080/"
    },
    "id": "xtvbvyCQKIzi",
    "outputId": "4496b498-a085-45db-90bd-e2bf8ec83ebe"
   },
   "outputs": [
    {
     "data": {
      "text/plain": [
       "KNeighborsClassifier()"
      ]
     },
     "execution_count": 30,
     "metadata": {},
     "output_type": "execute_result"
    }
   ],
   "source": [
    "from sklearn.neighbors import KNeighborsClassifier\n",
    "f = KNeighborsClassifier(n_neighbors=5)\n",
    "f.fit(xtrain,ytrain)"
   ]
  },
  {
   "cell_type": "code",
   "execution_count": 31,
   "metadata": {
    "colab": {
     "base_uri": "https://localhost:8080/"
    },
    "id": "dD7gn1BJLAb8",
    "outputId": "381ec30d-3587-4c92-e8c0-d9af49683bcb"
   },
   "outputs": [
    {
     "data": {
      "text/plain": [
       "(0.99792847797645,\n",
       " 0.9948096885813149,\n",
       " 0.9729272419627749,\n",
       " 8578,\n",
       " 16,\n",
       " 3,\n",
       " 575,\n",
       " 0.4)"
      ]
     },
     "execution_count": 31,
     "metadata": {},
     "output_type": "execute_result"
    }
   ],
   "source": [
    "yhat_prob = f.predict_proba(xtrain)\n",
    "myscore(ytrain,yhat_prob,min_r=0.95)"
   ]
  },
  {
   "cell_type": "code",
   "execution_count": 32,
   "metadata": {
    "colab": {
     "base_uri": "https://localhost:8080/"
    },
    "id": "gc5rDosMLHTG",
    "outputId": "cca69246-cdc4-4546-d871-395257952dc8"
   },
   "outputs": [
    {
     "data": {
      "text/plain": [
       "(0.9934612031386225,\n",
       " 0.9290322580645162,\n",
       " 0.972972972972973,\n",
       " 2135,\n",
       " 4,\n",
       " 11,\n",
       " 144,\n",
       " 0.2)"
      ]
     },
     "execution_count": 32,
     "metadata": {},
     "output_type": "execute_result"
    }
   ],
   "source": [
    "yhat_prob = f.predict_proba(xval)\n",
    "myscore(yval,yhat_prob,min_r=0.95)"
   ]
  },
  {
   "cell_type": "code",
   "execution_count": null,
   "metadata": {
    "id": "ARHbKav_Mqsk"
   },
   "outputs": [],
   "source": []
  }
 ],
 "metadata": {
  "colab": {
   "name": "Untitled3.ipynb",
   "provenance": []
  },
  "kernelspec": {
   "display_name": "tf2",
   "language": "python",
   "name": "tf2"
  },
  "language_info": {
   "codemirror_mode": {
    "name": "ipython",
    "version": 3
   },
   "file_extension": ".py",
   "mimetype": "text/x-python",
   "name": "python",
   "nbconvert_exporter": "python",
   "pygments_lexer": "ipython3",
   "version": "3.6.9"
  }
 },
 "nbformat": 4,
 "nbformat_minor": 1
}
