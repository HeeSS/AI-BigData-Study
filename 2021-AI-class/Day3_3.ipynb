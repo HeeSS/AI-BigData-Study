{
 "cells": [
  {
   "cell_type": "code",
   "execution_count": 1,
   "id": "4f46c6c3",
   "metadata": {},
   "outputs": [],
   "source": [
    "# modules\n",
    "import numpy as np\n",
    "import scipy as sp\n",
    "import scipy.stats\n",
    "import pandas as pd\n",
    "import matplotlib.pyplot as plt\n",
    "from sklearn.model_selection import cross_val_score\n",
    "from sklearn.model_selection import train_test_split\n",
    "from sklearn.metrics import precision_recall_curve"
   ]
  },
  {
   "cell_type": "code",
   "execution_count": 2,
   "id": "201fc0a0",
   "metadata": {},
   "outputs": [],
   "source": [
    "# read data\n",
    "df = pd.read_csv('data_semi_train_clean.csv')\n",
    "X = df.iloc[:,1:]\n",
    "Y = (df['Label']=='defect').values+1-1"
   ]
  },
  {
   "cell_type": "code",
   "execution_count": 3,
   "id": "b7945864",
   "metadata": {},
   "outputs": [],
   "source": [
    "# normalization\n",
    "from sklearn.preprocessing import StandardScaler\n",
    "f = StandardScaler()\n",
    "X = f.fit_transform(X)"
   ]
  },
  {
   "cell_type": "code",
   "execution_count": 4,
   "id": "e6ab3797",
   "metadata": {},
   "outputs": [],
   "source": [
    "# validation set\n",
    "xtrain, xval, ytrain, yval = train_test_split(X,Y,test_size=0.2,random_state=0)\n",
    "xtrain_n = xtrain[ytrain==0]"
   ]
  },
  {
   "cell_type": "code",
   "execution_count": 5,
   "id": "de8e5ecd",
   "metadata": {},
   "outputs": [
    {
     "data": {
      "text/plain": [
       "PCA()"
      ]
     },
     "execution_count": 5,
     "metadata": {},
     "output_type": "execute_result"
    }
   ],
   "source": [
    "########################################################\n",
    "# PCA\n",
    "########################################################\n",
    "\n",
    "from sklearn.decomposition import PCA\n",
    "f = PCA()\n",
    "f.fit(xtrain_n)"
   ]
  },
  {
   "cell_type": "code",
   "execution_count": 6,
   "id": "3b466559",
   "metadata": {},
   "outputs": [
    {
     "data": {
      "text/html": [
       "<div>\n",
       "<style scoped>\n",
       "    .dataframe tbody tr th:only-of-type {\n",
       "        vertical-align: middle;\n",
       "    }\n",
       "\n",
       "    .dataframe tbody tr th {\n",
       "        vertical-align: top;\n",
       "    }\n",
       "\n",
       "    .dataframe thead th {\n",
       "        text-align: right;\n",
       "    }\n",
       "</style>\n",
       "<table border=\"1\" class=\"dataframe\">\n",
       "  <thead>\n",
       "    <tr style=\"text-align: right;\">\n",
       "      <th>col_0</th>\n",
       "      <th>0</th>\n",
       "      <th>1</th>\n",
       "    </tr>\n",
       "    <tr>\n",
       "      <th>row_0</th>\n",
       "      <th></th>\n",
       "      <th></th>\n",
       "    </tr>\n",
       "  </thead>\n",
       "  <tbody>\n",
       "    <tr>\n",
       "      <th>False</th>\n",
       "      <td>8316</td>\n",
       "      <td>457</td>\n",
       "    </tr>\n",
       "    <tr>\n",
       "      <th>True</th>\n",
       "      <td>265</td>\n",
       "      <td>134</td>\n",
       "    </tr>\n",
       "  </tbody>\n",
       "</table>\n",
       "</div>"
      ],
      "text/plain": [
       "col_0     0    1\n",
       "row_0           \n",
       "False  8316  457\n",
       "True    265  134"
      ]
     },
     "execution_count": 6,
     "metadata": {},
     "output_type": "execute_result"
    },
    {
     "data": {
      "image/png": "[encoded data removed]",
      "text/plain": [
       "<Figure size 432x288 with 1 Axes>"
      ]
     },
     "metadata": {
      "needs_background": "light"
     },
     "output_type": "display_data"
    }
   ],
   "source": [
    "xtrain_r = f.inverse_transform(f.transform(xtrain))\n",
    "dist = ((xtrain-xtrain_r)**2).sum(axis=1)\n",
    "plt.hist(dist)\n",
    "pd.crosstab(dist>0.2e-26,ytrain)"
   ]
  },
  {
   "cell_type": "code",
   "execution_count": 7,
   "id": "12a74a59",
   "metadata": {},
   "outputs": [
    {
     "data": {
      "text/html": [
       "<div>\n",
       "<style scoped>\n",
       "    .dataframe tbody tr th:only-of-type {\n",
       "        vertical-align: middle;\n",
       "    }\n",
       "\n",
       "    .dataframe tbody tr th {\n",
       "        vertical-align: top;\n",
       "    }\n",
       "\n",
       "    .dataframe thead th {\n",
       "        text-align: right;\n",
       "    }\n",
       "</style>\n",
       "<table border=\"1\" class=\"dataframe\">\n",
       "  <thead>\n",
       "    <tr style=\"text-align: right;\">\n",
       "      <th>col_0</th>\n",
       "      <th>0</th>\n",
       "      <th>1</th>\n",
       "    </tr>\n",
       "    <tr>\n",
       "      <th>row_0</th>\n",
       "      <th></th>\n",
       "      <th></th>\n",
       "    </tr>\n",
       "  </thead>\n",
       "  <tbody>\n",
       "    <tr>\n",
       "      <th>False</th>\n",
       "      <td>2079</td>\n",
       "      <td>115</td>\n",
       "    </tr>\n",
       "    <tr>\n",
       "      <th>True</th>\n",
       "      <td>67</td>\n",
       "      <td>33</td>\n",
       "    </tr>\n",
       "  </tbody>\n",
       "</table>\n",
       "</div>"
      ],
      "text/plain": [
       "col_0     0    1\n",
       "row_0           \n",
       "False  2079  115\n",
       "True     67   33"
      ]
     },
     "execution_count": 7,
     "metadata": {},
     "output_type": "execute_result"
    },
    {
     "data": {
      "image/png": "[encoded data removed]",
      "text/plain": [
       "<Figure size 432x288 with 1 Axes>"
      ]
     },
     "metadata": {
      "needs_background": "light"
     },
     "output_type": "display_data"
    }
   ],
   "source": [
    "xval_r = f.inverse_transform(f.transform(xval))\n",
    "dist = ((xval-xval_r)**2).sum(axis=1)\n",
    "plt.hist(dist)\n",
    "pd.crosstab(dist>0.2e-26,yval)"
   ]
  },
  {
   "cell_type": "code",
   "execution_count": 8,
   "id": "66c6146c",
   "metadata": {},
   "outputs": [
    {
     "data": {
      "text/plain": [
       "KMeans(n_clusters=100)"
      ]
     },
     "execution_count": 8,
     "metadata": {},
     "output_type": "execute_result"
    }
   ],
   "source": [
    "########################################################\n",
    "# kmeans clustering\n",
    "########################################################\n",
    "\n",
    "from sklearn.cluster import KMeans\n",
    "f = KMeans(n_clusters=100)\n",
    "f.fit(xtrain_n)"
   ]
  },
  {
   "cell_type": "code",
   "execution_count": 9,
   "id": "d43d3537",
   "metadata": {},
   "outputs": [
    {
     "data": {
      "text/html": [
       "<div>\n",
       "<style scoped>\n",
       "    .dataframe tbody tr th:only-of-type {\n",
       "        vertical-align: middle;\n",
       "    }\n",
       "\n",
       "    .dataframe tbody tr th {\n",
       "        vertical-align: top;\n",
       "    }\n",
       "\n",
       "    .dataframe thead th {\n",
       "        text-align: right;\n",
       "    }\n",
       "</style>\n",
       "<table border=\"1\" class=\"dataframe\">\n",
       "  <thead>\n",
       "    <tr style=\"text-align: right;\">\n",
       "      <th>col_0</th>\n",
       "      <th>0</th>\n",
       "      <th>1</th>\n",
       "    </tr>\n",
       "    <tr>\n",
       "      <th>row_0</th>\n",
       "      <th></th>\n",
       "      <th></th>\n",
       "    </tr>\n",
       "  </thead>\n",
       "  <tbody>\n",
       "    <tr>\n",
       "      <th>False</th>\n",
       "      <td>6591</td>\n",
       "      <td>154</td>\n",
       "    </tr>\n",
       "    <tr>\n",
       "      <th>True</th>\n",
       "      <td>1990</td>\n",
       "      <td>437</td>\n",
       "    </tr>\n",
       "  </tbody>\n",
       "</table>\n",
       "</div>"
      ],
      "text/plain": [
       "col_0     0    1\n",
       "row_0           \n",
       "False  6591  154\n",
       "True   1990  437"
      ]
     },
     "execution_count": 9,
     "metadata": {},
     "output_type": "execute_result"
    }
   ],
   "source": [
    "d = f.transform(xtrain)\n",
    "dist = d.min(axis=1)\n",
    "pd.crosstab(dist>15,ytrain)"
   ]
  },
  {
   "cell_type": "code",
   "execution_count": 10,
   "id": "22f4216a",
   "metadata": {},
   "outputs": [
    {
     "data": {
      "text/html": [
       "<div>\n",
       "<style scoped>\n",
       "    .dataframe tbody tr th:only-of-type {\n",
       "        vertical-align: middle;\n",
       "    }\n",
       "\n",
       "    .dataframe tbody tr th {\n",
       "        vertical-align: top;\n",
       "    }\n",
       "\n",
       "    .dataframe thead th {\n",
       "        text-align: right;\n",
       "    }\n",
       "</style>\n",
       "<table border=\"1\" class=\"dataframe\">\n",
       "  <thead>\n",
       "    <tr style=\"text-align: right;\">\n",
       "      <th>col_0</th>\n",
       "      <th>0</th>\n",
       "      <th>1</th>\n",
       "    </tr>\n",
       "    <tr>\n",
       "      <th>row_0</th>\n",
       "      <th></th>\n",
       "      <th></th>\n",
       "    </tr>\n",
       "  </thead>\n",
       "  <tbody>\n",
       "    <tr>\n",
       "      <th>False</th>\n",
       "      <td>1536</td>\n",
       "      <td>46</td>\n",
       "    </tr>\n",
       "    <tr>\n",
       "      <th>True</th>\n",
       "      <td>610</td>\n",
       "      <td>102</td>\n",
       "    </tr>\n",
       "  </tbody>\n",
       "</table>\n",
       "</div>"
      ],
      "text/plain": [
       "col_0     0    1\n",
       "row_0           \n",
       "False  1536   46\n",
       "True    610  102"
      ]
     },
     "execution_count": 10,
     "metadata": {},
     "output_type": "execute_result"
    }
   ],
   "source": [
    "d = f.transform(xval)\n",
    "dist = d.min(axis=1)\n",
    "pd.crosstab(dist>15,yval)"
   ]
  },
  {
   "cell_type": "code",
   "execution_count": 11,
   "id": "c467dec5",
   "metadata": {},
   "outputs": [
    {
     "data": {
      "text/plain": [
       "GaussianMixture(n_components=100)"
      ]
     },
     "execution_count": 11,
     "metadata": {},
     "output_type": "execute_result"
    }
   ],
   "source": [
    "########################################################\n",
    "# Gaussian Mixture\n",
    "########################################################\n",
    "\n",
    "from sklearn.mixture import GaussianMixture\n",
    "f = GaussianMixture(n_components=100)\n",
    "f.fit(xtrain_n)"
   ]
  },
  {
   "cell_type": "code",
   "execution_count": 12,
   "id": "d68a778c",
   "metadata": {},
   "outputs": [
    {
     "data": {
      "text/html": [
       "<div>\n",
       "<style scoped>\n",
       "    .dataframe tbody tr th:only-of-type {\n",
       "        vertical-align: middle;\n",
       "    }\n",
       "\n",
       "    .dataframe tbody tr th {\n",
       "        vertical-align: top;\n",
       "    }\n",
       "\n",
       "    .dataframe thead th {\n",
       "        text-align: right;\n",
       "    }\n",
       "</style>\n",
       "<table border=\"1\" class=\"dataframe\">\n",
       "  <thead>\n",
       "    <tr style=\"text-align: right;\">\n",
       "      <th>col_0</th>\n",
       "      <th>0</th>\n",
       "      <th>1</th>\n",
       "    </tr>\n",
       "    <tr>\n",
       "      <th>row_0</th>\n",
       "      <th></th>\n",
       "      <th></th>\n",
       "    </tr>\n",
       "  </thead>\n",
       "  <tbody>\n",
       "    <tr>\n",
       "      <th>False</th>\n",
       "      <td>8581</td>\n",
       "      <td>591</td>\n",
       "    </tr>\n",
       "  </tbody>\n",
       "</table>\n",
       "</div>"
      ],
      "text/plain": [
       "col_0     0    1\n",
       "row_0           \n",
       "False  8581  591"
      ]
     },
     "execution_count": 12,
     "metadata": {},
     "output_type": "execute_result"
    }
   ],
   "source": [
    "d = f.predict_proba(xtrain)\n",
    "dist = d.max(axis=1)\n",
    "pd.crosstab(dist<0.999,ytrain)"
   ]
  },
  {
   "cell_type": "code",
   "execution_count": 13,
   "id": "a98f7bc9",
   "metadata": {},
   "outputs": [
    {
     "data": {
      "text/html": [
       "<div>\n",
       "<style scoped>\n",
       "    .dataframe tbody tr th:only-of-type {\n",
       "        vertical-align: middle;\n",
       "    }\n",
       "\n",
       "    .dataframe tbody tr th {\n",
       "        vertical-align: top;\n",
       "    }\n",
       "\n",
       "    .dataframe thead th {\n",
       "        text-align: right;\n",
       "    }\n",
       "</style>\n",
       "<table border=\"1\" class=\"dataframe\">\n",
       "  <thead>\n",
       "    <tr style=\"text-align: right;\">\n",
       "      <th>col_0</th>\n",
       "      <th>0</th>\n",
       "      <th>1</th>\n",
       "    </tr>\n",
       "    <tr>\n",
       "      <th>row_0</th>\n",
       "      <th></th>\n",
       "      <th></th>\n",
       "    </tr>\n",
       "  </thead>\n",
       "  <tbody>\n",
       "    <tr>\n",
       "      <th>False</th>\n",
       "      <td>2146</td>\n",
       "      <td>148</td>\n",
       "    </tr>\n",
       "  </tbody>\n",
       "</table>\n",
       "</div>"
      ],
      "text/plain": [
       "col_0     0    1\n",
       "row_0           \n",
       "False  2146  148"
      ]
     },
     "execution_count": 13,
     "metadata": {},
     "output_type": "execute_result"
    }
   ],
   "source": [
    "d = f.predict_proba(xval)\n",
    "dist = d.max(axis=1)\n",
    "pd.crosstab(dist<0.999,yval)"
   ]
  },
  {
   "cell_type": "code",
   "execution_count": 14,
   "id": "8971528f",
   "metadata": {},
   "outputs": [
    {
     "data": {
      "text/plain": [
       "(array([   0.,    0.,    0.,    0.,    0., 2294.,    0.,    0.,    0.,\n",
       "           0.]),\n",
       " array([0.5, 0.6, 0.7, 0.8, 0.9, 1. , 1.1, 1.2, 1.3, 1.4, 1.5]),\n",
       " <BarContainer object of 10 artists>)"
      ]
     },
     "execution_count": 14,
     "metadata": {},
     "output_type": "execute_result"
    },
    {
     "data": {
      "image/png": "[encoded data removed]",
      "text/plain": [
       "<Figure size 432x288 with 1 Axes>"
      ]
     },
     "metadata": {
      "needs_background": "light"
     },
     "output_type": "display_data"
    }
   ],
   "source": [
    "plt.hist(dist)"
   ]
  },
  {
   "cell_type": "code",
   "execution_count": 15,
   "id": "f028b4ed",
   "metadata": {},
   "outputs": [
    {
     "data": {
      "text/plain": [
       "OneClassSVM(nu=0.001)"
      ]
     },
     "execution_count": 15,
     "metadata": {},
     "output_type": "execute_result"
    }
   ],
   "source": [
    "########################################################\n",
    "# 1-SVM\n",
    "########################################################\n",
    "\n",
    "from sklearn.svm import OneClassSVM\n",
    "f = OneClassSVM(nu=0.001)\n",
    "f.fit(xtrain_n)"
   ]
  },
  {
   "cell_type": "code",
   "execution_count": 16,
   "id": "fdb9c7d5",
   "metadata": {},
   "outputs": [
    {
     "data": {
      "text/html": [
       "<div>\n",
       "<style scoped>\n",
       "    .dataframe tbody tr th:only-of-type {\n",
       "        vertical-align: middle;\n",
       "    }\n",
       "\n",
       "    .dataframe tbody tr th {\n",
       "        vertical-align: top;\n",
       "    }\n",
       "\n",
       "    .dataframe thead th {\n",
       "        text-align: right;\n",
       "    }\n",
       "</style>\n",
       "<table border=\"1\" class=\"dataframe\">\n",
       "  <thead>\n",
       "    <tr style=\"text-align: right;\">\n",
       "      <th>col_0</th>\n",
       "      <th>0</th>\n",
       "      <th>1</th>\n",
       "    </tr>\n",
       "    <tr>\n",
       "      <th>row_0</th>\n",
       "      <th></th>\n",
       "      <th></th>\n",
       "    </tr>\n",
       "  </thead>\n",
       "  <tbody>\n",
       "    <tr>\n",
       "      <th>False</th>\n",
       "      <td>8435</td>\n",
       "      <td>434</td>\n",
       "    </tr>\n",
       "    <tr>\n",
       "      <th>True</th>\n",
       "      <td>146</td>\n",
       "      <td>157</td>\n",
       "    </tr>\n",
       "  </tbody>\n",
       "</table>\n",
       "</div>"
      ],
      "text/plain": [
       "col_0     0    1\n",
       "row_0           \n",
       "False  8435  434\n",
       "True    146  157"
      ]
     },
     "execution_count": 16,
     "metadata": {},
     "output_type": "execute_result"
    }
   ],
   "source": [
    "dist = f.decision_function(xtrain)\n",
    "pd.crosstab(dist<0,ytrain)"
   ]
  },
  {
   "cell_type": "code",
   "execution_count": 17,
   "id": "31d74e0e",
   "metadata": {},
   "outputs": [
    {
     "data": {
      "text/html": [
       "<div>\n",
       "<style scoped>\n",
       "    .dataframe tbody tr th:only-of-type {\n",
       "        vertical-align: middle;\n",
       "    }\n",
       "\n",
       "    .dataframe tbody tr th {\n",
       "        vertical-align: top;\n",
       "    }\n",
       "\n",
       "    .dataframe thead th {\n",
       "        text-align: right;\n",
       "    }\n",
       "</style>\n",
       "<table border=\"1\" class=\"dataframe\">\n",
       "  <thead>\n",
       "    <tr style=\"text-align: right;\">\n",
       "      <th>col_0</th>\n",
       "      <th>0</th>\n",
       "      <th>1</th>\n",
       "    </tr>\n",
       "    <tr>\n",
       "      <th>row_0</th>\n",
       "      <th></th>\n",
       "      <th></th>\n",
       "    </tr>\n",
       "  </thead>\n",
       "  <tbody>\n",
       "    <tr>\n",
       "      <th>False</th>\n",
       "      <td>2063</td>\n",
       "      <td>117</td>\n",
       "    </tr>\n",
       "    <tr>\n",
       "      <th>True</th>\n",
       "      <td>83</td>\n",
       "      <td>31</td>\n",
       "    </tr>\n",
       "  </tbody>\n",
       "</table>\n",
       "</div>"
      ],
      "text/plain": [
       "col_0     0    1\n",
       "row_0           \n",
       "False  2063  117\n",
       "True     83   31"
      ]
     },
     "execution_count": 17,
     "metadata": {},
     "output_type": "execute_result"
    }
   ],
   "source": [
    "dist = f.decision_function(xval)\n",
    "pd.crosstab(dist<0,yval)"
   ]
  },
  {
   "cell_type": "code",
   "execution_count": 18,
   "id": "05fbd06e",
   "metadata": {},
   "outputs": [
    {
     "data": {
      "text/plain": [
       "(array([  2.,  12.,  31., 119., 266., 484., 752., 488., 134.,   6.]),\n",
       " array([-0.18156046, -0.13273254, -0.08390461, -0.03507668,  0.01375125,\n",
       "         0.06257918,  0.11140711,  0.16023504,  0.20906297,  0.2578909 ,\n",
       "         0.30671883]),\n",
       " <BarContainer object of 10 artists>)"
      ]
     },
     "execution_count": 18,
     "metadata": {},
     "output_type": "execute_result"
    },
    {
     "data": {
      "image/png": "[encoded data removed]",
      "text/plain": [
       "<Figure size 432x288 with 1 Axes>"
      ]
     },
     "metadata": {
      "needs_background": "light"
     },
     "output_type": "display_data"
    }
   ],
   "source": [
    "plt.hist(dist)"
   ]
  },
  {
   "cell_type": "code",
   "execution_count": 20,
   "id": "3d92a53b",
   "metadata": {},
   "outputs": [],
   "source": [
    "########################################################\n",
    "# Autoencoder\n",
    "########################################################\n",
    "import tensorflow as tf\n",
    "from sklearn.metrics import accuracy_score, precision_score, recall_score\n",
    "from sklearn.model_selection import train_test_split\n",
    "from tensorflow.keras import layers, losses\n",
    "from tensorflow.keras.datasets import fashion_mnist\n",
    "from tensorflow.keras.models import Model"
   ]
  },
  {
   "cell_type": "code",
   "execution_count": 21,
   "id": "bfb119e2",
   "metadata": {},
   "outputs": [],
   "source": [
    "# read data\n",
    "df = pd.read_csv('data_semi_train_clean.csv')\n",
    "X = df.iloc[:,1:]\n",
    "Y = (df['Label']=='defect').values+1-1"
   ]
  },
  {
   "cell_type": "code",
   "execution_count": 22,
   "id": "93ad8c62",
   "metadata": {},
   "outputs": [],
   "source": [
    "# normalization\n",
    "from sklearn.preprocessing import MinMaxScaler\n",
    "f = MinMaxScaler()\n",
    "X = f.fit_transform(X)"
   ]
  },
  {
   "cell_type": "code",
   "execution_count": 23,
   "id": "c0287acd",
   "metadata": {},
   "outputs": [],
   "source": [
    "# validation set\n",
    "xtrain, xval, ytrain, yval = train_test_split(X,Y,test_size=0.2,random_state=0)\n",
    "xtrain_n = xtrain[ytrain==0]\n",
    "xval_n = xval[yval==0]"
   ]
  },
  {
   "cell_type": "code",
   "execution_count": 24,
   "id": "2de03d03",
   "metadata": {},
   "outputs": [],
   "source": [
    "# autoencoder\n",
    "class Autoencoder(Model):\n",
    "  def __init__(self, latent_dim):\n",
    "    super(Autoencoder, self).__init__()\n",
    "    self.latent_dim = latent_dim   \n",
    "    self.encoder = tf.keras.Sequential([\n",
    "      layers.Dense(500,activation='relu'),\n",
    "      layers.Dense(latent_dim,activation='relu'),\n",
    "    ])\n",
    "    self.decoder = tf.keras.Sequential([\n",
    "      layers.Dense(500,activation='relu'),     \n",
    "      layers.Dense(303, activation='relu'),\n",
    "    ])\n",
    "  def call(self, x):\n",
    "    encoded = self.encoder(x)\n",
    "    decoded = self.decoder(encoded)\n",
    "    return decoded"
   ]
  },
  {
   "cell_type": "code",
   "execution_count": 25,
   "id": "8b72ddf7",
   "metadata": {},
   "outputs": [
    {
     "name": "stdout",
     "output_type": "stream",
     "text": [
      "Epoch 1/50\n",
      "269/269 [==============================] - 1s 4ms/step - loss: 0.0389 - val_loss: 0.0245\n",
      "Epoch 2/50\n",
      "269/269 [==============================] - 1s 4ms/step - loss: 0.0162 - val_loss: 0.0119\n",
      "Epoch 3/50\n",
      "269/269 [==============================] - 1s 4ms/step - loss: 0.0097 - val_loss: 0.0091\n",
      "Epoch 4/50\n",
      "269/269 [==============================] - 1s 4ms/step - loss: 0.0084 - val_loss: 0.0081\n",
      "Epoch 5/50\n",
      "269/269 [==============================] - 1s 4ms/step - loss: 0.0077 - val_loss: 0.0077\n",
      "Epoch 6/50\n",
      "269/269 [==============================] - 1s 4ms/step - loss: 0.0075 - val_loss: 0.0076\n",
      "Epoch 7/50\n",
      "269/269 [==============================] - 1s 4ms/step - loss: 0.0074 - val_loss: 0.0080\n",
      "Epoch 8/50\n",
      "269/269 [==============================] - 1s 4ms/step - loss: 0.0073 - val_loss: 0.0076\n",
      "Epoch 9/50\n",
      "269/269 [==============================] - 1s 4ms/step - loss: 0.0071 - val_loss: 0.0066\n",
      "Epoch 10/50\n",
      "269/269 [==============================] - 1s 4ms/step - loss: 0.0063 - val_loss: 0.0065\n",
      "Epoch 11/50\n",
      "269/269 [==============================] - 1s 4ms/step - loss: 0.0063 - val_loss: 0.0065\n",
      "Epoch 12/50\n",
      "269/269 [==============================] - 1s 4ms/step - loss: 0.0062 - val_loss: 0.0064\n",
      "Epoch 13/50\n",
      "269/269 [==============================] - 1s 4ms/step - loss: 0.0062 - val_loss: 0.0065\n",
      "Epoch 14/50\n",
      "269/269 [==============================] - 1s 4ms/step - loss: 0.0061 - val_loss: 0.0064\n",
      "Epoch 15/50\n",
      "269/269 [==============================] - 1s 4ms/step - loss: 0.0061 - val_loss: 0.0064\n",
      "Epoch 16/50\n",
      "269/269 [==============================] - 1s 4ms/step - loss: 0.0061 - val_loss: 0.0064\n",
      "Epoch 17/50\n",
      "269/269 [==============================] - 1s 4ms/step - loss: 0.0060 - val_loss: 0.0063\n",
      "Epoch 18/50\n",
      "269/269 [==============================] - 1s 4ms/step - loss: 0.0059 - val_loss: 0.0061\n",
      "Epoch 19/50\n",
      "269/269 [==============================] - 1s 4ms/step - loss: 0.0059 - val_loss: 0.0063\n",
      "Epoch 20/50\n",
      "269/269 [==============================] - 1s 4ms/step - loss: 0.0058 - val_loss: 0.0064\n",
      "Epoch 21/50\n",
      "269/269 [==============================] - 1s 4ms/step - loss: 0.0058 - val_loss: 0.0061\n",
      "Epoch 22/50\n",
      "269/269 [==============================] - 1s 4ms/step - loss: 0.0058 - val_loss: 0.0061\n",
      "Epoch 23/50\n",
      "269/269 [==============================] - 1s 4ms/step - loss: 0.0058 - val_loss: 0.0060\n",
      "Epoch 24/50\n",
      "269/269 [==============================] - 1s 4ms/step - loss: 0.0057 - val_loss: 0.0061\n",
      "Epoch 25/50\n",
      "269/269 [==============================] - 1s 4ms/step - loss: 0.0057 - val_loss: 0.0061\n",
      "Epoch 26/50\n",
      "269/269 [==============================] - 1s 4ms/step - loss: 0.0057 - val_loss: 0.0061\n",
      "Epoch 27/50\n",
      "269/269 [==============================] - 1s 4ms/step - loss: 0.0057 - val_loss: 0.0062\n",
      "Epoch 28/50\n",
      "269/269 [==============================] - 1s 4ms/step - loss: 0.0056 - val_loss: 0.0059\n",
      "Epoch 29/50\n",
      "269/269 [==============================] - 1s 4ms/step - loss: 0.0056 - val_loss: 0.0059\n",
      "Epoch 30/50\n",
      "269/269 [==============================] - 1s 4ms/step - loss: 0.0055 - val_loss: 0.0059\n",
      "Epoch 31/50\n",
      "269/269 [==============================] - 1s 4ms/step - loss: 0.0055 - val_loss: 0.0059\n",
      "Epoch 32/50\n",
      "269/269 [==============================] - 1s 4ms/step - loss: 0.0055 - val_loss: 0.0059\n",
      "Epoch 33/50\n",
      "269/269 [==============================] - 1s 4ms/step - loss: 0.0055 - val_loss: 0.0059\n",
      "Epoch 34/50\n",
      "269/269 [==============================] - 1s 4ms/step - loss: 0.0054 - val_loss: 0.0059\n",
      "Epoch 35/50\n",
      "269/269 [==============================] - 1s 4ms/step - loss: 0.0055 - val_loss: 0.0059\n",
      "Epoch 36/50\n",
      "269/269 [==============================] - 1s 4ms/step - loss: 0.0054 - val_loss: 0.0060\n",
      "Epoch 37/50\n",
      "269/269 [==============================] - 1s 4ms/step - loss: 0.0054 - val_loss: 0.0058\n",
      "Epoch 38/50\n",
      "269/269 [==============================] - 1s 4ms/step - loss: 0.0054 - val_loss: 0.0058\n",
      "Epoch 39/50\n",
      "269/269 [==============================] - 1s 4ms/step - loss: 0.0054 - val_loss: 0.0058\n",
      "Epoch 40/50\n",
      "269/269 [==============================] - 1s 4ms/step - loss: 0.0054 - val_loss: 0.0058\n",
      "Epoch 41/50\n",
      "269/269 [==============================] - 1s 4ms/step - loss: 0.0051 - val_loss: 0.0051\n",
      "Epoch 42/50\n",
      "269/269 [==============================] - 1s 4ms/step - loss: 0.0046 - val_loss: 0.0051\n",
      "Epoch 43/50\n",
      "269/269 [==============================] - 1s 4ms/step - loss: 0.0046 - val_loss: 0.0050\n",
      "Epoch 44/50\n",
      "269/269 [==============================] - 1s 4ms/step - loss: 0.0046 - val_loss: 0.0051\n",
      "Epoch 45/50\n",
      "269/269 [==============================] - 1s 4ms/step - loss: 0.0045 - val_loss: 0.0051\n",
      "Epoch 46/50\n",
      "269/269 [==============================] - 1s 4ms/step - loss: 0.0045 - val_loss: 0.0051\n",
      "Epoch 47/50\n",
      "269/269 [==============================] - 1s 4ms/step - loss: 0.0045 - val_loss: 0.0050\n",
      "Epoch 48/50\n",
      "269/269 [==============================] - 1s 4ms/step - loss: 0.0045 - val_loss: 0.0050\n",
      "Epoch 49/50\n",
      "269/269 [==============================] - 1s 4ms/step - loss: 0.0045 - val_loss: 0.0053\n",
      "Epoch 50/50\n",
      "269/269 [==============================] - 1s 4ms/step - loss: 0.0045 - val_loss: 0.0050\n"
     ]
    },
    {
     "data": {
      "text/plain": [
       "<tensorflow.python.keras.callbacks.History at 0x7f5b081e8828>"
      ]
     },
     "execution_count": 25,
     "metadata": {},
     "output_type": "execute_result"
    }
   ],
   "source": [
    "f = Autoencoder(120)\n",
    "f.compile(optimizer='adam', loss=losses.MeanSquaredError())\n",
    "f.fit(xtrain_n,xtrain_n,epochs=50,shuffle=True,validation_data=(xval_n,xval_n))"
   ]
  },
  {
   "cell_type": "code",
   "execution_count": 26,
   "id": "8dfa3965",
   "metadata": {},
   "outputs": [
    {
     "data": {
      "text/html": [
       "<div>\n",
       "<style scoped>\n",
       "    .dataframe tbody tr th:only-of-type {\n",
       "        vertical-align: middle;\n",
       "    }\n",
       "\n",
       "    .dataframe tbody tr th {\n",
       "        vertical-align: top;\n",
       "    }\n",
       "\n",
       "    .dataframe thead th {\n",
       "        text-align: right;\n",
       "    }\n",
       "</style>\n",
       "<table border=\"1\" class=\"dataframe\">\n",
       "  <thead>\n",
       "    <tr style=\"text-align: right;\">\n",
       "      <th>col_0</th>\n",
       "      <th>0</th>\n",
       "      <th>1</th>\n",
       "    </tr>\n",
       "    <tr>\n",
       "      <th>row_0</th>\n",
       "      <th></th>\n",
       "      <th></th>\n",
       "    </tr>\n",
       "  </thead>\n",
       "  <tbody>\n",
       "    <tr>\n",
       "      <th>False</th>\n",
       "      <td>8261</td>\n",
       "      <td>227</td>\n",
       "    </tr>\n",
       "    <tr>\n",
       "      <th>True</th>\n",
       "      <td>320</td>\n",
       "      <td>364</td>\n",
       "    </tr>\n",
       "  </tbody>\n",
       "</table>\n",
       "</div>"
      ],
      "text/plain": [
       "col_0     0    1\n",
       "row_0           \n",
       "False  8261  227\n",
       "True    320  364"
      ]
     },
     "execution_count": 26,
     "metadata": {},
     "output_type": "execute_result"
    },
    {
     "data": {
      "image/png": "[encoded data removed]",
      "text/plain": [
       "<Figure size 432x288 with 1 Axes>"
      ]
     },
     "metadata": {
      "needs_background": "light"
     },
     "output_type": "display_data"
    }
   ],
   "source": [
    "xtrain_r = f.decoder(f.encoder(xtrain)).numpy()\n",
    "dist = ((xtrain-xtrain_r)**2).sum(axis=1)\n",
    "plt.hist(dist)\n",
    "pd.crosstab(dist>2,ytrain)"
   ]
  },
  {
   "cell_type": "code",
   "execution_count": 28,
   "id": "912d2b46",
   "metadata": {},
   "outputs": [
    {
     "data": {
      "text/html": [
       "<div>\n",
       "<style scoped>\n",
       "    .dataframe tbody tr th:only-of-type {\n",
       "        vertical-align: middle;\n",
       "    }\n",
       "\n",
       "    .dataframe tbody tr th {\n",
       "        vertical-align: top;\n",
       "    }\n",
       "\n",
       "    .dataframe thead th {\n",
       "        text-align: right;\n",
       "    }\n",
       "</style>\n",
       "<table border=\"1\" class=\"dataframe\">\n",
       "  <thead>\n",
       "    <tr style=\"text-align: right;\">\n",
       "      <th>col_0</th>\n",
       "      <th>0</th>\n",
       "      <th>1</th>\n",
       "    </tr>\n",
       "    <tr>\n",
       "      <th>row_0</th>\n",
       "      <th></th>\n",
       "      <th></th>\n",
       "    </tr>\n",
       "  </thead>\n",
       "  <tbody>\n",
       "    <tr>\n",
       "      <th>False</th>\n",
       "      <td>1972</td>\n",
       "      <td>58</td>\n",
       "    </tr>\n",
       "    <tr>\n",
       "      <th>True</th>\n",
       "      <td>174</td>\n",
       "      <td>90</td>\n",
       "    </tr>\n",
       "  </tbody>\n",
       "</table>\n",
       "</div>"
      ],
      "text/plain": [
       "col_0     0   1\n",
       "row_0          \n",
       "False  1972  58\n",
       "True    174  90"
      ]
     },
     "execution_count": 28,
     "metadata": {},
     "output_type": "execute_result"
    },
    {
     "data": {
      "image/png": "[encoded data removed]",
      "text/plain": [
       "<Figure size 432x288 with 1 Axes>"
      ]
     },
     "metadata": {
      "needs_background": "light"
     },
     "output_type": "display_data"
    }
   ],
   "source": [
    "xval_r = f.decoder(f.encoder(xval)).numpy()\n",
    "dist = ((xval-xval_r)**2).sum(axis=1)\n",
    "plt.hist(dist)\n",
    "pd.crosstab(dist>2,yval)"
   ]
  },
  {
   "cell_type": "code",
   "execution_count": null,
   "id": "82bb5ae7",
   "metadata": {},
   "outputs": [],
   "source": []
  }
 ],
 "metadata": {
  "kernelspec": {
   "display_name": "tf2",
   "language": "python",
   "name": "tf2"
  },
  "language_info": {
   "codemirror_mode": {
    "name": "ipython",
    "version": 3
   },
   "file_extension": ".py",
   "mimetype": "text/x-python",
   "name": "python",
   "nbconvert_exporter": "python",
   "pygments_lexer": "ipython3",
   "version": "3.6.9"
  }
 },
 "nbformat": 4,
 "nbformat_minor": 5
}
