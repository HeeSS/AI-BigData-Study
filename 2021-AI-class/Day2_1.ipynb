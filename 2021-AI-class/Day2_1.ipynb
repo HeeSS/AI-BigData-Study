{
 "cells": [
  {
   "cell_type": "code",
   "execution_count": 1,
   "metadata": {
    "id": "8L7-Kb2egi0L"
   },
   "outputs": [],
   "source": [
    "# modules\n",
    "import numpy as np\n",
    "import scipy as sp\n",
    "import scipy.stats\n",
    "import pandas as pd\n",
    "import matplotlib.pyplot as plt"
   ]
  },
  {
   "cell_type": "code",
   "execution_count": 2,
   "metadata": {
    "id": "LrrMqQfohph1"
   },
   "outputs": [],
   "source": [
    "\n",
    "# read data\n",
    "df = pd.read_csv('data_semi_train.csv')\n",
    "stats = pd.read_csv('stat_out.csv')\n",
    "data_org = df.iloc[:,1:]\n",
    "label_org = df['Label']\n",
    "stats_org = stats.copy()\n",
    "\n",
    "data = data_org.copy()\n",
    "label = label_org.copy()\n",
    "\n",
    "\n"
   ]
  },
  {
   "cell_type": "code",
   "execution_count": 40,
   "metadata": {},
   "outputs": [
    {
     "data": {
      "text/plain": [
       "(11491, 590)"
      ]
     },
     "execution_count": 40,
     "metadata": {},
     "output_type": "execute_result"
    }
   ],
   "source": [
    "data_org.shape"
   ]
  },
  {
   "cell_type": "code",
   "execution_count": 3,
   "metadata": {
    "id": "jaaiNr4git9k"
   },
   "outputs": [],
   "source": [
    "col_inidx = (stats['p']<0.05) "
   ]
  },
  {
   "cell_type": "code",
   "execution_count": 4,
   "metadata": {
    "colab": {
     "base_uri": "https://localhost:8080/"
    },
    "id": "IR3s8AyOjeSq",
    "outputId": "5ed1671f-2611-4c1d-bd0b-0110a740bcbf"
   },
   "outputs": [
    {
     "data": {
      "text/plain": [
       "357"
      ]
     },
     "execution_count": 4,
     "metadata": {},
     "output_type": "execute_result"
    }
   ],
   "source": [
    "sum(col_inidx)"
   ]
  },
  {
   "cell_type": "code",
   "execution_count": 5,
   "metadata": {
    "id": "fNMfZ6eIjgeD"
   },
   "outputs": [],
   "source": [
    "col_include = stats['var'][col_inidx].values"
   ]
  },
  {
   "cell_type": "code",
   "execution_count": 6,
   "metadata": {
    "id": "s-ch8tDzj9sj"
   },
   "outputs": [],
   "source": [
    "data = data[col_include]"
   ]
  },
  {
   "cell_type": "code",
   "execution_count": 7,
   "metadata": {
    "colab": {
     "base_uri": "https://localhost:8080/"
    },
    "id": "zaM-oY6akHDJ",
    "outputId": "53ff5b93-739b-44f3-b074-6827693828f7"
   },
   "outputs": [
    {
     "data": {
      "text/plain": [
       "(11491, 357)"
      ]
     },
     "execution_count": 7,
     "metadata": {},
     "output_type": "execute_result"
    }
   ],
   "source": [
    "data.shape"
   ]
  },
  {
   "cell_type": "code",
   "execution_count": 8,
   "metadata": {
    "colab": {
     "base_uri": "https://localhost:8080/"
    },
    "id": "VO1r8DjQkMJ5",
    "outputId": "e010f99a-e23a-41eb-f9ea-d76670142001"
   },
   "outputs": [
    {
     "data": {
      "text/plain": [
       "(11491, 357)"
      ]
     },
     "execution_count": 8,
     "metadata": {},
     "output_type": "execute_result"
    }
   ],
   "source": [
    "data.shape"
   ]
  },
  {
   "cell_type": "code",
   "execution_count": 9,
   "metadata": {
    "id": "-kBtES46k8Z9"
   },
   "outputs": [],
   "source": [
    "na_mat = np.isnan(data)\n",
    "na_row = na_mat.sum(axis=1)\n",
    "na_col = na_mat.sum(axis=0)"
   ]
  },
  {
   "cell_type": "code",
   "execution_count": 10,
   "metadata": {
    "colab": {
     "base_uri": "https://localhost:8080/",
     "height": 337
    },
    "id": "lrj012mDlMrq",
    "outputId": "208c3682-9974-45be-a308-68d81439c7cd"
   },
   "outputs": [
    {
     "data": {
      "text/plain": [
       "(array([6.470e+02, 9.548e+03, 1.220e+03, 4.700e+01, 1.400e+01, 9.000e+00,\n",
       "        0.000e+00, 3.000e+00, 1.000e+00, 2.000e+00]),\n",
       " array([ 1. ,  9.2, 17.4, 25.6, 33.8, 42. , 50.2, 58.4, 66.6, 74.8, 83. ]),\n",
       " <BarContainer object of 10 artists>)"
      ]
     },
     "execution_count": 10,
     "metadata": {},
     "output_type": "execute_result"
    },
    {
     "data": {
      "image/png": "[encoded data removed]",
      "text/plain": [
       "<Figure size 432x288 with 1 Axes>"
      ]
     },
     "metadata": {
      "needs_background": "light"
     },
     "output_type": "display_data"
    }
   ],
   "source": [
    "plt.hist(na_row)"
   ]
  },
  {
   "cell_type": "code",
   "execution_count": 11,
   "metadata": {
    "colab": {
     "base_uri": "https://localhost:8080/"
    },
    "id": "Z6PrFKiZlNdh",
    "outputId": "adc6ecaf-ab8f-4690-88b7-f30156078bc2"
   },
   "outputs": [
    {
     "data": {
      "text/plain": [
       "83"
      ]
     },
     "execution_count": 11,
     "metadata": {},
     "output_type": "execute_result"
    }
   ],
   "source": [
    "max(na_row)"
   ]
  },
  {
   "cell_type": "code",
   "execution_count": 12,
   "metadata": {
    "colab": {
     "base_uri": "https://localhost:8080/"
    },
    "id": "lj2AfkPElau5",
    "outputId": "c089d711-ed49-4af3-c204-7486cb6946fb"
   },
   "outputs": [
    {
     "data": {
      "text/plain": [
       "v001      42\n",
       "v004     100\n",
       "v005     110\n",
       "v007     110\n",
       "v008      72\n",
       "        ... \n",
       "v580    6971\n",
       "v581    6943\n",
       "v583       9\n",
       "v588      11\n",
       "v589       5\n",
       "Length: 357, dtype: int64"
      ]
     },
     "execution_count": 12,
     "metadata": {},
     "output_type": "execute_result"
    }
   ],
   "source": [
    "na_col"
   ]
  },
  {
   "cell_type": "code",
   "execution_count": 13,
   "metadata": {
    "colab": {
     "base_uri": "https://localhost:8080/",
     "height": 337
    },
    "id": "ak9oojU-llPs",
    "outputId": "3db60bec-fe22-48e1-974c-2ac3d9b8aa2e"
   },
   "outputs": [
    {
     "data": {
      "text/plain": [
       "(array([325.,  16.,   0.,   0.,   1.,   4.,   3.,   5.,   0.,   3.]),\n",
       " array([    0. ,  1046.5,  2093. ,  3139.5,  4186. ,  5232.5,  6279. ,\n",
       "         7325.5,  8372. ,  9418.5, 10465. ]),\n",
       " <BarContainer object of 10 artists>)"
      ]
     },
     "execution_count": 13,
     "metadata": {},
     "output_type": "execute_result"
    },
    {
     "data": {
      "image/png": "[encoded data removed]",
      "text/plain": [
       "<Figure size 432x288 with 1 Axes>"
      ]
     },
     "metadata": {
      "needs_background": "light"
     },
     "output_type": "display_data"
    }
   ],
   "source": [
    "plt.hist(na_col)"
   ]
  },
  {
   "cell_type": "code",
   "execution_count": 39,
   "metadata": {},
   "outputs": [
    {
     "data": {
      "text/plain": [
       "(11467, 325)"
      ]
     },
     "execution_count": 39,
     "metadata": {},
     "output_type": "execute_result"
    }
   ],
   "source": [
    "data.shape"
   ]
  },
  {
   "cell_type": "code",
   "execution_count": 14,
   "metadata": {
    "id": "Jx5v47dJlplJ"
   },
   "outputs": [],
   "source": [
    "var_inidx = na_col < data.shape[0]*0.1\n",
    "sample_inidx = na_row < data.shape[1]*0.1"
   ]
  },
  {
   "cell_type": "code",
   "execution_count": 37,
   "metadata": {},
   "outputs": [
    {
     "data": {
      "text/plain": [
       "v001     True\n",
       "v004     True\n",
       "v005     True\n",
       "v007     True\n",
       "v008     True\n",
       "        ...  \n",
       "v580    False\n",
       "v581    False\n",
       "v583     True\n",
       "v588     True\n",
       "v589     True\n",
       "Length: 357, dtype: bool"
      ]
     },
     "execution_count": 37,
     "metadata": {},
     "output_type": "execute_result"
    }
   ],
   "source": [
    "var_inidx"
   ]
  },
  {
   "cell_type": "code",
   "execution_count": 15,
   "metadata": {
    "colab": {
     "base_uri": "https://localhost:8080/"
    },
    "id": "x5FO2WhEmT5N",
    "outputId": "23613c96-784e-41b3-b8d8-308a05d80442"
   },
   "outputs": [
    {
     "data": {
      "text/plain": [
       "325"
      ]
     },
     "execution_count": 15,
     "metadata": {},
     "output_type": "execute_result"
    }
   ],
   "source": [
    "var_inidx.sum()"
   ]
  },
  {
   "cell_type": "code",
   "execution_count": 38,
   "metadata": {},
   "outputs": [
    {
     "data": {
      "text/plain": [
       "0        True\n",
       "1        True\n",
       "2        True\n",
       "3        True\n",
       "4        True\n",
       "         ... \n",
       "11486    True\n",
       "11487    True\n",
       "11488    True\n",
       "11489    True\n",
       "11490    True\n",
       "Length: 11491, dtype: bool"
      ]
     },
     "execution_count": 38,
     "metadata": {},
     "output_type": "execute_result"
    }
   ],
   "source": [
    "sample_inidx"
   ]
  },
  {
   "cell_type": "code",
   "execution_count": 16,
   "metadata": {
    "colab": {
     "base_uri": "https://localhost:8080/"
    },
    "id": "zNj-XPYKmWNV",
    "outputId": "fdf5d82c-fbb2-4fa3-ad4b-1d37c18cf580"
   },
   "outputs": [
    {
     "data": {
      "text/plain": [
       "11467"
      ]
     },
     "execution_count": 16,
     "metadata": {},
     "output_type": "execute_result"
    }
   ],
   "source": [
    "sample_inidx.sum()"
   ]
  },
  {
   "cell_type": "code",
   "execution_count": 17,
   "metadata": {
    "colab": {
     "base_uri": "https://localhost:8080/"
    },
    "id": "Nof7wIGdmcqT",
    "outputId": "eda35168-85b1-4b77-b45f-67b5c31e2518"
   },
   "outputs": [
    {
     "data": {
      "text/plain": [
       "(11491, 357)"
      ]
     },
     "execution_count": 17,
     "metadata": {},
     "output_type": "execute_result"
    }
   ],
   "source": [
    "data.shape"
   ]
  },
  {
   "cell_type": "code",
   "execution_count": 18,
   "metadata": {
    "id": "a5LcS4cLmfg4"
   },
   "outputs": [],
   "source": [
    "col = data.columns[var_inidx]\n",
    "data = data[col]\n",
    "data = data[sample_inidx]\n",
    "label = label[sample_inidx]"
   ]
  },
  {
   "cell_type": "code",
   "execution_count": 19,
   "metadata": {
    "colab": {
     "base_uri": "https://localhost:8080/"
    },
    "id": "culUiWeBmxLL",
    "outputId": "5cf9b77c-a96b-4ad6-d5f3-fa61df565b82"
   },
   "outputs": [
    {
     "data": {
      "text/plain": [
       "(11467, 325)"
      ]
     },
     "execution_count": 19,
     "metadata": {},
     "output_type": "execute_result"
    }
   ],
   "source": [
    "data.shape"
   ]
  },
  {
   "cell_type": "code",
   "execution_count": 20,
   "metadata": {
    "colab": {
     "base_uri": "https://localhost:8080/"
    },
    "id": "5XxFWXd6my5M",
    "outputId": "d956a827-625e-4e06-c616-35d9f4aa0739"
   },
   "outputs": [
    {
     "data": {
      "text/plain": [
       "(11467,)"
      ]
     },
     "execution_count": 20,
     "metadata": {},
     "output_type": "execute_result"
    }
   ],
   "source": [
    "label.shape"
   ]
  },
  {
   "cell_type": "code",
   "execution_count": 21,
   "metadata": {
    "id": "zPkmOPH1m1bD"
   },
   "outputs": [],
   "source": [
    "from sklearn.impute import SimpleImputer"
   ]
  },
  {
   "cell_type": "code",
   "execution_count": 22,
   "metadata": {
    "id": "o3DnVWDjnPQX"
   },
   "outputs": [],
   "source": [
    "?SimpleImputer"
   ]
  },
  {
   "cell_type": "code",
   "execution_count": 23,
   "metadata": {
    "id": "pWsaf4k1nRNp"
   },
   "outputs": [],
   "source": [
    "model_imp = SimpleImputer(strategy='median')"
   ]
  },
  {
   "cell_type": "code",
   "execution_count": 24,
   "metadata": {
    "colab": {
     "base_uri": "https://localhost:8080/"
    },
    "id": "B5koOd_60p7S",
    "outputId": "37b5de2d-5693-45ab-ba8f-ef4ad5a95a42"
   },
   "outputs": [
    {
     "data": {
      "text/plain": [
       "SimpleImputer(strategy='median')"
      ]
     },
     "execution_count": 24,
     "metadata": {},
     "output_type": "execute_result"
    }
   ],
   "source": [
    "model_imp.fit(data)"
   ]
  },
  {
   "cell_type": "code",
   "execution_count": 25,
   "metadata": {
    "id": "2aFgkcRG0sRD"
   },
   "outputs": [],
   "source": [
    "data = model_imp.transform(data)"
   ]
  },
  {
   "cell_type": "code",
   "execution_count": 26,
   "metadata": {
    "id": "Fn2chObV0zcR"
   },
   "outputs": [],
   "source": [
    "data = pd.DataFrame(data)"
   ]
  },
  {
   "cell_type": "code",
   "execution_count": 27,
   "metadata": {
    "colab": {
     "base_uri": "https://localhost:8080/",
     "height": 255
    },
    "id": "5KNXbtuI03kD",
    "outputId": "c7111b03-674a-418c-d324-a99793f457b4"
   },
   "outputs": [
    {
     "data": {
      "text/html": [
       "<div>\n",
       "<style scoped>\n",
       "    .dataframe tbody tr th:only-of-type {\n",
       "        vertical-align: middle;\n",
       "    }\n",
       "\n",
       "    .dataframe tbody tr th {\n",
       "        vertical-align: top;\n",
       "    }\n",
       "\n",
       "    .dataframe thead th {\n",
       "        text-align: right;\n",
       "    }\n",
       "</style>\n",
       "<table border=\"1\" class=\"dataframe\">\n",
       "  <thead>\n",
       "    <tr style=\"text-align: right;\">\n",
       "      <th></th>\n",
       "      <th>0</th>\n",
       "      <th>1</th>\n",
       "      <th>2</th>\n",
       "      <th>3</th>\n",
       "      <th>4</th>\n",
       "      <th>5</th>\n",
       "      <th>6</th>\n",
       "      <th>7</th>\n",
       "      <th>8</th>\n",
       "      <th>9</th>\n",
       "      <th>...</th>\n",
       "      <th>315</th>\n",
       "      <th>316</th>\n",
       "      <th>317</th>\n",
       "      <th>318</th>\n",
       "      <th>319</th>\n",
       "      <th>320</th>\n",
       "      <th>321</th>\n",
       "      <th>322</th>\n",
       "      <th>323</th>\n",
       "      <th>324</th>\n",
       "    </tr>\n",
       "  </thead>\n",
       "  <tbody>\n",
       "    <tr>\n",
       "      <th>0</th>\n",
       "      <td>2872.0667</td>\n",
       "      <td>989.1645</td>\n",
       "      <td>-2.7843</td>\n",
       "      <td>101.4519</td>\n",
       "      <td>0.1211</td>\n",
       "      <td>1.5088</td>\n",
       "      <td>-0.0097</td>\n",
       "      <td>-0.0038</td>\n",
       "      <td>0.9645</td>\n",
       "      <td>9.6299</td>\n",
       "      <td>...</td>\n",
       "      <td>1.9840</td>\n",
       "      <td>-15.3531</td>\n",
       "      <td>0.2343</td>\n",
       "      <td>-4.8297</td>\n",
       "      <td>0.0794</td>\n",
       "      <td>-3.5013</td>\n",
       "      <td>11.6001</td>\n",
       "      <td>0.5026</td>\n",
       "      <td>0.0214</td>\n",
       "      <td>0.0068</td>\n",
       "    </tr>\n",
       "    <tr>\n",
       "      <th>1</th>\n",
       "      <td>2925.8098</td>\n",
       "      <td>1281.4768</td>\n",
       "      <td>-3.0935</td>\n",
       "      <td>102.7180</td>\n",
       "      <td>0.1217</td>\n",
       "      <td>1.4794</td>\n",
       "      <td>-0.0188</td>\n",
       "      <td>0.0031</td>\n",
       "      <td>0.9568</td>\n",
       "      <td>9.3448</td>\n",
       "      <td>...</td>\n",
       "      <td>2.1399</td>\n",
       "      <td>-18.0346</td>\n",
       "      <td>0.2534</td>\n",
       "      <td>-5.1159</td>\n",
       "      <td>0.1058</td>\n",
       "      <td>-3.2926</td>\n",
       "      <td>11.4859</td>\n",
       "      <td>0.5028</td>\n",
       "      <td>0.0086</td>\n",
       "      <td>0.0019</td>\n",
       "    </tr>\n",
       "    <tr>\n",
       "      <th>2</th>\n",
       "      <td>2985.1397</td>\n",
       "      <td>984.9040</td>\n",
       "      <td>-2.3782</td>\n",
       "      <td>104.8891</td>\n",
       "      <td>0.1280</td>\n",
       "      <td>1.3588</td>\n",
       "      <td>0.0228</td>\n",
       "      <td>-0.0053</td>\n",
       "      <td>0.9797</td>\n",
       "      <td>6.4720</td>\n",
       "      <td>...</td>\n",
       "      <td>2.3682</td>\n",
       "      <td>-16.8353</td>\n",
       "      <td>0.2469</td>\n",
       "      <td>-5.0948</td>\n",
       "      <td>0.0709</td>\n",
       "      <td>-3.3805</td>\n",
       "      <td>10.0319</td>\n",
       "      <td>0.4963</td>\n",
       "      <td>0.0153</td>\n",
       "      <td>0.0053</td>\n",
       "    </tr>\n",
       "    <tr>\n",
       "      <th>3</th>\n",
       "      <td>3205.5703</td>\n",
       "      <td>2348.6859</td>\n",
       "      <td>-2.2280</td>\n",
       "      <td>92.2493</td>\n",
       "      <td>0.1256</td>\n",
       "      <td>1.4360</td>\n",
       "      <td>-0.0083</td>\n",
       "      <td>0.0032</td>\n",
       "      <td>0.9752</td>\n",
       "      <td>10.0622</td>\n",
       "      <td>...</td>\n",
       "      <td>2.0877</td>\n",
       "      <td>-14.7022</td>\n",
       "      <td>0.3144</td>\n",
       "      <td>-4.4944</td>\n",
       "      <td>0.0949</td>\n",
       "      <td>-2.7644</td>\n",
       "      <td>14.8545</td>\n",
       "      <td>0.4980</td>\n",
       "      <td>0.0150</td>\n",
       "      <td>0.0060</td>\n",
       "    </tr>\n",
       "    <tr>\n",
       "      <th>4</th>\n",
       "      <td>3065.9593</td>\n",
       "      <td>1190.3008</td>\n",
       "      <td>-2.2051</td>\n",
       "      <td>101.0354</td>\n",
       "      <td>0.1260</td>\n",
       "      <td>1.5015</td>\n",
       "      <td>-0.0236</td>\n",
       "      <td>-0.0029</td>\n",
       "      <td>0.9759</td>\n",
       "      <td>9.6206</td>\n",
       "      <td>...</td>\n",
       "      <td>1.8133</td>\n",
       "      <td>-16.6428</td>\n",
       "      <td>0.1656</td>\n",
       "      <td>-5.0506</td>\n",
       "      <td>0.0501</td>\n",
       "      <td>-3.5106</td>\n",
       "      <td>9.6399</td>\n",
       "      <td>0.5024</td>\n",
       "      <td>0.0114</td>\n",
       "      <td>0.0046</td>\n",
       "    </tr>\n",
       "  </tbody>\n",
       "</table>\n",
       "<p>5 rows × 325 columns</p>\n",
       "</div>"
      ],
      "text/plain": [
       "         0          1       2         3       4       5       6       7    \\\n",
       "0  2872.0667   989.1645 -2.7843  101.4519  0.1211  1.5088 -0.0097 -0.0038   \n",
       "1  2925.8098  1281.4768 -3.0935  102.7180  0.1217  1.4794 -0.0188  0.0031   \n",
       "2  2985.1397   984.9040 -2.3782  104.8891  0.1280  1.3588  0.0228 -0.0053   \n",
       "3  3205.5703  2348.6859 -2.2280   92.2493  0.1256  1.4360 -0.0083  0.0032   \n",
       "4  3065.9593  1190.3008 -2.2051  101.0354  0.1260  1.5015 -0.0236 -0.0029   \n",
       "\n",
       "      8        9    ...     315      316     317     318     319     320  \\\n",
       "0  0.9645   9.6299  ...  1.9840 -15.3531  0.2343 -4.8297  0.0794 -3.5013   \n",
       "1  0.9568   9.3448  ...  2.1399 -18.0346  0.2534 -5.1159  0.1058 -3.2926   \n",
       "2  0.9797   6.4720  ...  2.3682 -16.8353  0.2469 -5.0948  0.0709 -3.3805   \n",
       "3  0.9752  10.0622  ...  2.0877 -14.7022  0.3144 -4.4944  0.0949 -2.7644   \n",
       "4  0.9759   9.6206  ...  1.8133 -16.6428  0.1656 -5.0506  0.0501 -3.5106   \n",
       "\n",
       "       321     322     323     324  \n",
       "0  11.6001  0.5026  0.0214  0.0068  \n",
       "1  11.4859  0.5028  0.0086  0.0019  \n",
       "2  10.0319  0.4963  0.0153  0.0053  \n",
       "3  14.8545  0.4980  0.0150  0.0060  \n",
       "4   9.6399  0.5024  0.0114  0.0046  \n",
       "\n",
       "[5 rows x 325 columns]"
      ]
     },
     "execution_count": 27,
     "metadata": {},
     "output_type": "execute_result"
    }
   ],
   "source": [
    "data.head()"
   ]
  },
  {
   "cell_type": "code",
   "execution_count": 28,
   "metadata": {
    "id": "gwOm-3yC05CC"
   },
   "outputs": [],
   "source": [
    "data.columns = col "
   ]
  },
  {
   "cell_type": "code",
   "execution_count": 29,
   "metadata": {
    "colab": {
     "base_uri": "https://localhost:8080/",
     "height": 255
    },
    "id": "_NkPggBN1NAV",
    "outputId": "bb1a4b94-2712-4617-ee8a-2e28b055849b"
   },
   "outputs": [
    {
     "data": {
      "text/html": [
       "<div>\n",
       "<style scoped>\n",
       "    .dataframe tbody tr th:only-of-type {\n",
       "        vertical-align: middle;\n",
       "    }\n",
       "\n",
       "    .dataframe tbody tr th {\n",
       "        vertical-align: top;\n",
       "    }\n",
       "\n",
       "    .dataframe thead th {\n",
       "        text-align: right;\n",
       "    }\n",
       "</style>\n",
       "<table border=\"1\" class=\"dataframe\">\n",
       "  <thead>\n",
       "    <tr style=\"text-align: right;\">\n",
       "      <th></th>\n",
       "      <th>v001</th>\n",
       "      <th>v004</th>\n",
       "      <th>v005</th>\n",
       "      <th>v007</th>\n",
       "      <th>v008</th>\n",
       "      <th>v009</th>\n",
       "      <th>v010</th>\n",
       "      <th>v011</th>\n",
       "      <th>v012</th>\n",
       "      <th>v015</th>\n",
       "      <th>...</th>\n",
       "      <th>v572</th>\n",
       "      <th>v573</th>\n",
       "      <th>v574</th>\n",
       "      <th>v575</th>\n",
       "      <th>v576</th>\n",
       "      <th>v577</th>\n",
       "      <th>v578</th>\n",
       "      <th>v583</th>\n",
       "      <th>v588</th>\n",
       "      <th>v589</th>\n",
       "    </tr>\n",
       "  </thead>\n",
       "  <tbody>\n",
       "    <tr>\n",
       "      <th>0</th>\n",
       "      <td>2872.0667</td>\n",
       "      <td>989.1645</td>\n",
       "      <td>-2.7843</td>\n",
       "      <td>101.4519</td>\n",
       "      <td>0.1211</td>\n",
       "      <td>1.5088</td>\n",
       "      <td>-0.0097</td>\n",
       "      <td>-0.0038</td>\n",
       "      <td>0.9645</td>\n",
       "      <td>9.6299</td>\n",
       "      <td>...</td>\n",
       "      <td>1.9840</td>\n",
       "      <td>-15.3531</td>\n",
       "      <td>0.2343</td>\n",
       "      <td>-4.8297</td>\n",
       "      <td>0.0794</td>\n",
       "      <td>-3.5013</td>\n",
       "      <td>11.6001</td>\n",
       "      <td>0.5026</td>\n",
       "      <td>0.0214</td>\n",
       "      <td>0.0068</td>\n",
       "    </tr>\n",
       "    <tr>\n",
       "      <th>1</th>\n",
       "      <td>2925.8098</td>\n",
       "      <td>1281.4768</td>\n",
       "      <td>-3.0935</td>\n",
       "      <td>102.7180</td>\n",
       "      <td>0.1217</td>\n",
       "      <td>1.4794</td>\n",
       "      <td>-0.0188</td>\n",
       "      <td>0.0031</td>\n",
       "      <td>0.9568</td>\n",
       "      <td>9.3448</td>\n",
       "      <td>...</td>\n",
       "      <td>2.1399</td>\n",
       "      <td>-18.0346</td>\n",
       "      <td>0.2534</td>\n",
       "      <td>-5.1159</td>\n",
       "      <td>0.1058</td>\n",
       "      <td>-3.2926</td>\n",
       "      <td>11.4859</td>\n",
       "      <td>0.5028</td>\n",
       "      <td>0.0086</td>\n",
       "      <td>0.0019</td>\n",
       "    </tr>\n",
       "    <tr>\n",
       "      <th>2</th>\n",
       "      <td>2985.1397</td>\n",
       "      <td>984.9040</td>\n",
       "      <td>-2.3782</td>\n",
       "      <td>104.8891</td>\n",
       "      <td>0.1280</td>\n",
       "      <td>1.3588</td>\n",
       "      <td>0.0228</td>\n",
       "      <td>-0.0053</td>\n",
       "      <td>0.9797</td>\n",
       "      <td>6.4720</td>\n",
       "      <td>...</td>\n",
       "      <td>2.3682</td>\n",
       "      <td>-16.8353</td>\n",
       "      <td>0.2469</td>\n",
       "      <td>-5.0948</td>\n",
       "      <td>0.0709</td>\n",
       "      <td>-3.3805</td>\n",
       "      <td>10.0319</td>\n",
       "      <td>0.4963</td>\n",
       "      <td>0.0153</td>\n",
       "      <td>0.0053</td>\n",
       "    </tr>\n",
       "    <tr>\n",
       "      <th>3</th>\n",
       "      <td>3205.5703</td>\n",
       "      <td>2348.6859</td>\n",
       "      <td>-2.2280</td>\n",
       "      <td>92.2493</td>\n",
       "      <td>0.1256</td>\n",
       "      <td>1.4360</td>\n",
       "      <td>-0.0083</td>\n",
       "      <td>0.0032</td>\n",
       "      <td>0.9752</td>\n",
       "      <td>10.0622</td>\n",
       "      <td>...</td>\n",
       "      <td>2.0877</td>\n",
       "      <td>-14.7022</td>\n",
       "      <td>0.3144</td>\n",
       "      <td>-4.4944</td>\n",
       "      <td>0.0949</td>\n",
       "      <td>-2.7644</td>\n",
       "      <td>14.8545</td>\n",
       "      <td>0.4980</td>\n",
       "      <td>0.0150</td>\n",
       "      <td>0.0060</td>\n",
       "    </tr>\n",
       "    <tr>\n",
       "      <th>4</th>\n",
       "      <td>3065.9593</td>\n",
       "      <td>1190.3008</td>\n",
       "      <td>-2.2051</td>\n",
       "      <td>101.0354</td>\n",
       "      <td>0.1260</td>\n",
       "      <td>1.5015</td>\n",
       "      <td>-0.0236</td>\n",
       "      <td>-0.0029</td>\n",
       "      <td>0.9759</td>\n",
       "      <td>9.6206</td>\n",
       "      <td>...</td>\n",
       "      <td>1.8133</td>\n",
       "      <td>-16.6428</td>\n",
       "      <td>0.1656</td>\n",
       "      <td>-5.0506</td>\n",
       "      <td>0.0501</td>\n",
       "      <td>-3.5106</td>\n",
       "      <td>9.6399</td>\n",
       "      <td>0.5024</td>\n",
       "      <td>0.0114</td>\n",
       "      <td>0.0046</td>\n",
       "    </tr>\n",
       "  </tbody>\n",
       "</table>\n",
       "<p>5 rows × 325 columns</p>\n",
       "</div>"
      ],
      "text/plain": [
       "        v001       v004    v005      v007    v008    v009    v010    v011  \\\n",
       "0  2872.0667   989.1645 -2.7843  101.4519  0.1211  1.5088 -0.0097 -0.0038   \n",
       "1  2925.8098  1281.4768 -3.0935  102.7180  0.1217  1.4794 -0.0188  0.0031   \n",
       "2  2985.1397   984.9040 -2.3782  104.8891  0.1280  1.3588  0.0228 -0.0053   \n",
       "3  3205.5703  2348.6859 -2.2280   92.2493  0.1256  1.4360 -0.0083  0.0032   \n",
       "4  3065.9593  1190.3008 -2.2051  101.0354  0.1260  1.5015 -0.0236 -0.0029   \n",
       "\n",
       "     v012     v015  ...    v572     v573    v574    v575    v576    v577  \\\n",
       "0  0.9645   9.6299  ...  1.9840 -15.3531  0.2343 -4.8297  0.0794 -3.5013   \n",
       "1  0.9568   9.3448  ...  2.1399 -18.0346  0.2534 -5.1159  0.1058 -3.2926   \n",
       "2  0.9797   6.4720  ...  2.3682 -16.8353  0.2469 -5.0948  0.0709 -3.3805   \n",
       "3  0.9752  10.0622  ...  2.0877 -14.7022  0.3144 -4.4944  0.0949 -2.7644   \n",
       "4  0.9759   9.6206  ...  1.8133 -16.6428  0.1656 -5.0506  0.0501 -3.5106   \n",
       "\n",
       "      v578    v583    v588    v589  \n",
       "0  11.6001  0.5026  0.0214  0.0068  \n",
       "1  11.4859  0.5028  0.0086  0.0019  \n",
       "2  10.0319  0.4963  0.0153  0.0053  \n",
       "3  14.8545  0.4980  0.0150  0.0060  \n",
       "4   9.6399  0.5024  0.0114  0.0046  \n",
       "\n",
       "[5 rows x 325 columns]"
      ]
     },
     "execution_count": 29,
     "metadata": {},
     "output_type": "execute_result"
    }
   ],
   "source": [
    "data.head()"
   ]
  },
  {
   "cell_type": "code",
   "execution_count": 30,
   "metadata": {
    "id": "fAMQFq9q1OAG"
   },
   "outputs": [],
   "source": [
    "\n",
    "# outlier\n",
    "for i in range(data.shape[1]):\n",
    "    x = data.iloc[:,i]\n",
    "    m = x.mean()\n",
    "    s = np.sqrt(x.var(ddof=1))\n",
    "    uidx = x>m+6*s\n",
    "    lidx = x<m-6*s\n",
    "    usub = x[~uidx & ~lidx].max()\n",
    "    lsub = x[~uidx & ~lidx].min()\n",
    "    x[uidx] = usub\n",
    "    x[lidx] = lsub\n",
    "    data.iloc[:,i] = x\n"
   ]
  },
  {
   "cell_type": "code",
   "execution_count": 31,
   "metadata": {
    "colab": {
     "base_uri": "https://localhost:8080/",
     "height": 255
    },
    "id": "aTu2vT6M177G",
    "outputId": "5b557fde-88a0-45f8-b4d7-43e8166bdec1"
   },
   "outputs": [
    {
     "data": {
      "text/html": [
       "<div>\n",
       "<style scoped>\n",
       "    .dataframe tbody tr th:only-of-type {\n",
       "        vertical-align: middle;\n",
       "    }\n",
       "\n",
       "    .dataframe tbody tr th {\n",
       "        vertical-align: top;\n",
       "    }\n",
       "\n",
       "    .dataframe thead th {\n",
       "        text-align: right;\n",
       "    }\n",
       "</style>\n",
       "<table border=\"1\" class=\"dataframe\">\n",
       "  <thead>\n",
       "    <tr style=\"text-align: right;\">\n",
       "      <th></th>\n",
       "      <th>v001</th>\n",
       "      <th>v004</th>\n",
       "      <th>v005</th>\n",
       "      <th>v007</th>\n",
       "      <th>v008</th>\n",
       "      <th>v009</th>\n",
       "      <th>v010</th>\n",
       "      <th>v011</th>\n",
       "      <th>v012</th>\n",
       "      <th>v015</th>\n",
       "      <th>...</th>\n",
       "      <th>v572</th>\n",
       "      <th>v573</th>\n",
       "      <th>v574</th>\n",
       "      <th>v575</th>\n",
       "      <th>v576</th>\n",
       "      <th>v577</th>\n",
       "      <th>v578</th>\n",
       "      <th>v583</th>\n",
       "      <th>v588</th>\n",
       "      <th>v589</th>\n",
       "    </tr>\n",
       "  </thead>\n",
       "  <tbody>\n",
       "    <tr>\n",
       "      <th>0</th>\n",
       "      <td>2872.0667</td>\n",
       "      <td>989.1645</td>\n",
       "      <td>-2.7843</td>\n",
       "      <td>101.4519</td>\n",
       "      <td>0.1211</td>\n",
       "      <td>1.5088</td>\n",
       "      <td>-0.0097</td>\n",
       "      <td>-0.0038</td>\n",
       "      <td>0.9645</td>\n",
       "      <td>9.6299</td>\n",
       "      <td>...</td>\n",
       "      <td>1.9840</td>\n",
       "      <td>-15.3531</td>\n",
       "      <td>0.2343</td>\n",
       "      <td>-4.8297</td>\n",
       "      <td>0.0794</td>\n",
       "      <td>-3.5013</td>\n",
       "      <td>11.6001</td>\n",
       "      <td>0.5026</td>\n",
       "      <td>0.0214</td>\n",
       "      <td>0.0068</td>\n",
       "    </tr>\n",
       "    <tr>\n",
       "      <th>1</th>\n",
       "      <td>2925.8098</td>\n",
       "      <td>1281.4768</td>\n",
       "      <td>-3.0935</td>\n",
       "      <td>102.7180</td>\n",
       "      <td>0.1217</td>\n",
       "      <td>1.4794</td>\n",
       "      <td>-0.0188</td>\n",
       "      <td>0.0031</td>\n",
       "      <td>0.9568</td>\n",
       "      <td>9.3448</td>\n",
       "      <td>...</td>\n",
       "      <td>2.1399</td>\n",
       "      <td>-18.0346</td>\n",
       "      <td>0.2534</td>\n",
       "      <td>-5.1159</td>\n",
       "      <td>0.1058</td>\n",
       "      <td>-3.2926</td>\n",
       "      <td>11.4859</td>\n",
       "      <td>0.5028</td>\n",
       "      <td>0.0086</td>\n",
       "      <td>0.0019</td>\n",
       "    </tr>\n",
       "    <tr>\n",
       "      <th>2</th>\n",
       "      <td>2985.1397</td>\n",
       "      <td>984.9040</td>\n",
       "      <td>-2.3782</td>\n",
       "      <td>104.8891</td>\n",
       "      <td>0.1280</td>\n",
       "      <td>1.3588</td>\n",
       "      <td>0.0228</td>\n",
       "      <td>-0.0053</td>\n",
       "      <td>0.9797</td>\n",
       "      <td>6.4720</td>\n",
       "      <td>...</td>\n",
       "      <td>2.3682</td>\n",
       "      <td>-16.8353</td>\n",
       "      <td>0.2469</td>\n",
       "      <td>-5.0948</td>\n",
       "      <td>0.0709</td>\n",
       "      <td>-3.3805</td>\n",
       "      <td>10.0319</td>\n",
       "      <td>0.4963</td>\n",
       "      <td>0.0153</td>\n",
       "      <td>0.0053</td>\n",
       "    </tr>\n",
       "    <tr>\n",
       "      <th>3</th>\n",
       "      <td>3205.5703</td>\n",
       "      <td>2348.6859</td>\n",
       "      <td>-2.2280</td>\n",
       "      <td>92.2493</td>\n",
       "      <td>0.1256</td>\n",
       "      <td>1.4360</td>\n",
       "      <td>-0.0083</td>\n",
       "      <td>0.0032</td>\n",
       "      <td>0.9752</td>\n",
       "      <td>10.0622</td>\n",
       "      <td>...</td>\n",
       "      <td>2.0877</td>\n",
       "      <td>-14.7022</td>\n",
       "      <td>0.3144</td>\n",
       "      <td>-4.4944</td>\n",
       "      <td>0.0949</td>\n",
       "      <td>-2.7644</td>\n",
       "      <td>14.8545</td>\n",
       "      <td>0.4980</td>\n",
       "      <td>0.0150</td>\n",
       "      <td>0.0060</td>\n",
       "    </tr>\n",
       "    <tr>\n",
       "      <th>4</th>\n",
       "      <td>3065.9593</td>\n",
       "      <td>1190.3008</td>\n",
       "      <td>-2.2051</td>\n",
       "      <td>101.0354</td>\n",
       "      <td>0.1260</td>\n",
       "      <td>1.5015</td>\n",
       "      <td>-0.0236</td>\n",
       "      <td>-0.0029</td>\n",
       "      <td>0.9759</td>\n",
       "      <td>9.6206</td>\n",
       "      <td>...</td>\n",
       "      <td>1.8133</td>\n",
       "      <td>-16.6428</td>\n",
       "      <td>0.1656</td>\n",
       "      <td>-5.0506</td>\n",
       "      <td>0.0501</td>\n",
       "      <td>-3.5106</td>\n",
       "      <td>9.6399</td>\n",
       "      <td>0.5024</td>\n",
       "      <td>0.0114</td>\n",
       "      <td>0.0046</td>\n",
       "    </tr>\n",
       "  </tbody>\n",
       "</table>\n",
       "<p>5 rows × 325 columns</p>\n",
       "</div>"
      ],
      "text/plain": [
       "        v001       v004    v005      v007    v008    v009    v010    v011  \\\n",
       "0  2872.0667   989.1645 -2.7843  101.4519  0.1211  1.5088 -0.0097 -0.0038   \n",
       "1  2925.8098  1281.4768 -3.0935  102.7180  0.1217  1.4794 -0.0188  0.0031   \n",
       "2  2985.1397   984.9040 -2.3782  104.8891  0.1280  1.3588  0.0228 -0.0053   \n",
       "3  3205.5703  2348.6859 -2.2280   92.2493  0.1256  1.4360 -0.0083  0.0032   \n",
       "4  3065.9593  1190.3008 -2.2051  101.0354  0.1260  1.5015 -0.0236 -0.0029   \n",
       "\n",
       "     v012     v015  ...    v572     v573    v574    v575    v576    v577  \\\n",
       "0  0.9645   9.6299  ...  1.9840 -15.3531  0.2343 -4.8297  0.0794 -3.5013   \n",
       "1  0.9568   9.3448  ...  2.1399 -18.0346  0.2534 -5.1159  0.1058 -3.2926   \n",
       "2  0.9797   6.4720  ...  2.3682 -16.8353  0.2469 -5.0948  0.0709 -3.3805   \n",
       "3  0.9752  10.0622  ...  2.0877 -14.7022  0.3144 -4.4944  0.0949 -2.7644   \n",
       "4  0.9759   9.6206  ...  1.8133 -16.6428  0.1656 -5.0506  0.0501 -3.5106   \n",
       "\n",
       "      v578    v583    v588    v589  \n",
       "0  11.6001  0.5026  0.0214  0.0068  \n",
       "1  11.4859  0.5028  0.0086  0.0019  \n",
       "2  10.0319  0.4963  0.0153  0.0053  \n",
       "3  14.8545  0.4980  0.0150  0.0060  \n",
       "4   9.6399  0.5024  0.0114  0.0046  \n",
       "\n",
       "[5 rows x 325 columns]"
      ]
     },
     "execution_count": 31,
     "metadata": {},
     "output_type": "execute_result"
    }
   ],
   "source": [
    "data.head()"
   ]
  },
  {
   "cell_type": "code",
   "execution_count": 32,
   "metadata": {
    "colab": {
     "base_uri": "https://localhost:8080/"
    },
    "id": "rngHBLx1198f",
    "outputId": "9ecb37cc-6b32-469f-9a44-8c994aacc9a0"
   },
   "outputs": [
    {
     "data": {
      "text/plain": [
       "(11467, 325)"
      ]
     },
     "execution_count": 32,
     "metadata": {},
     "output_type": "execute_result"
    }
   ],
   "source": [
    "data.shape"
   ]
  },
  {
   "cell_type": "code",
   "execution_count": 33,
   "metadata": {
    "colab": {
     "base_uri": "https://localhost:8080/"
    },
    "id": "iXZMTzsB2p-0",
    "outputId": "55235198-abc9-40a3-fde5-9e479ab25cea"
   },
   "outputs": [
    {
     "data": {
      "text/plain": [
       "(11467,)"
      ]
     },
     "execution_count": 33,
     "metadata": {},
     "output_type": "execute_result"
    }
   ],
   "source": [
    "label.shape"
   ]
  },
  {
   "cell_type": "code",
   "execution_count": 34,
   "metadata": {
    "id": "zWmRHrqQ2r2h"
   },
   "outputs": [],
   "source": [
    "# clean data out\n",
    "df_out = data.copy()\n",
    "df_out['Label'] = label.values\n",
    "col = df_out.columns\n",
    "col = col[-1:].append(col[:-1])\n",
    "df_out = df_out[col]"
   ]
  },
  {
   "cell_type": "code",
   "execution_count": 35,
   "metadata": {
    "colab": {
     "base_uri": "https://localhost:8080/",
     "height": 255
    },
    "id": "0b030aFD2yVo",
    "outputId": "bafebe20-3be0-47aa-db87-d445ba627413"
   },
   "outputs": [
    {
     "data": {
      "text/html": [
       "<div>\n",
       "<style scoped>\n",
       "    .dataframe tbody tr th:only-of-type {\n",
       "        vertical-align: middle;\n",
       "    }\n",
       "\n",
       "    .dataframe tbody tr th {\n",
       "        vertical-align: top;\n",
       "    }\n",
       "\n",
       "    .dataframe thead th {\n",
       "        text-align: right;\n",
       "    }\n",
       "</style>\n",
       "<table border=\"1\" class=\"dataframe\">\n",
       "  <thead>\n",
       "    <tr style=\"text-align: right;\">\n",
       "      <th></th>\n",
       "      <th>Label</th>\n",
       "      <th>v001</th>\n",
       "      <th>v004</th>\n",
       "      <th>v005</th>\n",
       "      <th>v007</th>\n",
       "      <th>v008</th>\n",
       "      <th>v009</th>\n",
       "      <th>v010</th>\n",
       "      <th>v011</th>\n",
       "      <th>v012</th>\n",
       "      <th>...</th>\n",
       "      <th>v572</th>\n",
       "      <th>v573</th>\n",
       "      <th>v574</th>\n",
       "      <th>v575</th>\n",
       "      <th>v576</th>\n",
       "      <th>v577</th>\n",
       "      <th>v578</th>\n",
       "      <th>v583</th>\n",
       "      <th>v588</th>\n",
       "      <th>v589</th>\n",
       "    </tr>\n",
       "  </thead>\n",
       "  <tbody>\n",
       "    <tr>\n",
       "      <th>0</th>\n",
       "      <td>normal</td>\n",
       "      <td>2872.0667</td>\n",
       "      <td>989.1645</td>\n",
       "      <td>-2.7843</td>\n",
       "      <td>101.4519</td>\n",
       "      <td>0.1211</td>\n",
       "      <td>1.5088</td>\n",
       "      <td>-0.0097</td>\n",
       "      <td>-0.0038</td>\n",
       "      <td>0.9645</td>\n",
       "      <td>...</td>\n",
       "      <td>1.9840</td>\n",
       "      <td>-15.3531</td>\n",
       "      <td>0.2343</td>\n",
       "      <td>-4.8297</td>\n",
       "      <td>0.0794</td>\n",
       "      <td>-3.5013</td>\n",
       "      <td>11.6001</td>\n",
       "      <td>0.5026</td>\n",
       "      <td>0.0214</td>\n",
       "      <td>0.0068</td>\n",
       "    </tr>\n",
       "    <tr>\n",
       "      <th>1</th>\n",
       "      <td>normal</td>\n",
       "      <td>2925.8098</td>\n",
       "      <td>1281.4768</td>\n",
       "      <td>-3.0935</td>\n",
       "      <td>102.7180</td>\n",
       "      <td>0.1217</td>\n",
       "      <td>1.4794</td>\n",
       "      <td>-0.0188</td>\n",
       "      <td>0.0031</td>\n",
       "      <td>0.9568</td>\n",
       "      <td>...</td>\n",
       "      <td>2.1399</td>\n",
       "      <td>-18.0346</td>\n",
       "      <td>0.2534</td>\n",
       "      <td>-5.1159</td>\n",
       "      <td>0.1058</td>\n",
       "      <td>-3.2926</td>\n",
       "      <td>11.4859</td>\n",
       "      <td>0.5028</td>\n",
       "      <td>0.0086</td>\n",
       "      <td>0.0019</td>\n",
       "    </tr>\n",
       "    <tr>\n",
       "      <th>2</th>\n",
       "      <td>normal</td>\n",
       "      <td>2985.1397</td>\n",
       "      <td>984.9040</td>\n",
       "      <td>-2.3782</td>\n",
       "      <td>104.8891</td>\n",
       "      <td>0.1280</td>\n",
       "      <td>1.3588</td>\n",
       "      <td>0.0228</td>\n",
       "      <td>-0.0053</td>\n",
       "      <td>0.9797</td>\n",
       "      <td>...</td>\n",
       "      <td>2.3682</td>\n",
       "      <td>-16.8353</td>\n",
       "      <td>0.2469</td>\n",
       "      <td>-5.0948</td>\n",
       "      <td>0.0709</td>\n",
       "      <td>-3.3805</td>\n",
       "      <td>10.0319</td>\n",
       "      <td>0.4963</td>\n",
       "      <td>0.0153</td>\n",
       "      <td>0.0053</td>\n",
       "    </tr>\n",
       "    <tr>\n",
       "      <th>3</th>\n",
       "      <td>normal</td>\n",
       "      <td>3205.5703</td>\n",
       "      <td>2348.6859</td>\n",
       "      <td>-2.2280</td>\n",
       "      <td>92.2493</td>\n",
       "      <td>0.1256</td>\n",
       "      <td>1.4360</td>\n",
       "      <td>-0.0083</td>\n",
       "      <td>0.0032</td>\n",
       "      <td>0.9752</td>\n",
       "      <td>...</td>\n",
       "      <td>2.0877</td>\n",
       "      <td>-14.7022</td>\n",
       "      <td>0.3144</td>\n",
       "      <td>-4.4944</td>\n",
       "      <td>0.0949</td>\n",
       "      <td>-2.7644</td>\n",
       "      <td>14.8545</td>\n",
       "      <td>0.4980</td>\n",
       "      <td>0.0150</td>\n",
       "      <td>0.0060</td>\n",
       "    </tr>\n",
       "    <tr>\n",
       "      <th>4</th>\n",
       "      <td>normal</td>\n",
       "      <td>3065.9593</td>\n",
       "      <td>1190.3008</td>\n",
       "      <td>-2.2051</td>\n",
       "      <td>101.0354</td>\n",
       "      <td>0.1260</td>\n",
       "      <td>1.5015</td>\n",
       "      <td>-0.0236</td>\n",
       "      <td>-0.0029</td>\n",
       "      <td>0.9759</td>\n",
       "      <td>...</td>\n",
       "      <td>1.8133</td>\n",
       "      <td>-16.6428</td>\n",
       "      <td>0.1656</td>\n",
       "      <td>-5.0506</td>\n",
       "      <td>0.0501</td>\n",
       "      <td>-3.5106</td>\n",
       "      <td>9.6399</td>\n",
       "      <td>0.5024</td>\n",
       "      <td>0.0114</td>\n",
       "      <td>0.0046</td>\n",
       "    </tr>\n",
       "  </tbody>\n",
       "</table>\n",
       "<p>5 rows × 326 columns</p>\n",
       "</div>"
      ],
      "text/plain": [
       "    Label       v001       v004    v005      v007    v008    v009    v010  \\\n",
       "0  normal  2872.0667   989.1645 -2.7843  101.4519  0.1211  1.5088 -0.0097   \n",
       "1  normal  2925.8098  1281.4768 -3.0935  102.7180  0.1217  1.4794 -0.0188   \n",
       "2  normal  2985.1397   984.9040 -2.3782  104.8891  0.1280  1.3588  0.0228   \n",
       "3  normal  3205.5703  2348.6859 -2.2280   92.2493  0.1256  1.4360 -0.0083   \n",
       "4  normal  3065.9593  1190.3008 -2.2051  101.0354  0.1260  1.5015 -0.0236   \n",
       "\n",
       "     v011    v012  ...    v572     v573    v574    v575    v576    v577  \\\n",
       "0 -0.0038  0.9645  ...  1.9840 -15.3531  0.2343 -4.8297  0.0794 -3.5013   \n",
       "1  0.0031  0.9568  ...  2.1399 -18.0346  0.2534 -5.1159  0.1058 -3.2926   \n",
       "2 -0.0053  0.9797  ...  2.3682 -16.8353  0.2469 -5.0948  0.0709 -3.3805   \n",
       "3  0.0032  0.9752  ...  2.0877 -14.7022  0.3144 -4.4944  0.0949 -2.7644   \n",
       "4 -0.0029  0.9759  ...  1.8133 -16.6428  0.1656 -5.0506  0.0501 -3.5106   \n",
       "\n",
       "      v578    v583    v588    v589  \n",
       "0  11.6001  0.5026  0.0214  0.0068  \n",
       "1  11.4859  0.5028  0.0086  0.0019  \n",
       "2  10.0319  0.4963  0.0153  0.0053  \n",
       "3  14.8545  0.4980  0.0150  0.0060  \n",
       "4   9.6399  0.5024  0.0114  0.0046  \n",
       "\n",
       "[5 rows x 326 columns]"
      ]
     },
     "execution_count": 35,
     "metadata": {},
     "output_type": "execute_result"
    }
   ],
   "source": [
    "df_out.head()"
   ]
  },
  {
   "cell_type": "code",
   "execution_count": 36,
   "metadata": {
    "id": "6USmWoji2zri"
   },
   "outputs": [],
   "source": [
    "df_out.to_csv('data_semi_train_clean.csv',index=False)"
   ]
  },
  {
   "cell_type": "code",
   "execution_count": null,
   "metadata": {
    "id": "iSZrdUoQ26bY"
   },
   "outputs": [],
   "source": []
  }
 ],
 "metadata": {
  "colab": {
   "name": "Untitled1.ipynb",
   "provenance": []
  },
  "kernelspec": {
   "display_name": "Python 3",
   "language": "python",
   "name": "python3"
  },
  "language_info": {
   "codemirror_mode": {
    "name": "ipython",
    "version": 3
   },
   "file_extension": ".py",
   "mimetype": "text/x-python",
   "name": "python",
   "nbconvert_exporter": "python",
   "pygments_lexer": "ipython3",
   "version": "3.6.9"
  }
 },
 "nbformat": 4,
 "nbformat_minor": 1
}
