{
 "cells": [
  {
   "cell_type": "code",
   "execution_count": 1,
   "metadata": {
    "id": "7u2zheMhv0QG"
   },
   "outputs": [],
   "source": [
    "# modules\n",
    "import numpy as np\n",
    "import scipy as sp\n",
    "import scipy.stats\n",
    "import pandas as pd\n",
    "import matplotlib.pyplot as plt\n",
    "from sklearn.model_selection import train_test_split\n",
    "from sklearn.metrics import precision_recall_curve\n"
   ]
  },
  {
   "cell_type": "code",
   "execution_count": 2,
   "metadata": {
    "id": "cveYFeGswyAN"
   },
   "outputs": [],
   "source": [
    "# read data\n",
    "df = pd.read_csv('data_semi_train_clean.csv')\n",
    "X = df.iloc[:,1:].values\n",
    "Y = (df['Label']=='defect').values+1-1"
   ]
  },
  {
   "cell_type": "code",
   "execution_count": 3,
   "metadata": {
    "colab": {
     "base_uri": "https://localhost:8080/"
    },
    "id": "yruJoKN0xOpi",
    "outputId": "2055c329-0adb-42b9-b128-614f7ea53373"
   },
   "outputs": [
    {
     "data": {
      "text/plain": [
       "(11466, 303)"
      ]
     },
     "execution_count": 3,
     "metadata": {},
     "output_type": "execute_result"
    }
   ],
   "source": [
    "X.shape"
   ]
  },
  {
   "cell_type": "code",
   "execution_count": 4,
   "metadata": {
    "colab": {
     "base_uri": "https://localhost:8080/"
    },
    "id": "1HF5ytoYxPPO",
    "outputId": "e2721875-ca90-46e6-fcd2-904bc25f8f2f"
   },
   "outputs": [
    {
     "data": {
      "text/plain": [
       "739"
      ]
     },
     "execution_count": 4,
     "metadata": {},
     "output_type": "execute_result"
    }
   ],
   "source": [
    "Y.sum()"
   ]
  },
  {
   "cell_type": "code",
   "execution_count": 5,
   "metadata": {
    "id": "BD9yem-KxTHC"
   },
   "outputs": [],
   "source": [
    "# normalization (standardization)\n",
    "from sklearn.preprocessing import StandardScaler\n",
    "f = StandardScaler()\n",
    "X = f.fit_transform(X)"
   ]
  },
  {
   "cell_type": "code",
   "execution_count": 6,
   "metadata": {
    "colab": {
     "base_uri": "https://localhost:8080/"
    },
    "id": "H112jgGlyWgr",
    "outputId": "68ac09e5-e589-42d7-bb54-05be4ef0e871"
   },
   "outputs": [
    {
     "data": {
      "text/plain": [
       "array([1., 1., 1., 1., 1., 1., 1., 1., 1., 1., 1., 1., 1., 1., 1., 1., 1.,\n",
       "       1., 1., 1., 1., 1., 1., 1., 1., 1., 1., 1., 1., 1., 1., 1., 1., 1.,\n",
       "       1., 1., 1., 1., 1., 1., 1., 1., 1., 1., 1., 1., 1., 1., 1., 1., 1.,\n",
       "       1., 1., 1., 1., 1., 1., 1., 1., 1., 1., 1., 1., 1., 1., 1., 1., 1.,\n",
       "       1., 1., 1., 1., 1., 1., 1., 1., 1., 1., 1., 1., 1., 1., 1., 1., 1.,\n",
       "       1., 1., 1., 1., 1., 1., 1., 1., 1., 1., 1., 1., 1., 1., 1., 1., 1.,\n",
       "       1., 1., 1., 1., 1., 1., 1., 1., 1., 1., 1., 1., 1., 1., 1., 1., 1.,\n",
       "       1., 1., 1., 1., 1., 1., 1., 1., 1., 1., 1., 1., 1., 1., 1., 1., 1.,\n",
       "       1., 1., 1., 1., 1., 1., 1., 1., 1., 1., 1., 1., 1., 1., 1., 1., 1.,\n",
       "       1., 1., 1., 1., 1., 1., 1., 1., 1., 1., 1., 1., 1., 1., 1., 1., 1.,\n",
       "       1., 1., 1., 1., 1., 1., 1., 1., 1., 1., 1., 1., 1., 1., 1., 1., 1.,\n",
       "       1., 1., 1., 1., 1., 1., 1., 1., 1., 1., 1., 1., 1., 1., 1., 1., 1.,\n",
       "       1., 1., 1., 1., 1., 1., 1., 1., 1., 1., 1., 1., 1., 1., 1., 1., 1.,\n",
       "       1., 1., 1., 1., 1., 1., 1., 1., 1., 1., 1., 1., 1., 1., 1., 1., 1.,\n",
       "       1., 1., 1., 1., 1., 1., 1., 1., 1., 1., 1., 1., 1., 1., 1., 1., 1.,\n",
       "       1., 1., 1., 1., 1., 1., 1., 1., 1., 1., 1., 1., 1., 1., 1., 1., 1.,\n",
       "       1., 1., 1., 1., 1., 1., 1., 1., 1., 1., 1., 1., 1., 1., 1., 1., 1.,\n",
       "       1., 1., 1., 1., 1., 1., 1., 1., 1., 1., 1., 1., 1., 1.])"
      ]
     },
     "execution_count": 6,
     "metadata": {},
     "output_type": "execute_result"
    }
   ],
   "source": [
    "X.var(axis=0)"
   ]
  },
  {
   "cell_type": "code",
   "execution_count": 7,
   "metadata": {
    "id": "mKTcAKqHyhdu"
   },
   "outputs": [],
   "source": [
    "# validation set\n",
    "xtrain, xval, ytrain, yval = train_test_split(X,Y,test_size=0.2,random_state=0)"
   ]
  },
  {
   "cell_type": "code",
   "execution_count": 8,
   "metadata": {
    "colab": {
     "base_uri": "https://localhost:8080/"
    },
    "id": "b54LB6JXzIGF",
    "outputId": "c53958a1-b4c2-4a90-ffaa-62548d5aec72"
   },
   "outputs": [
    {
     "data": {
      "text/plain": [
       "(9172, 303)"
      ]
     },
     "execution_count": 8,
     "metadata": {},
     "output_type": "execute_result"
    }
   ],
   "source": [
    "xtrain.shape"
   ]
  },
  {
   "cell_type": "code",
   "execution_count": 9,
   "metadata": {
    "colab": {
     "base_uri": "https://localhost:8080/"
    },
    "id": "GSI7YhdizI6r",
    "outputId": "39b3e5c7-cc8d-47a0-b319-e81076ff02cf"
   },
   "outputs": [
    {
     "data": {
      "text/plain": [
       "(2294, 303)"
      ]
     },
     "execution_count": 9,
     "metadata": {},
     "output_type": "execute_result"
    }
   ],
   "source": [
    "xval.shape"
   ]
  },
  {
   "cell_type": "code",
   "execution_count": 10,
   "metadata": {
    "colab": {
     "base_uri": "https://localhost:8080/"
    },
    "id": "KuKHV5TezKbf",
    "outputId": "414b6242-0cd4-45e0-8abd-ae340ca78a72"
   },
   "outputs": [
    {
     "data": {
      "text/plain": [
       "LogisticRegression(max_iter=1000)"
      ]
     },
     "execution_count": 10,
     "metadata": {},
     "output_type": "execute_result"
    }
   ],
   "source": [
    "\n",
    "from sklearn.linear_model import LogisticRegression\n",
    "f = LogisticRegression(max_iter=1000)\n",
    "f.fit(xtrain,ytrain)"
   ]
  },
  {
   "cell_type": "code",
   "execution_count": 11,
   "metadata": {
    "colab": {
     "base_uri": "https://localhost:8080/"
    },
    "id": "ZpzjSgC-z2JU",
    "outputId": "f7086c66-a5ba-4a43-a553-9e51a7ee9e1e"
   },
   "outputs": [
    {
     "data": {
      "text/plain": [
       "array([-13.54873551])"
      ]
     },
     "execution_count": 11,
     "metadata": {},
     "output_type": "execute_result"
    }
   ],
   "source": [
    "f.intercept_"
   ]
  },
  {
   "cell_type": "code",
   "execution_count": 12,
   "metadata": {
    "colab": {
     "base_uri": "https://localhost:8080/"
    },
    "id": "pqowJl700DGP",
    "outputId": "20d38504-be72-4102-b404-c50cc90c708d"
   },
   "outputs": [
    {
     "data": {
      "text/plain": [
       "array([[-5.97926883e-02, -3.25895564e-01,  4.00530608e-01,\n",
       "        -2.45711230e-01,  5.51815842e-01, -1.76279423e-01,\n",
       "        -3.42095563e-01, -2.66232291e-01,  2.47873906e-01,\n",
       "        -7.96267951e-01,  3.89920591e-01,  4.51486589e-01,\n",
       "         6.10231421e-01,  9.57164798e-02, -6.01283919e-02,\n",
       "         6.26582234e-01, -6.83261821e-01,  2.47882417e-01,\n",
       "        -2.23491957e-01,  8.82875246e-01, -1.02434999e+00,\n",
       "        -3.67399741e-01,  7.91900201e-01,  5.07639355e-01,\n",
       "        -9.49997416e-01, -4.20068765e-01, -3.93446191e-01,\n",
       "        -5.92210598e-01,  3.18713460e-02, -9.18564166e-02,\n",
       "         6.10499146e-01,  5.21394923e-01, -7.56394530e-01,\n",
       "         9.26793106e-01,  1.69109335e+00, -1.12760253e-02,\n",
       "         9.18067769e-01,  2.12069582e+00,  4.05839529e-01,\n",
       "         1.16977021e+00, -1.73698255e-01,  7.61259659e-02,\n",
       "         8.33504778e-01, -9.47498565e-01,  1.02933011e+00,\n",
       "        -1.02063883e+00,  8.36516794e-02, -6.52266202e-01,\n",
       "         5.41812870e-01,  7.50338568e-02,  1.69312366e-01,\n",
       "        -4.74500717e-02, -3.34437013e-01,  1.60027633e-01,\n",
       "         4.70513087e-02,  2.59023366e-02,  4.83615791e-01,\n",
       "         7.79956856e-03,  1.79559113e-01,  4.28158236e-02,\n",
       "        -6.55633761e-01, -4.05286138e-01, -1.24285344e-01,\n",
       "         1.88774046e-01, -6.26151511e-01,  6.28815397e-01,\n",
       "         1.64273555e-01,  1.65802771e-01, -6.98442167e-01,\n",
       "         1.61309587e-01,  1.27780525e-01,  1.29769440e-01,\n",
       "         2.52774214e-01, -5.50454460e-01, -2.54905361e-01,\n",
       "         2.68676895e-01, -6.71889426e-01, -1.13844364e-01,\n",
       "         4.06060173e-01,  8.05456083e-01, -6.68974655e-01,\n",
       "         6.02897959e-01, -6.19916999e-01,  5.83850755e-01,\n",
       "         7.13630177e-03, -1.73788471e-01, -4.10083563e-01,\n",
       "         1.46580303e+00,  6.01562279e-01,  7.91672389e-01,\n",
       "        -3.82102114e-01, -3.92644805e-01,  4.17061054e-02,\n",
       "        -4.58757536e-03,  4.22428225e-01,  6.37219290e-01,\n",
       "        -1.96374375e-01, -5.31029373e-01,  4.31135349e-01,\n",
       "        -6.03028207e-01, -2.36294529e-01,  5.77731446e-01,\n",
       "        -8.59198885e-01, -1.78533848e-01, -8.57939956e-01,\n",
       "         2.48050360e-01, -3.04136365e-02, -3.10718858e-01,\n",
       "         2.39358330e-01, -2.94314152e-01, -4.37712879e-01,\n",
       "         1.56513791e-01, -2.25838319e-01,  8.17200129e-01,\n",
       "         3.23934589e-01,  2.69303304e-01,  2.48288909e-01,\n",
       "        -2.03323330e-01,  8.55826473e-02,  8.12372692e-02,\n",
       "        -3.19753886e-01,  2.20416219e-01,  7.25748633e-01,\n",
       "         6.34758850e-02, -7.59049712e-01,  3.86049210e-01,\n",
       "        -8.32663294e-03,  3.45993701e-01,  5.96901329e-01,\n",
       "         2.44010360e-01, -7.51757125e-01,  1.13557880e-01,\n",
       "         2.54707800e-01,  1.10426260e+00, -4.18319855e-01,\n",
       "         3.00342830e-01, -5.31716373e-01, -6.39444669e-02,\n",
       "         1.88443135e-01, -1.08716217e+00, -1.75683842e-01,\n",
       "         5.91826537e-01, -1.70046460e-01, -6.16455620e-01,\n",
       "        -1.46876566e-01, -1.33273154e-01, -1.00417324e-01,\n",
       "        -3.52869493e-01,  4.20265823e-02,  5.45569177e-01,\n",
       "         7.42125868e-01,  8.31474509e-02, -1.61146413e-03,\n",
       "        -1.31457282e-01, -3.54373037e-01,  2.33568125e-01,\n",
       "        -3.31259993e-01, -1.26404021e-01, -4.91099042e-01,\n",
       "         5.12806387e-02,  3.97322396e-01,  5.75412759e-01,\n",
       "         4.15615414e-01, -3.67005136e-01,  2.34254991e-01,\n",
       "        -6.74517849e-01,  2.40760095e-01, -6.43221388e-01,\n",
       "        -5.98065298e-01, -1.42774241e-01, -3.44704685e-02,\n",
       "        -2.22296168e-01,  2.28265561e-01, -8.09151347e-02,\n",
       "         3.44425013e-01,  9.96921931e-02, -1.06329994e-01,\n",
       "         1.66373505e-01,  3.06100145e-01,  1.42945644e-02,\n",
       "        -2.68029929e-01, -1.24510674e-01, -1.34516573e-01,\n",
       "         8.48136649e-01,  2.77609214e-01, -8.24597599e-01,\n",
       "        -1.13624672e-01,  7.55109526e-01,  2.21543497e-01,\n",
       "        -9.30715642e-01,  3.65666232e-01, -8.19771905e-01,\n",
       "         8.22492739e-01, -2.60205428e-01, -8.54430171e-03,\n",
       "        -5.22347074e-01,  5.57493951e-01, -4.72470912e-01,\n",
       "        -9.27895706e-01,  3.61704846e-01,  2.72563839e-01,\n",
       "        -3.89958959e-01,  1.36309899e+00,  7.22116066e-01,\n",
       "         1.43131301e-01,  2.57245156e-01,  1.84969401e-01,\n",
       "         7.43758401e-01,  6.56630639e-04, -2.75010208e-01,\n",
       "        -2.89159284e-01,  5.64559531e-01, -3.00292547e-01,\n",
       "        -5.67745107e-02, -3.00237795e-01,  6.77729546e-01,\n",
       "         7.75809116e-01, -8.74183787e-02, -2.01581870e-01,\n",
       "        -2.18241148e-01,  1.50210627e-02,  7.45716306e-02,\n",
       "         6.70103574e-01,  5.10586360e-01, -6.62935895e-02,\n",
       "        -8.25238839e-01, -6.31730308e-01,  3.23346019e-02,\n",
       "        -4.44218656e-01,  4.27226894e-01,  6.65987785e-01,\n",
       "        -1.08305890e+00,  6.02127677e-01, -1.39548664e-01,\n",
       "        -7.15039999e-01,  4.43992766e-01,  1.24667877e-01,\n",
       "         4.21851503e-01,  1.50436088e-01, -4.58556366e-02,\n",
       "        -3.45875876e-01,  2.12595062e-01, -2.04819187e-01,\n",
       "        -7.78612139e-01,  2.53817311e-01,  9.73228705e-02,\n",
       "         1.25347568e-01,  2.81366284e-01, -2.45832421e-01,\n",
       "         4.38537885e-01,  1.72919286e-02, -6.88589517e-01,\n",
       "         3.19473790e-01,  3.71540895e-01, -3.45191247e-02,\n",
       "         3.34844253e-01,  1.65616149e-01, -1.87605666e-01,\n",
       "         9.90923893e-01,  5.57009236e-01,  3.14606817e-01,\n",
       "         2.18763156e-01, -5.81826638e-01,  4.78659507e-01,\n",
       "        -2.58234742e-01, -1.02789808e-01, -8.29530273e-02,\n",
       "        -5.76037026e-01,  4.38944670e-01, -5.33415438e-01,\n",
       "         2.05904432e-01, -6.86541882e-01, -1.46425488e-01,\n",
       "         1.61551904e-01,  1.74381230e-01,  4.51669957e-01,\n",
       "         2.01004412e-02,  4.82497617e-01, -1.99105964e-01,\n",
       "        -7.96004628e-01, -1.72777657e-01,  1.08773233e-01,\n",
       "        -1.58105816e-01, -2.61771864e-01,  3.47261674e-01,\n",
       "        -1.04336301e-01, -2.62999628e-01, -1.79952060e-01,\n",
       "        -8.18838713e-03,  3.22827518e-01, -1.15484558e-01,\n",
       "        -2.68861706e-01,  4.24879360e-01, -1.34341959e-01,\n",
       "         2.51223451e-01, -5.38571349e-01, -4.99166657e-01,\n",
       "        -3.59227776e-01,  5.69717024e-01, -3.01280581e-01,\n",
       "         4.11095870e-01,  3.39156540e-01,  1.20334649e-01]])"
      ]
     },
     "execution_count": 12,
     "metadata": {},
     "output_type": "execute_result"
    }
   ],
   "source": [
    "f.coef_\n"
   ]
  },
  {
   "cell_type": "code",
   "execution_count": 13,
   "metadata": {
    "id": "qGOPs1XR0K7C"
   },
   "outputs": [],
   "source": [
    "yhat_train_prob = f.predict_proba(xtrain)\n",
    "yhat_train = f.predict(xtrain)"
   ]
  },
  {
   "cell_type": "code",
   "execution_count": 14,
   "metadata": {
    "colab": {
     "base_uri": "https://localhost:8080/"
    },
    "id": "AC3U73qy0ZqW",
    "outputId": "3093a704-26eb-4402-ad6c-1d966b494cd2"
   },
   "outputs": [
    {
     "data": {
      "text/plain": [
       "array([0, 0, 0, ..., 0, 0, 0])"
      ]
     },
     "execution_count": 14,
     "metadata": {},
     "output_type": "execute_result"
    }
   ],
   "source": [
    "yhat_train"
   ]
  },
  {
   "cell_type": "code",
   "execution_count": 15,
   "metadata": {
    "colab": {
     "base_uri": "https://localhost:8080/"
    },
    "id": "kvLpkVJz0bNZ",
    "outputId": "dce699e4-6969-4e9e-d406-f5661fcf7336"
   },
   "outputs": [
    {
     "data": {
      "text/plain": [
       "array([[9.99996655e-01, 3.34461962e-06],\n",
       "       [9.99899457e-01, 1.00542877e-04],\n",
       "       [9.99948257e-01, 5.17433029e-05],\n",
       "       ...,\n",
       "       [1.00000000e+00, 4.48685952e-10],\n",
       "       [9.99948514e-01, 5.14858652e-05],\n",
       "       [9.99999272e-01, 7.27777602e-07]])"
      ]
     },
     "execution_count": 15,
     "metadata": {},
     "output_type": "execute_result"
    }
   ],
   "source": [
    "yhat_train_prob"
   ]
  },
  {
   "cell_type": "code",
   "execution_count": 16,
   "metadata": {
    "colab": {
     "base_uri": "https://localhost:8080/",
     "height": 143
    },
    "id": "Ujp6Z1fP0fUB",
    "outputId": "bf8b451a-eec9-4dad-f880-ab68b66cc045"
   },
   "outputs": [
    {
     "data": {
      "text/html": [
       "<div>\n",
       "<style scoped>\n",
       "    .dataframe tbody tr th:only-of-type {\n",
       "        vertical-align: middle;\n",
       "    }\n",
       "\n",
       "    .dataframe tbody tr th {\n",
       "        vertical-align: top;\n",
       "    }\n",
       "\n",
       "    .dataframe thead th {\n",
       "        text-align: right;\n",
       "    }\n",
       "</style>\n",
       "<table border=\"1\" class=\"dataframe\">\n",
       "  <thead>\n",
       "    <tr style=\"text-align: right;\">\n",
       "      <th>col_0</th>\n",
       "      <th>0</th>\n",
       "      <th>1</th>\n",
       "    </tr>\n",
       "    <tr>\n",
       "      <th>row_0</th>\n",
       "      <th></th>\n",
       "      <th></th>\n",
       "    </tr>\n",
       "  </thead>\n",
       "  <tbody>\n",
       "    <tr>\n",
       "      <th>0</th>\n",
       "      <td>8578</td>\n",
       "      <td>15</td>\n",
       "    </tr>\n",
       "    <tr>\n",
       "      <th>1</th>\n",
       "      <td>3</td>\n",
       "      <td>576</td>\n",
       "    </tr>\n",
       "  </tbody>\n",
       "</table>\n",
       "</div>"
      ],
      "text/plain": [
       "col_0     0    1\n",
       "row_0           \n",
       "0      8578   15\n",
       "1         3  576"
      ]
     },
     "execution_count": 16,
     "metadata": {},
     "output_type": "execute_result"
    }
   ],
   "source": [
    "pd.crosstab(yhat_train,ytrain)"
   ]
  },
  {
   "cell_type": "code",
   "execution_count": 17,
   "metadata": {
    "colab": {
     "base_uri": "https://localhost:8080/"
    },
    "id": "0nIhezmA0u_o",
    "outputId": "c1f62aa4-e9ac-4fc8-8c8f-36fbac061040"
   },
   "outputs": [
    {
     "data": {
      "text/plain": [
       "0.9980375054513737"
      ]
     },
     "execution_count": 17,
     "metadata": {},
     "output_type": "execute_result"
    }
   ],
   "source": [
    "(8578+576)/xtrain.shape[0]"
   ]
  },
  {
   "cell_type": "code",
   "execution_count": 18,
   "metadata": {
    "colab": {
     "base_uri": "https://localhost:8080/"
    },
    "id": "URBccSPf1Xds",
    "outputId": "89b5dc77-6a75-433d-c7fd-7cc2ff700471"
   },
   "outputs": [
    {
     "data": {
      "text/plain": [
       "0.9746192893401016"
      ]
     },
     "execution_count": 18,
     "metadata": {},
     "output_type": "execute_result"
    }
   ],
   "source": [
    "576/(576+15)"
   ]
  },
  {
   "cell_type": "code",
   "execution_count": 19,
   "metadata": {
    "colab": {
     "base_uri": "https://localhost:8080/"
    },
    "id": "-y_ledr-1kZA",
    "outputId": "de267692-be3b-408f-b215-f1d1bbedd860"
   },
   "outputs": [
    {
     "data": {
      "text/plain": [
       "0.9948186528497409"
      ]
     },
     "execution_count": 19,
     "metadata": {},
     "output_type": "execute_result"
    }
   ],
   "source": [
    "576/(576+3)"
   ]
  },
  {
   "cell_type": "code",
   "execution_count": 20,
   "metadata": {
    "id": "ErlakmOu1o7t"
   },
   "outputs": [],
   "source": [
    "p,r,th = precision_recall_curve(ytrain,yhat_train_prob[:,1])"
   ]
  },
  {
   "cell_type": "code",
   "execution_count": 21,
   "metadata": {
    "colab": {
     "base_uri": "https://localhost:8080/",
     "height": 284
    },
    "id": "vLcAWZ-L12a3",
    "outputId": "f39664f9-4e58-49a9-f3cc-970497130adb"
   },
   "outputs": [
    {
     "data": {
      "text/plain": [
       "[<matplotlib.lines.Line2D at 0x7f64b534ea90>]"
      ]
     },
     "execution_count": 21,
     "metadata": {},
     "output_type": "execute_result"
    },
    {
     "data": {
      "image/png": "[encoded data removed]",
      "text/plain": [
       "<Figure size 432x288 with 1 Axes>"
      ]
     },
     "metadata": {
      "needs_background": "light"
     },
     "output_type": "display_data"
    }
   ],
   "source": [
    "plt.plot(r,p)"
   ]
  },
  {
   "cell_type": "code",
   "execution_count": 22,
   "metadata": {
    "id": "u_Om898e13N1"
   },
   "outputs": [],
   "source": [
    "yhat_val_prob = f.predict_proba(xval)\n",
    "yhat_val = f.predict(xval)"
   ]
  },
  {
   "cell_type": "code",
   "execution_count": 23,
   "metadata": {
    "colab": {
     "base_uri": "https://localhost:8080/",
     "height": 143
    },
    "id": "xn0suBEa2J-P",
    "outputId": "4491d8a3-793c-4b07-ad09-d2f8f41d1383"
   },
   "outputs": [
    {
     "data": {
      "text/html": [
       "<div>\n",
       "<style scoped>\n",
       "    .dataframe tbody tr th:only-of-type {\n",
       "        vertical-align: middle;\n",
       "    }\n",
       "\n",
       "    .dataframe tbody tr th {\n",
       "        vertical-align: top;\n",
       "    }\n",
       "\n",
       "    .dataframe thead th {\n",
       "        text-align: right;\n",
       "    }\n",
       "</style>\n",
       "<table border=\"1\" class=\"dataframe\">\n",
       "  <thead>\n",
       "    <tr style=\"text-align: right;\">\n",
       "      <th>col_0</th>\n",
       "      <th>0</th>\n",
       "      <th>1</th>\n",
       "    </tr>\n",
       "    <tr>\n",
       "      <th>row_0</th>\n",
       "      <th></th>\n",
       "      <th></th>\n",
       "    </tr>\n",
       "  </thead>\n",
       "  <tbody>\n",
       "    <tr>\n",
       "      <th>0</th>\n",
       "      <td>2129</td>\n",
       "      <td>9</td>\n",
       "    </tr>\n",
       "    <tr>\n",
       "      <th>1</th>\n",
       "      <td>17</td>\n",
       "      <td>139</td>\n",
       "    </tr>\n",
       "  </tbody>\n",
       "</table>\n",
       "</div>"
      ],
      "text/plain": [
       "col_0     0    1\n",
       "row_0           \n",
       "0      2129    9\n",
       "1        17  139"
      ]
     },
     "execution_count": 23,
     "metadata": {},
     "output_type": "execute_result"
    }
   ],
   "source": [
    "pd.crosstab(yhat_val,yval)"
   ]
  },
  {
   "cell_type": "code",
   "execution_count": 24,
   "metadata": {
    "colab": {
     "base_uri": "https://localhost:8080/"
    },
    "id": "SnOAwnbT2PLT",
    "outputId": "4df67dd6-903d-4746-a85f-1193eb73dca1"
   },
   "outputs": [
    {
     "data": {
      "text/plain": [
       "0.988666085440279"
      ]
     },
     "execution_count": 24,
     "metadata": {},
     "output_type": "execute_result"
    }
   ],
   "source": [
    "f.score(xval,yval)"
   ]
  },
  {
   "cell_type": "code",
   "execution_count": 25,
   "metadata": {
    "colab": {
     "base_uri": "https://localhost:8080/",
     "height": 284
    },
    "id": "UBiwyG3n2T_D",
    "outputId": "7b5b50af-fc7e-47df-b2f9-82aa76ca3cee"
   },
   "outputs": [
    {
     "data": {
      "text/plain": [
       "[<matplotlib.lines.Line2D at 0x7f64b52b7f98>]"
      ]
     },
     "execution_count": 25,
     "metadata": {},
     "output_type": "execute_result"
    },
    {
     "data": {
      "image/png": "[encoded data removed]",
      "text/plain": [
       "<Figure size 432x288 with 1 Axes>"
      ]
     },
     "metadata": {
      "needs_background": "light"
     },
     "output_type": "display_data"
    }
   ],
   "source": [
    "p,r,th = precision_recall_curve(yval,yhat_val_prob[:,1])\n",
    "plt.plot(r,p)"
   ]
  },
  {
   "cell_type": "code",
   "execution_count": 26,
   "metadata": {
    "colab": {
     "base_uri": "https://localhost:8080/"
    },
    "id": "o16LEbAO2Yoe",
    "outputId": "bc1a79cf-ae8d-4b2d-d22e-52b68c6b503f"
   },
   "outputs": [
    {
     "data": {
      "text/plain": [
       "0.4527027027027027"
      ]
     },
     "execution_count": 26,
     "metadata": {},
     "output_type": "execute_result"
    }
   ],
   "source": [
    "r[p>0.99].max()\n"
   ]
  },
  {
   "cell_type": "code",
   "execution_count": 27,
   "metadata": {
    "id": "56uLufIJ31CN"
   },
   "outputs": [],
   "source": [
    "?LogisticRegression"
   ]
  },
  {
   "cell_type": "code",
   "execution_count": 28,
   "metadata": {
    "id": "Vi1Q-XOr4L9F"
   },
   "outputs": [],
   "source": [
    "\n",
    "# my score function\n",
    "def myscore(y,yhat_prob,min_r=0.95,th_f=None):\n",
    "    p,r,th = precision_recall_curve(y,yhat_prob[:,1])\n",
    "    if th_f == None:\n",
    "        th_f = np.concatenate(([0],th))[r>min_r].max()\n",
    "    yhat = (yhat_prob[:,1]>th_f)+1-1\n",
    "    ct = pd.crosstab(yhat,y).values\n",
    "    if ct.shape[0] == 1:\n",
    "        m = np.array([0,0,ct[0][0],ct[0][1]])\n",
    "    else:\n",
    "        m = ct.reshape((4,))\n",
    "    acc = (m[0]+m[3])/m.sum()\n",
    "    precision = m[3]/(m[2]+m[3])\n",
    "    recall = m[3]/(m[1]+m[3])\n",
    "    return acc, precision, recall, m[0], m[1], m[2], m[3], th_f\n"
   ]
  },
  {
   "cell_type": "code",
   "execution_count": 29,
   "metadata": {
    "colab": {
     "base_uri": "https://localhost:8080/"
    },
    "id": "En04dHjCFhez",
    "outputId": "3e9ca8ba-2728-4fea-9ab0-d5f18f2098f4"
   },
   "outputs": [
    {
     "data": {
      "text/plain": [
       "(0.9503051438535309,\n",
       " 0.5653846153846154,\n",
       " 0.9932432432432432,\n",
       " 2033,\n",
       " 1,\n",
       " 113,\n",
       " 147,\n",
       " 0.006054643400459524)"
      ]
     },
     "execution_count": 29,
     "metadata": {},
     "output_type": "execute_result"
    }
   ],
   "source": [
    "myscore(yval,yhat_val_prob,min_r=0.99)"
   ]
  },
  {
   "cell_type": "code",
   "execution_count": 30,
   "metadata": {
    "id": "m8e9rGsLFl_6"
   },
   "outputs": [],
   "source": [
    "\n",
    "# parameter tuning\n",
    "C_list = 10**np.linspace(-5,5,num=51)\n"
   ]
  },
  {
   "cell_type": "code",
   "execution_count": 31,
   "metadata": {
    "colab": {
     "base_uri": "https://localhost:8080/"
    },
    "id": "nStjxR_qGFHy",
    "outputId": "0705b6ec-685f-4a3a-a01d-f2c43aa24655"
   },
   "outputs": [
    {
     "data": {
      "text/plain": [
       "array([1.00000000e-05, 1.58489319e-05, 2.51188643e-05, 3.98107171e-05,\n",
       "       6.30957344e-05, 1.00000000e-04, 1.58489319e-04, 2.51188643e-04,\n",
       "       3.98107171e-04, 6.30957344e-04, 1.00000000e-03, 1.58489319e-03,\n",
       "       2.51188643e-03, 3.98107171e-03, 6.30957344e-03, 1.00000000e-02,\n",
       "       1.58489319e-02, 2.51188643e-02, 3.98107171e-02, 6.30957344e-02,\n",
       "       1.00000000e-01, 1.58489319e-01, 2.51188643e-01, 3.98107171e-01,\n",
       "       6.30957344e-01, 1.00000000e+00, 1.58489319e+00, 2.51188643e+00,\n",
       "       3.98107171e+00, 6.30957344e+00, 1.00000000e+01, 1.58489319e+01,\n",
       "       2.51188643e+01, 3.98107171e+01, 6.30957344e+01, 1.00000000e+02,\n",
       "       1.58489319e+02, 2.51188643e+02, 3.98107171e+02, 6.30957344e+02,\n",
       "       1.00000000e+03, 1.58489319e+03, 2.51188643e+03, 3.98107171e+03,\n",
       "       6.30957344e+03, 1.00000000e+04, 1.58489319e+04, 2.51188643e+04,\n",
       "       3.98107171e+04, 6.30957344e+04, 1.00000000e+05])"
      ]
     },
     "execution_count": 31,
     "metadata": {},
     "output_type": "execute_result"
    }
   ],
   "source": [
    "C_list"
   ]
  },
  {
   "cell_type": "code",
   "execution_count": 33,
   "metadata": {
    "id": "Phs7sxdQGs2z"
   },
   "outputs": [],
   "source": [
    "res = np.zeros( (len(C_list),3) )\n",
    "for i in range(len(C_list)):\n",
    "    f = LogisticRegression(C=C_list[i],max_iter=1000)\n",
    "    f.fit(xtrain,ytrain)\n",
    "    yhat_prob = f.predict_proba(xval)\n",
    "    r = myscore(yval,yhat_prob)\n",
    "    res[i,] = [i,C_list[i],r[1]]"
   ]
  },
  {
   "cell_type": "code",
   "execution_count": 34,
   "metadata": {
    "colab": {
     "base_uri": "https://localhost:8080/"
    },
    "id": "r--cJhHZHLfY",
    "outputId": "f3bf765f-da0f-415c-b1fc-af66e795eb6c"
   },
   "outputs": [
    {
     "data": {
      "text/plain": [
       "array([[0.00000000e+00, 1.00000000e-05, 2.69083969e-01],\n",
       "       [1.00000000e+00, 1.58489319e-05, 2.68571429e-01],\n",
       "       [2.00000000e+00, 2.51188643e-05, 2.70633397e-01],\n",
       "       [3.00000000e+00, 3.98107171e-05, 2.66540643e-01],\n",
       "       [4.00000000e+00, 6.30957344e-05, 2.72200772e-01],\n",
       "       [5.00000000e+00, 1.00000000e-04, 2.92531120e-01],\n",
       "       [6.00000000e+00, 1.58489319e-04, 3.14732143e-01],\n",
       "       [7.00000000e+00, 2.51188643e-04, 3.26388889e-01],\n",
       "       [8.00000000e+00, 3.98107171e-04, 3.53383459e-01],\n",
       "       [9.00000000e+00, 6.30957344e-04, 4.50479233e-01],\n",
       "       [1.00000000e+01, 1.00000000e-03, 5.50781250e-01],\n",
       "       [1.10000000e+01, 1.58489319e-03, 6.35135135e-01],\n",
       "       [1.20000000e+01, 2.51188643e-03, 6.94581281e-01],\n",
       "       [1.30000000e+01, 3.98107171e-03, 7.12121212e-01],\n",
       "       [1.40000000e+01, 6.30957344e-03, 7.30569948e-01],\n",
       "       [1.50000000e+01, 1.00000000e-02, 7.58064516e-01],\n",
       "       [1.60000000e+01, 1.58489319e-02, 7.92134831e-01],\n",
       "       [1.70000000e+01, 2.51188643e-02, 8.15028902e-01],\n",
       "       [1.80000000e+01, 3.98107171e-02, 8.34319527e-01],\n",
       "       [1.90000000e+01, 6.30957344e-02, 8.54545455e-01],\n",
       "       [2.00000000e+01, 1.00000000e-01, 8.54545455e-01],\n",
       "       [2.10000000e+01, 1.58489319e-01, 8.44311377e-01],\n",
       "       [2.20000000e+01, 2.51188643e-01, 8.29411765e-01],\n",
       "       [2.30000000e+01, 3.98107171e-01, 8.29411765e-01],\n",
       "       [2.40000000e+01, 6.30957344e-01, 8.24561404e-01],\n",
       "       [2.50000000e+01, 1.00000000e+00, 8.34319527e-01],\n",
       "       [2.60000000e+01, 1.58489319e+00, 8.10344828e-01],\n",
       "       [2.70000000e+01, 2.51188643e+00, 7.96610169e-01],\n",
       "       [2.80000000e+01, 3.98107171e+00, 7.87709497e-01],\n",
       "       [2.90000000e+01, 6.30957344e+00, 7.87709497e-01],\n",
       "       [3.00000000e+01, 1.00000000e+01, 7.70491803e-01],\n",
       "       [3.10000000e+01, 1.58489319e+01, 7.62162162e-01],\n",
       "       [3.20000000e+01, 2.51188643e+01, 7.54010695e-01],\n",
       "       [3.30000000e+01, 3.98107171e+01, 7.42105263e-01],\n",
       "       [3.40000000e+01, 6.30957344e+01, 7.34375000e-01],\n",
       "       [3.50000000e+01, 1.00000000e+02, 7.30569948e-01],\n",
       "       [3.60000000e+01, 1.58489319e+02, 7.23076923e-01],\n",
       "       [3.70000000e+01, 2.51188643e+02, 7.19387755e-01],\n",
       "       [3.80000000e+01, 3.98107171e+02, 7.12121212e-01],\n",
       "       [3.90000000e+01, 6.30957344e+02, 7.12121212e-01],\n",
       "       [4.00000000e+01, 1.00000000e+03, 7.12121212e-01],\n",
       "       [4.10000000e+01, 1.58489319e+03, 7.12121212e-01],\n",
       "       [4.20000000e+01, 2.51188643e+03, 7.08542714e-01],\n",
       "       [4.30000000e+01, 3.98107171e+03, 7.08542714e-01],\n",
       "       [4.40000000e+01, 6.30957344e+03, 7.05000000e-01],\n",
       "       [4.50000000e+01, 1.00000000e+04, 7.05000000e-01],\n",
       "       [4.60000000e+01, 1.58489319e+04, 7.01492537e-01],\n",
       "       [4.70000000e+01, 2.51188643e+04, 7.01492537e-01],\n",
       "       [4.80000000e+01, 3.98107171e+04, 6.98019802e-01],\n",
       "       [4.90000000e+01, 6.30957344e+04, 7.01492537e-01],\n",
       "       [5.00000000e+01, 1.00000000e+05, 7.01492537e-01]])"
      ]
     },
     "execution_count": 34,
     "metadata": {},
     "output_type": "execute_result"
    }
   ],
   "source": [
    "res"
   ]
  },
  {
   "cell_type": "code",
   "execution_count": 35,
   "metadata": {
    "colab": {
     "base_uri": "https://localhost:8080/",
     "height": 1000
    },
    "id": "zQFaDFveHgCF",
    "outputId": "3ad542fd-a85a-4a3d-8c3f-1f699a8e9806"
   },
   "outputs": [
    {
     "data": {
      "text/html": [
       "<div>\n",
       "<style scoped>\n",
       "    .dataframe tbody tr th:only-of-type {\n",
       "        vertical-align: middle;\n",
       "    }\n",
       "\n",
       "    .dataframe tbody tr th {\n",
       "        vertical-align: top;\n",
       "    }\n",
       "\n",
       "    .dataframe thead th {\n",
       "        text-align: right;\n",
       "    }\n",
       "</style>\n",
       "<table border=\"1\" class=\"dataframe\">\n",
       "  <thead>\n",
       "    <tr style=\"text-align: right;\">\n",
       "      <th></th>\n",
       "      <th>0</th>\n",
       "      <th>1</th>\n",
       "      <th>2</th>\n",
       "    </tr>\n",
       "  </thead>\n",
       "  <tbody>\n",
       "    <tr>\n",
       "      <th>0</th>\n",
       "      <td>0.0</td>\n",
       "      <td>0.000010</td>\n",
       "      <td>0.269084</td>\n",
       "    </tr>\n",
       "    <tr>\n",
       "      <th>1</th>\n",
       "      <td>1.0</td>\n",
       "      <td>0.000016</td>\n",
       "      <td>0.268571</td>\n",
       "    </tr>\n",
       "    <tr>\n",
       "      <th>2</th>\n",
       "      <td>2.0</td>\n",
       "      <td>0.000025</td>\n",
       "      <td>0.270633</td>\n",
       "    </tr>\n",
       "    <tr>\n",
       "      <th>3</th>\n",
       "      <td>3.0</td>\n",
       "      <td>0.000040</td>\n",
       "      <td>0.266541</td>\n",
       "    </tr>\n",
       "    <tr>\n",
       "      <th>4</th>\n",
       "      <td>4.0</td>\n",
       "      <td>0.000063</td>\n",
       "      <td>0.272201</td>\n",
       "    </tr>\n",
       "    <tr>\n",
       "      <th>5</th>\n",
       "      <td>5.0</td>\n",
       "      <td>0.000100</td>\n",
       "      <td>0.292531</td>\n",
       "    </tr>\n",
       "    <tr>\n",
       "      <th>6</th>\n",
       "      <td>6.0</td>\n",
       "      <td>0.000158</td>\n",
       "      <td>0.314732</td>\n",
       "    </tr>\n",
       "    <tr>\n",
       "      <th>7</th>\n",
       "      <td>7.0</td>\n",
       "      <td>0.000251</td>\n",
       "      <td>0.326389</td>\n",
       "    </tr>\n",
       "    <tr>\n",
       "      <th>8</th>\n",
       "      <td>8.0</td>\n",
       "      <td>0.000398</td>\n",
       "      <td>0.353383</td>\n",
       "    </tr>\n",
       "    <tr>\n",
       "      <th>9</th>\n",
       "      <td>9.0</td>\n",
       "      <td>0.000631</td>\n",
       "      <td>0.450479</td>\n",
       "    </tr>\n",
       "    <tr>\n",
       "      <th>10</th>\n",
       "      <td>10.0</td>\n",
       "      <td>0.001000</td>\n",
       "      <td>0.550781</td>\n",
       "    </tr>\n",
       "    <tr>\n",
       "      <th>11</th>\n",
       "      <td>11.0</td>\n",
       "      <td>0.001585</td>\n",
       "      <td>0.635135</td>\n",
       "    </tr>\n",
       "    <tr>\n",
       "      <th>12</th>\n",
       "      <td>12.0</td>\n",
       "      <td>0.002512</td>\n",
       "      <td>0.694581</td>\n",
       "    </tr>\n",
       "    <tr>\n",
       "      <th>13</th>\n",
       "      <td>13.0</td>\n",
       "      <td>0.003981</td>\n",
       "      <td>0.712121</td>\n",
       "    </tr>\n",
       "    <tr>\n",
       "      <th>14</th>\n",
       "      <td>14.0</td>\n",
       "      <td>0.006310</td>\n",
       "      <td>0.730570</td>\n",
       "    </tr>\n",
       "    <tr>\n",
       "      <th>15</th>\n",
       "      <td>15.0</td>\n",
       "      <td>0.010000</td>\n",
       "      <td>0.758065</td>\n",
       "    </tr>\n",
       "    <tr>\n",
       "      <th>16</th>\n",
       "      <td>16.0</td>\n",
       "      <td>0.015849</td>\n",
       "      <td>0.792135</td>\n",
       "    </tr>\n",
       "    <tr>\n",
       "      <th>17</th>\n",
       "      <td>17.0</td>\n",
       "      <td>0.025119</td>\n",
       "      <td>0.815029</td>\n",
       "    </tr>\n",
       "    <tr>\n",
       "      <th>18</th>\n",
       "      <td>18.0</td>\n",
       "      <td>0.039811</td>\n",
       "      <td>0.834320</td>\n",
       "    </tr>\n",
       "    <tr>\n",
       "      <th>19</th>\n",
       "      <td>19.0</td>\n",
       "      <td>0.063096</td>\n",
       "      <td>0.854545</td>\n",
       "    </tr>\n",
       "    <tr>\n",
       "      <th>20</th>\n",
       "      <td>20.0</td>\n",
       "      <td>0.100000</td>\n",
       "      <td>0.854545</td>\n",
       "    </tr>\n",
       "    <tr>\n",
       "      <th>21</th>\n",
       "      <td>21.0</td>\n",
       "      <td>0.158489</td>\n",
       "      <td>0.844311</td>\n",
       "    </tr>\n",
       "    <tr>\n",
       "      <th>22</th>\n",
       "      <td>22.0</td>\n",
       "      <td>0.251189</td>\n",
       "      <td>0.829412</td>\n",
       "    </tr>\n",
       "    <tr>\n",
       "      <th>23</th>\n",
       "      <td>23.0</td>\n",
       "      <td>0.398107</td>\n",
       "      <td>0.829412</td>\n",
       "    </tr>\n",
       "    <tr>\n",
       "      <th>24</th>\n",
       "      <td>24.0</td>\n",
       "      <td>0.630957</td>\n",
       "      <td>0.824561</td>\n",
       "    </tr>\n",
       "    <tr>\n",
       "      <th>25</th>\n",
       "      <td>25.0</td>\n",
       "      <td>1.000000</td>\n",
       "      <td>0.834320</td>\n",
       "    </tr>\n",
       "    <tr>\n",
       "      <th>26</th>\n",
       "      <td>26.0</td>\n",
       "      <td>1.584893</td>\n",
       "      <td>0.810345</td>\n",
       "    </tr>\n",
       "    <tr>\n",
       "      <th>27</th>\n",
       "      <td>27.0</td>\n",
       "      <td>2.511886</td>\n",
       "      <td>0.796610</td>\n",
       "    </tr>\n",
       "    <tr>\n",
       "      <th>28</th>\n",
       "      <td>28.0</td>\n",
       "      <td>3.981072</td>\n",
       "      <td>0.787709</td>\n",
       "    </tr>\n",
       "    <tr>\n",
       "      <th>29</th>\n",
       "      <td>29.0</td>\n",
       "      <td>6.309573</td>\n",
       "      <td>0.787709</td>\n",
       "    </tr>\n",
       "    <tr>\n",
       "      <th>30</th>\n",
       "      <td>30.0</td>\n",
       "      <td>10.000000</td>\n",
       "      <td>0.770492</td>\n",
       "    </tr>\n",
       "    <tr>\n",
       "      <th>31</th>\n",
       "      <td>31.0</td>\n",
       "      <td>15.848932</td>\n",
       "      <td>0.762162</td>\n",
       "    </tr>\n",
       "    <tr>\n",
       "      <th>32</th>\n",
       "      <td>32.0</td>\n",
       "      <td>25.118864</td>\n",
       "      <td>0.754011</td>\n",
       "    </tr>\n",
       "    <tr>\n",
       "      <th>33</th>\n",
       "      <td>33.0</td>\n",
       "      <td>39.810717</td>\n",
       "      <td>0.742105</td>\n",
       "    </tr>\n",
       "    <tr>\n",
       "      <th>34</th>\n",
       "      <td>34.0</td>\n",
       "      <td>63.095734</td>\n",
       "      <td>0.734375</td>\n",
       "    </tr>\n",
       "    <tr>\n",
       "      <th>35</th>\n",
       "      <td>35.0</td>\n",
       "      <td>100.000000</td>\n",
       "      <td>0.730570</td>\n",
       "    </tr>\n",
       "    <tr>\n",
       "      <th>36</th>\n",
       "      <td>36.0</td>\n",
       "      <td>158.489319</td>\n",
       "      <td>0.723077</td>\n",
       "    </tr>\n",
       "    <tr>\n",
       "      <th>37</th>\n",
       "      <td>37.0</td>\n",
       "      <td>251.188643</td>\n",
       "      <td>0.719388</td>\n",
       "    </tr>\n",
       "    <tr>\n",
       "      <th>38</th>\n",
       "      <td>38.0</td>\n",
       "      <td>398.107171</td>\n",
       "      <td>0.712121</td>\n",
       "    </tr>\n",
       "    <tr>\n",
       "      <th>39</th>\n",
       "      <td>39.0</td>\n",
       "      <td>630.957344</td>\n",
       "      <td>0.712121</td>\n",
       "    </tr>\n",
       "    <tr>\n",
       "      <th>40</th>\n",
       "      <td>40.0</td>\n",
       "      <td>1000.000000</td>\n",
       "      <td>0.712121</td>\n",
       "    </tr>\n",
       "    <tr>\n",
       "      <th>41</th>\n",
       "      <td>41.0</td>\n",
       "      <td>1584.893192</td>\n",
       "      <td>0.712121</td>\n",
       "    </tr>\n",
       "    <tr>\n",
       "      <th>42</th>\n",
       "      <td>42.0</td>\n",
       "      <td>2511.886432</td>\n",
       "      <td>0.708543</td>\n",
       "    </tr>\n",
       "    <tr>\n",
       "      <th>43</th>\n",
       "      <td>43.0</td>\n",
       "      <td>3981.071706</td>\n",
       "      <td>0.708543</td>\n",
       "    </tr>\n",
       "    <tr>\n",
       "      <th>44</th>\n",
       "      <td>44.0</td>\n",
       "      <td>6309.573445</td>\n",
       "      <td>0.705000</td>\n",
       "    </tr>\n",
       "    <tr>\n",
       "      <th>45</th>\n",
       "      <td>45.0</td>\n",
       "      <td>10000.000000</td>\n",
       "      <td>0.705000</td>\n",
       "    </tr>\n",
       "    <tr>\n",
       "      <th>46</th>\n",
       "      <td>46.0</td>\n",
       "      <td>15848.931925</td>\n",
       "      <td>0.701493</td>\n",
       "    </tr>\n",
       "    <tr>\n",
       "      <th>47</th>\n",
       "      <td>47.0</td>\n",
       "      <td>25118.864315</td>\n",
       "      <td>0.701493</td>\n",
       "    </tr>\n",
       "    <tr>\n",
       "      <th>48</th>\n",
       "      <td>48.0</td>\n",
       "      <td>39810.717055</td>\n",
       "      <td>0.698020</td>\n",
       "    </tr>\n",
       "    <tr>\n",
       "      <th>49</th>\n",
       "      <td>49.0</td>\n",
       "      <td>63095.734448</td>\n",
       "      <td>0.701493</td>\n",
       "    </tr>\n",
       "    <tr>\n",
       "      <th>50</th>\n",
       "      <td>50.0</td>\n",
       "      <td>100000.000000</td>\n",
       "      <td>0.701493</td>\n",
       "    </tr>\n",
       "  </tbody>\n",
       "</table>\n",
       "</div>"
      ],
      "text/plain": [
       "       0              1         2\n",
       "0    0.0       0.000010  0.269084\n",
       "1    1.0       0.000016  0.268571\n",
       "2    2.0       0.000025  0.270633\n",
       "3    3.0       0.000040  0.266541\n",
       "4    4.0       0.000063  0.272201\n",
       "5    5.0       0.000100  0.292531\n",
       "6    6.0       0.000158  0.314732\n",
       "7    7.0       0.000251  0.326389\n",
       "8    8.0       0.000398  0.353383\n",
       "9    9.0       0.000631  0.450479\n",
       "10  10.0       0.001000  0.550781\n",
       "11  11.0       0.001585  0.635135\n",
       "12  12.0       0.002512  0.694581\n",
       "13  13.0       0.003981  0.712121\n",
       "14  14.0       0.006310  0.730570\n",
       "15  15.0       0.010000  0.758065\n",
       "16  16.0       0.015849  0.792135\n",
       "17  17.0       0.025119  0.815029\n",
       "18  18.0       0.039811  0.834320\n",
       "19  19.0       0.063096  0.854545\n",
       "20  20.0       0.100000  0.854545\n",
       "21  21.0       0.158489  0.844311\n",
       "22  22.0       0.251189  0.829412\n",
       "23  23.0       0.398107  0.829412\n",
       "24  24.0       0.630957  0.824561\n",
       "25  25.0       1.000000  0.834320\n",
       "26  26.0       1.584893  0.810345\n",
       "27  27.0       2.511886  0.796610\n",
       "28  28.0       3.981072  0.787709\n",
       "29  29.0       6.309573  0.787709\n",
       "30  30.0      10.000000  0.770492\n",
       "31  31.0      15.848932  0.762162\n",
       "32  32.0      25.118864  0.754011\n",
       "33  33.0      39.810717  0.742105\n",
       "34  34.0      63.095734  0.734375\n",
       "35  35.0     100.000000  0.730570\n",
       "36  36.0     158.489319  0.723077\n",
       "37  37.0     251.188643  0.719388\n",
       "38  38.0     398.107171  0.712121\n",
       "39  39.0     630.957344  0.712121\n",
       "40  40.0    1000.000000  0.712121\n",
       "41  41.0    1584.893192  0.712121\n",
       "42  42.0    2511.886432  0.708543\n",
       "43  43.0    3981.071706  0.708543\n",
       "44  44.0    6309.573445  0.705000\n",
       "45  45.0   10000.000000  0.705000\n",
       "46  46.0   15848.931925  0.701493\n",
       "47  47.0   25118.864315  0.701493\n",
       "48  48.0   39810.717055  0.698020\n",
       "49  49.0   63095.734448  0.701493\n",
       "50  50.0  100000.000000  0.701493"
      ]
     },
     "execution_count": 35,
     "metadata": {},
     "output_type": "execute_result"
    }
   ],
   "source": [
    "pd.DataFrame(res)"
   ]
  },
  {
   "cell_type": "code",
   "execution_count": 36,
   "metadata": {
    "colab": {
     "base_uri": "https://localhost:8080/",
     "height": 284
    },
    "id": "WvcCK85zHksp",
    "outputId": "6cdfb3cc-3b2e-4924-fe61-e9123566f8ab"
   },
   "outputs": [
    {
     "data": {
      "text/plain": [
       "[<matplotlib.lines.Line2D at 0x7f64b5233860>]"
      ]
     },
     "execution_count": 36,
     "metadata": {},
     "output_type": "execute_result"
    },
    {
     "data": {
      "image/png": "[encoded data removed]",
      "text/plain": [
       "<Figure size 432x288 with 1 Axes>"
      ]
     },
     "metadata": {
      "needs_background": "light"
     },
     "output_type": "display_data"
    }
   ],
   "source": [
    "plt.plot(np.log10(res[:,1]),res[:,2])"
   ]
  },
  {
   "cell_type": "code",
   "execution_count": 37,
   "metadata": {
    "colab": {
     "base_uri": "https://localhost:8080/"
    },
    "id": "UJG2dcHDIOfN",
    "outputId": "7d2decce-bad7-464c-8b59-5cced6c26664"
   },
   "outputs": [
    {
     "data": {
      "text/plain": [
       "(0.9864864864864865,\n",
       " 0.8545454545454545,\n",
       " 0.9527027027027027,\n",
       " 2122,\n",
       " 7,\n",
       " 24,\n",
       " 141,\n",
       " 0.26048751942584025)"
      ]
     },
     "execution_count": 37,
     "metadata": {},
     "output_type": "execute_result"
    }
   ],
   "source": [
    "\n",
    "f = LogisticRegression(max_iter=1000,C=0.1)\n",
    "f.fit(xtrain,ytrain)\n",
    "yhat_val_prob = f.predict_proba(xval)\n",
    "myscore(yval,yhat_val_prob,min_r=0.95)"
   ]
  },
  {
   "cell_type": "code",
   "execution_count": 38,
   "metadata": {
    "colab": {
     "base_uri": "https://localhost:8080/"
    },
    "id": "WtX2W2OAIhF8",
    "outputId": "7f9a3dbc-b92b-4b7f-bebc-b367d3fe8a6d"
   },
   "outputs": [
    {
     "data": {
      "text/plain": [
       "(0.995529873528129,\n",
       " 0.9790940766550522,\n",
       " 0.9509306260575296,\n",
       " 8569,\n",
       " 29,\n",
       " 12,\n",
       " 562,\n",
       " 0.43942088162324633)"
      ]
     },
     "execution_count": 38,
     "metadata": {},
     "output_type": "execute_result"
    }
   ],
   "source": [
    "yhat_train_prob = f.predict_proba(xtrain)\n",
    "myscore(ytrain,yhat_train_prob,min_r=0.95)"
   ]
  },
  {
   "cell_type": "code",
   "execution_count": null,
   "metadata": {},
   "outputs": [],
   "source": []
  }
 ],
 "metadata": {
  "colab": {
   "name": "Untitled2.ipynb",
   "provenance": []
  },
  "kernelspec": {
   "display_name": "Python 3",
   "language": "python",
   "name": "python3"
  },
  "language_info": {
   "codemirror_mode": {
    "name": "ipython",
    "version": 3
   },
   "file_extension": ".py",
   "mimetype": "text/x-python",
   "name": "python",
   "nbconvert_exporter": "python",
   "pygments_lexer": "ipython3",
   "version": "3.6.9"
  }
 },
 "nbformat": 4,
 "nbformat_minor": 1
}
