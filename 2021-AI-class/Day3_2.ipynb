{
 "cells": [
  {
   "cell_type": "code",
   "execution_count": 1,
   "id": "b1a569e9",
   "metadata": {},
   "outputs": [],
   "source": [
    "# modules\n",
    "import numpy as np\n",
    "import scipy as sp\n",
    "import scipy.stats\n",
    "import pandas as pd\n",
    "import matplotlib.pyplot as plt\n",
    "from sklearn.model_selection import cross_val_score\n",
    "from sklearn.model_selection import train_test_split\n",
    "from sklearn.metrics import precision_recall_curve"
   ]
  },
  {
   "cell_type": "code",
   "execution_count": 2,
   "id": "405fb251",
   "metadata": {},
   "outputs": [],
   "source": [
    "# my score function\n",
    "def myscore(y,yhat_prob,min_r=0.95,th_f=None):\n",
    "    p,r,th = precision_recall_curve(y,yhat_prob[:,1])\n",
    "    if th_f == None:\n",
    "        th_f = np.concatenate(([0],th))[r>min_r].max()\n",
    "    yhat = (yhat_prob[:,1]>th_f)+1-1\n",
    "    ct = pd.crosstab(yhat,y).values\n",
    "    if ct.shape[0] == 1:\n",
    "        m = np.array([0,0,ct[0][0],ct[0][1]])\n",
    "    else:\n",
    "        m = ct.reshape((4,))\n",
    "    acc = (m[0]+m[3])/m.sum()\n",
    "    precision = m[3]/(m[2]+m[3])\n",
    "    recall = m[3]/(m[1]+m[3])\n",
    "    return acc, precision, recall, m[0], m[1], m[2], m[3], th_f"
   ]
  },
  {
   "cell_type": "code",
   "execution_count": 3,
   "id": "dad1d5ed",
   "metadata": {},
   "outputs": [],
   "source": [
    "# read training data\n",
    "df_train = pd.read_csv('data_semi_train_clean.csv')\n",
    "xtrain_df = df_train.iloc[:,1:]\n",
    "xtrain = xtrain_df.values\n",
    "ytrain = (df_train['Label']=='defect').values+1-1"
   ]
  },
  {
   "cell_type": "code",
   "execution_count": 4,
   "id": "13a40752",
   "metadata": {},
   "outputs": [],
   "source": [
    "df_test = pd.read_csv('data_semi_test.csv')\n",
    "xtest_df = df_test.iloc[:,1:]\n",
    "xtest = xtest_df.values\n",
    "ytest = (df_test['Label']=='defect').values+1-1"
   ]
  },
  {
   "cell_type": "code",
   "execution_count": 5,
   "id": "175810ba",
   "metadata": {},
   "outputs": [
    {
     "data": {
      "text/plain": [
       "(5746, 590)"
      ]
     },
     "execution_count": 5,
     "metadata": {},
     "output_type": "execute_result"
    }
   ],
   "source": [
    "xtest.shape"
   ]
  },
  {
   "cell_type": "code",
   "execution_count": 6,
   "id": "83f429eb",
   "metadata": {},
   "outputs": [
    {
     "data": {
      "text/plain": [
       "(5746,)"
      ]
     },
     "execution_count": 6,
     "metadata": {},
     "output_type": "execute_result"
    }
   ],
   "source": [
    "ytest.shape"
   ]
  },
  {
   "cell_type": "code",
   "execution_count": 9,
   "id": "32db1b35",
   "metadata": {},
   "outputs": [],
   "source": [
    "# feature selection\n",
    "col = xtrain_df.columns\n",
    "xtest_df = xtest_df[col]\n",
    "xtest = xtest_df.values"
   ]
  },
  {
   "cell_type": "code",
   "execution_count": 10,
   "id": "5027984a",
   "metadata": {},
   "outputs": [],
   "source": [
    "# missing imputation\n",
    "from sklearn.impute import SimpleImputer\n",
    "model_imp = SimpleImputer(strategy='median')\n",
    "model_imp.fit(xtrain)\n",
    "xtest = model_imp.transform(xtest)"
   ]
  },
  {
   "cell_type": "code",
   "execution_count": 11,
   "id": "ef5724db",
   "metadata": {},
   "outputs": [],
   "source": [
    "# outlier handling\n",
    "for i in range(xtrain.shape[1]):\n",
    "    x = xtrain[:,i]\n",
    "    m = x.mean()\n",
    "    s = np.sqrt(x.var(ddof=1))\n",
    "    uidx = x>m+6*s\n",
    "    lidx = x<m-6*s\n",
    "    usub = x[~uidx & ~lidx].max()\n",
    "    lsub = x[~uidx & ~lidx].min()\n",
    "\n",
    "    x = xtest[:,i]\n",
    "    uidx = x>m+6*s\n",
    "    lidx = x<m-6*s    \n",
    "    x[uidx] = usub\n",
    "    x[lidx] = lsub\n",
    "    xtest[:,i] = x"
   ]
  },
  {
   "cell_type": "code",
   "execution_count": 12,
   "id": "dcc12161",
   "metadata": {},
   "outputs": [],
   "source": [
    "############################################################\n",
    "# normalization\n",
    "############################################################\n",
    "\n",
    "from sklearn.preprocessing import StandardScaler\n",
    "model_scale = StandardScaler()\n",
    "model_scale.fit(xtrain)\n",
    "xtrain = model_scale.transform(xtrain)\n",
    "xtest = model_scale.transform(xtest)"
   ]
  },
  {
   "cell_type": "code",
   "execution_count": 13,
   "id": "d4bd13a7",
   "metadata": {},
   "outputs": [],
   "source": [
    "############################################################\n",
    "# final model\n",
    "############################################################\n",
    "\n",
    "X = xtrain.copy()\n",
    "Y = ytrain.copy()\n",
    "xtrain, xval, ytrain, yval = train_test_split(X,Y,test_size=0.2,random_state=0)"
   ]
  },
  {
   "cell_type": "code",
   "execution_count": 14,
   "id": "50cd792c",
   "metadata": {},
   "outputs": [
    {
     "data": {
      "text/plain": [
       "(0.9878176122520014,\n",
       " 0.8568376068376068,\n",
       " 0.9925742574257426,\n",
       " 5275,\n",
       " 3,\n",
       " 67,\n",
       " 401,\n",
       " 0.03)"
      ]
     },
     "execution_count": 14,
     "metadata": {},
     "output_type": "execute_result"
    }
   ],
   "source": [
    "from sklearn.svm import SVC\n",
    "f = SVC(C=10,probability=True)\n",
    "f.fit(xtrain,ytrain)\n",
    "\n",
    "yhat_train_prob = f.predict_proba(xtrain)\n",
    "yhat_val_prob = f.predict_proba(xval)\n",
    "yhat_test_prob = f.predict_proba(xtest)\n",
    "\n",
    "myscore(yval,yhat_val_prob,min_r=0.99)\n",
    "\n",
    "myscore(ytrain,yhat_train_prob,th_f=0.03)\n",
    "myscore(yval,yhat_val_prob,th_f=0.03)\n",
    "myscore(ytest,yhat_test_prob,th_f=0.03)"
   ]
  },
  {
   "cell_type": "code",
   "execution_count": 15,
   "id": "381fbb1e",
   "metadata": {},
   "outputs": [
    {
     "data": {
      "text/plain": [
       "[<matplotlib.lines.Line2D at 0x7ff5270074e0>,\n",
       " <matplotlib.lines.Line2D at 0x7ff527007588>]"
      ]
     },
     "execution_count": 15,
     "metadata": {},
     "output_type": "execute_result"
    },
    {
     "data": {
      "image/png": "[encoded data removed]",
      "text/plain": [
       "<Figure size 432x288 with 1 Axes>"
      ]
     },
     "metadata": {
      "needs_background": "light"
     },
     "output_type": "display_data"
    }
   ],
   "source": [
    "# visualization\n",
    "i = np.arange(len(ytest))\n",
    "nidx = ytest==0\n",
    "didx = ytest==1\n",
    "p = np.log10(yhat_test_prob[:,1]/0.03)\n",
    "plt.plot(i[nidx],p[nidx],'b.',i[didx],p[didx],'r.')"
   ]
  },
  {
   "cell_type": "code",
   "execution_count": null,
   "id": "a6b0325a",
   "metadata": {},
   "outputs": [],
   "source": []
  }
 ],
 "metadata": {
  "kernelspec": {
   "display_name": "tf2",
   "language": "python",
   "name": "tf2"
  },
  "language_info": {
   "codemirror_mode": {
    "name": "ipython",
    "version": 3
   },
   "file_extension": ".py",
   "mimetype": "text/x-python",
   "name": "python",
   "nbconvert_exporter": "python",
   "pygments_lexer": "ipython3",
   "version": "3.6.9"
  }
 },
 "nbformat": 4,
 "nbformat_minor": 5
}
