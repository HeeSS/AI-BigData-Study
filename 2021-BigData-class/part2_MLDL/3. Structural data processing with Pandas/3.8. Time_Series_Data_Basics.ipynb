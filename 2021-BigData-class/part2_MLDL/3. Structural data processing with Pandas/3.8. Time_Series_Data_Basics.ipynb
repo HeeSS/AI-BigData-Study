{
  "nbformat": 4,
  "nbformat_minor": 0,
  "metadata": {
    "kernelspec": {
      "display_name": "tf1.0",
      "language": "python",
      "name": "tf1.0"
    },
    "language_info": {
      "codemirror_mode": {
        "name": "ipython",
        "version": 2
      },
      "file_extension": ".py",
      "mimetype": "text/x-python",
      "name": "python",
      "nbconvert_exporter": "python",
      "pygments_lexer": "ipython2",
      "version": "2.7.12"
    },
    "colab": {
      "name": "7.Time Series Data Basics.ipynb",
      "provenance": []
    }
  },
  "cells": [
    {
      "cell_type": "markdown",
      "metadata": {
        "collapsed": true,
        "deletable": true,
        "editable": true,
        "id": "DOPpu_pdIK5C"
      },
      "source": [
        "**Pandas Time Series Data**\n",
        "\n",
        "The Pandas Python package makes it absolutely painless to handle time series data (TS). Solving time series problems in Python is not so much fun sometimes. But, because Pandas dedicated libraries contain many timeseries object optimizations, solving TS problems with Pandas can be done in a straightforward manner.  \n",
        "\n",
        "The Pandas library provides simple, but powerful tools to perform any data tasks, especially when it comes to time series data. \n",
        "\n",
        "The NumPy datatime64[ns] and timedelta64 dtypes definitely make my job a lot more fun. I use Pandas every day, so you can take my word for it. \n",
        "\n",
        "In this notebook I will be covering 3 basic functionalities for manipulating time series data:\n",
        "\n",
        "* Date Ranges\n",
        "* DatetimeIndex & Timestamps\n",
        "* Resampling"
      ]
    },
    {
      "cell_type": "markdown",
      "metadata": {
        "deletable": true,
        "editable": true,
        "id": "VtN52fOYIK5J"
      },
      "source": [
        "**Date Ranges**\n",
        "\n",
        "First, we will create a Datetimeindex with the frequency of one hour.  The date range will be from January 1st. 2016 to the date of this notebook, November 30th. \n",
        "In this notebook I am using Pandas version '0.19.1' for the examples."
      ]
    },
    {
      "cell_type": "code",
      "metadata": {
        "deletable": true,
        "editable": true,
        "id": "-ROFZSTLIK5K",
        "outputId": "5b89d239-1135-4b01-ceaa-402e199ab989"
      },
      "source": [
        "# First we import Pandas, NumPy and Matplotlib\n",
        "import pandas as pd\n",
        "import numpy as np\n",
        "import matplotlib.pyplot as plt\n",
        "%matplotlib inline\n",
        "plt.style.use('ggplot')\n",
        "import seaborn as sn\n",
        "pd.__version__"
      ],
      "execution_count": null,
      "outputs": [
        {
          "data": {
            "text/plain": [
              "u'0.19.2'"
            ]
          },
          "execution_count": 1,
          "metadata": {},
          "output_type": "execute_result"
        }
      ]
    },
    {
      "cell_type": "code",
      "metadata": {
        "deletable": true,
        "editable": true,
        "id": "F7rU3C79IK5O",
        "outputId": "c7a74f64-3d6f-4446-95a8-52ca116444c4"
      },
      "source": [
        "hours = pd.date_range('1/1/2016', '11/30/2016', freq='H')\n",
        "hours # displaying the first and the last 10 rows."
      ],
      "execution_count": null,
      "outputs": [
        {
          "data": {
            "text/plain": [
              "DatetimeIndex(['2016-01-01 00:00:00', '2016-01-01 01:00:00',\n",
              "               '2016-01-01 02:00:00', '2016-01-01 03:00:00',\n",
              "               '2016-01-01 04:00:00', '2016-01-01 05:00:00',\n",
              "               '2016-01-01 06:00:00', '2016-01-01 07:00:00',\n",
              "               '2016-01-01 08:00:00', '2016-01-01 09:00:00',\n",
              "               ...\n",
              "               '2016-11-29 15:00:00', '2016-11-29 16:00:00',\n",
              "               '2016-11-29 17:00:00', '2016-11-29 18:00:00',\n",
              "               '2016-11-29 19:00:00', '2016-11-29 20:00:00',\n",
              "               '2016-11-29 21:00:00', '2016-11-29 22:00:00',\n",
              "               '2016-11-29 23:00:00', '2016-11-30 00:00:00'],\n",
              "              dtype='datetime64[ns]', length=8017, freq='H')"
            ]
          },
          "execution_count": 2,
          "metadata": {},
          "output_type": "execute_result"
        }
      ]
    },
    {
      "cell_type": "markdown",
      "metadata": {
        "deletable": true,
        "editable": true,
        "id": "CK_iesG_IK5P"
      },
      "source": [
        "Next, we construct a DataFrame assigning ***hours*** , the DatetimeIndex values, to one of the columns and assigning random integers to the other column."
      ]
    },
    {
      "cell_type": "code",
      "metadata": {
        "deletable": true,
        "editable": true,
        "id": "FVs9w4--IK5P",
        "outputId": "488f340e-e677-4896-f37d-f41c9e01d490"
      },
      "source": [
        "np.random.seed(seed=1111)\n",
        "data = np.random.randint(1, high=100, size=len(hours))\n",
        "df = pd.DataFrame({'col1': hours, 'col2': data})\n",
        "df.head(10)"
      ],
      "execution_count": null,
      "outputs": [
        {
          "data": {
            "text/html": [
              "<div>\n",
              "<table border=\"1\" class=\"dataframe\">\n",
              "  <thead>\n",
              "    <tr style=\"text-align: right;\">\n",
              "      <th></th>\n",
              "      <th>col1</th>\n",
              "      <th>col2</th>\n",
              "    </tr>\n",
              "  </thead>\n",
              "  <tbody>\n",
              "    <tr>\n",
              "      <th>0</th>\n",
              "      <td>2016-01-01 00:00:00</td>\n",
              "      <td>29</td>\n",
              "    </tr>\n",
              "    <tr>\n",
              "      <th>1</th>\n",
              "      <td>2016-01-01 01:00:00</td>\n",
              "      <td>56</td>\n",
              "    </tr>\n",
              "    <tr>\n",
              "      <th>2</th>\n",
              "      <td>2016-01-01 02:00:00</td>\n",
              "      <td>82</td>\n",
              "    </tr>\n",
              "    <tr>\n",
              "      <th>3</th>\n",
              "      <td>2016-01-01 03:00:00</td>\n",
              "      <td>13</td>\n",
              "    </tr>\n",
              "    <tr>\n",
              "      <th>4</th>\n",
              "      <td>2016-01-01 04:00:00</td>\n",
              "      <td>35</td>\n",
              "    </tr>\n",
              "    <tr>\n",
              "      <th>5</th>\n",
              "      <td>2016-01-01 05:00:00</td>\n",
              "      <td>53</td>\n",
              "    </tr>\n",
              "    <tr>\n",
              "      <th>6</th>\n",
              "      <td>2016-01-01 06:00:00</td>\n",
              "      <td>25</td>\n",
              "    </tr>\n",
              "    <tr>\n",
              "      <th>7</th>\n",
              "      <td>2016-01-01 07:00:00</td>\n",
              "      <td>23</td>\n",
              "    </tr>\n",
              "    <tr>\n",
              "      <th>8</th>\n",
              "      <td>2016-01-01 08:00:00</td>\n",
              "      <td>21</td>\n",
              "    </tr>\n",
              "    <tr>\n",
              "      <th>9</th>\n",
              "      <td>2016-01-01 09:00:00</td>\n",
              "      <td>12</td>\n",
              "    </tr>\n",
              "  </tbody>\n",
              "</table>\n",
              "</div>"
            ],
            "text/plain": [
              "                 col1  col2\n",
              "0 2016-01-01 00:00:00    29\n",
              "1 2016-01-01 01:00:00    56\n",
              "2 2016-01-01 02:00:00    82\n",
              "3 2016-01-01 03:00:00    13\n",
              "4 2016-01-01 04:00:00    35\n",
              "5 2016-01-01 05:00:00    53\n",
              "6 2016-01-01 06:00:00    25\n",
              "7 2016-01-01 07:00:00    23\n",
              "8 2016-01-01 08:00:00    21\n",
              "9 2016-01-01 09:00:00    12"
            ]
          },
          "execution_count": 3,
          "metadata": {},
          "output_type": "execute_result"
        }
      ]
    },
    {
      "cell_type": "code",
      "metadata": {
        "deletable": true,
        "editable": true,
        "id": "x8FAmXUcIK5Q",
        "outputId": "c738b1c9-9bcf-4a8a-b336-126051b9cde8"
      },
      "source": [
        "df.info()# Here is a short summary of a DataFrame"
      ],
      "execution_count": null,
      "outputs": [
        {
          "name": "stdout",
          "output_type": "stream",
          "text": [
            "<class 'pandas.core.frame.DataFrame'>\n",
            "RangeIndex: 8017 entries, 0 to 8016\n",
            "Data columns (total 2 columns):\n",
            "col1    8017 non-null datetime64[ns]\n",
            "col2    8017 non-null int64\n",
            "dtypes: datetime64[ns](1), int64(1)\n",
            "memory usage: 125.3 KB\n"
          ]
        }
      ]
    },
    {
      "cell_type": "markdown",
      "metadata": {
        "deletable": true,
        "editable": true,
        "id": "Udtvh_faIK5S"
      },
      "source": [
        "We can select a time period between 2 dates from our DataFrame creating a new object ***selected_period***:"
      ]
    },
    {
      "cell_type": "code",
      "metadata": {
        "deletable": true,
        "editable": true,
        "id": "j3lp1L85IK5T",
        "outputId": "1c118a92-ffd0-4d3b-b9e4-b9d01d4acab2"
      },
      "source": [
        "selected_period = df[(df['col1'] > '2016-04-30 23:00:00') & (df['col1'] < '2016-05-02 01:00:00')]\n",
        "selected_period # We selected a 24 hour period."
      ],
      "execution_count": null,
      "outputs": [
        {
          "data": {
            "text/html": [
              "<div>\n",
              "<table border=\"1\" class=\"dataframe\">\n",
              "  <thead>\n",
              "    <tr style=\"text-align: right;\">\n",
              "      <th></th>\n",
              "      <th>col1</th>\n",
              "      <th>col2</th>\n",
              "    </tr>\n",
              "  </thead>\n",
              "  <tbody>\n",
              "    <tr>\n",
              "      <th>2904</th>\n",
              "      <td>2016-05-01 00:00:00</td>\n",
              "      <td>49</td>\n",
              "    </tr>\n",
              "    <tr>\n",
              "      <th>2905</th>\n",
              "      <td>2016-05-01 01:00:00</td>\n",
              "      <td>19</td>\n",
              "    </tr>\n",
              "    <tr>\n",
              "      <th>2906</th>\n",
              "      <td>2016-05-01 02:00:00</td>\n",
              "      <td>94</td>\n",
              "    </tr>\n",
              "    <tr>\n",
              "      <th>2907</th>\n",
              "      <td>2016-05-01 03:00:00</td>\n",
              "      <td>8</td>\n",
              "    </tr>\n",
              "    <tr>\n",
              "      <th>2908</th>\n",
              "      <td>2016-05-01 04:00:00</td>\n",
              "      <td>69</td>\n",
              "    </tr>\n",
              "    <tr>\n",
              "      <th>2909</th>\n",
              "      <td>2016-05-01 05:00:00</td>\n",
              "      <td>32</td>\n",
              "    </tr>\n",
              "    <tr>\n",
              "      <th>2910</th>\n",
              "      <td>2016-05-01 06:00:00</td>\n",
              "      <td>42</td>\n",
              "    </tr>\n",
              "    <tr>\n",
              "      <th>2911</th>\n",
              "      <td>2016-05-01 07:00:00</td>\n",
              "      <td>54</td>\n",
              "    </tr>\n",
              "    <tr>\n",
              "      <th>2912</th>\n",
              "      <td>2016-05-01 08:00:00</td>\n",
              "      <td>19</td>\n",
              "    </tr>\n",
              "    <tr>\n",
              "      <th>2913</th>\n",
              "      <td>2016-05-01 09:00:00</td>\n",
              "      <td>64</td>\n",
              "    </tr>\n",
              "    <tr>\n",
              "      <th>2914</th>\n",
              "      <td>2016-05-01 10:00:00</td>\n",
              "      <td>61</td>\n",
              "    </tr>\n",
              "    <tr>\n",
              "      <th>2915</th>\n",
              "      <td>2016-05-01 11:00:00</td>\n",
              "      <td>37</td>\n",
              "    </tr>\n",
              "    <tr>\n",
              "      <th>2916</th>\n",
              "      <td>2016-05-01 12:00:00</td>\n",
              "      <td>8</td>\n",
              "    </tr>\n",
              "    <tr>\n",
              "      <th>2917</th>\n",
              "      <td>2016-05-01 13:00:00</td>\n",
              "      <td>27</td>\n",
              "    </tr>\n",
              "    <tr>\n",
              "      <th>2918</th>\n",
              "      <td>2016-05-01 14:00:00</td>\n",
              "      <td>19</td>\n",
              "    </tr>\n",
              "    <tr>\n",
              "      <th>2919</th>\n",
              "      <td>2016-05-01 15:00:00</td>\n",
              "      <td>4</td>\n",
              "    </tr>\n",
              "    <tr>\n",
              "      <th>2920</th>\n",
              "      <td>2016-05-01 16:00:00</td>\n",
              "      <td>36</td>\n",
              "    </tr>\n",
              "    <tr>\n",
              "      <th>2921</th>\n",
              "      <td>2016-05-01 17:00:00</td>\n",
              "      <td>88</td>\n",
              "    </tr>\n",
              "    <tr>\n",
              "      <th>2922</th>\n",
              "      <td>2016-05-01 18:00:00</td>\n",
              "      <td>17</td>\n",
              "    </tr>\n",
              "    <tr>\n",
              "      <th>2923</th>\n",
              "      <td>2016-05-01 19:00:00</td>\n",
              "      <td>67</td>\n",
              "    </tr>\n",
              "    <tr>\n",
              "      <th>2924</th>\n",
              "      <td>2016-05-01 20:00:00</td>\n",
              "      <td>81</td>\n",
              "    </tr>\n",
              "    <tr>\n",
              "      <th>2925</th>\n",
              "      <td>2016-05-01 21:00:00</td>\n",
              "      <td>74</td>\n",
              "    </tr>\n",
              "    <tr>\n",
              "      <th>2926</th>\n",
              "      <td>2016-05-01 22:00:00</td>\n",
              "      <td>51</td>\n",
              "    </tr>\n",
              "    <tr>\n",
              "      <th>2927</th>\n",
              "      <td>2016-05-01 23:00:00</td>\n",
              "      <td>59</td>\n",
              "    </tr>\n",
              "    <tr>\n",
              "      <th>2928</th>\n",
              "      <td>2016-05-02 00:00:00</td>\n",
              "      <td>1</td>\n",
              "    </tr>\n",
              "  </tbody>\n",
              "</table>\n",
              "</div>"
            ],
            "text/plain": [
              "                    col1  col2\n",
              "2904 2016-05-01 00:00:00    49\n",
              "2905 2016-05-01 01:00:00    19\n",
              "2906 2016-05-01 02:00:00    94\n",
              "2907 2016-05-01 03:00:00     8\n",
              "2908 2016-05-01 04:00:00    69\n",
              "2909 2016-05-01 05:00:00    32\n",
              "2910 2016-05-01 06:00:00    42\n",
              "2911 2016-05-01 07:00:00    54\n",
              "2912 2016-05-01 08:00:00    19\n",
              "2913 2016-05-01 09:00:00    64\n",
              "2914 2016-05-01 10:00:00    61\n",
              "2915 2016-05-01 11:00:00    37\n",
              "2916 2016-05-01 12:00:00     8\n",
              "2917 2016-05-01 13:00:00    27\n",
              "2918 2016-05-01 14:00:00    19\n",
              "2919 2016-05-01 15:00:00     4\n",
              "2920 2016-05-01 16:00:00    36\n",
              "2921 2016-05-01 17:00:00    88\n",
              "2922 2016-05-01 18:00:00    17\n",
              "2923 2016-05-01 19:00:00    67\n",
              "2924 2016-05-01 20:00:00    81\n",
              "2925 2016-05-01 21:00:00    74\n",
              "2926 2016-05-01 22:00:00    51\n",
              "2927 2016-05-01 23:00:00    59\n",
              "2928 2016-05-02 00:00:00     1"
            ]
          },
          "execution_count": 5,
          "metadata": {},
          "output_type": "execute_result"
        }
      ]
    },
    {
      "cell_type": "markdown",
      "metadata": {
        "deletable": true,
        "editable": true,
        "id": "13zl2IJeIK5U"
      },
      "source": [
        "Selecting a period is simpler, if we set 'Col1' as the index."
      ]
    },
    {
      "cell_type": "code",
      "metadata": {
        "deletable": true,
        "editable": true,
        "id": "aKuGU74vIK5U",
        "outputId": "adefaf24-4210-40a9-8db8-f1696868d751"
      },
      "source": [
        "df = df.set_index('col1')\n",
        "df.head()"
      ],
      "execution_count": null,
      "outputs": [
        {
          "data": {
            "text/html": [
              "<div>\n",
              "<table border=\"1\" class=\"dataframe\">\n",
              "  <thead>\n",
              "    <tr style=\"text-align: right;\">\n",
              "      <th></th>\n",
              "      <th>col2</th>\n",
              "    </tr>\n",
              "    <tr>\n",
              "      <th>col1</th>\n",
              "      <th></th>\n",
              "    </tr>\n",
              "  </thead>\n",
              "  <tbody>\n",
              "    <tr>\n",
              "      <th>2016-01-01 00:00:00</th>\n",
              "      <td>29</td>\n",
              "    </tr>\n",
              "    <tr>\n",
              "      <th>2016-01-01 01:00:00</th>\n",
              "      <td>56</td>\n",
              "    </tr>\n",
              "    <tr>\n",
              "      <th>2016-01-01 02:00:00</th>\n",
              "      <td>82</td>\n",
              "    </tr>\n",
              "    <tr>\n",
              "      <th>2016-01-01 03:00:00</th>\n",
              "      <td>13</td>\n",
              "    </tr>\n",
              "    <tr>\n",
              "      <th>2016-01-01 04:00:00</th>\n",
              "      <td>35</td>\n",
              "    </tr>\n",
              "  </tbody>\n",
              "</table>\n",
              "</div>"
            ],
            "text/plain": [
              "                     col2\n",
              "col1                     \n",
              "2016-01-01 00:00:00    29\n",
              "2016-01-01 01:00:00    56\n",
              "2016-01-01 02:00:00    82\n",
              "2016-01-01 03:00:00    13\n",
              "2016-01-01 04:00:00    35"
            ]
          },
          "execution_count": 6,
          "metadata": {},
          "output_type": "execute_result"
        }
      ]
    },
    {
      "cell_type": "markdown",
      "metadata": {
        "deletable": true,
        "editable": true,
        "id": "7ceK-xkHIK5V"
      },
      "source": [
        "The index is now a DatetimeIndex not a RangeIndex."
      ]
    },
    {
      "cell_type": "code",
      "metadata": {
        "deletable": true,
        "editable": true,
        "id": "rXkv8rBwIK5W",
        "outputId": "bcc45beb-ecd6-4e3c-d374-a156f9461716"
      },
      "source": [
        "df.info() "
      ],
      "execution_count": null,
      "outputs": [
        {
          "name": "stdout",
          "output_type": "stream",
          "text": [
            "<class 'pandas.core.frame.DataFrame'>\n",
            "DatetimeIndex: 8017 entries, 2016-01-01 00:00:00 to 2016-11-30 00:00:00\n",
            "Data columns (total 1 columns):\n",
            "col2    8017 non-null int64\n",
            "dtypes: int64(1)\n",
            "memory usage: 125.3 KB\n"
          ]
        }
      ]
    },
    {
      "cell_type": "markdown",
      "metadata": {
        "deletable": true,
        "editable": true,
        "id": "GaQyx2t4IK5W"
      },
      "source": [
        "Now that we set our DatetimeIndex as the index, we can select the same 24 hour period using **DataFrame.ix()**, a label-location based indexer. \n",
        "\n",
        "We will create a slice object with labels '2016-05-01 00:00:00':'2016-05-02 00:00:00'. Unlike in python slices, both the start and the stop are included here!\n",
        "\n",
        "Note, that to select the same 24 hours period, the slicing **'2016-05-01 00:00:00' : '2016-05-02 00:00:00'**  must be different here from our previous selection **df[(df['col1'] > '2016-04-30 23:00:00')  &  (df['col1'] < '2016-05-02 01:00:00')]** ."
      ]
    },
    {
      "cell_type": "code",
      "metadata": {
        "deletable": true,
        "editable": true,
        "id": "bE-eY88yIK5X",
        "outputId": "145e08c3-b947-4dce-c7c4-401b923fa89c"
      },
      "source": [
        "one_day = df.ix['2016-05-01 00:00:00':'2016-05-02 00:00:00']\n",
        "one_day"
      ],
      "execution_count": null,
      "outputs": [
        {
          "data": {
            "text/html": [
              "<div>\n",
              "<table border=\"1\" class=\"dataframe\">\n",
              "  <thead>\n",
              "    <tr style=\"text-align: right;\">\n",
              "      <th></th>\n",
              "      <th>col2</th>\n",
              "    </tr>\n",
              "    <tr>\n",
              "      <th>col1</th>\n",
              "      <th></th>\n",
              "    </tr>\n",
              "  </thead>\n",
              "  <tbody>\n",
              "    <tr>\n",
              "      <th>2016-05-01 00:00:00</th>\n",
              "      <td>49</td>\n",
              "    </tr>\n",
              "    <tr>\n",
              "      <th>2016-05-01 01:00:00</th>\n",
              "      <td>19</td>\n",
              "    </tr>\n",
              "    <tr>\n",
              "      <th>2016-05-01 02:00:00</th>\n",
              "      <td>94</td>\n",
              "    </tr>\n",
              "    <tr>\n",
              "      <th>2016-05-01 03:00:00</th>\n",
              "      <td>8</td>\n",
              "    </tr>\n",
              "    <tr>\n",
              "      <th>2016-05-01 04:00:00</th>\n",
              "      <td>69</td>\n",
              "    </tr>\n",
              "    <tr>\n",
              "      <th>2016-05-01 05:00:00</th>\n",
              "      <td>32</td>\n",
              "    </tr>\n",
              "    <tr>\n",
              "      <th>2016-05-01 06:00:00</th>\n",
              "      <td>42</td>\n",
              "    </tr>\n",
              "    <tr>\n",
              "      <th>2016-05-01 07:00:00</th>\n",
              "      <td>54</td>\n",
              "    </tr>\n",
              "    <tr>\n",
              "      <th>2016-05-01 08:00:00</th>\n",
              "      <td>19</td>\n",
              "    </tr>\n",
              "    <tr>\n",
              "      <th>2016-05-01 09:00:00</th>\n",
              "      <td>64</td>\n",
              "    </tr>\n",
              "    <tr>\n",
              "      <th>2016-05-01 10:00:00</th>\n",
              "      <td>61</td>\n",
              "    </tr>\n",
              "    <tr>\n",
              "      <th>2016-05-01 11:00:00</th>\n",
              "      <td>37</td>\n",
              "    </tr>\n",
              "    <tr>\n",
              "      <th>2016-05-01 12:00:00</th>\n",
              "      <td>8</td>\n",
              "    </tr>\n",
              "    <tr>\n",
              "      <th>2016-05-01 13:00:00</th>\n",
              "      <td>27</td>\n",
              "    </tr>\n",
              "    <tr>\n",
              "      <th>2016-05-01 14:00:00</th>\n",
              "      <td>19</td>\n",
              "    </tr>\n",
              "    <tr>\n",
              "      <th>2016-05-01 15:00:00</th>\n",
              "      <td>4</td>\n",
              "    </tr>\n",
              "    <tr>\n",
              "      <th>2016-05-01 16:00:00</th>\n",
              "      <td>36</td>\n",
              "    </tr>\n",
              "    <tr>\n",
              "      <th>2016-05-01 17:00:00</th>\n",
              "      <td>88</td>\n",
              "    </tr>\n",
              "    <tr>\n",
              "      <th>2016-05-01 18:00:00</th>\n",
              "      <td>17</td>\n",
              "    </tr>\n",
              "    <tr>\n",
              "      <th>2016-05-01 19:00:00</th>\n",
              "      <td>67</td>\n",
              "    </tr>\n",
              "    <tr>\n",
              "      <th>2016-05-01 20:00:00</th>\n",
              "      <td>81</td>\n",
              "    </tr>\n",
              "    <tr>\n",
              "      <th>2016-05-01 21:00:00</th>\n",
              "      <td>74</td>\n",
              "    </tr>\n",
              "    <tr>\n",
              "      <th>2016-05-01 22:00:00</th>\n",
              "      <td>51</td>\n",
              "    </tr>\n",
              "    <tr>\n",
              "      <th>2016-05-01 23:00:00</th>\n",
              "      <td>59</td>\n",
              "    </tr>\n",
              "    <tr>\n",
              "      <th>2016-05-02 00:00:00</th>\n",
              "      <td>1</td>\n",
              "    </tr>\n",
              "  </tbody>\n",
              "</table>\n",
              "</div>"
            ],
            "text/plain": [
              "                     col2\n",
              "col1                     \n",
              "2016-05-01 00:00:00    49\n",
              "2016-05-01 01:00:00    19\n",
              "2016-05-01 02:00:00    94\n",
              "2016-05-01 03:00:00     8\n",
              "2016-05-01 04:00:00    69\n",
              "2016-05-01 05:00:00    32\n",
              "2016-05-01 06:00:00    42\n",
              "2016-05-01 07:00:00    54\n",
              "2016-05-01 08:00:00    19\n",
              "2016-05-01 09:00:00    64\n",
              "2016-05-01 10:00:00    61\n",
              "2016-05-01 11:00:00    37\n",
              "2016-05-01 12:00:00     8\n",
              "2016-05-01 13:00:00    27\n",
              "2016-05-01 14:00:00    19\n",
              "2016-05-01 15:00:00     4\n",
              "2016-05-01 16:00:00    36\n",
              "2016-05-01 17:00:00    88\n",
              "2016-05-01 18:00:00    17\n",
              "2016-05-01 19:00:00    67\n",
              "2016-05-01 20:00:00    81\n",
              "2016-05-01 21:00:00    74\n",
              "2016-05-01 22:00:00    51\n",
              "2016-05-01 23:00:00    59\n",
              "2016-05-02 00:00:00     1"
            ]
          },
          "execution_count": 8,
          "metadata": {},
          "output_type": "execute_result"
        }
      ]
    },
    {
      "cell_type": "markdown",
      "metadata": {
        "deletable": true,
        "editable": true,
        "id": "OWjfFNm1IK5X"
      },
      "source": [
        "With Pandas, we can easily visualize the data."
      ]
    },
    {
      "cell_type": "code",
      "metadata": {
        "deletable": true,
        "editable": true,
        "id": "XJ9kc_MZIK5Y",
        "outputId": "77071f82-2264-4aa6-8d7d-0abe1aad565c"
      },
      "source": [
        "one_day.plot(title= 'One Day Selection Graph (2016-05-01)')"
      ],
      "execution_count": null,
      "outputs": [
        {
          "data": {
            "text/plain": [
              "<matplotlib.axes._subplots.AxesSubplot at 0x7f591acb0550>"
            ]
          },
          "execution_count": 9,
          "metadata": {},
          "output_type": "execute_result"
        },
        {
          "data": {
            "image/png": "[encoded data removed]",
            "text/plain": [
              "<matplotlib.figure.Figure at 0x7f591af39950>"
            ]
          },
          "metadata": {},
          "output_type": "display_data"
        }
      ]
    },
    {
      "cell_type": "markdown",
      "metadata": {
        "deletable": true,
        "editable": true,
        "id": "Sk1FDZIrIK5Y"
      },
      "source": [
        "Now, that we selected a 24 hour period, let's have some fun with this. So, what can we do with this data...\n",
        "\n",
        "Let's say, we are interested in the hourly fluctuation (rise and fall) of the values during the selected 24 hours. Pandas makes this task very easy.\n",
        "\n",
        "We will use Pandas **DataFrame.shift()** to shift the index by 1 hour (1 row). "
      ]
    },
    {
      "cell_type": "code",
      "metadata": {
        "deletable": true,
        "editable": true,
        "id": "VTnofj1bIK5Z",
        "outputId": "594c1cf4-de80-4e12-d871-03c997868bd7"
      },
      "source": [
        "one_day.shift(1)"
      ],
      "execution_count": null,
      "outputs": [
        {
          "data": {
            "text/html": [
              "<div>\n",
              "<table border=\"1\" class=\"dataframe\">\n",
              "  <thead>\n",
              "    <tr style=\"text-align: right;\">\n",
              "      <th></th>\n",
              "      <th>col2</th>\n",
              "    </tr>\n",
              "    <tr>\n",
              "      <th>col1</th>\n",
              "      <th></th>\n",
              "    </tr>\n",
              "  </thead>\n",
              "  <tbody>\n",
              "    <tr>\n",
              "      <th>2016-05-01 00:00:00</th>\n",
              "      <td>NaN</td>\n",
              "    </tr>\n",
              "    <tr>\n",
              "      <th>2016-05-01 01:00:00</th>\n",
              "      <td>49.0</td>\n",
              "    </tr>\n",
              "    <tr>\n",
              "      <th>2016-05-01 02:00:00</th>\n",
              "      <td>19.0</td>\n",
              "    </tr>\n",
              "    <tr>\n",
              "      <th>2016-05-01 03:00:00</th>\n",
              "      <td>94.0</td>\n",
              "    </tr>\n",
              "    <tr>\n",
              "      <th>2016-05-01 04:00:00</th>\n",
              "      <td>8.0</td>\n",
              "    </tr>\n",
              "    <tr>\n",
              "      <th>2016-05-01 05:00:00</th>\n",
              "      <td>69.0</td>\n",
              "    </tr>\n",
              "    <tr>\n",
              "      <th>2016-05-01 06:00:00</th>\n",
              "      <td>32.0</td>\n",
              "    </tr>\n",
              "    <tr>\n",
              "      <th>2016-05-01 07:00:00</th>\n",
              "      <td>42.0</td>\n",
              "    </tr>\n",
              "    <tr>\n",
              "      <th>2016-05-01 08:00:00</th>\n",
              "      <td>54.0</td>\n",
              "    </tr>\n",
              "    <tr>\n",
              "      <th>2016-05-01 09:00:00</th>\n",
              "      <td>19.0</td>\n",
              "    </tr>\n",
              "    <tr>\n",
              "      <th>2016-05-01 10:00:00</th>\n",
              "      <td>64.0</td>\n",
              "    </tr>\n",
              "    <tr>\n",
              "      <th>2016-05-01 11:00:00</th>\n",
              "      <td>61.0</td>\n",
              "    </tr>\n",
              "    <tr>\n",
              "      <th>2016-05-01 12:00:00</th>\n",
              "      <td>37.0</td>\n",
              "    </tr>\n",
              "    <tr>\n",
              "      <th>2016-05-01 13:00:00</th>\n",
              "      <td>8.0</td>\n",
              "    </tr>\n",
              "    <tr>\n",
              "      <th>2016-05-01 14:00:00</th>\n",
              "      <td>27.0</td>\n",
              "    </tr>\n",
              "    <tr>\n",
              "      <th>2016-05-01 15:00:00</th>\n",
              "      <td>19.0</td>\n",
              "    </tr>\n",
              "    <tr>\n",
              "      <th>2016-05-01 16:00:00</th>\n",
              "      <td>4.0</td>\n",
              "    </tr>\n",
              "    <tr>\n",
              "      <th>2016-05-01 17:00:00</th>\n",
              "      <td>36.0</td>\n",
              "    </tr>\n",
              "    <tr>\n",
              "      <th>2016-05-01 18:00:00</th>\n",
              "      <td>88.0</td>\n",
              "    </tr>\n",
              "    <tr>\n",
              "      <th>2016-05-01 19:00:00</th>\n",
              "      <td>17.0</td>\n",
              "    </tr>\n",
              "    <tr>\n",
              "      <th>2016-05-01 20:00:00</th>\n",
              "      <td>67.0</td>\n",
              "    </tr>\n",
              "    <tr>\n",
              "      <th>2016-05-01 21:00:00</th>\n",
              "      <td>81.0</td>\n",
              "    </tr>\n",
              "    <tr>\n",
              "      <th>2016-05-01 22:00:00</th>\n",
              "      <td>74.0</td>\n",
              "    </tr>\n",
              "    <tr>\n",
              "      <th>2016-05-01 23:00:00</th>\n",
              "      <td>51.0</td>\n",
              "    </tr>\n",
              "    <tr>\n",
              "      <th>2016-05-02 00:00:00</th>\n",
              "      <td>59.0</td>\n",
              "    </tr>\n",
              "  </tbody>\n",
              "</table>\n",
              "</div>"
            ],
            "text/plain": [
              "                     col2\n",
              "col1                     \n",
              "2016-05-01 00:00:00   NaN\n",
              "2016-05-01 01:00:00  49.0\n",
              "2016-05-01 02:00:00  19.0\n",
              "2016-05-01 03:00:00  94.0\n",
              "2016-05-01 04:00:00   8.0\n",
              "2016-05-01 05:00:00  69.0\n",
              "2016-05-01 06:00:00  32.0\n",
              "2016-05-01 07:00:00  42.0\n",
              "2016-05-01 08:00:00  54.0\n",
              "2016-05-01 09:00:00  19.0\n",
              "2016-05-01 10:00:00  64.0\n",
              "2016-05-01 11:00:00  61.0\n",
              "2016-05-01 12:00:00  37.0\n",
              "2016-05-01 13:00:00   8.0\n",
              "2016-05-01 14:00:00  27.0\n",
              "2016-05-01 15:00:00  19.0\n",
              "2016-05-01 16:00:00   4.0\n",
              "2016-05-01 17:00:00  36.0\n",
              "2016-05-01 18:00:00  88.0\n",
              "2016-05-01 19:00:00  17.0\n",
              "2016-05-01 20:00:00  67.0\n",
              "2016-05-01 21:00:00  81.0\n",
              "2016-05-01 22:00:00  74.0\n",
              "2016-05-01 23:00:00  51.0\n",
              "2016-05-02 00:00:00  59.0"
            ]
          },
          "execution_count": 384,
          "metadata": {},
          "output_type": "execute_result"
        }
      ]
    },
    {
      "cell_type": "markdown",
      "metadata": {
        "deletable": true,
        "editable": true,
        "id": "58bSSbILIK5Z"
      },
      "source": [
        "All we have to do now is to subtract the shifted data frame from the original ***one_day*** before the shift and we can see the rise and fall of the values every hour of the day.\n",
        "\n",
        "Positive values show the rise and negative values indicate the fall for each hour of the selected period.\n",
        "\n",
        "This is a neat little trick..."
      ]
    },
    {
      "cell_type": "code",
      "metadata": {
        "deletable": true,
        "editable": true,
        "id": "_Wdx7cETIK5a",
        "outputId": "af3435aa-63b3-41c0-c399-f1153244bcc5"
      },
      "source": [
        "fluctuation = one_day - one_day.shift(1)\n",
        "fluctuation"
      ],
      "execution_count": null,
      "outputs": [
        {
          "data": {
            "text/html": [
              "<div>\n",
              "<table border=\"1\" class=\"dataframe\">\n",
              "  <thead>\n",
              "    <tr style=\"text-align: right;\">\n",
              "      <th></th>\n",
              "      <th>col2</th>\n",
              "    </tr>\n",
              "    <tr>\n",
              "      <th>col1</th>\n",
              "      <th></th>\n",
              "    </tr>\n",
              "  </thead>\n",
              "  <tbody>\n",
              "    <tr>\n",
              "      <th>2016-05-01 00:00:00</th>\n",
              "      <td>NaN</td>\n",
              "    </tr>\n",
              "    <tr>\n",
              "      <th>2016-05-01 01:00:00</th>\n",
              "      <td>-30.0</td>\n",
              "    </tr>\n",
              "    <tr>\n",
              "      <th>2016-05-01 02:00:00</th>\n",
              "      <td>75.0</td>\n",
              "    </tr>\n",
              "    <tr>\n",
              "      <th>2016-05-01 03:00:00</th>\n",
              "      <td>-86.0</td>\n",
              "    </tr>\n",
              "    <tr>\n",
              "      <th>2016-05-01 04:00:00</th>\n",
              "      <td>61.0</td>\n",
              "    </tr>\n",
              "    <tr>\n",
              "      <th>2016-05-01 05:00:00</th>\n",
              "      <td>-37.0</td>\n",
              "    </tr>\n",
              "    <tr>\n",
              "      <th>2016-05-01 06:00:00</th>\n",
              "      <td>10.0</td>\n",
              "    </tr>\n",
              "    <tr>\n",
              "      <th>2016-05-01 07:00:00</th>\n",
              "      <td>12.0</td>\n",
              "    </tr>\n",
              "    <tr>\n",
              "      <th>2016-05-01 08:00:00</th>\n",
              "      <td>-35.0</td>\n",
              "    </tr>\n",
              "    <tr>\n",
              "      <th>2016-05-01 09:00:00</th>\n",
              "      <td>45.0</td>\n",
              "    </tr>\n",
              "    <tr>\n",
              "      <th>2016-05-01 10:00:00</th>\n",
              "      <td>-3.0</td>\n",
              "    </tr>\n",
              "    <tr>\n",
              "      <th>2016-05-01 11:00:00</th>\n",
              "      <td>-24.0</td>\n",
              "    </tr>\n",
              "    <tr>\n",
              "      <th>2016-05-01 12:00:00</th>\n",
              "      <td>-29.0</td>\n",
              "    </tr>\n",
              "    <tr>\n",
              "      <th>2016-05-01 13:00:00</th>\n",
              "      <td>19.0</td>\n",
              "    </tr>\n",
              "    <tr>\n",
              "      <th>2016-05-01 14:00:00</th>\n",
              "      <td>-8.0</td>\n",
              "    </tr>\n",
              "    <tr>\n",
              "      <th>2016-05-01 15:00:00</th>\n",
              "      <td>-15.0</td>\n",
              "    </tr>\n",
              "    <tr>\n",
              "      <th>2016-05-01 16:00:00</th>\n",
              "      <td>32.0</td>\n",
              "    </tr>\n",
              "    <tr>\n",
              "      <th>2016-05-01 17:00:00</th>\n",
              "      <td>52.0</td>\n",
              "    </tr>\n",
              "    <tr>\n",
              "      <th>2016-05-01 18:00:00</th>\n",
              "      <td>-71.0</td>\n",
              "    </tr>\n",
              "    <tr>\n",
              "      <th>2016-05-01 19:00:00</th>\n",
              "      <td>50.0</td>\n",
              "    </tr>\n",
              "    <tr>\n",
              "      <th>2016-05-01 20:00:00</th>\n",
              "      <td>14.0</td>\n",
              "    </tr>\n",
              "    <tr>\n",
              "      <th>2016-05-01 21:00:00</th>\n",
              "      <td>-7.0</td>\n",
              "    </tr>\n",
              "    <tr>\n",
              "      <th>2016-05-01 22:00:00</th>\n",
              "      <td>-23.0</td>\n",
              "    </tr>\n",
              "    <tr>\n",
              "      <th>2016-05-01 23:00:00</th>\n",
              "      <td>8.0</td>\n",
              "    </tr>\n",
              "    <tr>\n",
              "      <th>2016-05-02 00:00:00</th>\n",
              "      <td>-58.0</td>\n",
              "    </tr>\n",
              "  </tbody>\n",
              "</table>\n",
              "</div>"
            ],
            "text/plain": [
              "                     col2\n",
              "col1                     \n",
              "2016-05-01 00:00:00   NaN\n",
              "2016-05-01 01:00:00 -30.0\n",
              "2016-05-01 02:00:00  75.0\n",
              "2016-05-01 03:00:00 -86.0\n",
              "2016-05-01 04:00:00  61.0\n",
              "2016-05-01 05:00:00 -37.0\n",
              "2016-05-01 06:00:00  10.0\n",
              "2016-05-01 07:00:00  12.0\n",
              "2016-05-01 08:00:00 -35.0\n",
              "2016-05-01 09:00:00  45.0\n",
              "2016-05-01 10:00:00  -3.0\n",
              "2016-05-01 11:00:00 -24.0\n",
              "2016-05-01 12:00:00 -29.0\n",
              "2016-05-01 13:00:00  19.0\n",
              "2016-05-01 14:00:00  -8.0\n",
              "2016-05-01 15:00:00 -15.0\n",
              "2016-05-01 16:00:00  32.0\n",
              "2016-05-01 17:00:00  52.0\n",
              "2016-05-01 18:00:00 -71.0\n",
              "2016-05-01 19:00:00  50.0\n",
              "2016-05-01 20:00:00  14.0\n",
              "2016-05-01 21:00:00  -7.0\n",
              "2016-05-01 22:00:00 -23.0\n",
              "2016-05-01 23:00:00   8.0\n",
              "2016-05-02 00:00:00 -58.0"
            ]
          },
          "execution_count": 10,
          "metadata": {},
          "output_type": "execute_result"
        }
      ]
    },
    {
      "cell_type": "markdown",
      "metadata": {
        "deletable": true,
        "editable": true,
        "id": "Ro-LMbqAIK5a"
      },
      "source": [
        "This is how it looks like when the original values and the fluctuation are side by side."
      ]
    },
    {
      "cell_type": "code",
      "metadata": {
        "deletable": true,
        "editable": true,
        "id": "SctSUOXnIK5a",
        "outputId": "8df72b77-c971-4659-fb90-a3e48676f639"
      },
      "source": [
        "fluctuation_plot = pd.DataFrame({'Data': one_day['col2'], 'Fluctuation': fluctuation['col2'] })\n",
        "fluctuation_plot"
      ],
      "execution_count": null,
      "outputs": [
        {
          "data": {
            "text/html": [
              "<div>\n",
              "<table border=\"1\" class=\"dataframe\">\n",
              "  <thead>\n",
              "    <tr style=\"text-align: right;\">\n",
              "      <th></th>\n",
              "      <th>Data</th>\n",
              "      <th>Fluctuation</th>\n",
              "    </tr>\n",
              "    <tr>\n",
              "      <th>col1</th>\n",
              "      <th></th>\n",
              "      <th></th>\n",
              "    </tr>\n",
              "  </thead>\n",
              "  <tbody>\n",
              "    <tr>\n",
              "      <th>2016-05-01 00:00:00</th>\n",
              "      <td>49</td>\n",
              "      <td>NaN</td>\n",
              "    </tr>\n",
              "    <tr>\n",
              "      <th>2016-05-01 01:00:00</th>\n",
              "      <td>19</td>\n",
              "      <td>-30.0</td>\n",
              "    </tr>\n",
              "    <tr>\n",
              "      <th>2016-05-01 02:00:00</th>\n",
              "      <td>94</td>\n",
              "      <td>75.0</td>\n",
              "    </tr>\n",
              "    <tr>\n",
              "      <th>2016-05-01 03:00:00</th>\n",
              "      <td>8</td>\n",
              "      <td>-86.0</td>\n",
              "    </tr>\n",
              "    <tr>\n",
              "      <th>2016-05-01 04:00:00</th>\n",
              "      <td>69</td>\n",
              "      <td>61.0</td>\n",
              "    </tr>\n",
              "    <tr>\n",
              "      <th>2016-05-01 05:00:00</th>\n",
              "      <td>32</td>\n",
              "      <td>-37.0</td>\n",
              "    </tr>\n",
              "    <tr>\n",
              "      <th>2016-05-01 06:00:00</th>\n",
              "      <td>42</td>\n",
              "      <td>10.0</td>\n",
              "    </tr>\n",
              "    <tr>\n",
              "      <th>2016-05-01 07:00:00</th>\n",
              "      <td>54</td>\n",
              "      <td>12.0</td>\n",
              "    </tr>\n",
              "    <tr>\n",
              "      <th>2016-05-01 08:00:00</th>\n",
              "      <td>19</td>\n",
              "      <td>-35.0</td>\n",
              "    </tr>\n",
              "    <tr>\n",
              "      <th>2016-05-01 09:00:00</th>\n",
              "      <td>64</td>\n",
              "      <td>45.0</td>\n",
              "    </tr>\n",
              "    <tr>\n",
              "      <th>2016-05-01 10:00:00</th>\n",
              "      <td>61</td>\n",
              "      <td>-3.0</td>\n",
              "    </tr>\n",
              "    <tr>\n",
              "      <th>2016-05-01 11:00:00</th>\n",
              "      <td>37</td>\n",
              "      <td>-24.0</td>\n",
              "    </tr>\n",
              "    <tr>\n",
              "      <th>2016-05-01 12:00:00</th>\n",
              "      <td>8</td>\n",
              "      <td>-29.0</td>\n",
              "    </tr>\n",
              "    <tr>\n",
              "      <th>2016-05-01 13:00:00</th>\n",
              "      <td>27</td>\n",
              "      <td>19.0</td>\n",
              "    </tr>\n",
              "    <tr>\n",
              "      <th>2016-05-01 14:00:00</th>\n",
              "      <td>19</td>\n",
              "      <td>-8.0</td>\n",
              "    </tr>\n",
              "    <tr>\n",
              "      <th>2016-05-01 15:00:00</th>\n",
              "      <td>4</td>\n",
              "      <td>-15.0</td>\n",
              "    </tr>\n",
              "    <tr>\n",
              "      <th>2016-05-01 16:00:00</th>\n",
              "      <td>36</td>\n",
              "      <td>32.0</td>\n",
              "    </tr>\n",
              "    <tr>\n",
              "      <th>2016-05-01 17:00:00</th>\n",
              "      <td>88</td>\n",
              "      <td>52.0</td>\n",
              "    </tr>\n",
              "    <tr>\n",
              "      <th>2016-05-01 18:00:00</th>\n",
              "      <td>17</td>\n",
              "      <td>-71.0</td>\n",
              "    </tr>\n",
              "    <tr>\n",
              "      <th>2016-05-01 19:00:00</th>\n",
              "      <td>67</td>\n",
              "      <td>50.0</td>\n",
              "    </tr>\n",
              "    <tr>\n",
              "      <th>2016-05-01 20:00:00</th>\n",
              "      <td>81</td>\n",
              "      <td>14.0</td>\n",
              "    </tr>\n",
              "    <tr>\n",
              "      <th>2016-05-01 21:00:00</th>\n",
              "      <td>74</td>\n",
              "      <td>-7.0</td>\n",
              "    </tr>\n",
              "    <tr>\n",
              "      <th>2016-05-01 22:00:00</th>\n",
              "      <td>51</td>\n",
              "      <td>-23.0</td>\n",
              "    </tr>\n",
              "    <tr>\n",
              "      <th>2016-05-01 23:00:00</th>\n",
              "      <td>59</td>\n",
              "      <td>8.0</td>\n",
              "    </tr>\n",
              "    <tr>\n",
              "      <th>2016-05-02 00:00:00</th>\n",
              "      <td>1</td>\n",
              "      <td>-58.0</td>\n",
              "    </tr>\n",
              "  </tbody>\n",
              "</table>\n",
              "</div>"
            ],
            "text/plain": [
              "                     Data  Fluctuation\n",
              "col1                                  \n",
              "2016-05-01 00:00:00    49          NaN\n",
              "2016-05-01 01:00:00    19        -30.0\n",
              "2016-05-01 02:00:00    94         75.0\n",
              "2016-05-01 03:00:00     8        -86.0\n",
              "2016-05-01 04:00:00    69         61.0\n",
              "2016-05-01 05:00:00    32        -37.0\n",
              "2016-05-01 06:00:00    42         10.0\n",
              "2016-05-01 07:00:00    54         12.0\n",
              "2016-05-01 08:00:00    19        -35.0\n",
              "2016-05-01 09:00:00    64         45.0\n",
              "2016-05-01 10:00:00    61         -3.0\n",
              "2016-05-01 11:00:00    37        -24.0\n",
              "2016-05-01 12:00:00     8        -29.0\n",
              "2016-05-01 13:00:00    27         19.0\n",
              "2016-05-01 14:00:00    19         -8.0\n",
              "2016-05-01 15:00:00     4        -15.0\n",
              "2016-05-01 16:00:00    36         32.0\n",
              "2016-05-01 17:00:00    88         52.0\n",
              "2016-05-01 18:00:00    17        -71.0\n",
              "2016-05-01 19:00:00    67         50.0\n",
              "2016-05-01 20:00:00    81         14.0\n",
              "2016-05-01 21:00:00    74         -7.0\n",
              "2016-05-01 22:00:00    51        -23.0\n",
              "2016-05-01 23:00:00    59          8.0\n",
              "2016-05-02 00:00:00     1        -58.0"
            ]
          },
          "execution_count": 11,
          "metadata": {},
          "output_type": "execute_result"
        }
      ]
    },
    {
      "cell_type": "markdown",
      "metadata": {
        "deletable": true,
        "editable": true,
        "id": "FEkAvq0uIK5b"
      },
      "source": [
        "We can also easily visualize the values and the fluctuation throughout the selected day."
      ]
    },
    {
      "cell_type": "code",
      "metadata": {
        "deletable": true,
        "editable": true,
        "id": "yHGGkqCGIK5b",
        "outputId": "eb8e6bcc-c27c-44c0-9462-c510ec60f815"
      },
      "source": [
        "fluctuation_plot.plot(title= 'Data and Fluctuation on 2016-05-01')"
      ],
      "execution_count": null,
      "outputs": [
        {
          "data": {
            "text/plain": [
              "<matplotlib.axes._subplots.AxesSubplot at 0x7f591af39e10>"
            ]
          },
          "execution_count": 12,
          "metadata": {},
          "output_type": "execute_result"
        },
        {
          "data": {
            "image/png": "[encoded data removed]",
            "text/plain": [
              "<matplotlib.figure.Figure at 0x7f591acb0490>"
            ]
          },
          "metadata": {},
          "output_type": "display_data"
        }
      ]
    },
    {
      "cell_type": "markdown",
      "metadata": {
        "deletable": true,
        "editable": true,
        "id": "S69sRZq_IK5b"
      },
      "source": [
        "**DatetimeIndex & Timestamps**"
      ]
    },
    {
      "cell_type": "markdown",
      "metadata": {
        "deletable": true,
        "editable": true,
        "id": "vU8WjGJjIK5c"
      },
      "source": [
        "Another type of timeseries data that's worth mentioning is **time-stamped data**. \n",
        "\n",
        "Creating a Timestamp couldn't be simpler. "
      ]
    },
    {
      "cell_type": "code",
      "metadata": {
        "deletable": true,
        "editable": true,
        "id": "SpxvxuKEIK5c",
        "outputId": "cb575764-a84e-483b-d1ee-7cc5527c635a"
      },
      "source": [
        "pd.Timestamp('2016-11-30') # Just apply pd.Timestamp"
      ],
      "execution_count": null,
      "outputs": [
        {
          "data": {
            "text/plain": [
              "Timestamp('2016-11-30 00:00:00')"
            ]
          },
          "execution_count": 388,
          "metadata": {},
          "output_type": "execute_result"
        }
      ]
    },
    {
      "cell_type": "code",
      "metadata": {
        "deletable": true,
        "editable": true,
        "id": "8eH8sWMEIK5c",
        "outputId": "bb71cfef-5966-457b-b2e5-32f81a82dda6"
      },
      "source": [
        "pd.Timestamp(2016, 11, 29)"
      ],
      "execution_count": null,
      "outputs": [
        {
          "data": {
            "text/plain": [
              "Timestamp('2016-11-29 00:00:00')"
            ]
          },
          "execution_count": 389,
          "metadata": {},
          "output_type": "execute_result"
        }
      ]
    },
    {
      "cell_type": "markdown",
      "metadata": {
        "deletable": true,
        "editable": true,
        "id": "fyA6Yv5wIK5d"
      },
      "source": [
        "To convert a Series to DatetimeIndex, we use the **pandas.to_datetime()** function. In the DataFrame below, the Date Time column contains 'date-like' values. But when we check the type (.dtypes), we can see that the data type is not datetime64[ns].\n",
        "\n",
        "Thanks to Pandas, all we will have to do to convert this object to datetime64[ns] is to apply the to_datetime function."
      ]
    },
    {
      "cell_type": "code",
      "metadata": {
        "deletable": true,
        "editable": true,
        "id": "PUjDjmAlIK5e",
        "outputId": "e252c9e8-9900-4790-c9dd-c6c5a881bd28"
      },
      "source": [
        "d = pd.DataFrame({'Date Time': ['1/26/2016 07:03', '1/26/2016 07:00', '1/26/2016 14:46', '1/26/2016 17:46', '1/26/2016 14:48'], 'Col1': ['a','b','c','d','e']})\n",
        "d"
      ],
      "execution_count": null,
      "outputs": [
        {
          "data": {
            "text/html": [
              "<div>\n",
              "<table border=\"1\" class=\"dataframe\">\n",
              "  <thead>\n",
              "    <tr style=\"text-align: right;\">\n",
              "      <th></th>\n",
              "      <th>Col1</th>\n",
              "      <th>Date Time</th>\n",
              "    </tr>\n",
              "  </thead>\n",
              "  <tbody>\n",
              "    <tr>\n",
              "      <th>0</th>\n",
              "      <td>a</td>\n",
              "      <td>1/26/2016 07:03</td>\n",
              "    </tr>\n",
              "    <tr>\n",
              "      <th>1</th>\n",
              "      <td>b</td>\n",
              "      <td>1/26/2016 07:00</td>\n",
              "    </tr>\n",
              "    <tr>\n",
              "      <th>2</th>\n",
              "      <td>c</td>\n",
              "      <td>1/26/2016 14:46</td>\n",
              "    </tr>\n",
              "    <tr>\n",
              "      <th>3</th>\n",
              "      <td>d</td>\n",
              "      <td>1/26/2016 17:46</td>\n",
              "    </tr>\n",
              "    <tr>\n",
              "      <th>4</th>\n",
              "      <td>e</td>\n",
              "      <td>1/26/2016 14:48</td>\n",
              "    </tr>\n",
              "  </tbody>\n",
              "</table>\n",
              "</div>"
            ],
            "text/plain": [
              "  Col1        Date Time\n",
              "0    a  1/26/2016 07:03\n",
              "1    b  1/26/2016 07:00\n",
              "2    c  1/26/2016 14:46\n",
              "3    d  1/26/2016 17:46\n",
              "4    e  1/26/2016 14:48"
            ]
          },
          "execution_count": 390,
          "metadata": {},
          "output_type": "execute_result"
        }
      ]
    },
    {
      "cell_type": "code",
      "metadata": {
        "deletable": true,
        "editable": true,
        "id": "6jC60hvXIK5e",
        "outputId": "170893d6-9115-4567-e694-76931a228b86"
      },
      "source": [
        "d.dtypes"
      ],
      "execution_count": null,
      "outputs": [
        {
          "data": {
            "text/plain": [
              "Col1         object\n",
              "Date Time    object\n",
              "dtype: object"
            ]
          },
          "execution_count": 391,
          "metadata": {},
          "output_type": "execute_result"
        }
      ]
    },
    {
      "cell_type": "code",
      "metadata": {
        "deletable": true,
        "editable": true,
        "id": "5vQFqBnEIK5f",
        "outputId": "4810ca33-86d7-4576-86cd-2d6c858071cc"
      },
      "source": [
        "d['Date Time'] = pd.to_datetime(d['Date Time']) # Converting to datetime64[ns]\n",
        "d"
      ],
      "execution_count": null,
      "outputs": [
        {
          "data": {
            "text/html": [
              "<div>\n",
              "<table border=\"1\" class=\"dataframe\">\n",
              "  <thead>\n",
              "    <tr style=\"text-align: right;\">\n",
              "      <th></th>\n",
              "      <th>Col1</th>\n",
              "      <th>Date Time</th>\n",
              "    </tr>\n",
              "  </thead>\n",
              "  <tbody>\n",
              "    <tr>\n",
              "      <th>0</th>\n",
              "      <td>a</td>\n",
              "      <td>2016-01-26 07:03:00</td>\n",
              "    </tr>\n",
              "    <tr>\n",
              "      <th>1</th>\n",
              "      <td>b</td>\n",
              "      <td>2016-01-26 07:00:00</td>\n",
              "    </tr>\n",
              "    <tr>\n",
              "      <th>2</th>\n",
              "      <td>c</td>\n",
              "      <td>2016-01-26 14:46:00</td>\n",
              "    </tr>\n",
              "    <tr>\n",
              "      <th>3</th>\n",
              "      <td>d</td>\n",
              "      <td>2016-01-26 17:46:00</td>\n",
              "    </tr>\n",
              "    <tr>\n",
              "      <th>4</th>\n",
              "      <td>e</td>\n",
              "      <td>2016-01-26 14:48:00</td>\n",
              "    </tr>\n",
              "  </tbody>\n",
              "</table>\n",
              "</div>"
            ],
            "text/plain": [
              "  Col1           Date Time\n",
              "0    a 2016-01-26 07:03:00\n",
              "1    b 2016-01-26 07:00:00\n",
              "2    c 2016-01-26 14:46:00\n",
              "3    d 2016-01-26 17:46:00\n",
              "4    e 2016-01-26 14:48:00"
            ]
          },
          "execution_count": 392,
          "metadata": {},
          "output_type": "execute_result"
        }
      ]
    },
    {
      "cell_type": "code",
      "metadata": {
        "deletable": true,
        "editable": true,
        "id": "OvaH2Z9JIK5g",
        "outputId": "444212a7-55f1-4b31-b874-dc3944fc7ee3"
      },
      "source": [
        "d.dtypes # Date Time column is converted"
      ],
      "execution_count": null,
      "outputs": [
        {
          "data": {
            "text/plain": [
              "Col1                 object\n",
              "Date Time    datetime64[ns]\n",
              "dtype: object"
            ]
          },
          "execution_count": 393,
          "metadata": {},
          "output_type": "execute_result"
        }
      ]
    },
    {
      "cell_type": "markdown",
      "metadata": {
        "deletable": true,
        "editable": true,
        "id": "O9kFTc6dIK5g"
      },
      "source": [
        "The Date Time column values are now converted to datetime64[ns].\n",
        "Yes, it is that simple. This is why we love Pandas."
      ]
    },
    {
      "cell_type": "markdown",
      "metadata": {
        "deletable": true,
        "editable": true,
        "id": "DmMN30C6IK5h"
      },
      "source": [
        "**Resampling**"
      ]
    },
    {
      "cell_type": "markdown",
      "metadata": {
        "deletable": true,
        "editable": true,
        "id": "3tmWfp3xIK5h"
      },
      "source": [
        "Resampling is a powerful functionality used for frequency conversion. We will apply this function to our data **one_day** which we selected earlier for a 24 hour period.\n",
        "\n",
        "Remember, the frequency of our original data is one hour. We will apply **DataFrame.resample()** to convert the hourly frequency to a 6 hour frequency data and check the mean for each 6 hour period within the selected 24 hours.\n",
        "\n",
        "Again, this is another situation where we only need to use a short, simple 'one-liner' code. \n",
        "\n",
        "Under the hood, Pandas .resample() is a time-based groupby, followed by a reduction method on each of its groups. Resampling comes in handy in financial applications but it can be useful in many other areas as well."
      ]
    },
    {
      "cell_type": "code",
      "metadata": {
        "deletable": true,
        "editable": true,
        "id": "pIiQHQosIK5h",
        "outputId": "7df334d6-a7dd-42a0-ef0a-f689d2d4c235"
      },
      "source": [
        "one_day.resample('6H').mean()[:-1]"
      ],
      "execution_count": null,
      "outputs": [
        {
          "data": {
            "text/html": [
              "<div>\n",
              "<table border=\"1\" class=\"dataframe\">\n",
              "  <thead>\n",
              "    <tr style=\"text-align: right;\">\n",
              "      <th></th>\n",
              "      <th>col2</th>\n",
              "    </tr>\n",
              "    <tr>\n",
              "      <th>col1</th>\n",
              "      <th></th>\n",
              "    </tr>\n",
              "  </thead>\n",
              "  <tbody>\n",
              "    <tr>\n",
              "      <th>2016-05-01 00:00:00</th>\n",
              "      <td>45.166667</td>\n",
              "    </tr>\n",
              "    <tr>\n",
              "      <th>2016-05-01 06:00:00</th>\n",
              "      <td>46.166667</td>\n",
              "    </tr>\n",
              "    <tr>\n",
              "      <th>2016-05-01 12:00:00</th>\n",
              "      <td>30.333333</td>\n",
              "    </tr>\n",
              "    <tr>\n",
              "      <th>2016-05-01 18:00:00</th>\n",
              "      <td>58.166667</td>\n",
              "    </tr>\n",
              "  </tbody>\n",
              "</table>\n",
              "</div>"
            ],
            "text/plain": [
              "                          col2\n",
              "col1                          \n",
              "2016-05-01 00:00:00  45.166667\n",
              "2016-05-01 06:00:00  46.166667\n",
              "2016-05-01 12:00:00  30.333333\n",
              "2016-05-01 18:00:00  58.166667"
            ]
          },
          "execution_count": 14,
          "metadata": {},
          "output_type": "execute_result"
        }
      ]
    },
    {
      "cell_type": "code",
      "metadata": {
        "deletable": true,
        "editable": true,
        "id": "BS5dtmGYIK5i",
        "outputId": "8ab13e42-deb9-4aad-8a93-9dd88a1d310d"
      },
      "source": [
        "one_day.resample('6H').mean()[:-1].plot()"
      ],
      "execution_count": null,
      "outputs": [
        {
          "data": {
            "text/plain": [
              "<matplotlib.axes._subplots.AxesSubplot at 0x13056208>"
            ]
          },
          "execution_count": 395,
          "metadata": {},
          "output_type": "execute_result"
        },
        {
          "data": {
            "image/png": "[encoded data removed]",
            "text/plain": [
              "<matplotlib.figure.Figure at 0x1305ce48>"
            ]
          },
          "metadata": {},
          "output_type": "display_data"
        }
      ]
    },
    {
      "cell_type": "markdown",
      "metadata": {
        "deletable": true,
        "editable": true,
        "id": "_47szTikIK5i"
      },
      "source": [
        "We can also check the sum of the values in each 6 hour period."
      ]
    },
    {
      "cell_type": "code",
      "metadata": {
        "deletable": true,
        "editable": true,
        "id": "cdjGMXRIIK5i",
        "outputId": "c1b80be5-9bf9-4fda-f182-abb34e9066ca"
      },
      "source": [
        "one_day.resample('6H').sum()[:-1]"
      ],
      "execution_count": null,
      "outputs": [
        {
          "data": {
            "text/html": [
              "<div>\n",
              "<table border=\"1\" class=\"dataframe\">\n",
              "  <thead>\n",
              "    <tr style=\"text-align: right;\">\n",
              "      <th></th>\n",
              "      <th>col2</th>\n",
              "    </tr>\n",
              "    <tr>\n",
              "      <th>col1</th>\n",
              "      <th></th>\n",
              "    </tr>\n",
              "  </thead>\n",
              "  <tbody>\n",
              "    <tr>\n",
              "      <th>2016-05-01 00:00:00</th>\n",
              "      <td>271</td>\n",
              "    </tr>\n",
              "    <tr>\n",
              "      <th>2016-05-01 06:00:00</th>\n",
              "      <td>277</td>\n",
              "    </tr>\n",
              "    <tr>\n",
              "      <th>2016-05-01 12:00:00</th>\n",
              "      <td>182</td>\n",
              "    </tr>\n",
              "    <tr>\n",
              "      <th>2016-05-01 18:00:00</th>\n",
              "      <td>349</td>\n",
              "    </tr>\n",
              "  </tbody>\n",
              "</table>\n",
              "</div>"
            ],
            "text/plain": [
              "                     col2\n",
              "col1                     \n",
              "2016-05-01 00:00:00   271\n",
              "2016-05-01 06:00:00   277\n",
              "2016-05-01 12:00:00   182\n",
              "2016-05-01 18:00:00   349"
            ]
          },
          "execution_count": 396,
          "metadata": {},
          "output_type": "execute_result"
        }
      ]
    },
    {
      "cell_type": "code",
      "metadata": {
        "deletable": true,
        "editable": true,
        "id": "yt6usNpIIK5j",
        "outputId": "d7b53400-6edd-4f6f-bdc1-6f7aa7f65b9f"
      },
      "source": [
        "one_day.resample('6H').sum()[:-1].plot()"
      ],
      "execution_count": null,
      "outputs": [
        {
          "data": {
            "text/plain": [
              "<matplotlib.axes._subplots.AxesSubplot at 0x130ca668>"
            ]
          },
          "execution_count": 397,
          "metadata": {},
          "output_type": "execute_result"
        },
        {
          "data": {
            "image/png": "[encoded data removed]",
            "text/plain": [
              "<matplotlib.figure.Figure at 0x131102e8>"
            ]
          },
          "metadata": {},
          "output_type": "display_data"
        }
      ]
    },
    {
      "cell_type": "markdown",
      "metadata": {
        "deletable": true,
        "editable": true,
        "id": "at8oK9idIK5j"
      },
      "source": [
        "There are, of course, many advanced TS functions; I just wanted to present a glimpse into Pandas TS with these simple examples of the most basic Pandas TS functionalities."
      ]
    },
    {
      "cell_type": "markdown",
      "metadata": {
        "deletable": true,
        "editable": true,
        "id": "psApsqzuIK5j"
      },
      "source": [
        "Joe T. Boka \n",
        "Tenger Data Technologies Ltd. \n",
        "www.tengerdata.com\n",
        "2016-11-30"
      ]
    }
  ]
}