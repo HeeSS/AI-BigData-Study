{
  "nbformat": 4,
  "nbformat_minor": 0,
  "metadata": {
    "kernelspec": {
      "display_name": "Python 3",
      "language": "python",
      "name": "python3"
    },
    "language_info": {
      "codemirror_mode": {
        "name": "ipython",
        "version": 3
      },
      "file_extension": ".py",
      "mimetype": "text/x-python",
      "name": "python",
      "nbconvert_exporter": "python",
      "pygments_lexer": "ipython3",
      "version": "3.6.9"
    },
    "colab": {
      "name": "1.Getting_&_Knowing_Your_Data.ipynb",
      "provenance": []
    }
  },
  "cells": [
    {
      "cell_type": "markdown",
      "metadata": {
        "id": "IQuxZpUhHfor"
      },
      "source": [
        "# Ex1 - Getting and Knowing your Data"
      ]
    },
    {
      "cell_type": "markdown",
      "metadata": {
        "id": "_vI4OKVfHfoy"
      },
      "source": [
        "This time we are going to pull data directly from the internet.\n",
        "Special thanks to: https://github.com/justmarkham for sharing the dataset and materials.\n",
        "\n",
        "### Step 1. Import the necessary libraries"
      ]
    },
    {
      "cell_type": "code",
      "metadata": {
        "id": "CFOAZ-zPHfoz"
      },
      "source": [
        "import pandas as pd"
      ],
      "execution_count": null,
      "outputs": []
    },
    {
      "cell_type": "markdown",
      "metadata": {
        "id": "C-3xXKCkHfo1"
      },
      "source": [
        "### Step 2. Import the dataset from this [address](https://raw.githubusercontent.com/justmarkham/DAT8/master/data/u.user). "
      ]
    },
    {
      "cell_type": "markdown",
      "metadata": {
        "id": "bi2rzulHHfo2"
      },
      "source": [
        "### Step 3. Assign it to a variable called users and use the 'user_id' as index"
      ]
    },
    {
      "cell_type": "code",
      "metadata": {
        "id": "7ZwiAZFmHfo3"
      },
      "source": [
        "users = pd.read_table('https://raw.githubusercontent.com/justmarkham/DAT8/master/data/u.user', \n",
        "                      sep='|', index_col='user_id')"
      ],
      "execution_count": null,
      "outputs": []
    },
    {
      "cell_type": "markdown",
      "metadata": {
        "id": "fMFfQDc4Hfo4"
      },
      "source": [
        "### Step 4. See the first 25 entries"
      ]
    },
    {
      "cell_type": "code",
      "metadata": {
        "scrolled": true,
        "id": "aXlwWcQHHfo5"
      },
      "source": [
        "users.head(25)"
      ],
      "execution_count": null,
      "outputs": []
    },
    {
      "cell_type": "markdown",
      "metadata": {
        "id": "NE3AgT4KHfo6"
      },
      "source": [
        "### Step 5. See the last 10 entries"
      ]
    },
    {
      "cell_type": "code",
      "metadata": {
        "scrolled": true,
        "id": "nksb7B0HHfo7"
      },
      "source": [
        "users.tail(10)"
      ],
      "execution_count": null,
      "outputs": []
    },
    {
      "cell_type": "markdown",
      "metadata": {
        "id": "Zkhn-cKXHfo8"
      },
      "source": [
        "### Step 6. What is the number of observations in the dataset?"
      ]
    },
    {
      "cell_type": "code",
      "metadata": {
        "id": "3aZkuwjXHfo8"
      },
      "source": [
        "users.shape[0]"
      ],
      "execution_count": null,
      "outputs": []
    },
    {
      "cell_type": "markdown",
      "metadata": {
        "id": "fPoToAVeHfo9"
      },
      "source": [
        "### Step 7. What is the number of columns in the dataset?"
      ]
    },
    {
      "cell_type": "code",
      "metadata": {
        "id": "fOjvP3OKHfo9"
      },
      "source": [
        "users.shape[1]"
      ],
      "execution_count": null,
      "outputs": []
    },
    {
      "cell_type": "markdown",
      "metadata": {
        "id": "IcDwQoFxHfo-"
      },
      "source": [
        "### Step 8. Print the name of all the columns."
      ]
    },
    {
      "cell_type": "code",
      "metadata": {
        "id": "ieP0t7YMHfo-"
      },
      "source": [
        "users.columns"
      ],
      "execution_count": null,
      "outputs": []
    },
    {
      "cell_type": "markdown",
      "metadata": {
        "id": "jjiDgrRuHfo_"
      },
      "source": [
        "### Step 9. How is the dataset indexed?"
      ]
    },
    {
      "cell_type": "code",
      "metadata": {
        "id": "IKiByG0zHfo_"
      },
      "source": [
        "# \"the index\" (aka \"the labels\")\n",
        "users.index"
      ],
      "execution_count": null,
      "outputs": []
    },
    {
      "cell_type": "markdown",
      "metadata": {
        "id": "CLoD_MSfHfo_"
      },
      "source": [
        "### Step 10. What is the data type of each column?"
      ]
    },
    {
      "cell_type": "code",
      "metadata": {
        "id": "LcgVTI5-HfpA"
      },
      "source": [
        "users.dtypes"
      ],
      "execution_count": null,
      "outputs": []
    },
    {
      "cell_type": "markdown",
      "metadata": {
        "id": "DgvC0iTFHfpA"
      },
      "source": [
        "### Step 11. Print only the occupation column"
      ]
    },
    {
      "cell_type": "code",
      "metadata": {
        "id": "vNvOUsTyHfpA"
      },
      "source": [
        "users.occupation \n",
        "\n",
        "#OR\n",
        "\n",
        "users['occupation']"
      ],
      "execution_count": null,
      "outputs": []
    },
    {
      "cell_type": "markdown",
      "metadata": {
        "id": "RLLZK9H3HfpB"
      },
      "source": [
        "### Step 12. How many different occupations there are in this dataset?"
      ]
    },
    {
      "cell_type": "code",
      "metadata": {
        "id": "jqqdEQ3mHfpB"
      },
      "source": [
        "len(users.occupation.unique())"
      ],
      "execution_count": null,
      "outputs": []
    },
    {
      "cell_type": "markdown",
      "metadata": {
        "id": "Gg-7zxyeHfpC"
      },
      "source": [
        "### Step 13. What is the most frequent occupation?"
      ]
    },
    {
      "cell_type": "code",
      "metadata": {
        "id": "l2goNZDPHfpC"
      },
      "source": [
        "users.occupation.value_counts().head()"
      ],
      "execution_count": null,
      "outputs": []
    },
    {
      "cell_type": "markdown",
      "metadata": {
        "id": "0Y4OITnSHfpC"
      },
      "source": [
        "### Step 14. Summarize the DataFrame."
      ]
    },
    {
      "cell_type": "code",
      "metadata": {
        "id": "VlnN6MaMHfpC"
      },
      "source": [
        "users.describe() #Notice is only the numeric column"
      ],
      "execution_count": null,
      "outputs": []
    },
    {
      "cell_type": "markdown",
      "metadata": {
        "id": "RGq1qfvfHfpD"
      },
      "source": [
        "### Step 15. What is the mean age of users?"
      ]
    },
    {
      "cell_type": "code",
      "metadata": {
        "scrolled": true,
        "id": "Fb9ehexTHfpD"
      },
      "source": [
        "round(users.age.mean())"
      ],
      "execution_count": null,
      "outputs": []
    },
    {
      "cell_type": "markdown",
      "metadata": {
        "id": "0QoD0wVWHfpD"
      },
      "source": [
        "### Step 16. What is the age with least occurrence?"
      ]
    },
    {
      "cell_type": "code",
      "metadata": {
        "id": "FXRdnZJUHfpD"
      },
      "source": [
        "users.age.value_counts().tail(1) #7 years, only 1 occurrence"
      ],
      "execution_count": null,
      "outputs": []
    }
  ]
}