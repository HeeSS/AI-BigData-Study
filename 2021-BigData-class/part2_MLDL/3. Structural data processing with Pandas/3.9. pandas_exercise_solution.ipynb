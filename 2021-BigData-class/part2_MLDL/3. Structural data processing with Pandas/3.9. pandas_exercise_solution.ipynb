{
  "nbformat": 4,
  "nbformat_minor": 0,
  "metadata": {
    "anaconda-cloud": {},
    "kernelspec": {
      "display_name": "Python 3",
      "language": "python",
      "name": "python3"
    },
    "language_info": {
      "codemirror_mode": {
        "name": "ipython",
        "version": 3
      },
      "file_extension": ".py",
      "mimetype": "text/x-python",
      "name": "python",
      "nbconvert_exporter": "python",
      "pygments_lexer": "ipython3",
      "version": "3.6.9"
    },
    "colab": {
      "name": "pandas_exercise_solution.ipynb",
      "provenance": []
    }
  },
  "cells": [
    {
      "cell_type": "markdown",
      "metadata": {
        "id": "F3zqlERaIOXB"
      },
      "source": [
        "### Step 1. Import the necessary libraries"
      ]
    },
    {
      "cell_type": "code",
      "metadata": {
        "id": "OIl7hE1XIOXI"
      },
      "source": [
        "import pandas as pd"
      ],
      "execution_count": null,
      "outputs": []
    },
    {
      "cell_type": "markdown",
      "metadata": {
        "id": "2tYSpivHIOXL"
      },
      "source": [
        "### Step 2. Import the dataset from this [address](https://raw.githubusercontent.com/justmarkham/DAT8/master/data/chipotle.tsv). "
      ]
    },
    {
      "cell_type": "markdown",
      "metadata": {
        "id": "p2nYXb5TIOXM"
      },
      "source": [
        "### Step 3. Assign it to a variable called chipo."
      ]
    },
    {
      "cell_type": "code",
      "metadata": {
        "id": "nTPwfOy-IOXM"
      },
      "source": [
        "url = 'https://raw.githubusercontent.com/justmarkham/DAT8/master/data/chipotle.tsv'\n",
        "    \n",
        "chipo = pd.read_csv(url, sep = '\\t')"
      ],
      "execution_count": null,
      "outputs": []
    },
    {
      "cell_type": "markdown",
      "metadata": {
        "id": "SLYHBVRLIOXN"
      },
      "source": [
        "### Step 4. See the first 10 entries"
      ]
    },
    {
      "cell_type": "code",
      "metadata": {
        "id": "L4Ya2ZDYIOXO"
      },
      "source": [
        "chipo.head(10)"
      ],
      "execution_count": null,
      "outputs": []
    },
    {
      "cell_type": "markdown",
      "metadata": {
        "id": "x6RgRXzYIOXP"
      },
      "source": [
        "### Step 5. What is the number of observations in the dataset?"
      ]
    },
    {
      "cell_type": "code",
      "metadata": {
        "id": "LhTUzEKLIOXQ"
      },
      "source": [
        "chipo.shape[0]"
      ],
      "execution_count": null,
      "outputs": []
    },
    {
      "cell_type": "markdown",
      "metadata": {
        "id": "baS5I1yRIOXR"
      },
      "source": [
        "### Step 6. What is the number of columns in the dataset?"
      ]
    },
    {
      "cell_type": "code",
      "metadata": {
        "id": "A1ew9ytRIOXS"
      },
      "source": [
        "chipo.shape[1]"
      ],
      "execution_count": null,
      "outputs": []
    },
    {
      "cell_type": "markdown",
      "metadata": {
        "id": "p17x4P5HIOXS"
      },
      "source": [
        "### Step 7. Print the name of all the columns."
      ]
    },
    {
      "cell_type": "code",
      "metadata": {
        "id": "wMfUqWLfIOXT"
      },
      "source": [
        "chipo.columns"
      ],
      "execution_count": null,
      "outputs": []
    },
    {
      "cell_type": "markdown",
      "metadata": {
        "id": "Q-mRfsaFIOXT"
      },
      "source": [
        "### Step 8. How is the dataset indexed?"
      ]
    },
    {
      "cell_type": "code",
      "metadata": {
        "id": "Sjdv79mnIOXU"
      },
      "source": [
        "chipo.index"
      ],
      "execution_count": null,
      "outputs": []
    },
    {
      "cell_type": "markdown",
      "metadata": {
        "id": "hU_l3L60IOXV"
      },
      "source": [
        "### Step 9. Which was the most ordered item? "
      ]
    },
    {
      "cell_type": "code",
      "metadata": {
        "id": "ynvMxDhjIOXV"
      },
      "source": [
        "chipo.item_name.value_counts().head(1)"
      ],
      "execution_count": null,
      "outputs": []
    },
    {
      "cell_type": "markdown",
      "metadata": {
        "id": "qeZgaHUMIOXW"
      },
      "source": [
        "### Step 10. How many different items were ordered?"
      ]
    },
    {
      "cell_type": "code",
      "metadata": {
        "id": "4fRWn0wsIOXW"
      },
      "source": [
        "chipo.item_name.unique().shape[0]"
      ],
      "execution_count": null,
      "outputs": []
    },
    {
      "cell_type": "markdown",
      "metadata": {
        "id": "opaZM098IOXX"
      },
      "source": [
        "### Step 11. What was the most ordered item in the choice_description column?"
      ]
    },
    {
      "cell_type": "code",
      "metadata": {
        "id": "_v5FLBv1IOXX"
      },
      "source": [
        "chipo.choice_description.value_counts().head()"
      ],
      "execution_count": null,
      "outputs": []
    },
    {
      "cell_type": "markdown",
      "metadata": {
        "id": "Ab8FJPpPIOXY"
      },
      "source": [
        "### Step 12. How many items were orderd in total?"
      ]
    },
    {
      "cell_type": "code",
      "metadata": {
        "id": "YGBne34IIOXY"
      },
      "source": [
        "chipo.quantity.sum()"
      ],
      "execution_count": null,
      "outputs": []
    },
    {
      "cell_type": "markdown",
      "metadata": {
        "id": "e0eH_5F0IOXZ"
      },
      "source": [
        "### Step 13. Turn the item price into a float"
      ]
    },
    {
      "cell_type": "code",
      "metadata": {
        "id": "zsBtPO0jIOXZ"
      },
      "source": [
        "def num_float(x):\n",
        "    return float(x[1:-1])"
      ],
      "execution_count": null,
      "outputs": []
    },
    {
      "cell_type": "code",
      "metadata": {
        "scrolled": true,
        "id": "k1izFDTPIOXZ"
      },
      "source": [
        "chipo.item_price = chipo.item_price.apply(num_float)"
      ],
      "execution_count": null,
      "outputs": []
    },
    {
      "cell_type": "code",
      "metadata": {
        "id": "znQyAYrGIOXZ"
      },
      "source": [
        "chipo.head()"
      ],
      "execution_count": null,
      "outputs": []
    },
    {
      "cell_type": "markdown",
      "metadata": {
        "id": "uzaZZzv1IOXa"
      },
      "source": [
        "### Step 14. How much was the revenue for the period in the dataset?"
      ]
    },
    {
      "cell_type": "code",
      "metadata": {
        "id": "GOPhjVEaIOXa"
      },
      "source": [
        "chipo.item_price.sum()"
      ],
      "execution_count": null,
      "outputs": []
    },
    {
      "cell_type": "markdown",
      "metadata": {
        "id": "bmSm_aBkIOXa"
      },
      "source": [
        "### Step 15. How many orders were made in the period?"
      ]
    },
    {
      "cell_type": "code",
      "metadata": {
        "id": "TIdWFvmOIOXa"
      },
      "source": [
        "chipo.order_id.value_counts().count()\n",
        "# len(chipo.order_id.value_counts())\n",
        "# chipo.order_id.value_counts().shape[0]"
      ],
      "execution_count": null,
      "outputs": []
    },
    {
      "cell_type": "code",
      "metadata": {
        "id": "C1KdB-ZzIOXa"
      },
      "source": [
        "chipo.tail()"
      ],
      "execution_count": null,
      "outputs": []
    },
    {
      "cell_type": "markdown",
      "metadata": {
        "id": "dmSHt5ysIOXb"
      },
      "source": [
        "### Step 16. What is the average quantity per order?"
      ]
    },
    {
      "cell_type": "code",
      "metadata": {
        "scrolled": true,
        "id": "-mKLHgJhIOXb"
      },
      "source": [
        "order_grouped = chipo.groupby(by=['order_id']).sum()\n",
        "order_grouped['quantity'].mean()"
      ],
      "execution_count": null,
      "outputs": []
    },
    {
      "cell_type": "markdown",
      "metadata": {
        "id": "ZNuzfy4BIOXb"
      },
      "source": [
        "### Step 17. What are the three most expensvie items?"
      ]
    },
    {
      "cell_type": "code",
      "metadata": {
        "id": "jS9DBVczIOXb"
      },
      "source": [
        "chipo['unit_price'] = (chipo['item_price'] / chipo['quantity'])\n",
        "new = chipo[['item_name', 'choice_description', 'unit_price']]\n",
        "new.sort_values(by='unit_price', ascending=False)"
      ],
      "execution_count": null,
      "outputs": []
    }
  ]
}