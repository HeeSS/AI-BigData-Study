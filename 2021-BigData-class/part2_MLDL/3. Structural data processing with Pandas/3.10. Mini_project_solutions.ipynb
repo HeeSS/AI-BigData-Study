{
  "nbformat": 4,
  "nbformat_minor": 0,
  "metadata": {
    "kernelspec": {
      "display_name": "Python 3",
      "language": "python",
      "name": "python3"
    },
    "language_info": {
      "codemirror_mode": {
        "name": "ipython",
        "version": 3
      },
      "file_extension": ".py",
      "mimetype": "text/x-python",
      "name": "python",
      "nbconvert_exporter": "python",
      "pygments_lexer": "ipython3",
      "version": "3.6.9"
    },
    "colab": {
      "name": "Mini_project_solutions.ipynb",
      "provenance": []
    }
  },
  "cells": [
    {
      "cell_type": "markdown",
      "metadata": {
        "id": "hB0i1emxjDEc"
      },
      "source": [
        "# Exam - Mini project "
      ]
    },
    {
      "cell_type": "markdown",
      "metadata": {
        "id": "uNKD87hLjDEh"
      },
      "source": [
        "### Introduction:\n",
        "\n",
        "This time you will create a data \n",
        "\n",
        "Special thanks to: https://github.com/justmarkham for sharing the dataset and materials.\n",
        "\n",
        "### Step 1. Import the necessary libraries"
      ]
    },
    {
      "cell_type": "code",
      "metadata": {
        "id": "ipqB_Oi7jDEi"
      },
      "source": [
        "import pandas as pd"
      ],
      "execution_count": null,
      "outputs": []
    },
    {
      "cell_type": "markdown",
      "metadata": {
        "id": "UbQVGSVqjDEj"
      },
      "source": [
        "### Step 2. Import the dataset from this [address](https://raw.githubusercontent.com/justmarkham/DAT8/master/data/chipotle.tsv). "
      ]
    },
    {
      "cell_type": "markdown",
      "metadata": {
        "id": "DjLWRqw4jDEk"
      },
      "source": [
        "### Step 3. Assign it to a variable called "
      ]
    },
    {
      "cell_type": "code",
      "metadata": {
        "id": "x2KZxJpIjDEk"
      },
      "source": [
        "orders = pd.read_table('https://raw.githubusercontent.com/justmarkham/DAT8/master/data/chipotle.tsv', \n",
        "                      sep='\\t', index_col='order_id')"
      ],
      "execution_count": null,
      "outputs": []
    },
    {
      "cell_type": "markdown",
      "metadata": {
        "id": "02pjlvacjDEl"
      },
      "source": [
        "### Step 4. See the first 25 entries"
      ]
    },
    {
      "cell_type": "code",
      "metadata": {
        "id": "3QxqZTEHjDEm"
      },
      "source": [
        "orders.head(25)"
      ],
      "execution_count": null,
      "outputs": []
    },
    {
      "cell_type": "markdown",
      "metadata": {
        "id": "NWbLEGK8jDEn"
      },
      "source": [
        "### Step 5. What is the number of observations and columns in the dataset? "
      ]
    },
    {
      "cell_type": "code",
      "metadata": {
        "id": "4LsGEzKLjDEo"
      },
      "source": [
        "print(orders.shape[0])\n",
        "print(orders.shape[1])"
      ],
      "execution_count": null,
      "outputs": []
    },
    {
      "cell_type": "markdown",
      "metadata": {
        "id": "AU_VfdEfjDEo"
      },
      "source": [
        "### Step 6. Print the name of all the columns and index"
      ]
    },
    {
      "cell_type": "code",
      "metadata": {
        "id": "navvnzOqjDEp"
      },
      "source": [
        "print(\"columns : \", orders.columns)\n",
        "print(\"index :\", orders.index)"
      ],
      "execution_count": null,
      "outputs": []
    },
    {
      "cell_type": "markdown",
      "metadata": {
        "id": "p7V3jZ56jDEp"
      },
      "source": [
        "### Step 7. How many different menus there are in this dataset?"
      ]
    },
    {
      "cell_type": "code",
      "metadata": {
        "id": "7FnEWlDpjDEq"
      },
      "source": [
        "len(orders.item_name.unique())"
      ],
      "execution_count": null,
      "outputs": []
    },
    {
      "cell_type": "markdown",
      "metadata": {
        "id": "jvaroLfSjDEq"
      },
      "source": [
        "### Step 8.  Print only the menu column"
      ]
    },
    {
      "cell_type": "code",
      "metadata": {
        "id": "wGspLo45jDEr"
      },
      "source": [
        "orders.item_name\n",
        "\n",
        "#or\n",
        "\n",
        "orders['item_name']"
      ],
      "execution_count": null,
      "outputs": []
    },
    {
      "cell_type": "markdown",
      "metadata": {
        "id": "RqpvFEbKjDEr"
      },
      "source": [
        "### Step 9. What is the data type of each column?"
      ]
    },
    {
      "cell_type": "code",
      "metadata": {
        "id": "j4OwbTWCjDEr"
      },
      "source": [
        "orders.dtypes"
      ],
      "execution_count": null,
      "outputs": []
    },
    {
      "cell_type": "markdown",
      "metadata": {
        "id": "gHq81xJxjDEs"
      },
      "source": [
        "### Step 10. how many orders does the restaurant accept?"
      ]
    },
    {
      "cell_type": "code",
      "metadata": {
        "id": "Iv4gzh-pjDEs"
      },
      "source": [
        "len(orders.index.unique())"
      ],
      "execution_count": null,
      "outputs": []
    },
    {
      "cell_type": "markdown",
      "metadata": {
        "id": "lQ7PZyIHjDEs"
      },
      "source": [
        "### Step11. Change columns name\n",
        "'item_name', 'item_price' to 'menu', 'menu_price'"
      ]
    },
    {
      "cell_type": "code",
      "metadata": {
        "id": "ZIYsDkSqjDEs"
      },
      "source": [
        "orders = orders.rename(columns={'item_name' : 'menu', 'item_price' : 'menu_price'})\n",
        "orders"
      ],
      "execution_count": null,
      "outputs": []
    },
    {
      "cell_type": "markdown",
      "metadata": {
        "id": "1gGwusmgjDEt"
      },
      "source": [
        "### Step 12. Change menu_price from string type to float type for analysis"
      ]
    },
    {
      "cell_type": "code",
      "metadata": {
        "id": "IvneBdfIjDEt"
      },
      "source": [
        "# solution 1\n",
        "# for x in orders.menu_price.values:\n",
        "#     print float(x[1:])\n",
        "\n",
        "menu_price_list = [ float(x[1:]) for x in orders.menu_price.values]\n",
        "orders['price'] = pd.Series(data = menu_price_list, index = orders.index)\n",
        "orders"
      ],
      "execution_count": null,
      "outputs": []
    },
    {
      "cell_type": "code",
      "metadata": {
        "id": "NW6mZ_ZQj1vv"
      },
      "source": [
        "# solution2\n",
        "def price_to_float(x):\n",
        "    return float(x[1:])\n",
        "\n",
        "orders['price'] = orders['menu_price'].apply(price_to_float)\n",
        "orders"
      ],
      "execution_count": null,
      "outputs": []
    },
    {
      "cell_type": "markdown",
      "metadata": {
        "id": "y9c3NeDZjDEt"
      },
      "source": [
        "### Step 13.  Print the columns 'quantity' , 'menu' and 'price' (Not assign to orders object)"
      ]
    },
    {
      "cell_type": "code",
      "metadata": {
        "id": "_rUU_jchjDEt"
      },
      "source": [
        "orders[['quantity', 'menu', 'price']]"
      ],
      "execution_count": null,
      "outputs": []
    },
    {
      "cell_type": "markdown",
      "metadata": {
        "id": "VZc_vDM-jDEu"
      },
      "source": [
        "### Step 14. Print the 'menu' and  'choice_description' columns from order_id 1000 (Not assign to orders object)"
      ]
    },
    {
      "cell_type": "code",
      "metadata": {
        "id": "5RKFhOqqjDEu"
      },
      "source": [
        "orders.loc[1000, ['menu', 'choice_description']]"
      ],
      "execution_count": null,
      "outputs": []
    },
    {
      "cell_type": "markdown",
      "metadata": {
        "id": "NQeviTiOjDEu"
      },
      "source": [
        "### Step 15. What is the most frequent menu? Consider quantity of each order."
      ]
    },
    {
      "cell_type": "markdown",
      "metadata": {
        "id": "Pdx28jkgjDEu"
      },
      "source": [
        "## solution 1"
      ]
    },
    {
      "cell_type": "code",
      "metadata": {
        "id": "J2vDBo-yjDEu"
      },
      "source": [
        "freq_menu = orders['menu'].unique()\n",
        "freq_menu = pd.DataFrame(data = freq_menu, columns = [\"menu\"])\n",
        "freq_menu['count'] = 0\n",
        "freq_menu = freq_menu.set_index('menu')\n",
        "freq_menu.head(10)"
      ],
      "execution_count": null,
      "outputs": []
    },
    {
      "cell_type": "code",
      "metadata": {
        "id": "kaMnZbfsjDEv"
      },
      "source": [
        "for x in xrange( len(orders.menu) ):\n",
        "    freq_menu.loc[orders.iloc[x].menu] = freq_menu.loc[orders.iloc[x].menu] + orders.iloc[x].quantity\n",
        "\n",
        "freq_menu = freq_menu.sort_values(by = \"count\", ascending = False)\n",
        "freq_menu.head(10)"
      ],
      "execution_count": null,
      "outputs": []
    },
    {
      "cell_type": "markdown",
      "metadata": {
        "id": "tHnRASD9jDEv"
      },
      "source": [
        "## solution 2"
      ]
    },
    {
      "cell_type": "code",
      "metadata": {
        "id": "3_Xfs_PFjDEv"
      },
      "source": [
        "freq_menu = orders['menu'].unique()\n",
        "freq_menu = pd.DataFrame(data = freq_menu, columns = [\"menu\"])\n",
        "freq_menu['count'] = 0\n",
        "freq_menu = freq_menu.set_index('menu')\n",
        "freq_menu.head(10)"
      ],
      "execution_count": null,
      "outputs": []
    },
    {
      "cell_type": "code",
      "metadata": {
        "id": "nJydjWh5jDEv"
      },
      "source": [
        "freq_menu['count'] = orders.groupby('menu').quantity.sum()\n",
        "\n",
        "freq_menu.sort_values(by = \"count\", ascending = False).head(10)"
      ],
      "execution_count": null,
      "outputs": []
    },
    {
      "cell_type": "markdown",
      "metadata": {
        "id": "Nwa5QbRJjDEw"
      },
      "source": [
        "### Step 16.  Create a histogram of the top 5 menus ordered ( from Step 15 )"
      ]
    },
    {
      "cell_type": "code",
      "metadata": {
        "id": "h5LQq-LTjDEw"
      },
      "source": [
        "from matplotlib import pyplot as plt\n",
        "\n",
        "plot_data = freq_menu.iloc[0:5]\n",
        "plot_data.plot(kind='bar')\n",
        "plt.xlabel('menu')\n",
        "plt.ylabel('frequency')\n",
        "plt.title('Most ordered menu')\n",
        "\n",
        "plt.show()"
      ],
      "execution_count": null,
      "outputs": []
    },
    {
      "cell_type": "markdown",
      "metadata": {
        "id": "QMFf6xAQjDEw"
      },
      "source": [
        "### BONUS: Create your own question and answer it."
      ]
    },
    {
      "cell_type": "code",
      "metadata": {
        "collapsed": true,
        "id": "p1g0X-QVjDEw"
      },
      "source": [
        ""
      ],
      "execution_count": null,
      "outputs": []
    },
    {
      "cell_type": "markdown",
      "metadata": {
        "id": "BbTkP4U-jDEw"
      },
      "source": [
        "# Step 17. Make x_data and y_data with number of menu and price for each order_id"
      ]
    },
    {
      "cell_type": "code",
      "metadata": {
        "id": "gRnNUh9SjDEw"
      },
      "source": [
        "print(orders.groupby('order_id').quantity.sum().head(10))\n",
        "print(orders.groupby('order_id').price.sum().head(10))"
      ],
      "execution_count": null,
      "outputs": []
    },
    {
      "cell_type": "code",
      "metadata": {
        "id": "MM_ZDQCwjDEw"
      },
      "source": [
        "x_data = orders.groupby('order_id').quantity.sum().values\n",
        "print (x_data)"
      ],
      "execution_count": null,
      "outputs": []
    },
    {
      "cell_type": "code",
      "metadata": {
        "id": "_0LctsfDjDEx"
      },
      "source": [
        "y_data = orders.groupby('order_id').price.sum().values\n",
        "print (y_data)"
      ],
      "execution_count": null,
      "outputs": []
    },
    {
      "cell_type": "code",
      "metadata": {
        "id": "gtu27vP6jDEx"
      },
      "source": [
        "import numpy as np\n",
        "np.save('x_data', x_data)\n",
        "np.save('y_data', y_data)"
      ],
      "execution_count": null,
      "outputs": []
    },
    {
      "cell_type": "code",
      "metadata": {
        "collapsed": true,
        "id": "MceaGGXsjDEx"
      },
      "source": [
        "x_train_data = np.load('x_data.npy')\n",
        "y_train_data = np.load('y_data.npy')"
      ],
      "execution_count": null,
      "outputs": []
    },
    {
      "cell_type": "code",
      "metadata": {
        "id": "SerYub9NjDEx"
      },
      "source": [
        "from matplotlib import pyplot as plt\n",
        "plt.scatter(x_train_data,y_train_data)\n",
        "plt.show()"
      ],
      "execution_count": null,
      "outputs": []
    },
    {
      "cell_type": "code",
      "metadata": {
        "collapsed": true,
        "id": "Y3Xw3JJsjDEx"
      },
      "source": [
        ""
      ],
      "execution_count": null,
      "outputs": []
    }
  ]
}