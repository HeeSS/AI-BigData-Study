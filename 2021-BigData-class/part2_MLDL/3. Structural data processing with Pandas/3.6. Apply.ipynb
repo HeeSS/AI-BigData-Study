{
  "nbformat": 4,
  "nbformat_minor": 0,
  "metadata": {
    "kernelspec": {
      "display_name": "Python 3",
      "language": "python",
      "name": "python3"
    },
    "language_info": {
      "codemirror_mode": {
        "name": "ipython",
        "version": 3
      },
      "file_extension": ".py",
      "mimetype": "text/x-python",
      "name": "python",
      "nbconvert_exporter": "python",
      "pygments_lexer": "ipython3",
      "version": "3.6.9"
    },
    "colab": {
      "name": "5.Apply.ipynb",
      "provenance": []
    }
  },
  "cells": [
    {
      "cell_type": "markdown",
      "metadata": {
        "id": "0lta29JzRzsF"
      },
      "source": [
        "# Student Alcohol Consumption"
      ]
    },
    {
      "cell_type": "markdown",
      "metadata": {
        "id": "D-eI-MU_RzsJ"
      },
      "source": [
        "### Introduction:\n",
        "\n",
        "This time you will download a dataset from the UCI.\n",
        "\n",
        "### Step 1. Import the necessary libraries"
      ]
    },
    {
      "cell_type": "code",
      "metadata": {
        "id": "MOTv3QRyRzsJ"
      },
      "source": [
        "import pandas as pd\n",
        "import numpy"
      ],
      "execution_count": null,
      "outputs": []
    },
    {
      "cell_type": "markdown",
      "metadata": {
        "id": "ZfnJHAssRzsL"
      },
      "source": [
        "### Step 2. Import the dataset from this [address](https://github.com/guipsamora/pandas_exercises/blob/master/04_Apply/Students_Alcohol_Consumption/student-mat.csv)."
      ]
    },
    {
      "cell_type": "markdown",
      "metadata": {
        "id": "f1iUGvt5RzsL"
      },
      "source": [
        "### Step 3. Assign it to a variable called df."
      ]
    },
    {
      "cell_type": "code",
      "metadata": {
        "scrolled": false,
        "id": "GbWfayabRzsL"
      },
      "source": [
        "df = pd.read_csv(\"https://raw.githubusercontent.com/guipsamora/pandas_exercises/master/04_Apply/Students_Alcohol_Consumption/student-mat.csv\")\n",
        "df.head()"
      ],
      "execution_count": null,
      "outputs": []
    },
    {
      "cell_type": "markdown",
      "metadata": {
        "id": "jRcAHdJSRzsM"
      },
      "source": [
        "### Step 4. For the purpose of this exercise slice the dataframe from 'school' until the 'guardian' column"
      ]
    },
    {
      "cell_type": "code",
      "metadata": {
        "id": "2hA-769_RzsM"
      },
      "source": [
        "stud_alcoh = df.loc[: , \"school\":\"guardian\"]\n",
        "stud_alcoh.head()"
      ],
      "execution_count": null,
      "outputs": []
    },
    {
      "cell_type": "markdown",
      "metadata": {
        "id": "6AFw6rQXRzsN"
      },
      "source": [
        "### Step 5. Create a lambda function that captalize strings."
      ]
    },
    {
      "cell_type": "code",
      "metadata": {
        "id": "NMlvtayTRzsN"
      },
      "source": [
        "captalizer = lambda x: x.upper()"
      ],
      "execution_count": null,
      "outputs": []
    },
    {
      "cell_type": "markdown",
      "metadata": {
        "id": "ZUiZyjBZRzsO"
      },
      "source": [
        "### Step 6. Capitalize both Mjob and Fjob"
      ]
    },
    {
      "cell_type": "code",
      "metadata": {
        "id": "MRWAhq3xRzsO"
      },
      "source": [
        "stud_alcoh['Mjob'].apply(captalizer)\n",
        "stud_alcoh['Fjob'].apply(captalizer)"
      ],
      "execution_count": null,
      "outputs": []
    },
    {
      "cell_type": "markdown",
      "metadata": {
        "id": "wP0NH8rdRzsO"
      },
      "source": [
        "### Step 7. Print the last elements of the data set."
      ]
    },
    {
      "cell_type": "code",
      "metadata": {
        "id": "5-kU5cAPRzsO"
      },
      "source": [
        "stud_alcoh.tail()"
      ],
      "execution_count": null,
      "outputs": []
    },
    {
      "cell_type": "markdown",
      "metadata": {
        "id": "sQuT9h3NRzsP"
      },
      "source": [
        "### Step 8. Did you notice the original dataframe is still lowercase? Why is that? Fix it and captalize Mjob and Fjob."
      ]
    },
    {
      "cell_type": "code",
      "metadata": {
        "id": "TlOReOn1RzsP"
      },
      "source": [
        "stud_alcoh['Mjob'] = stud_alcoh['Mjob'].apply(captalizer)\n",
        "stud_alcoh['Fjob'] = stud_alcoh['Fjob'].apply(captalizer)\n",
        "stud_alcoh.tail()"
      ],
      "execution_count": null,
      "outputs": []
    },
    {
      "cell_type": "markdown",
      "metadata": {
        "id": "gZuQS3GfRzsP"
      },
      "source": [
        "### Step 9. Create a function called majority that return a boolean value to a new column called legal_drinker"
      ]
    },
    {
      "cell_type": "code",
      "metadata": {
        "id": "yqRPTVOFRzsP"
      },
      "source": [
        "def majority(x):\n",
        "    if x > 17:\n",
        "        return True\n",
        "    else:\n",
        "        return False"
      ],
      "execution_count": null,
      "outputs": []
    },
    {
      "cell_type": "code",
      "metadata": {
        "id": "b2P7YBvLRzsQ"
      },
      "source": [
        "stud_alcoh['legal_drinker'] = stud_alcoh['age'].apply(majority)\n",
        "stud_alcoh.head()"
      ],
      "execution_count": null,
      "outputs": []
    },
    {
      "cell_type": "markdown",
      "metadata": {
        "id": "1KPHayM9RzsQ"
      },
      "source": [
        "### Step 10. Multiply every number of the dataset by 10. \n",
        "##### I know this makes no sense, don't forget it is just an exercise"
      ]
    },
    {
      "cell_type": "code",
      "metadata": {
        "id": "l_L8lAoYRzsQ"
      },
      "source": [
        "def times10(x):\n",
        "    if type(x) is str:\n",
        "        return x\n",
        "    elif type(x) is int:\n",
        "        return 10 * x\n",
        "    elif type(x) is bool:\n",
        "        return x\n",
        "    else:\n",
        "        return"
      ],
      "execution_count": null,
      "outputs": []
    },
    {
      "cell_type": "code",
      "metadata": {
        "id": "CZa3az3lRzsQ"
      },
      "source": [
        "stud_alcoh.applymap(times10).head(10)"
      ],
      "execution_count": null,
      "outputs": []
    },
    {
      "cell_type": "code",
      "metadata": {
        "id": "ZBEE8bYjRzsR"
      },
      "source": [
        ""
      ],
      "execution_count": null,
      "outputs": []
    }
  ]
}