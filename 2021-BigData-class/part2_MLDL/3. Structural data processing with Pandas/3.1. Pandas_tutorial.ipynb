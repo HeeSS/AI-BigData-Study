{
  "nbformat": 4,
  "nbformat_minor": 0,
  "metadata": {
    "kernelspec": {
      "display_name": "Python 3",
      "language": "python",
      "name": "python3"
    },
    "language_info": {
      "codemirror_mode": {
        "name": "ipython",
        "version": 3
      },
      "file_extension": ".py",
      "mimetype": "text/x-python",
      "name": "python",
      "nbconvert_exporter": "python",
      "pygments_lexer": "ipython3",
      "version": "3.6.9"
    },
    "colab": {
      "name": "Pandas tutorial.ipynb",
      "provenance": []
    }
  },
  "cells": [
    {
      "cell_type": "code",
      "metadata": {
        "id": "sMqcbH4IHaHc"
      },
      "source": [
        "import pandas as pd"
      ],
      "execution_count": null,
      "outputs": []
    },
    {
      "cell_type": "markdown",
      "metadata": {
        "id": "7AgiwxsoHaHo"
      },
      "source": [
        "# Pandas\n",
        "- 높은 수준의 구조형 데이터 클래스와 데이터 분석 도구를 제공\n",
        "- 표와 같은 스프레드시트 구조로 데이터를 다룰 수 있는 기능\n",
        "- 색인을 사용하여 손쉽게 값에 접근하고 정렬하는 기능\n",
        "- 누락된 데이터를 유연하게 처리할 수 있는 기능\n",
        "- 데이터를 합치고 관계 연산을 수행하는 기능"
      ]
    },
    {
      "cell_type": "markdown",
      "metadata": {
        "id": "QyssgMmfHaH0"
      },
      "source": [
        "<div class=\"row\">\n",
        "  <div class=\"column\">\n",
        "    <img src=\"https://storage.googleapis.com/lds-media/images/series-and-dataframe.original.png\" alt=\"Snow\" style=\"width:100%\">\n",
        "  </div>\n",
        "  <div class=\"column\">\n",
        "    <img src=\"https://bookdata.readthedocs.io/en/latest/_images/base_01_pandas_5_0.png\" alt=\"Forest\" style=\"width:100%\">\n",
        "  </div>\n",
        "</div>"
      ]
    },
    {
      "cell_type": "markdown",
      "metadata": {
        "id": "yfeNaXLyHaH2"
      },
      "source": [
        "### Series 생성"
      ]
    },
    {
      "cell_type": "code",
      "metadata": {
        "id": "wC5_Hq1AHaH4"
      },
      "source": [
        "series = pd.Series([3,5,7,9], index=['a','b','c','d'])"
      ],
      "execution_count": null,
      "outputs": []
    },
    {
      "cell_type": "code",
      "metadata": {
        "id": "KEDeuL1dHaH6"
      },
      "source": [
        "series"
      ],
      "execution_count": null,
      "outputs": []
    },
    {
      "cell_type": "code",
      "metadata": {
        "id": "YGocRykeHaH7"
      },
      "source": [
        "series.values"
      ],
      "execution_count": null,
      "outputs": []
    },
    {
      "cell_type": "code",
      "metadata": {
        "id": "RydMNAUSHaH-"
      },
      "source": [
        "series.index"
      ],
      "execution_count": null,
      "outputs": []
    },
    {
      "cell_type": "markdown",
      "metadata": {
        "id": "UK8-wpv0HaH_"
      },
      "source": [
        "### dictionary로부터 Series 생성"
      ]
    },
    {
      "cell_type": "code",
      "metadata": {
        "id": "zEStSRSPHaIC"
      },
      "source": [
        "data = {'a':3, 'b':5, 'c':7, 'd':9}\n",
        "series = pd.Series(data)"
      ],
      "execution_count": null,
      "outputs": []
    },
    {
      "cell_type": "code",
      "metadata": {
        "id": "d6jNZbxXHaIE"
      },
      "source": [
        "series"
      ],
      "execution_count": null,
      "outputs": []
    },
    {
      "cell_type": "markdown",
      "metadata": {
        "id": "jJKnJLdEHaIF"
      },
      "source": [
        "### indexing, slicing and operation"
      ]
    },
    {
      "cell_type": "code",
      "metadata": {
        "id": "-ULj73HXHaIG"
      },
      "source": [
        "series['a']"
      ],
      "execution_count": null,
      "outputs": []
    },
    {
      "cell_type": "code",
      "metadata": {
        "id": "YDeXmdDNHaIJ"
      },
      "source": [
        "series[:2]"
      ],
      "execution_count": null,
      "outputs": []
    },
    {
      "cell_type": "code",
      "metadata": {
        "id": "WhqnNzdgHaIK"
      },
      "source": [
        "series * 2 #broadcasting"
      ],
      "execution_count": null,
      "outputs": []
    },
    {
      "cell_type": "markdown",
      "metadata": {
        "id": "8XcARsRRHaIL"
      },
      "source": [
        "## DataFrame"
      ]
    },
    {
      "cell_type": "markdown",
      "metadata": {
        "id": "pPKioGHCHaIL"
      },
      "source": [
        "### DataFrame 생성"
      ]
    },
    {
      "cell_type": "code",
      "metadata": {
        "id": "yfAgfmEJHaIM"
      },
      "source": [
        "data = {\"state\" : ['Ohio', 'Ohio', 'Ohio', 'Nevada','Nevada'],\n",
        "        \"year\" : [2002, 2001, 2002, 2001, 2002],\n",
        "        \"pop\" : [1.5, 1.7, 3.6, 2.4, 2.9]}"
      ],
      "execution_count": null,
      "outputs": []
    },
    {
      "cell_type": "code",
      "metadata": {
        "id": "8ytUQmk_HaIN"
      },
      "source": [
        "frame = pd.DataFrame(data=data, columns=[\"year\", \"state\", \"pop\"], index=['a', 'b', 'c', 'd', 'e'])"
      ],
      "execution_count": null,
      "outputs": []
    },
    {
      "cell_type": "code",
      "metadata": {
        "id": "UX83UF6AHaIO"
      },
      "source": [
        "frame"
      ],
      "execution_count": null,
      "outputs": []
    },
    {
      "cell_type": "markdown",
      "metadata": {
        "id": "3Bd73wCtHaIP"
      },
      "source": [
        "### column 추가"
      ]
    },
    {
      "cell_type": "code",
      "metadata": {
        "id": "z23mKGU3HaIP"
      },
      "source": [
        "val = pd.Series([-1.2, 1.5, -1.7], index=['b', 'c', 'e'])\n",
        "frame['debt'] = val"
      ],
      "execution_count": null,
      "outputs": []
    },
    {
      "cell_type": "code",
      "metadata": {
        "id": "FNNiMpAwHaIQ"
      },
      "source": [
        "frame"
      ],
      "execution_count": null,
      "outputs": []
    },
    {
      "cell_type": "markdown",
      "metadata": {
        "id": "PWIRP7UQHaIR"
      },
      "source": [
        "### missing value(NA) 처리"
      ]
    },
    {
      "cell_type": "code",
      "metadata": {
        "id": "G1zjvtAgHaIR"
      },
      "source": [
        "frame.dropna()"
      ],
      "execution_count": null,
      "outputs": []
    },
    {
      "cell_type": "code",
      "metadata": {
        "id": "mxKuFxDCHaIT"
      },
      "source": [
        "frame.fillna(0.5)"
      ],
      "execution_count": null,
      "outputs": []
    },
    {
      "cell_type": "markdown",
      "metadata": {
        "id": "_V4OasnEHaIU"
      },
      "source": [
        "### columns or rows 제거"
      ]
    },
    {
      "cell_type": "code",
      "metadata": {
        "id": "ECXY2yycHaIV"
      },
      "source": [
        "frame.drop('a', axis=0)"
      ],
      "execution_count": null,
      "outputs": []
    },
    {
      "cell_type": "code",
      "metadata": {
        "id": "Dj69AQk5HaIV"
      },
      "source": [
        "frame.drop('debt', axis=1)"
      ],
      "execution_count": null,
      "outputs": []
    },
    {
      "cell_type": "code",
      "metadata": {
        "id": "nTvGmZAlHaIW"
      },
      "source": [
        "frame = frame.drop('debt', axis=1) # assign to DataFrame object"
      ],
      "execution_count": null,
      "outputs": []
    },
    {
      "cell_type": "markdown",
      "metadata": {
        "id": "CmAg0R6KHaIW"
      },
      "source": [
        "### indexing, slicing and operation"
      ]
    },
    {
      "cell_type": "markdown",
      "metadata": {
        "id": "hlU8_XoVHaIW"
      },
      "source": [
        "### (1) access data columns"
      ]
    },
    {
      "cell_type": "code",
      "metadata": {
        "id": "kaT7hggoHaIX"
      },
      "source": [
        "frame[\"year\"] # access data with column name "
      ],
      "execution_count": null,
      "outputs": []
    },
    {
      "cell_type": "code",
      "metadata": {
        "id": "p4huesmtHaIY"
      },
      "source": [
        "print(type(frame[\"year\"]))"
      ],
      "execution_count": null,
      "outputs": []
    },
    {
      "cell_type": "code",
      "metadata": {
        "id": "9YCCE2eiHaIa"
      },
      "source": [
        "frame[['year', 'state']]"
      ],
      "execution_count": null,
      "outputs": []
    },
    {
      "cell_type": "code",
      "metadata": {
        "id": "881EHN8HHaIa"
      },
      "source": [
        "print(type(frame[['year', 'state']]))"
      ],
      "execution_count": null,
      "outputs": []
    },
    {
      "cell_type": "markdown",
      "metadata": {
        "id": "xhc0H2ziHaIb"
      },
      "source": [
        "### (2) access data rows"
      ]
    },
    {
      "cell_type": "code",
      "metadata": {
        "id": "y-ofeIMXHaIc"
      },
      "source": [
        "frame.iloc[0] # access data with row index"
      ],
      "execution_count": null,
      "outputs": []
    },
    {
      "cell_type": "code",
      "metadata": {
        "id": "jxiPfr7kHaId"
      },
      "source": [
        "frame.iloc[0:3] # slice data with index"
      ],
      "execution_count": null,
      "outputs": []
    },
    {
      "cell_type": "code",
      "metadata": {
        "id": "80yaoHD3HaId"
      },
      "source": [
        "frame.loc['a':'c']"
      ],
      "execution_count": null,
      "outputs": []
    },
    {
      "cell_type": "markdown",
      "metadata": {
        "id": "g6MNxq5uHaIe"
      },
      "source": [
        "### slice data with column and index"
      ]
    },
    {
      "cell_type": "code",
      "metadata": {
        "id": "NKfwxtPFHaIe"
      },
      "source": [
        "frame.iloc[0:2, 0:3] # slice data with column and index"
      ],
      "execution_count": null,
      "outputs": []
    },
    {
      "cell_type": "code",
      "metadata": {
        "id": "jQQp56FLHaIf"
      },
      "source": [
        "frame.loc['a':'c',\"year\":\"pop\"]"
      ],
      "execution_count": null,
      "outputs": []
    },
    {
      "cell_type": "code",
      "metadata": {
        "id": "03xCmXRkHaIf"
      },
      "source": [
        ""
      ],
      "execution_count": null,
      "outputs": []
    }
  ]
}