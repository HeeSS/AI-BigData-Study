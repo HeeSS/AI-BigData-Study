{
  "nbformat": 4,
  "nbformat_minor": 0,
  "metadata": {
    "colab": {
      "name": "Softmax_classification_with_DeepLearning",
      "provenance": []
    },
    "kernelspec": {
      "display_name": "tf",
      "language": "python",
      "name": "tf"
    },
    "language_info": {
      "codemirror_mode": {
        "name": "ipython",
        "version": 3
      },
      "file_extension": ".py",
      "mimetype": "text/x-python",
      "name": "python",
      "nbconvert_exporter": "python",
      "pygments_lexer": "ipython3",
      "version": "3.6.9"
    }
  },
  "cells": [
    {
      "cell_type": "code",
      "metadata": {
        "id": "dbPOXqrpDVYO"
      },
      "source": [
        "import tensorflow as tf\n",
        "import numpy as np\n",
        "from matplotlib import pyplot as plt"
      ],
      "execution_count": null,
      "outputs": []
    },
    {
      "cell_type": "markdown",
      "metadata": {
        "id": "c0584DTtDVYc"
      },
      "source": [
        "# 1. Create non-linear data distribution"
      ]
    },
    {
      "cell_type": "code",
      "metadata": {
        "id": "PeJaL5fpDVYg"
      },
      "source": [
        "# 임의의 클래스 A와 클래스 B를 생성함.\n",
        "m = 200\n",
        "class_A = np.random.normal(0, 1, [m, 2])\n",
        "label_A = np.ones([m, 1])\n",
        "\n",
        "class_B_x = np.random.normal(0, 2, [m, 1])\n",
        "class_B_y = 0.5*class_B_x**2 - 3\n",
        "\n",
        "class_B = np.concatenate([class_B_x, class_B_y], axis = 1)\n",
        "label_B = np.zeros([m, 1])"
      ],
      "execution_count": null,
      "outputs": []
    },
    {
      "cell_type": "code",
      "metadata": {
        "id": "qhBMwmKSEwtY"
      },
      "source": [
        "#각 클래스의 데이터 shape은 다음과 같습니다. \n",
        "class_B.shape"
      ],
      "execution_count": null,
      "outputs": []
    },
    {
      "cell_type": "code",
      "metadata": {
        "id": "tO4Ce0voG7DI"
      },
      "source": [
        "#레이블은 A가 1, B가 0입니다.\n",
        "print(label_A[:5])\n",
        "print(label_B[:5])"
      ],
      "execution_count": null,
      "outputs": []
    },
    {
      "cell_type": "code",
      "metadata": {
        "id": "yKluzYByD8Kq"
      },
      "source": [
        "#데이터 분포를 볼까요?\n",
        "\n",
        "fig = plt.figure()\n",
        "ax1 = fig.add_subplot(111)\n",
        "\n",
        "ax1.set_title('nonlinear distribution')\n",
        "ax1.set_xlabel('x1')\n",
        "ax1.set_ylabel('x2')\n",
        "\n",
        "ax1.set_xlim([-4,4])\n",
        "ax1.set_ylim([-4,4])\n",
        "\n",
        "ax1.scatter(class_A[:,0], class_A[:,1], c='red')\n",
        "\n",
        "ax1.scatter(class_B[:,0], class_B[:,1])\n",
        "plt.show()"
      ],
      "execution_count": null,
      "outputs": []
    },
    {
      "cell_type": "code",
      "metadata": {
        "id": "jumr5HBPD8HU"
      },
      "source": [
        "#데이터를 통합해주겠습니다.\n",
        "dataset = np.concatenate([class_A, class_B])\n",
        "dataset.shape"
      ],
      "execution_count": null,
      "outputs": []
    },
    {
      "cell_type": "code",
      "metadata": {
        "id": "G_PK34sjHD5y"
      },
      "source": [
        "#레이블도 통합해줍니다.\n",
        "label = np.concatenate([label_A, label_B])\n",
        "label.shape"
      ],
      "execution_count": null,
      "outputs": []
    },
    {
      "cell_type": "markdown",
      "metadata": {
        "id": "dvuAHDtEDVYq"
      },
      "source": [
        "# 2. Build your classification model with Neural Network"
      ]
    },
    {
      "cell_type": "code",
      "metadata": {
        "id": "gsybUFnQDVYt"
      },
      "source": [
        "from tensorflow.keras import layers\n",
        "\n",
        "def build_model():\n",
        "  model = tf.keras.Sequential([\n",
        "    layers.Dense(32, activation='relu', input_shape=[2]),\n",
        "    layers.Dense(16, activation='relu'),\n",
        "    layers.Dense(2, activation='relu'),\n",
        "    layers.Dense(2, activation=None),#output(linear classification)\n",
        "    layers.Softmax()\n",
        "  ])\n",
        "\n",
        "  optimizer = tf.keras.optimizers.Adam(0.001)\n",
        "\n",
        "  model.compile(optimizer=optimizer,\n",
        "              loss=tf.keras.losses.SparseCategoricalCrossentropy(),\n",
        "              metrics=['accuracy'])\n",
        "  return model"
      ],
      "execution_count": null,
      "outputs": []
    },
    {
      "cell_type": "code",
      "metadata": {
        "id": "bXI4SJ6vDVY1"
      },
      "source": [
        "model = build_model()"
      ],
      "execution_count": null,
      "outputs": []
    },
    {
      "cell_type": "code",
      "metadata": {
        "id": "mIocg569Beka"
      },
      "source": [
        ""
      ],
      "execution_count": null,
      "outputs": []
    },
    {
      "cell_type": "code",
      "metadata": {
        "id": "xNKqW9MfIb0D"
      },
      "source": [
        "model.summary()"
      ],
      "execution_count": null,
      "outputs": []
    },
    {
      "cell_type": "markdown",
      "metadata": {
        "id": "nZiRW2HbDVY7"
      },
      "source": [
        "# 3. Train your model"
      ]
    },
    {
      "cell_type": "code",
      "metadata": {
        "id": "FV7ESjdPDVY8"
      },
      "source": [
        "model.fit(dataset, label, epochs=500)"
      ],
      "execution_count": null,
      "outputs": []
    },
    {
      "cell_type": "code",
      "metadata": {
        "id": "qE_WE7T7DVZF"
      },
      "source": [
        ""
      ],
      "execution_count": null,
      "outputs": []
    },
    {
      "cell_type": "markdown",
      "metadata": {
        "id": "qeYvWgu4DVZO"
      },
      "source": [
        "# 4. Observe your new representation of dataset transformed by network"
      ]
    },
    {
      "cell_type": "code",
      "metadata": {
        "id": "1hifC67MDVZU"
      },
      "source": [
        "# 마지막 hidden layer에서 나오는 class A에 대한 새로운 데이터값들을 뽑아냅니다.\n",
        "last_hidden_output_model = tf.keras.Model(inputs=model.layers[0].input, outputs=model.layers[-2].output)\n",
        "new_rep_A = last_hidden_output_model.predict(class_A)\n",
        "new_rep_A.shape"
      ],
      "execution_count": null,
      "outputs": []
    },
    {
      "cell_type": "code",
      "metadata": {
        "id": "KCU206R3Hk_f"
      },
      "source": [
        "# 마지막 hidden layer에서 나오는 class B에 대한 새로운 데이터값들을 뽑아냅니다.\n",
        "new_rep_B = last_hidden_output_model.predict(class_B)\n",
        "new_rep_B.shape"
      ],
      "execution_count": null,
      "outputs": []
    },
    {
      "cell_type": "code",
      "metadata": {
        "id": "yraCNpSvHy-6"
      },
      "source": [
        "# 각각의 데이터들의 분포를 그려봅니다.\n",
        "\n",
        "fig = plt.figure()\n",
        "ax1 = fig.add_subplot(111)\n",
        "\n",
        "ax1.set_title('new_representation')\n",
        "ax1.set_xlabel('x1')\n",
        "ax1.set_ylabel('x2')\n",
        "\n",
        "ax1.scatter(new_rep_A[:,0], new_rep_A[:,1], c='red')\n",
        "\n",
        "ax1.scatter(new_rep_B[:,0], new_rep_B[:,1], c='blue')\n",
        "plt.show()"
      ],
      "execution_count": null,
      "outputs": []
    },
    {
      "cell_type": "code",
      "metadata": {
        "id": "b2ObkEoNH1Hq"
      },
      "source": [
        ""
      ],
      "execution_count": null,
      "outputs": []
    },
    {
      "cell_type": "code",
      "metadata": {
        "id": "sAELfY3hIIUT"
      },
      "source": [
        ""
      ],
      "execution_count": null,
      "outputs": []
    },
    {
      "cell_type": "code",
      "metadata": {
        "id": "5sAQWj2BH4-3"
      },
      "source": [
        ""
      ],
      "execution_count": null,
      "outputs": []
    },
    {
      "cell_type": "code",
      "metadata": {
        "id": "ZoV1L9wiMqIK"
      },
      "source": [
        ""
      ],
      "execution_count": null,
      "outputs": []
    }
  ]
}