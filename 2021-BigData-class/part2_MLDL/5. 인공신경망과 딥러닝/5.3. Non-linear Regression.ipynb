{
  "nbformat": 4,
  "nbformat_minor": 0,
  "metadata": {
    "colab": {
      "name": "Regression with Deep Learning.ipynb",
      "provenance": []
    },
    "kernelspec": {
      "display_name": "tf",
      "language": "python",
      "name": "tf"
    },
    "language_info": {
      "codemirror_mode": {
        "name": "ipython",
        "version": 3
      },
      "file_extension": ".py",
      "mimetype": "text/x-python",
      "name": "python",
      "nbconvert_exporter": "python",
      "pygments_lexer": "ipython3",
      "version": "3.6.9"
    },
    "accelerator": "GPU"
  },
  "cells": [
    {
      "cell_type": "code",
      "metadata": {
        "id": "46zaerf4Wtgi"
      },
      "source": [
        "import tensorflow as tf\n",
        "import numpy as np\n",
        "from matplotlib import pyplot as plt"
      ],
      "execution_count": null,
      "outputs": []
    },
    {
      "cell_type": "markdown",
      "metadata": {
        "id": "mBETAzy1Wtgl"
      },
      "source": [
        "# 1. Create non-linear data distribution"
      ]
    },
    {
      "cell_type": "code",
      "metadata": {
        "id": "Sy3b9vEoWtgm"
      },
      "source": [
        "m = 500\n",
        "nonlinear_distribution = np.random.normal(0, 1, [m, 2])"
      ],
      "execution_count": null,
      "outputs": []
    },
    {
      "cell_type": "code",
      "metadata": {
        "id": "rDrgHclRWtgm"
      },
      "source": [
        "nonlinear_distribution.shape"
      ],
      "execution_count": null,
      "outputs": []
    },
    {
      "cell_type": "code",
      "metadata": {
        "id": "zxB1c9INWtgn"
      },
      "source": [
        "import plotly.graph_objects as go\n",
        "# 독립변수입력) x1, x2 => 종속변수(정답) y \n",
        "y = nonlinear_distribution[:,0]**2 + nonlinear_distribution[:,1]**2\n",
        "fig = go.Figure(data=[go.Scatter3d(x=nonlinear_distribution[:,0], y=nonlinear_distribution[:,1], z=y,\n",
        "                                   mode='markers',\n",
        "                                  marker=dict(  size=4,\n",
        "                                                color = y,\n",
        "                                                colorscale='Viridis',   # choose a colorscale\n",
        "                                                opacity=0.8\n",
        "                                            ))])\n",
        "\n",
        "fig.update_layout(\n",
        "    title='Data distribution', \n",
        "    autosize=True,\n",
        "    width=500, \n",
        "    height=500,\n",
        "    xaxis=dict(range=[0.,10.]),\n",
        "    margin=dict(l=65, r=50, b=65, t=90),\n",
        "    scene_aspectmode='manual',\n",
        "    scene_aspectratio=dict(x=1, y=1, z=1),\n",
        "    scene=dict(\n",
        "        xaxis= dict(range=[-5,5], nticks=20),\n",
        "        yaxis= dict(range=[-5,5], nticks=20),\n",
        "        zaxis= dict(range=[0,20]),\n",
        "        xaxis_title='X1',\n",
        "        yaxis_title='X2',\n",
        "        zaxis_title='Y',\n",
        "    ))\n",
        "\n",
        "fig.show()"
      ],
      "execution_count": null,
      "outputs": []
    },
    {
      "cell_type": "markdown",
      "metadata": {
        "id": "ODMuPbRcWtgn"
      },
      "source": [
        "# 2. Build your regression model with Neural Network"
      ]
    },
    {
      "cell_type": "code",
      "metadata": {
        "id": "TSaUzWWxWtgo"
      },
      "source": [
        "from tensorflow.keras import layers"
      ],
      "execution_count": null,
      "outputs": []
    },
    {
      "cell_type": "code",
      "metadata": {
        "id": "1etO9-mQGHap"
      },
      "source": [
        "model = tf.keras.Sequential([layers.Dense(32, activation='relu', input_shape=[2]),\n",
        "                            layers.Dense(16, activation='relu'),\n",
        "                            layers.Dense(2, activation='relu'),\n",
        "                            layers.Dense(1)\n",
        "                            ])\n",
        "\n",
        "optimizer = tf.keras.optimizers.RMSprop(0.001)\n",
        "\n",
        "model.compile(loss='mse',\n",
        "            optimizer=optimizer,\n",
        "            metrics=['mae', 'mse'])"
      ],
      "execution_count": null,
      "outputs": []
    },
    {
      "cell_type": "markdown",
      "metadata": {
        "id": "2fPq_anmWtgp"
      },
      "source": [
        "# 3. Train your model"
      ]
    },
    {
      "cell_type": "code",
      "metadata": {
        "id": "7P221ByAWtgq"
      },
      "source": [
        "model.fit(nonlinear_distribution, y, epochs=1000)"
      ],
      "execution_count": null,
      "outputs": []
    },
    {
      "cell_type": "code",
      "metadata": {
        "id": "IhrbqH6WWtgq"
      },
      "source": [
        "model.summary()"
      ],
      "execution_count": null,
      "outputs": []
    },
    {
      "cell_type": "markdown",
      "metadata": {
        "id": "DXJq8xe1Wtgq"
      },
      "source": [
        "# 4. Observe your new representation of dataset transformed by network"
      ]
    },
    {
      "cell_type": "code",
      "metadata": {
        "id": "SHUAvIOlGHaq"
      },
      "source": [
        "#학습시킨 모델의 layers 속성에 소속된 레이어 객체들의 리스트가 있습니다.\n",
        "model.layers"
      ],
      "execution_count": null,
      "outputs": []
    },
    {
      "cell_type": "code",
      "metadata": {
        "id": "81DD61mrWtgr"
      },
      "source": [
        "# 입력값에 대한 hidden layer의 출력값들을 얻어냅니다.\n",
        "last_hidden_output_model = tf.keras.Sequential()\n",
        "\n",
        "#마지막 레이어(출력층)을 제외한 다른 레이어를 새로운 Sequential 모델에 포함십니다.\n",
        "for layer in model.layers[:-1]:\n",
        "    last_hidden_output_model.add(layer)"
      ],
      "execution_count": null,
      "outputs": []
    },
    {
      "cell_type": "code",
      "metadata": {
        "id": "BZy5Xb9_Wtgr"
      },
      "source": [
        "#출력층을 제외한 은닉층들이 포함됐습니다.\n",
        "last_hidden_output_model.summary()"
      ],
      "execution_count": null,
      "outputs": []
    },
    {
      "cell_type": "code",
      "metadata": {
        "id": "d16iFaUAWtgs"
      },
      "source": [
        "#기존 데이터를 은닉층들에 통과시켜 결과를 얻습니다.\n",
        "#transformed는 기존 데이터에 대한 새로운 데이터표상(representation)입니다.\n",
        "transformed = last_hidden_output_model.predict(nonlinear_distribution)"
      ],
      "execution_count": null,
      "outputs": []
    },
    {
      "cell_type": "code",
      "metadata": {
        "id": "W4qj8x95Wtgt"
      },
      "source": [
        "import plotly.graph_objects as go\n",
        "# 독립변수입력) x1, x2 => 종속변수(정답) y \n",
        "fig = go.Figure(data=[go.Scatter3d(x=transformed[:,0], y=transformed[:,1], z=y,\n",
        "                                   mode='markers',\n",
        "                                  marker=dict(  size=4,\n",
        "                                                color = y,\n",
        "                                                colorscale='Viridis',   # choose a colorscale\n",
        "                                                opacity=0.8\n",
        "                                            ))])\n",
        "fig.update_layout(scene = dict(\n",
        "                    xaxis_title='X1',\n",
        "                    yaxis_title='X2',\n",
        "                    zaxis_title='Y (Answer)'),\n",
        "                    width=700,\n",
        "                    margin=dict(r=20, b=10, l=10, t=10))\n",
        "\n",
        "fig.show()\n",
        "\n",
        "\n"
      ],
      "execution_count": null,
      "outputs": []
    }
  ]
}