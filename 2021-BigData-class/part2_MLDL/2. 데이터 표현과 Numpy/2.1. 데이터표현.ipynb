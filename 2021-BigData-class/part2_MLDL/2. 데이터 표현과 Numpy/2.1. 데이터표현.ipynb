{
  "nbformat": 4,
  "nbformat_minor": 0,
  "metadata": {
    "kernelspec": {
      "display_name": "tf",
      "language": "python",
      "name": "tf"
    },
    "language_info": {
      "codemirror_mode": {
        "name": "ipython",
        "version": 3
      },
      "file_extension": ".py",
      "mimetype": "text/x-python",
      "name": "python",
      "nbconvert_exporter": "python",
      "pygments_lexer": "ipython3",
      "version": "3.6.9"
    },
    "colab": {
      "name": "데이터표현.ipynb",
      "provenance": []
    }
  },
  "cells": [
    {
      "cell_type": "code",
      "metadata": {
        "id": "xPGywIB4F4PN"
      },
      "source": [
        "import numpy as np\n",
        "import pandas as pd\n",
        "import sklearn\n",
        "import cv2\n",
        "import tensorflow as tf"
      ],
      "execution_count": null,
      "outputs": []
    },
    {
      "cell_type": "markdown",
      "metadata": {
        "id": "WQ02ly19F4PT"
      },
      "source": [
        "# Library 소개\n",
        "1. numpy :\n",
        "효율적인 행렬연산을 위한 파이썬의 대표적인 데이터과학 라이브러리\n",
        "\n",
        "2. pandas :\n",
        "구조형 데이터를 처리, 분석, 시각화에 특화된 클래스 dataframe을 지원하는 파이썬 라이브러리\n",
        "\n",
        "3. scikit-learn :\n",
        "데이터분석을 위한 효율적인 툴들을 제공. 주요 머신러닝, 딥러닝 모델을 로드하여 사용할 수 있음.\n",
        "\n",
        "4. opencv :\n",
        "사진, 동영상을 처리하기 위한 주요 함수들과 알고리즘을 제공하는 컴퓨터비전 라이브러리\n",
        "\n",
        "5. TensorFlow :\n",
        "딥러닝 연구/개발을 위한 데이터 파이프라인, 쉬운 모델 빌드, 학습을 위한 통합 라이브러리\n"
      ]
    },
    {
      "cell_type": "code",
      "metadata": {
        "id": "oHeFjbzbF4PY"
      },
      "source": [
        "from matplotlib import pyplot as plt"
      ],
      "execution_count": null,
      "outputs": []
    },
    {
      "cell_type": "markdown",
      "metadata": {
        "id": "R2y1s4ZVF4Pa"
      },
      "source": [
        "# Numpy array\n",
        "\n",
        "현재 데이터의 수치적 표현은 행렬이며, 컴퓨터 내에서 행렬은 배열(array)이라는 자료구조로 표현된다. <br>\n",
        "따라서 컴퓨터의 메모리 구조 내에서 우리는 행렬을 배열로 다루게 될 것이다. <br>\n",
        "이것은 데이터들의 처리(즉 연산)의 대부분이 배열 간의 벡터연산 또는 행렬연산으로 구성됨을 시사한다.<br>"
      ]
    },
    {
      "cell_type": "code",
      "metadata": {
        "id": "86YHrgXdF4Pb"
      },
      "source": [
        "list1 = [1, 2, 3]\n",
        "arr1 = np.array(list1)"
      ],
      "execution_count": null,
      "outputs": []
    },
    {
      "cell_type": "code",
      "metadata": {
        "id": "mwWIPUo-F4Pb"
      },
      "source": [
        "print(type(arr1))\n",
        "print(arr1)\n",
        "print(\"shape : \", arr1.shape)"
      ],
      "execution_count": null,
      "outputs": []
    },
    {
      "cell_type": "code",
      "metadata": {
        "id": "h2Lnoj3UF4Pd"
      },
      "source": [
        "list2 = [[1, 2, 3], [4,5,6]]\n",
        "arr2 = np.array(list2)"
      ],
      "execution_count": null,
      "outputs": []
    },
    {
      "cell_type": "code",
      "metadata": {
        "id": "GBAF9vBFF4Pe"
      },
      "source": [
        "print(type(arr2))\n",
        "print(arr2)\n",
        "print(\"shape : \", arr2.shape)"
      ],
      "execution_count": null,
      "outputs": []
    },
    {
      "cell_type": "code",
      "metadata": {
        "id": "vk-NRxpvF4Pg"
      },
      "source": [
        "np.multiply(arr1, arr2)"
      ],
      "execution_count": null,
      "outputs": []
    },
    {
      "cell_type": "code",
      "metadata": {
        "id": "51-CvEXXF4Pk"
      },
      "source": [
        "print(np.matmul(arr2, arr1))\n",
        "'''\n",
        "                 [1,\n",
        "    [[1,2,3],     2,\n",
        "     [4,5,6]]     3]\n",
        "\n",
        "\n",
        "'''\n"
      ],
      "execution_count": null,
      "outputs": []
    },
    {
      "cell_type": "markdown",
      "metadata": {
        "id": "7Q6WyDepF4Pl"
      },
      "source": [
        "# Pandas dataframe"
      ]
    },
    {
      "cell_type": "code",
      "metadata": {
        "id": "Egcr5vDQF4Pm"
      },
      "source": [
        "dict1 = {\n",
        "            \"Name\": [\n",
        "                \"Braund, Mr. Owen Harris\",\n",
        "                \"Allen, Mr. William Henry\",\n",
        "                \"Bonnell, Miss. Elizabeth\",\n",
        "            ],\n",
        "            \"Age\": [22, 35, 58],\n",
        "            \"Sex\": [\"male\", \"male\", \"female\"],\n",
        "        }"
      ],
      "execution_count": null,
      "outputs": []
    },
    {
      "cell_type": "code",
      "metadata": {
        "id": "XN2JvSxUF4Pn"
      },
      "source": [
        "df = pd.DataFrame(dict1)"
      ],
      "execution_count": null,
      "outputs": []
    },
    {
      "cell_type": "code",
      "metadata": {
        "id": "VZw_GPvSF4Po"
      },
      "source": [
        "df"
      ],
      "execution_count": null,
      "outputs": []
    },
    {
      "cell_type": "code",
      "metadata": {
        "id": "bDMxXQoCF4Po"
      },
      "source": [
        "df.values"
      ],
      "execution_count": null,
      "outputs": []
    },
    {
      "cell_type": "code",
      "metadata": {
        "id": "n4vIptfiF4Pp"
      },
      "source": [
        "df.values[:,1]"
      ],
      "execution_count": null,
      "outputs": []
    },
    {
      "cell_type": "markdown",
      "metadata": {
        "id": "YtfBW6tyF4Pp"
      },
      "source": [
        "# opencv image array"
      ]
    },
    {
      "cell_type": "code",
      "metadata": {
        "id": "oekM96DuF4Pq"
      },
      "source": [
        "!wget -O beach.jpg https://pix10.agoda.net/hotelImages/301716/-1/fe9724d8fb4da3dd4590353bd771a276.jpg?s=1024x768 "
      ],
      "execution_count": null,
      "outputs": []
    },
    {
      "cell_type": "code",
      "metadata": {
        "id": "WNeh7bgcF4Pr"
      },
      "source": [
        "image = cv2.imread(\"beach.jpg\")[:,:,::-1]\n",
        "plt.imshow(image)\n",
        "plt.show()"
      ],
      "execution_count": null,
      "outputs": []
    },
    {
      "cell_type": "code",
      "metadata": {
        "id": "08SZ-sfXF4Pr"
      },
      "source": [
        "#show the image array\n",
        "print(image)"
      ],
      "execution_count": null,
      "outputs": []
    },
    {
      "cell_type": "code",
      "metadata": {
        "id": "12ZSAUfhF4Ps"
      },
      "source": [
        "# the shape of image array\n",
        "print(image.shape)"
      ],
      "execution_count": null,
      "outputs": []
    },
    {
      "cell_type": "code",
      "metadata": {
        "id": "-xJhsOs9F4Pt"
      },
      "source": [
        ""
      ],
      "execution_count": null,
      "outputs": []
    }
  ]
}