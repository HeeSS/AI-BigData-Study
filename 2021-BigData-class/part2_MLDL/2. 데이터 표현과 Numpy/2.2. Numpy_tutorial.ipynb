{
  "nbformat": 4,
  "nbformat_minor": 0,
  "metadata": {
    "kernelspec": {
      "display_name": "Python 3",
      "language": "python",
      "name": "python3"
    },
    "language_info": {
      "codemirror_mode": {
        "name": "ipython",
        "version": 3
      },
      "file_extension": ".py",
      "mimetype": "text/x-python",
      "name": "python",
      "nbconvert_exporter": "python",
      "pygments_lexer": "ipython3",
      "version": "3.6.9"
    },
    "colab": {
      "name": "Numpy tutorial.ipynb",
      "provenance": []
    }
  },
  "cells": [
    {
      "cell_type": "code",
      "metadata": {
        "id": "1Mb7DrebGKCz"
      },
      "source": [
        "import numpy as np"
      ],
      "execution_count": null,
      "outputs": []
    },
    {
      "cell_type": "markdown",
      "metadata": {
        "id": "5qzMq9_nGKC4"
      },
      "source": [
        "# Numpy\n",
        "- C 언어로 구현된 파이썬 라이브러리로써, 고성능의 수치 계산을 위해 만들어짐\n",
        "- 벡터 및 행렬 연산에 있어서 편리한 기능 제공\n",
        "- 다차원 배열 객체 지원\n",
        "- 데이터에 대한 빠른 연산 가능\n",
        "- pandas 와 matplotlib의 기반으로 사용"
      ]
    },
    {
      "cell_type": "markdown",
      "metadata": {
        "id": "zdu-yKWOGKC8"
      },
      "source": [
        "### ndarray 생성"
      ]
    },
    {
      "cell_type": "code",
      "metadata": {
        "id": "AaUCGlCZGKC-"
      },
      "source": [
        "list1 = [0, 1, 2, 3, 4]\n",
        "arr1 = np.array(list1)\n",
        "print(arr1)\n",
        "print(type(arr1))\n",
        "\n",
        "list2 = [[0, 1, 2, 3, 4], [5, 6, 7, 8, 9]]\n",
        "arr2 = np.array(list2)\n",
        "print(arr2)\n",
        "print(type(arr2))"
      ],
      "execution_count": null,
      "outputs": []
    },
    {
      "cell_type": "code",
      "metadata": {
        "id": "przAZuxVGKC_"
      },
      "source": [
        "#랜덤값으로 배열 생성(난수생성)\n",
        "data = np.random.randn(2, 3) # 2행 3열\n",
        "print(data)\n",
        "print(\"max of arr:\", np.max(data))\n",
        "print(\"min of arr:\", np.min(data))"
      ],
      "execution_count": null,
      "outputs": []
    },
    {
      "cell_type": "code",
      "metadata": {
        "id": "USxF2IkNGKDA"
      },
      "source": [
        "# 초기화된 배열도 생성가능\n",
        "arr = np.zeros([3,4])\n",
        "print(arr.shape)\n",
        "print(arr)"
      ],
      "execution_count": null,
      "outputs": []
    },
    {
      "cell_type": "code",
      "metadata": {
        "id": "vDyghoTDGKDB"
      },
      "source": [
        "# 초기화된 배열도 생성가능\n",
        "arr = np.ones([3,4])\n",
        "print(arr.shape)\n",
        "print(arr)"
      ],
      "execution_count": null,
      "outputs": []
    },
    {
      "cell_type": "markdown",
      "metadata": {
        "id": "iC1PBzuaGKDC"
      },
      "source": [
        "### ndarray의 타입, 크기, 차원"
      ]
    },
    {
      "cell_type": "code",
      "metadata": {
        "id": "UDEqvqD_GKDD"
      },
      "source": [
        "print(\"type : \", arr.dtype)\n",
        "print(\"shape : \", arr.shape)\n",
        "print(\"rank : \", arr.ndim)"
      ],
      "execution_count": null,
      "outputs": []
    },
    {
      "cell_type": "code",
      "metadata": {
        "id": "7PgK0mtSGKDF"
      },
      "source": [
        "arr = np.reshape(arr, [2, 6])\n",
        "print(arr)\n",
        "print(arr.shape)"
      ],
      "execution_count": null,
      "outputs": []
    },
    {
      "cell_type": "markdown",
      "metadata": {
        "id": "w5gf2569GKDG"
      },
      "source": [
        "# ndarray의 연산"
      ]
    },
    {
      "cell_type": "code",
      "metadata": {
        "id": "mc9te-D1GKDG"
      },
      "source": [
        "print(arr)"
      ],
      "execution_count": null,
      "outputs": []
    },
    {
      "cell_type": "code",
      "metadata": {
        "id": "rYNhg7uLGKDH"
      },
      "source": [
        "# arr + 1\n",
        "print(arr + 1)"
      ],
      "execution_count": null,
      "outputs": []
    },
    {
      "cell_type": "code",
      "metadata": {
        "id": "prUYHkubGKDH"
      },
      "source": [
        "# arr x 5\n",
        "print(arr * 5)"
      ],
      "execution_count": null,
      "outputs": []
    },
    {
      "cell_type": "code",
      "metadata": {
        "id": "fXI9XpDHGKDI"
      },
      "source": [
        "# arr / 2\n",
        "print(arr / 2)"
      ],
      "execution_count": null,
      "outputs": []
    },
    {
      "cell_type": "markdown",
      "metadata": {
        "id": "NK1YjcuFGKDI"
      },
      "source": [
        "## Broadcasting : important!!\n",
        "![nn](https://paris-swc.github.io/advanced-numpy-lesson/fig/numpy_broadcasting.png)\n",
        "\n",
        "브로드캐스팅이 일어날 수 있는 조건은 다음과 같다.\n",
        "\n",
        "(1) 차원의 짝이 맞을 때 가능하다\n",
        "차원에 대해 축의 길이가 동일하면 브로드캐스팅이 가능하다.\n",
        "\n",
        "두 번째 그림은 3x3 인 배열과 1x3인 배열의 연산이다. 조건을 만족하여 브로드캐스팅이 수행되었다. 1x3 배열이 브로드캐스팅되어 3x3 배열로 변형되어 연산이 수행되었다.\n",
        "\n",
        "(2) 차원의 크기가 1일때 가능하다\n",
        "두 배열 간의 연산에서 최소한 하나의 배열의 차원이 1이라면(0번 축이든 1번 축이든; 1행이든 1열이든) 가능하다.\n",
        "\n",
        "세 번째 그림은 3x1 인 배열과 1x3인 배열의 연산이다. 조건을 만족하여 브로드캐스팅이 수행되었다. 3x1인 배열은 길이가 1인 차원에 대해 반복 확장되었고, 1x3인 배열도 마찬가지로 길이가 1인 차원에 대해 반복 확장되었고 확장된 두 배열 간에 연산이 일어났다.\n",
        "\n",
        "reference : https://sacko.tistory.com/16"
      ]
    },
    {
      "cell_type": "code",
      "metadata": {
        "id": "0a-dXHZ3GKDJ"
      },
      "source": [
        "arr1 = np.array([[1,2,3], [4,5,6]])\n",
        "arr2 = np.array([10,11,12])\n",
        "print(arr1+arr2)"
      ],
      "execution_count": null,
      "outputs": []
    },
    {
      "cell_type": "markdown",
      "metadata": {
        "id": "-Uts-4ueGKDJ"
      },
      "source": [
        "# indexing\n",
        "\n",
        "## (1) Indexing"
      ]
    },
    {
      "cell_type": "code",
      "metadata": {
        "id": "Uh6kyaJyGKDK"
      },
      "source": [
        "arr = np.array([[1,2,3,4],[5,6,7,8],[9,10,11,12]])"
      ],
      "execution_count": null,
      "outputs": []
    },
    {
      "cell_type": "code",
      "metadata": {
        "id": "aR6IvchvGKDK"
      },
      "source": [
        "print(arr)"
      ],
      "execution_count": null,
      "outputs": []
    },
    {
      "cell_type": "code",
      "metadata": {
        "id": "uhH1IOTgGKDL"
      },
      "source": [
        "print(\"1행 : \", arr[0])\n",
        "print(\"2행 : \", arr[1])"
      ],
      "execution_count": null,
      "outputs": []
    },
    {
      "cell_type": "code",
      "metadata": {
        "id": "y2VBs8oUGKDL"
      },
      "source": [
        "print(\"1열 : \", arr[:,0])\n",
        "print(\"2열 : \", arr[:,1])"
      ],
      "execution_count": null,
      "outputs": []
    },
    {
      "cell_type": "code",
      "metadata": {
        "id": "ADF9L3TwGKDL"
      },
      "source": [
        "print(\"1행 1열 : \", arr[0,0])\n",
        "print(\"2행 2열 : \", arr[1,1])\n",
        "print(\"3행 3열 : \", arr[2,2])"
      ],
      "execution_count": null,
      "outputs": []
    },
    {
      "cell_type": "code",
      "metadata": {
        "id": "dnKuxSxxGKDM"
      },
      "source": [
        "# Boolean indexing\n",
        "print(arr)\n",
        "print(arr > 3)\n",
        "print(\"boolean indexing :\", arr[arr>3])"
      ],
      "execution_count": null,
      "outputs": []
    },
    {
      "cell_type": "markdown",
      "metadata": {
        "id": "4QVdNESrGKDM"
      },
      "source": [
        "## (2) Slicing"
      ]
    },
    {
      "cell_type": "code",
      "metadata": {
        "id": "ORD2Bi4nGKDN"
      },
      "source": [
        "print(arr)\n",
        "print(arr[:2, :3]) # 0,1행 + 0,1,2열로 slicing"
      ],
      "execution_count": null,
      "outputs": []
    },
    {
      "cell_type": "code",
      "metadata": {
        "id": "-ZCMijKeGKDN"
      },
      "source": [
        ""
      ],
      "execution_count": null,
      "outputs": []
    }
  ]
}