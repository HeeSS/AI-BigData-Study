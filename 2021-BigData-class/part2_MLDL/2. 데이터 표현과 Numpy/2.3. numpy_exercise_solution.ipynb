{
  "nbformat": 4,
  "nbformat_minor": 0,
  "metadata": {
    "anaconda-cloud": {},
    "kernelspec": {
      "display_name": "tf",
      "language": "python",
      "name": "tf"
    },
    "language_info": {
      "codemirror_mode": {
        "name": "ipython",
        "version": 3
      },
      "file_extension": ".py",
      "mimetype": "text/x-python",
      "name": "python",
      "nbconvert_exporter": "python",
      "pygments_lexer": "ipython3",
      "version": "3.6.9"
    },
    "colab": {
      "name": "numpy_exercise_solution.ipynb",
      "provenance": []
    }
  },
  "cells": [
    {
      "cell_type": "markdown",
      "metadata": {
        "id": "S6D3yCVvGPdW"
      },
      "source": [
        "#### 1. numpy 패키지 불러오기"
      ]
    },
    {
      "cell_type": "code",
      "metadata": {
        "id": "dSSOScooGPde"
      },
      "source": [
        "import numpy as np"
      ],
      "execution_count": null,
      "outputs": []
    },
    {
      "cell_type": "markdown",
      "metadata": {
        "id": "dFYyzOHVGPdh"
      },
      "source": [
        "#### 2. 리스트로부터 배열 생성"
      ]
    },
    {
      "cell_type": "code",
      "metadata": {
        "id": "O0nb48ZlGPdi"
      },
      "source": [
        "my_list = [1,2,3,4]\n",
        "arr = np.array(my_list)\n",
        "arr"
      ],
      "execution_count": null,
      "outputs": []
    },
    {
      "cell_type": "markdown",
      "metadata": {
        "id": "KTulgcFtGPdj"
      },
      "source": [
        "#### 3. 크기가 10인 zero 벡터 생성(단, 다섯번째 값은 1) "
      ]
    },
    {
      "cell_type": "code",
      "metadata": {
        "id": "n8tIIDRiGPdk"
      },
      "source": [
        "Z = np.zeros(10)\n",
        "Z[4] = 1\n",
        "Z"
      ],
      "execution_count": null,
      "outputs": []
    },
    {
      "cell_type": "code",
      "metadata": {
        "id": "G55AO4qEGPdk"
      },
      "source": [
        "#유사하게, ones 함수로 one 벡터 생성\n",
        "Z = np.ones([5,5])\n",
        "Z"
      ],
      "execution_count": null,
      "outputs": []
    },
    {
      "cell_type": "markdown",
      "metadata": {
        "id": "-V_WyXj2GPdl"
      },
      "source": [
        "#### 4. 0-8까지의 정수로 이루어진 3X3 배열 생성"
      ]
    },
    {
      "cell_type": "code",
      "metadata": {
        "id": "jPFnqjVfGPdm"
      },
      "source": [
        "x = np.arange(9)\n",
        "x"
      ],
      "execution_count": null,
      "outputs": []
    },
    {
      "cell_type": "code",
      "metadata": {
        "id": "5f4Ll2PkGPdo"
      },
      "source": [
        "np.arange(9).reshape(3,3)"
      ],
      "execution_count": null,
      "outputs": []
    },
    {
      "cell_type": "code",
      "metadata": {
        "id": "rgcl3gtOGPdp"
      },
      "source": [
        "np.reshape(x, (3,3))"
      ],
      "execution_count": null,
      "outputs": []
    },
    {
      "cell_type": "markdown",
      "metadata": {
        "id": "Pus27C3JGPdp"
      },
      "source": [
        "#### 5. 난수로 이루어진 5x5 배열을 만들고 최댓값, 최솟값 찾기"
      ]
    },
    {
      "cell_type": "code",
      "metadata": {
        "id": "CZExuSa_GPdq"
      },
      "source": [
        "Z = np.random.random((5,5))\n",
        "print (Z)\n",
        "print (Z.min())\n",
        "print (Z.max())"
      ],
      "execution_count": null,
      "outputs": []
    },
    {
      "cell_type": "code",
      "metadata": {
        "id": "c2dx6gR3GPds"
      },
      "source": [
        "np.min(Z)"
      ],
      "execution_count": null,
      "outputs": []
    },
    {
      "cell_type": "code",
      "metadata": {
        "id": "c60vyCVfGPds"
      },
      "source": [
        "np.max(Z)"
      ],
      "execution_count": null,
      "outputs": []
    },
    {
      "cell_type": "markdown",
      "metadata": {
        "id": "AzppoWa-GPdt"
      },
      "source": [
        "#### 5-1. 각 행별로 최솟값 찾기 + axis 개념도 함께 이해(매우 중요)"
      ]
    },
    {
      "cell_type": "code",
      "metadata": {
        "id": "_hCHhpSKGPdt"
      },
      "source": [
        "Z.min(axis=1)"
      ],
      "execution_count": null,
      "outputs": []
    },
    {
      "cell_type": "markdown",
      "metadata": {
        "id": "_zy9Vsk_GPdu"
      },
      "source": [
        "#### 6. 크기가 10인 random 벡터 오름차순 정렬"
      ]
    },
    {
      "cell_type": "code",
      "metadata": {
        "id": "SsOynF87GPdu"
      },
      "source": [
        "Z = np.random.random(10)\n",
        "print (Z)\n",
        "Z.sort()\n",
        "print(Z)"
      ],
      "execution_count": null,
      "outputs": []
    },
    {
      "cell_type": "markdown",
      "metadata": {
        "id": "Wa7M3l3jGPdu"
      },
      "source": [
        "#### 7.  크기가 10인 random 벡터에서 값이 가장 클 때의 인덱스 찾기"
      ]
    },
    {
      "cell_type": "code",
      "metadata": {
        "id": "q7a6ui3vGPdv"
      },
      "source": [
        "Z = np.random.random(10)\n",
        "print (Z)\n",
        "Z.argmax()"
      ],
      "execution_count": null,
      "outputs": []
    },
    {
      "cell_type": "markdown",
      "metadata": {
        "id": "PTo0S6H3GPdw"
      },
      "source": [
        "#### 7-1. 최댓값을 0으로 변경"
      ]
    },
    {
      "cell_type": "code",
      "metadata": {
        "id": "pdOU5Pu7GPdw"
      },
      "source": [
        "Z[Z.argmax()] = 0\n",
        "print (Z)"
      ],
      "execution_count": null,
      "outputs": []
    },
    {
      "cell_type": "markdown",
      "metadata": {
        "id": "8brph1yAGPdw"
      },
      "source": [
        "#### 8. 행렬에서 각 행별 평균 빼기"
      ]
    },
    {
      "cell_type": "code",
      "metadata": {
        "id": "nL98su76GPdx"
      },
      "source": [
        "X = np.random.rand(3, 4)\n",
        "Y = X - X.mean(axis=1, keepdims=True)\n",
        "print (Y)"
      ],
      "execution_count": null,
      "outputs": []
    },
    {
      "cell_type": "markdown",
      "metadata": {
        "id": "RbyqeZb5GPdx"
      },
      "source": [
        "#### 9. [1,2,0,0,4,0]로부터 값이 0이 아닌 곳의 인덱스 찾기"
      ]
    },
    {
      "cell_type": "code",
      "metadata": {
        "id": "uzQwMvgWGPdx"
      },
      "source": [
        "arr = np.array([1,2,0,0,4,0])\n",
        "np.nonzero(arr)"
      ],
      "execution_count": null,
      "outputs": []
    },
    {
      "cell_type": "markdown",
      "metadata": {
        "id": "vl23Ckt0GPdx"
      },
      "source": [
        "#### 10. [-1,3,-2,4,5,7,9,10]로부터 음수값은 0으로 변경하기"
      ]
    },
    {
      "cell_type": "code",
      "metadata": {
        "id": "NFCHhcIJGPdy"
      },
      "source": [
        "arr = np.array([-1,3,-2,4,5,7,9,10])\n",
        "np.where(arr < 0, 0, arr)"
      ],
      "execution_count": null,
      "outputs": []
    },
    {
      "cell_type": "markdown",
      "metadata": {
        "id": "mcRKJ8nCGPdy"
      },
      "source": [
        "### 10명의 키, 몸무게, 나이, 성별, 혈액형에 대한 데이터가 있다."
      ]
    },
    {
      "cell_type": "markdown",
      "metadata": {
        "id": "Wcc8d7nhGPdy"
      },
      "source": [
        "#### 1) 10명에 대한 키 배열을 생성하시오.(평균=170, 표준편차=10)"
      ]
    },
    {
      "cell_type": "code",
      "metadata": {
        "id": "flaJsw25GPdz"
      },
      "source": [
        "mu, sigma = 170, 10 # mean and standard deviation\n",
        "height = np.random.normal(mu, sigma, 10)\n",
        "height"
      ],
      "execution_count": null,
      "outputs": []
    },
    {
      "cell_type": "markdown",
      "metadata": {
        "id": "j50FuqLaGPdz"
      },
      "source": [
        "#### 2) 10명에 대한 몸무게 배열을 생성하시오. (0과 1사이 random number X 100)"
      ]
    },
    {
      "cell_type": "code",
      "metadata": {
        "id": "FaJA9JLmGPdz"
      },
      "source": [
        "weight = np.random.rand(10) * 100\n",
        "weight"
      ],
      "execution_count": null,
      "outputs": []
    },
    {
      "cell_type": "markdown",
      "metadata": {
        "id": "GsPzGCB9GPd0"
      },
      "source": [
        "#### 3) 10명에 대한 나이 배열을 생성하시오. [10, 80) 정수"
      ]
    },
    {
      "cell_type": "code",
      "metadata": {
        "id": "I1V45TqdGPd0"
      },
      "source": [
        "age = np.random.randint(10,80,size=10)\n",
        "age"
      ],
      "execution_count": null,
      "outputs": []
    },
    {
      "cell_type": "markdown",
      "metadata": {
        "id": "F5hqm-AGGPd0"
      },
      "source": [
        "#### 4) 10명에 대한 성별 배열을 생성하시오. (0 : 남자, 1 : 여자)"
      ]
    },
    {
      "cell_type": "code",
      "metadata": {
        "id": "Vsd3yuJVGPd1"
      },
      "source": [
        "sex = np.random.randint(0,2,size=10)\n",
        "sex"
      ],
      "execution_count": null,
      "outputs": []
    },
    {
      "cell_type": "markdown",
      "metadata": {
        "id": "QPPXWmUmGPd1"
      },
      "source": [
        "#### 5) 10명에 대한 혈액형 배열을 생성하시오. (0 : 'A', 1 : 'B', 2 : 'O', 3 : 'AB')"
      ]
    },
    {
      "cell_type": "code",
      "metadata": {
        "id": "Z5hFXOm6GPd1"
      },
      "source": [
        "blood = np.random.choice([0,1,2,3], size=10)\n",
        "blood"
      ],
      "execution_count": null,
      "outputs": []
    },
    {
      "cell_type": "markdown",
      "metadata": {
        "id": "OXpAqU6mGPd2"
      },
      "source": [
        "#### 6) 10행 5행의 배열로 합치시오. "
      ]
    },
    {
      "cell_type": "code",
      "metadata": {
        "id": "ozU_bI2SGPd2"
      },
      "source": [
        "info_arr = np.column_stack((height, weight, age, sex, blood))\n",
        "info_arr"
      ],
      "execution_count": null,
      "outputs": []
    },
    {
      "cell_type": "markdown",
      "metadata": {
        "id": "tf9EHWnZGPd2"
      },
      "source": [
        "#### 7) 여성의 비율은?"
      ]
    },
    {
      "cell_type": "code",
      "metadata": {
        "id": "v5pJv7bVGPd3"
      },
      "source": [
        "female = info_arr[:,3].sum()\n",
        "total = len(info_arr[:,3])\n",
        "print ('ratio of female :', (female/total) * 100)"
      ],
      "execution_count": null,
      "outputs": []
    },
    {
      "cell_type": "markdown",
      "metadata": {
        "id": "HLQDEMvKGPd3"
      },
      "source": [
        "#### 8) 여자이면서 B형인 사람의 수는?"
      ]
    },
    {
      "cell_type": "code",
      "metadata": {
        "id": "feq-oqaGGPd3"
      },
      "source": [
        "((info_arr[:,3] == 1) & (info_arr[:,4] == 2)).sum()"
      ],
      "execution_count": null,
      "outputs": []
    },
    {
      "cell_type": "markdown",
      "metadata": {
        "id": "uZD1iVGWGPd4"
      },
      "source": [
        "#### 9) 여자들의 키, 몸무게, 나이를 출력하시오. (with boolean indexing)"
      ]
    },
    {
      "cell_type": "code",
      "metadata": {
        "id": "swRUiFMNGPd4"
      },
      "source": [
        "info_arr[info_arr[:, 3] == 1, :3]"
      ],
      "execution_count": null,
      "outputs": []
    },
    {
      "cell_type": "code",
      "metadata": {
        "id": "o39icrTbGPd4"
      },
      "source": [
        "## 참고 : 만약에 키, 나이, 혈액형만 보고 싶다면?\n",
        "info_arr[info_arr[:, 3] == 1][:, [0,2,4]] "
      ],
      "execution_count": null,
      "outputs": []
    },
    {
      "cell_type": "markdown",
      "metadata": {
        "id": "oSWWE9d-GPd4"
      },
      "source": [
        "#### 10) 남자들의 키의 평균은?"
      ]
    },
    {
      "cell_type": "code",
      "metadata": {
        "id": "RBVM7PtBGPd5"
      },
      "source": [
        "info_arr[info_arr[:, 3] == 0, 0].mean()"
      ],
      "execution_count": null,
      "outputs": []
    },
    {
      "cell_type": "markdown",
      "metadata": {
        "id": "zfXmiVlHGPd5"
      },
      "source": [
        "#### 11) 10명에 BMI에 대한 배열을 생성하시오. (BMI = weight[kg]/height[m]^2)"
      ]
    },
    {
      "cell_type": "code",
      "metadata": {
        "id": "glQ-T5LuGPd5"
      },
      "source": [
        "height_m_sqr = (info_arr[:,0] * 0.01) ** 2\n",
        "weight = info_arr[:,1]\n",
        "BMI = weight / height_m_sqr"
      ],
      "execution_count": null,
      "outputs": []
    },
    {
      "cell_type": "code",
      "metadata": {
        "id": "rmhXVFsuGPd5"
      },
      "source": [
        "BMI"
      ],
      "execution_count": null,
      "outputs": []
    },
    {
      "cell_type": "markdown",
      "metadata": {
        "id": "g24_lTSjGPd6"
      },
      "source": [
        "Underweight: BMI is less than 18.5\n",
        "\n",
        "Normal weight: BMI is 18.5 to 24.9\n",
        "\n",
        "Overweight: BMI is 25 to 29.9\n",
        "\n",
        "Obese: BMI is 30 or more"
      ]
    },
    {
      "cell_type": "code",
      "metadata": {
        "id": "Hva47DVaGPd6"
      },
      "source": [
        ""
      ],
      "execution_count": null,
      "outputs": []
    }
  ]
}