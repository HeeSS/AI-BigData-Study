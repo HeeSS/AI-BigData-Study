{
  "nbformat": 4,
  "nbformat_minor": 0,
  "metadata": {
    "kernelspec": {
      "display_name": "tf",
      "language": "python",
      "name": "tf"
    },
    "language_info": {
      "codemirror_mode": {
        "name": "ipython",
        "version": 3
      },
      "file_extension": ".py",
      "mimetype": "text/x-python",
      "name": "python",
      "nbconvert_exporter": "python",
      "pygments_lexer": "ipython3",
      "version": "3.6.9"
    },
    "colab": {
      "name": "Linear_Regression_2D.ipynb",
      "provenance": []
    }
  },
  "cells": [
    {
      "cell_type": "markdown",
      "metadata": {
        "id": "83H1X1FQI7cB"
      },
      "source": [
        "# Supervised Learning"
      ]
    },
    {
      "cell_type": "markdown",
      "metadata": {
        "id": "OwOU6vsbI7cI"
      },
      "source": [
        "## 1) Regression"
      ]
    },
    {
      "cell_type": "markdown",
      "metadata": {
        "id": "9xmCXPCLI7cJ"
      },
      "source": [
        "### 1-1) Linear Regression from scratch"
      ]
    },
    {
      "cell_type": "code",
      "metadata": {
        "id": "BiaOnI9RI7cK"
      },
      "source": [
        "import numpy as np\n",
        "from matplotlib import pyplot as plt\n",
        "import plotly.graph_objects as go\n",
        "%matplotlib inline"
      ],
      "execution_count": null,
      "outputs": []
    },
    {
      "cell_type": "markdown",
      "metadata": {
        "id": "cAinyXdPI7cO"
      },
      "source": [
        "# Step 1. Synthetic data Creation"
      ]
    },
    {
      "cell_type": "code",
      "metadata": {
        "id": "sgPFdV4kI7cP"
      },
      "source": [
        "# The number of data to be created\n",
        "m = 100"
      ],
      "execution_count": null,
      "outputs": []
    },
    {
      "cell_type": "code",
      "metadata": {
        "id": "D4HIW6hoI7cQ"
      },
      "source": [
        "# 독립변수입력) x1, x2 => 종속변수(정답) y \n",
        "x1 = np.random.randn(m, 1)\n",
        "x2 = np.random.randn(m, 1)\n",
        "y = x1 + x2 + np.random.rand(m, 1)\n",
        "\n",
        "fig = go.Figure(data=[go.Scatter3d(x=x1[:,0], y=x2[:,0], z=y[:,0],\n",
        "                                   mode='markers',\n",
        "                                   marker=dict(  size=8,\n",
        "                                                colorscale='blues',   # choose a colorscale\n",
        "                                                opacity=0.8\n",
        "                                            ))])\n",
        "fig.update_layout(scene = dict(\n",
        "                    xaxis_title='X1',\n",
        "                    yaxis_title='X2',\n",
        "                    zaxis_title='Y (Answer)'),\n",
        "                    width=700,\n",
        "                    margin=dict(r=20, b=10, l=10, t=10))\n",
        "\n",
        "fig.show()"
      ],
      "execution_count": null,
      "outputs": []
    },
    {
      "cell_type": "code",
      "metadata": {
        "id": "wfB1hRbqI7cS"
      },
      "source": [
        "# 프로그래밍, 디버깅 과정에서 항상 데이터의 Shape을 보는 습관을 들입시다.\n",
        "# 데이터의 수치는 보는 것은 코스트가 높은 행위이고, 생각보다 적은 정보를 준다.\n",
        "x = np.concatenate([x1,x2], axis=-1)\n",
        "print (x.shape)\n",
        "print (y.shape)"
      ],
      "execution_count": null,
      "outputs": []
    },
    {
      "cell_type": "markdown",
      "metadata": {
        "id": "koTR5HXLI7cT"
      },
      "source": [
        "# Step 2. Model definition"
      ]
    },
    {
      "cell_type": "code",
      "metadata": {
        "id": "RROxNH-jI7cV"
      },
      "source": [
        "# initialization of weights and bias\n",
        "w = np.array([1, 0])\n",
        "b = 0\n",
        "\n",
        "print(\"before\", w.shape)\n",
        "\n",
        "#항상 shape을 맞춰주는 것이 안전합니다.\n",
        "w = w[np.newaxis, :]\n",
        "print(\"after\", w.shape)"
      ],
      "execution_count": null,
      "outputs": []
    },
    {
      "cell_type": "code",
      "metadata": {
        "id": "S1rSP8d9I7cW"
      },
      "source": [
        "# Linear model : y = w*x + b\n",
        "def hypothesis(x, w, b):\n",
        "    pred = np.multiply(w, x) + b\n",
        "    return pred"
      ],
      "execution_count": null,
      "outputs": []
    },
    {
      "cell_type": "code",
      "metadata": {
        "id": "julMnHHdI7cW"
      },
      "source": [
        "hypothesis(x,w,b)[:10]"
      ],
      "execution_count": null,
      "outputs": []
    },
    {
      "cell_type": "code",
      "metadata": {
        "id": "Yh0ZC6IeI7cX"
      },
      "source": [
        "# prediction의 shape이 (100,2) 로 나옵니다. 정상적이라면 y의 shape은 (100, 1)이 되야 합니다.\n",
        "hypothesis(x,w,b).shape"
      ],
      "execution_count": null,
      "outputs": []
    },
    {
      "cell_type": "code",
      "metadata": {
        "id": "7aHT6f_fI7cY"
      },
      "source": [
        ""
      ],
      "execution_count": null,
      "outputs": []
    },
    {
      "cell_type": "code",
      "metadata": {
        "id": "THxEorlLI7cY"
      },
      "source": [
        "# Linear model : y = w*x + b\n",
        "def hypothesis(x, w, b):\n",
        "    pred = np.matmul(x, w.T) + b # matmul [100,2] * [2.1] => [100,1]\n",
        "    return pred"
      ],
      "execution_count": null,
      "outputs": []
    },
    {
      "cell_type": "code",
      "metadata": {
        "id": "0eD-T1DtI7ca"
      },
      "source": [
        "hypothesis(x,w,b)[:10]"
      ],
      "execution_count": null,
      "outputs": []
    },
    {
      "cell_type": "code",
      "metadata": {
        "id": "JCpMYsT0I7cc"
      },
      "source": [
        "hypothesis(x,w,b).shape"
      ],
      "execution_count": null,
      "outputs": []
    },
    {
      "cell_type": "code",
      "metadata": {
        "id": "kiw924N3I7cc"
      },
      "source": [
        "# 비용함수를 정의해봅시다! 학습에는 사용되지 않지만 학습과정에서 loss가 줄어드는지 확인해볼 수 있겠군요.\n",
        "\n",
        "loss = (1/2)*(hypothesis(x, w, b) - y)**2 # 1/2 * (h(x) - y)^2\n",
        "print(\"loss's shape? : \", loss.shape) #중간중간 정상적인 shape인지를 확인해줍시다."
      ],
      "execution_count": null,
      "outputs": []
    },
    {
      "cell_type": "code",
      "metadata": {
        "id": "2jaSvZb7I7cd"
      },
      "source": [
        "# 모든 데이터에 대한 loss를 위해 총합을 구해봅시다.\n",
        "total_loss = (1/m)*np.sum(loss)\n",
        "print(\"loss's shape? : \", total_loss.shape)\n",
        "print(\"value of loss : \", total_loss)"
      ],
      "execution_count": null,
      "outputs": []
    },
    {
      "cell_type": "code",
      "metadata": {
        "id": "DyqFZB3DI7cd"
      },
      "source": [
        "def cost(x, w, b, y):\n",
        "    loss = 1/2*(hypothesis(x, w, b) - y)**2 # loss = 1/2(h(x) - y)^2\n",
        "    total_loss = (1/m)*np.sum(loss)\n",
        "    return total_loss"
      ],
      "execution_count": null,
      "outputs": []
    },
    {
      "cell_type": "code",
      "metadata": {
        "id": "4rEFD3i4I7cd"
      },
      "source": [
        "cost(x, w, b, y)"
      ],
      "execution_count": null,
      "outputs": []
    },
    {
      "cell_type": "code",
      "metadata": {
        "id": "BxKcjsXAI7ce"
      },
      "source": [
        "# 실제 학습에서는 gradient가 사용되죠?\n",
        "# 각 파라미터에 대한 gradient를 구해봅시다.\n",
        "# 자료에 gradient에 대한 수식이 있습니다.\n",
        "# d(cost)/dw =  (h(x) - y)(h(x))' = (h(x) - y)*x\n",
        "# d(cost)/db = (h(x) - y)(h(x))' = (h(x) -y)\n",
        "\n",
        "#shape 변화를 잘 트래킹하는 것이 요령입니다.\n",
        "print((hypothesis(x, w, b) - y).shape) # shape of (h(x) -y)\n",
        "print(x.shape) # shape of x\n",
        "print(((hypothesis(x, w, b) - y)*x).shape) # (h(x)-y)*x"
      ],
      "execution_count": null,
      "outputs": []
    },
    {
      "cell_type": "code",
      "metadata": {
        "id": "C6DtHdD8I7cg"
      },
      "source": [
        "# derivative가 2개만 나오는군요?\n",
        "def derivative(x, w, b, y):\n",
        "    dw = np.sum(((hypothesis(x, w, b) - y)*x))\n",
        "    db = np.sum(((hypothesis(x, w, b) - y)))\n",
        "    return dw, db\n",
        "\n",
        "derivative(x,w,b,y)"
      ],
      "execution_count": null,
      "outputs": []
    },
    {
      "cell_type": "code",
      "metadata": {
        "id": "64oBb-xnI7ch"
      },
      "source": [
        "def derivative(x, w, b, y):\n",
        "    dw = np.sum(((hypothesis(x, w, b) - y)*x), axis=0)\n",
        "    db = np.sum(((hypothesis(x, w, b) - y)))\n",
        "    return dw, db\n",
        "\n",
        "derivative(x,w,b,y)"
      ],
      "execution_count": null,
      "outputs": []
    },
    {
      "cell_type": "code",
      "metadata": {
        "id": "L52Vn3F7I7ci"
      },
      "source": [
        "def update(x, w, b, y, alpha):\n",
        "    dw, db = derivative(x, w, b, y)\n",
        "    \n",
        "    w = w - alpha*dw # w := w + alpha * dw\n",
        "    b = b - alpha*db # b := b + alpha * db\n",
        "    return w, b"
      ],
      "execution_count": null,
      "outputs": []
    },
    {
      "cell_type": "markdown",
      "metadata": {
        "id": "HsFNitJoI7ci"
      },
      "source": [
        "# Step 3. Training model"
      ]
    },
    {
      "cell_type": "code",
      "metadata": {
        "id": "oJf_MPgkI7cj"
      },
      "source": [
        "# initialization of weights and bias\n",
        "w = np.array([0, 0])\n",
        "w = w[np.newaxis, :]\n",
        "b = 0"
      ],
      "execution_count": null,
      "outputs": []
    },
    {
      "cell_type": "code",
      "metadata": {
        "id": "l3SQOQzwI7cj"
      },
      "source": [
        "# 10번만 돌려봅시다.\n",
        "\n",
        "for i in range(10):\n",
        "    w, b = update(x,w,b,y, 0.0001)\n",
        "    loss = cost(x, w, b, y)\n",
        "    print(\"w b : \", w, b)\n",
        "    print(\"loss : \", loss)"
      ],
      "execution_count": null,
      "outputs": []
    },
    {
      "cell_type": "code",
      "metadata": {
        "id": "J_2zaw-YI7cj"
      },
      "source": [
        "# 100번 더 학습해봅시다.\n",
        "losses = []\n",
        "for i in range(500):\n",
        "    w, b = update(x,w,b,y, 0.0001)\n",
        "    loss = cost(x, w, b, y)\n",
        "    if (i+1)%100:\n",
        "        print(\"w b : \", w, b)\n",
        "        print(\"loss : \", loss)\n",
        "        losses.append(loss)"
      ],
      "execution_count": null,
      "outputs": []
    },
    {
      "cell_type": "code",
      "metadata": {
        "id": "2P92kScZI7ck"
      },
      "source": [
        "plt.plot(losses)"
      ],
      "execution_count": null,
      "outputs": []
    },
    {
      "cell_type": "code",
      "metadata": {
        "id": "WqeAs_2fI7ck"
      },
      "source": [
        ""
      ],
      "execution_count": null,
      "outputs": []
    }
  ]
}