{
  "nbformat": 4,
  "nbformat_minor": 0,
  "metadata": {
    "colab": {
      "name": "autoprice regression reviewed.ipynb",
      "provenance": [],
      "collapsed_sections": []
    },
    "kernelspec": {
      "display_name": "Python 3",
      "language": "python",
      "name": "python3"
    },
    "language_info": {
      "codemirror_mode": {
        "name": "ipython",
        "version": 3
      },
      "file_extension": ".py",
      "mimetype": "text/x-python",
      "name": "python",
      "nbconvert_exporter": "python",
      "pygments_lexer": "ipython3",
      "version": "3.6.9"
    }
  },
  "cells": [
    {
      "cell_type": "markdown",
      "metadata": {
        "id": "QFu6BpI3ImCg"
      },
      "source": [
        "# **Autoprice 데이터를 이용한 <span style=\"color:darkgreen\">머신러닝</span> 문제**\n",
        "---"
      ]
    },
    {
      "cell_type": "markdown",
      "metadata": {
        "id": "YjQkc3VKsho0"
      },
      "source": [
        "> **<span style=\"color:red\">다음 문항을 풀기 전에 </span>아래 코드를 실행하시오.**<br>\n",
        "> 반드시 코드와 주석을 읽고 문제를 푸시오. <br>\n",
        "> 반드시 출력된 데이터 설명을 읽고 문제를 푸시오.<br>\n",
        "> [데이터 출처 & 설명](https://archive.ics.uci.edu/ml/datasets/automobile)도 읽고 문제를 푸시오.\n",
        "---\n",
        "\n"
      ]
    },
    {
      "cell_type": "markdown",
      "metadata": {
        "id": "dsPUFuSXWmBd"
      },
      "source": [
        "중점적으로 복습하면 좋을 기능들 :\n",
        "\n",
        "- [**]dataframe의 replace 사용방법\n",
        "\n",
        "- [***]dataframe의 drop, dropna 사용법 (내가 원하는 row나 column을 제거하는 방법. 본인에게 익숙한 방법으로 프로그래밍하면 됩니다.)\n",
        "\n",
        "- [***]dataframe의 새로운 column 생성하는 법.\n",
        "  \n",
        "  - df['new_columns'] = new_column_series\n",
        "\n",
        "- [***]train_test_split 사용방법 (stratefy 또는 shuffle 옵션 참고 : [link](https://wikidocs.net/43332))\n",
        "\n",
        "- [*]SimpleImputer 사용방법\n",
        "\n",
        "- [***]get_dummies 사용방법 (first_drop=True 적용까지)\n",
        "\n",
        "\n",
        "\n"
      ]
    },
    {
      "cell_type": "code",
      "metadata": {
        "colab": {
          "base_uri": "https://localhost:8080/",
          "height": 276
        },
        "id": "xHA7TccJTIa6",
        "outputId": "39362f14-4dc9-4a3d-891a-112611403c6b"
      },
      "source": [
        "import numpy as np\n",
        "import pandas as pd\n",
        "import matplotlib.pyplot as plt\n",
        "\n",
        "cols = ['symboling', 'normalized_losses', 'make', 'fuel_type', 'aspiration', 'num_of_doors',\n",
        "        'body_style', 'drive_wheels', 'engine_location', 'wheel_base', 'length', 'width', 'height',\n",
        "        'curb_weight', 'engine_type', 'num_of_cylinders', 'engine_size', 'fuel_system', 'bore', 'stroke',\n",
        "        'compression_ratio', 'horse_power', 'peak_rpm', 'city_mpg', 'highway_mpg', 'price']\n",
        "data = pd.read_csv('https://archive.ics.uci.edu/ml/machine-learning-databases/autos/imports-85.data', header=None, names=cols)\n",
        "\n",
        "data.head(5)\n"
      ],
      "execution_count": null,
      "outputs": [
        {
          "output_type": "execute_result",
          "data": {
            "text/html": [
              "<div>\n",
              "<style scoped>\n",
              "    .dataframe tbody tr th:only-of-type {\n",
              "        vertical-align: middle;\n",
              "    }\n",
              "\n",
              "    .dataframe tbody tr th {\n",
              "        vertical-align: top;\n",
              "    }\n",
              "\n",
              "    .dataframe thead th {\n",
              "        text-align: right;\n",
              "    }\n",
              "</style>\n",
              "<table border=\"1\" class=\"dataframe\">\n",
              "  <thead>\n",
              "    <tr style=\"text-align: right;\">\n",
              "      <th></th>\n",
              "      <th>symboling</th>\n",
              "      <th>normalized_losses</th>\n",
              "      <th>make</th>\n",
              "      <th>fuel_type</th>\n",
              "      <th>aspiration</th>\n",
              "      <th>num_of_doors</th>\n",
              "      <th>body_style</th>\n",
              "      <th>drive_wheels</th>\n",
              "      <th>engine_location</th>\n",
              "      <th>wheel_base</th>\n",
              "      <th>length</th>\n",
              "      <th>width</th>\n",
              "      <th>height</th>\n",
              "      <th>curb_weight</th>\n",
              "      <th>engine_type</th>\n",
              "      <th>num_of_cylinders</th>\n",
              "      <th>engine_size</th>\n",
              "      <th>fuel_system</th>\n",
              "      <th>bore</th>\n",
              "      <th>stroke</th>\n",
              "      <th>compression_ratio</th>\n",
              "      <th>horse_power</th>\n",
              "      <th>peak_rpm</th>\n",
              "      <th>city_mpg</th>\n",
              "      <th>highway_mpg</th>\n",
              "      <th>price</th>\n",
              "    </tr>\n",
              "  </thead>\n",
              "  <tbody>\n",
              "    <tr>\n",
              "      <th>0</th>\n",
              "      <td>3</td>\n",
              "      <td>?</td>\n",
              "      <td>alfa-romero</td>\n",
              "      <td>gas</td>\n",
              "      <td>std</td>\n",
              "      <td>two</td>\n",
              "      <td>convertible</td>\n",
              "      <td>rwd</td>\n",
              "      <td>front</td>\n",
              "      <td>88.6</td>\n",
              "      <td>168.8</td>\n",
              "      <td>64.1</td>\n",
              "      <td>48.8</td>\n",
              "      <td>2548</td>\n",
              "      <td>dohc</td>\n",
              "      <td>four</td>\n",
              "      <td>130</td>\n",
              "      <td>mpfi</td>\n",
              "      <td>3.47</td>\n",
              "      <td>2.68</td>\n",
              "      <td>9.0</td>\n",
              "      <td>111</td>\n",
              "      <td>5000</td>\n",
              "      <td>21</td>\n",
              "      <td>27</td>\n",
              "      <td>13495</td>\n",
              "    </tr>\n",
              "    <tr>\n",
              "      <th>1</th>\n",
              "      <td>3</td>\n",
              "      <td>?</td>\n",
              "      <td>alfa-romero</td>\n",
              "      <td>gas</td>\n",
              "      <td>std</td>\n",
              "      <td>two</td>\n",
              "      <td>convertible</td>\n",
              "      <td>rwd</td>\n",
              "      <td>front</td>\n",
              "      <td>88.6</td>\n",
              "      <td>168.8</td>\n",
              "      <td>64.1</td>\n",
              "      <td>48.8</td>\n",
              "      <td>2548</td>\n",
              "      <td>dohc</td>\n",
              "      <td>four</td>\n",
              "      <td>130</td>\n",
              "      <td>mpfi</td>\n",
              "      <td>3.47</td>\n",
              "      <td>2.68</td>\n",
              "      <td>9.0</td>\n",
              "      <td>111</td>\n",
              "      <td>5000</td>\n",
              "      <td>21</td>\n",
              "      <td>27</td>\n",
              "      <td>16500</td>\n",
              "    </tr>\n",
              "    <tr>\n",
              "      <th>2</th>\n",
              "      <td>1</td>\n",
              "      <td>?</td>\n",
              "      <td>alfa-romero</td>\n",
              "      <td>gas</td>\n",
              "      <td>std</td>\n",
              "      <td>two</td>\n",
              "      <td>hatchback</td>\n",
              "      <td>rwd</td>\n",
              "      <td>front</td>\n",
              "      <td>94.5</td>\n",
              "      <td>171.2</td>\n",
              "      <td>65.5</td>\n",
              "      <td>52.4</td>\n",
              "      <td>2823</td>\n",
              "      <td>ohcv</td>\n",
              "      <td>six</td>\n",
              "      <td>152</td>\n",
              "      <td>mpfi</td>\n",
              "      <td>2.68</td>\n",
              "      <td>3.47</td>\n",
              "      <td>9.0</td>\n",
              "      <td>154</td>\n",
              "      <td>5000</td>\n",
              "      <td>19</td>\n",
              "      <td>26</td>\n",
              "      <td>16500</td>\n",
              "    </tr>\n",
              "    <tr>\n",
              "      <th>3</th>\n",
              "      <td>2</td>\n",
              "      <td>164</td>\n",
              "      <td>audi</td>\n",
              "      <td>gas</td>\n",
              "      <td>std</td>\n",
              "      <td>four</td>\n",
              "      <td>sedan</td>\n",
              "      <td>fwd</td>\n",
              "      <td>front</td>\n",
              "      <td>99.8</td>\n",
              "      <td>176.6</td>\n",
              "      <td>66.2</td>\n",
              "      <td>54.3</td>\n",
              "      <td>2337</td>\n",
              "      <td>ohc</td>\n",
              "      <td>four</td>\n",
              "      <td>109</td>\n",
              "      <td>mpfi</td>\n",
              "      <td>3.19</td>\n",
              "      <td>3.40</td>\n",
              "      <td>10.0</td>\n",
              "      <td>102</td>\n",
              "      <td>5500</td>\n",
              "      <td>24</td>\n",
              "      <td>30</td>\n",
              "      <td>13950</td>\n",
              "    </tr>\n",
              "    <tr>\n",
              "      <th>4</th>\n",
              "      <td>2</td>\n",
              "      <td>164</td>\n",
              "      <td>audi</td>\n",
              "      <td>gas</td>\n",
              "      <td>std</td>\n",
              "      <td>four</td>\n",
              "      <td>sedan</td>\n",
              "      <td>4wd</td>\n",
              "      <td>front</td>\n",
              "      <td>99.4</td>\n",
              "      <td>176.6</td>\n",
              "      <td>66.4</td>\n",
              "      <td>54.3</td>\n",
              "      <td>2824</td>\n",
              "      <td>ohc</td>\n",
              "      <td>five</td>\n",
              "      <td>136</td>\n",
              "      <td>mpfi</td>\n",
              "      <td>3.19</td>\n",
              "      <td>3.40</td>\n",
              "      <td>8.0</td>\n",
              "      <td>115</td>\n",
              "      <td>5500</td>\n",
              "      <td>18</td>\n",
              "      <td>22</td>\n",
              "      <td>17450</td>\n",
              "    </tr>\n",
              "  </tbody>\n",
              "</table>\n",
              "</div>"
            ],
            "text/plain": [
              "   symboling normalized_losses         make  ... city_mpg highway_mpg  price\n",
              "0          3                 ?  alfa-romero  ...       21          27  13495\n",
              "1          3                 ?  alfa-romero  ...       21          27  16500\n",
              "2          1                 ?  alfa-romero  ...       19          26  16500\n",
              "3          2               164         audi  ...       24          30  13950\n",
              "4          2               164         audi  ...       18          22  17450\n",
              "\n",
              "[5 rows x 26 columns]"
            ]
          },
          "metadata": {},
          "execution_count": 44
        }
      ]
    },
    {
      "cell_type": "code",
      "metadata": {
        "id": "rPdovpQT-9vh",
        "colab": {
          "base_uri": "https://localhost:8080/"
        },
        "outputId": "d9dc19d3-c4bf-4f39-9c94-83ec715e174f"
      },
      "source": [
        "data.shape"
      ],
      "execution_count": null,
      "outputs": [
        {
          "output_type": "execute_result",
          "data": {
            "text/plain": [
              "(205, 26)"
            ]
          },
          "metadata": {},
          "execution_count": 10
        }
      ]
    },
    {
      "cell_type": "code",
      "metadata": {
        "id": "0m6dz5tMBB2V",
        "colab": {
          "base_uri": "https://localhost:8080/"
        },
        "outputId": "9a48b0af-f01c-4dd2-cc7a-aaf4a7d5f711"
      },
      "source": [
        "len(data)"
      ],
      "execution_count": null,
      "outputs": [
        {
          "output_type": "execute_result",
          "data": {
            "text/plain": [
              "205"
            ]
          },
          "metadata": {},
          "execution_count": 11
        }
      ]
    },
    {
      "cell_type": "markdown",
      "metadata": {
        "id": "nyvpvXRNXE6A"
      },
      "source": [
        "# Q1. data안의 모든 결측치는 '?'로 되어 있다. 모든 ?를 np.nan으로 바꾸시오.\n",
        "-----------------------------"
      ]
    },
    {
      "cell_type": "code",
      "metadata": {
        "colab": {
          "base_uri": "https://localhost:8080/",
          "height": 276
        },
        "id": "8fhyRNM2VZyW",
        "outputId": "a00a7f40-5b3e-4ba2-dbef-c4c06890a7f4"
      },
      "source": [
        "####################\n",
        "## your code here ##\n",
        "####################\n",
        "\n",
        "data.replace(\"?\", np.nan, inplace = True)\n",
        "data.head()"
      ],
      "execution_count": null,
      "outputs": [
        {
          "output_type": "execute_result",
          "data": {
            "text/html": [
              "<div>\n",
              "<style scoped>\n",
              "    .dataframe tbody tr th:only-of-type {\n",
              "        vertical-align: middle;\n",
              "    }\n",
              "\n",
              "    .dataframe tbody tr th {\n",
              "        vertical-align: top;\n",
              "    }\n",
              "\n",
              "    .dataframe thead th {\n",
              "        text-align: right;\n",
              "    }\n",
              "</style>\n",
              "<table border=\"1\" class=\"dataframe\">\n",
              "  <thead>\n",
              "    <tr style=\"text-align: right;\">\n",
              "      <th></th>\n",
              "      <th>symboling</th>\n",
              "      <th>normalized_losses</th>\n",
              "      <th>make</th>\n",
              "      <th>fuel_type</th>\n",
              "      <th>aspiration</th>\n",
              "      <th>num_of_doors</th>\n",
              "      <th>body_style</th>\n",
              "      <th>drive_wheels</th>\n",
              "      <th>engine_location</th>\n",
              "      <th>wheel_base</th>\n",
              "      <th>length</th>\n",
              "      <th>width</th>\n",
              "      <th>height</th>\n",
              "      <th>curb_weight</th>\n",
              "      <th>engine_type</th>\n",
              "      <th>num_of_cylinders</th>\n",
              "      <th>engine_size</th>\n",
              "      <th>fuel_system</th>\n",
              "      <th>bore</th>\n",
              "      <th>stroke</th>\n",
              "      <th>compression_ratio</th>\n",
              "      <th>horse_power</th>\n",
              "      <th>peak_rpm</th>\n",
              "      <th>city_mpg</th>\n",
              "      <th>highway_mpg</th>\n",
              "      <th>price</th>\n",
              "    </tr>\n",
              "  </thead>\n",
              "  <tbody>\n",
              "    <tr>\n",
              "      <th>0</th>\n",
              "      <td>3</td>\n",
              "      <td>NaN</td>\n",
              "      <td>alfa-romero</td>\n",
              "      <td>gas</td>\n",
              "      <td>std</td>\n",
              "      <td>two</td>\n",
              "      <td>convertible</td>\n",
              "      <td>rwd</td>\n",
              "      <td>front</td>\n",
              "      <td>88.6</td>\n",
              "      <td>168.8</td>\n",
              "      <td>64.1</td>\n",
              "      <td>48.8</td>\n",
              "      <td>2548</td>\n",
              "      <td>dohc</td>\n",
              "      <td>four</td>\n",
              "      <td>130</td>\n",
              "      <td>mpfi</td>\n",
              "      <td>3.47</td>\n",
              "      <td>2.68</td>\n",
              "      <td>9.0</td>\n",
              "      <td>111</td>\n",
              "      <td>5000</td>\n",
              "      <td>21</td>\n",
              "      <td>27</td>\n",
              "      <td>13495</td>\n",
              "    </tr>\n",
              "    <tr>\n",
              "      <th>1</th>\n",
              "      <td>3</td>\n",
              "      <td>NaN</td>\n",
              "      <td>alfa-romero</td>\n",
              "      <td>gas</td>\n",
              "      <td>std</td>\n",
              "      <td>two</td>\n",
              "      <td>convertible</td>\n",
              "      <td>rwd</td>\n",
              "      <td>front</td>\n",
              "      <td>88.6</td>\n",
              "      <td>168.8</td>\n",
              "      <td>64.1</td>\n",
              "      <td>48.8</td>\n",
              "      <td>2548</td>\n",
              "      <td>dohc</td>\n",
              "      <td>four</td>\n",
              "      <td>130</td>\n",
              "      <td>mpfi</td>\n",
              "      <td>3.47</td>\n",
              "      <td>2.68</td>\n",
              "      <td>9.0</td>\n",
              "      <td>111</td>\n",
              "      <td>5000</td>\n",
              "      <td>21</td>\n",
              "      <td>27</td>\n",
              "      <td>16500</td>\n",
              "    </tr>\n",
              "    <tr>\n",
              "      <th>2</th>\n",
              "      <td>1</td>\n",
              "      <td>NaN</td>\n",
              "      <td>alfa-romero</td>\n",
              "      <td>gas</td>\n",
              "      <td>std</td>\n",
              "      <td>two</td>\n",
              "      <td>hatchback</td>\n",
              "      <td>rwd</td>\n",
              "      <td>front</td>\n",
              "      <td>94.5</td>\n",
              "      <td>171.2</td>\n",
              "      <td>65.5</td>\n",
              "      <td>52.4</td>\n",
              "      <td>2823</td>\n",
              "      <td>ohcv</td>\n",
              "      <td>six</td>\n",
              "      <td>152</td>\n",
              "      <td>mpfi</td>\n",
              "      <td>2.68</td>\n",
              "      <td>3.47</td>\n",
              "      <td>9.0</td>\n",
              "      <td>154</td>\n",
              "      <td>5000</td>\n",
              "      <td>19</td>\n",
              "      <td>26</td>\n",
              "      <td>16500</td>\n",
              "    </tr>\n",
              "    <tr>\n",
              "      <th>3</th>\n",
              "      <td>2</td>\n",
              "      <td>164</td>\n",
              "      <td>audi</td>\n",
              "      <td>gas</td>\n",
              "      <td>std</td>\n",
              "      <td>four</td>\n",
              "      <td>sedan</td>\n",
              "      <td>fwd</td>\n",
              "      <td>front</td>\n",
              "      <td>99.8</td>\n",
              "      <td>176.6</td>\n",
              "      <td>66.2</td>\n",
              "      <td>54.3</td>\n",
              "      <td>2337</td>\n",
              "      <td>ohc</td>\n",
              "      <td>four</td>\n",
              "      <td>109</td>\n",
              "      <td>mpfi</td>\n",
              "      <td>3.19</td>\n",
              "      <td>3.40</td>\n",
              "      <td>10.0</td>\n",
              "      <td>102</td>\n",
              "      <td>5500</td>\n",
              "      <td>24</td>\n",
              "      <td>30</td>\n",
              "      <td>13950</td>\n",
              "    </tr>\n",
              "    <tr>\n",
              "      <th>4</th>\n",
              "      <td>2</td>\n",
              "      <td>164</td>\n",
              "      <td>audi</td>\n",
              "      <td>gas</td>\n",
              "      <td>std</td>\n",
              "      <td>four</td>\n",
              "      <td>sedan</td>\n",
              "      <td>4wd</td>\n",
              "      <td>front</td>\n",
              "      <td>99.4</td>\n",
              "      <td>176.6</td>\n",
              "      <td>66.4</td>\n",
              "      <td>54.3</td>\n",
              "      <td>2824</td>\n",
              "      <td>ohc</td>\n",
              "      <td>five</td>\n",
              "      <td>136</td>\n",
              "      <td>mpfi</td>\n",
              "      <td>3.19</td>\n",
              "      <td>3.40</td>\n",
              "      <td>8.0</td>\n",
              "      <td>115</td>\n",
              "      <td>5500</td>\n",
              "      <td>18</td>\n",
              "      <td>22</td>\n",
              "      <td>17450</td>\n",
              "    </tr>\n",
              "  </tbody>\n",
              "</table>\n",
              "</div>"
            ],
            "text/plain": [
              "   symboling normalized_losses         make  ... city_mpg highway_mpg  price\n",
              "0          3               NaN  alfa-romero  ...       21          27  13495\n",
              "1          3               NaN  alfa-romero  ...       21          27  16500\n",
              "2          1               NaN  alfa-romero  ...       19          26  16500\n",
              "3          2               164         audi  ...       24          30  13950\n",
              "4          2               164         audi  ...       18          22  17450\n",
              "\n",
              "[5 rows x 26 columns]"
            ]
          },
          "metadata": {},
          "execution_count": 12
        }
      ]
    },
    {
      "cell_type": "markdown",
      "metadata": {
        "id": "UVYWjRBVW5VV"
      },
      "source": [
        "# Q2. data의 컬럼들을 다음 조건에 맞추어 변환하시오.\n",
        "-------------------------\n",
        "* 대상 컬럼 : price, peak_rpm, horse_power, stroke, bore, normalized_losses \n",
        "* float64로 데이터 타입을 바꾼다.\n",
        "--------------------------"
      ]
    },
    {
      "cell_type": "code",
      "metadata": {
        "id": "12stl0fXDhDR"
      },
      "source": [
        "# 매우 가독성있는 방법\n",
        "data = data.astype({'price':'float64', \n",
        "                    'peak_rpm':'float64', \n",
        "                    'horse_power':'float64', \n",
        "                    'stroke':'float64', \n",
        "                    'bore':'float64', \n",
        "                    'normalized_losses':'float64'}) "
      ],
      "execution_count": null,
      "outputs": []
    },
    {
      "cell_type": "code",
      "metadata": {
        "id": "JQp9ojK2Cevl"
      },
      "source": [
        "# apply 함수를 사용. 장점 : 함수만 변경하면, 데이터값을 변환하는 다양한 상황에서 호환성있게 사용할 수 있다. \n",
        "\n",
        "def to_float(element):\n",
        "  return np.float64(element)\n",
        "\n",
        "cols = ['normalized_losses', 'bore', 'stroke', 'horse_power', 'peak_rpm', 'price']\n",
        "\n",
        "for col in cols:\n",
        "  data[col] = data[col].apply(to_float)"
      ],
      "execution_count": null,
      "outputs": []
    },
    {
      "cell_type": "code",
      "metadata": {
        "id": "cs74s6QnX47s"
      },
      "source": [
        "# solution\n",
        "\n",
        "data[['normalized_losses', 'bore', 'stroke', 'horse_power', 'peak_rpm', 'price']] = data[['normalized_losses', 'bore', 'stroke', 'horse_power', 'peak_rpm', 'price']].astype(np.float64)"
      ],
      "execution_count": null,
      "outputs": []
    },
    {
      "cell_type": "code",
      "metadata": {
        "id": "b51mgvTr-9vk"
      },
      "source": [
        "data.head(15)"
      ],
      "execution_count": null,
      "outputs": []
    },
    {
      "cell_type": "markdown",
      "metadata": {
        "id": "mOumdKHWZgvI"
      },
      "source": [
        "# Q3. data에서 price컬럼이 NaN인 row를 제거하고, 인덱스를 reset하시오.\n",
        "----------------"
      ]
    },
    {
      "cell_type": "code",
      "metadata": {
        "id": "usHfLvBcZ42B"
      },
      "source": [
        "####################\n",
        "## your code here ##\n",
        "####################\n",
        "'''\n",
        "1. solution\n",
        "data.drop(data[data['price'].isna()].index, inplace=True)\n",
        "data.reset_index(drop=True, inplace=True)\n",
        "\n",
        "2. dropna를 사용한 방식\n",
        "'''\n",
        "x = data['price'].dropna(axis=0)\n",
        "data = data.loc[x.index]\n",
        "data.reset_index(drop=True, inplace=True)"
      ],
      "execution_count": null,
      "outputs": []
    },
    {
      "cell_type": "code",
      "metadata": {
        "id": "HWofNPlJE9EK",
        "colab": {
          "base_uri": "https://localhost:8080/"
        },
        "outputId": "0d81215a-8fd9-4879-e31c-b97c6a5d0537"
      },
      "source": [
        "len(data) #데이터 4개 소거"
      ],
      "execution_count": null,
      "outputs": [
        {
          "output_type": "execute_result",
          "data": {
            "text/plain": [
              "201"
            ]
          },
          "metadata": {},
          "execution_count": 15
        }
      ]
    },
    {
      "cell_type": "markdown",
      "metadata": {
        "id": "-cDCodvfacIp"
      },
      "source": [
        "# Q4. data를 트레이닝셋과 테스트셋으로 분할하시오.\n",
        "------------------\n",
        "* price 컬럼이 y, 나머지 컬럼이 x가 된다.\n",
        "* 변수명 규칙 :\n",
        "    - x_train, x_test, y_train, y_test\n",
        "* train : test = 8 : 2\n",
        "* random state, seed 등은 2021로 고정\n",
        "--------------------"
      ]
    },
    {
      "cell_type": "code",
      "metadata": {
        "id": "KAy9-35VaBPQ"
      },
      "source": [
        "####################\n",
        "## your code here ##\n",
        "####################\n",
        "\n",
        "from sklearn.model_selection import train_test_split\n",
        "\n",
        "X = data.drop(['price'], axis=1)\n",
        "Y = data['price']"
      ],
      "execution_count": null,
      "outputs": []
    },
    {
      "cell_type": "code",
      "metadata": {
        "id": "0Ma44qcXGF7N",
        "colab": {
          "base_uri": "https://localhost:8080/"
        },
        "outputId": "8c796f8c-c250-42ca-e69d-d8f73687ec5f"
      },
      "source": [
        "print(\"X shape : \", X.shape, \"Y shape : \", Y.shape)"
      ],
      "execution_count": null,
      "outputs": [
        {
          "output_type": "stream",
          "name": "stdout",
          "text": [
            "X shape :  (201, 25) Y shape :  (201,)\n"
          ]
        }
      ]
    },
    {
      "cell_type": "code",
      "metadata": {
        "id": "fTQCUpGVGE_Q"
      },
      "source": [
        "x_train, x_test, y_train, y_test = train_test_split(X, Y, test_size=0.2, random_state=2021)"
      ],
      "execution_count": null,
      "outputs": []
    },
    {
      "cell_type": "code",
      "metadata": {
        "id": "x1VwplVsGR7H",
        "colab": {
          "base_uri": "https://localhost:8080/"
        },
        "outputId": "fea1e924-6ad7-4101-e06d-4cd0608da073"
      },
      "source": [
        "print(x_train.shape, x_test.shape, y_train.shape, y_test.shape)"
      ],
      "execution_count": null,
      "outputs": [
        {
          "output_type": "execute_result",
          "data": {
            "text/plain": [
              "((160, 25), (41, 25), (160,), (41,))"
            ]
          },
          "metadata": {},
          "execution_count": 22
        }
      ]
    },
    {
      "cell_type": "code",
      "metadata": {
        "id": "lt9XqX_AIvSK"
      },
      "source": [
        ""
      ],
      "execution_count": null,
      "outputs": []
    },
    {
      "cell_type": "markdown",
      "metadata": {
        "id": "JBU259uFbUAB"
      },
      "source": [
        "# Q5. data.info()를 확인하여 x안에 빈값이 있는 곳을 Imputing 하시오.\n",
        "----------------------\n",
        "* 모든 전처리 규칙은 트레이닝셋을 기준으로 찾는다.\n",
        "    - x_train, x_test 전부 imputing한다.\n",
        "* 데이터 타입이 object라면\n",
        "    - 카테고리 데이터 취급을 한다.\n",
        "    - 최빈값으로 imputing 한다.\n",
        "* 데이터 타입이 object가 아니라면\n",
        "    - 연속형 데이터 취급을 한다.\n",
        "    - 평균값으로 imputing 한다.\n",
        "-----------------------"
      ]
    },
    {
      "cell_type": "code",
      "metadata": {
        "id": "9DFri6iEK93t"
      },
      "source": [
        "data.info()"
      ],
      "execution_count": null,
      "outputs": []
    },
    {
      "cell_type": "code",
      "metadata": {
        "id": "AV6ef8YHbYe9"
      },
      "source": [
        "####################\n",
        "## your code here ##\n",
        "####################\n",
        "\n",
        "from sklearn.impute import SimpleImputer\n",
        "\n",
        "imputer_num = SimpleImputer(strategy='mean') # 평균 imputing 객체생성\n",
        "imputer_ca = SimpleImputer(strategy='most_frequent') # 최빈값 imputing 객체생성\n",
        "\n",
        "num_cols = ['normalized_losses', 'bore', 'stroke', 'horse_power', 'peak_rpm'] # NaN이 있었던 numeric columns\n",
        "ca_cols = ['num_of_doors'] # NaN이 있었던 categorical columns\n",
        "\n",
        "x_train[ca_cols] = imputer_ca.fit_transform(x_train[ca_cols]) #imputing을 한 뒤, 기존 column에 assign\n",
        "x_train[num_cols] = imputer_num.fit_transform(x_train[num_cols]) #imputing을 한 뒤, 기존 column에 assign\n",
        "\n",
        "x_test[ca_cols] = imputer_ca.transform(x_test[ca_cols]) #imputing을 한 뒤, 기존 column에 assign\n",
        "x_test[num_cols] = imputer_num.transform(x_test[num_cols]) #imputing을 한 뒤, 기존 column에 assign"
      ],
      "execution_count": null,
      "outputs": []
    },
    {
      "cell_type": "markdown",
      "metadata": {
        "id": "UEtoBCyhdIYS"
      },
      "source": [
        "# Q6. 모든 x안의 카테고리 데이터를 더미변수들로 바꾸시오.\n",
        "---------------------\n",
        "* 모든 전처리 규칙은 트레닝셋을 기준으로 찾는다.\n",
        "* x_train.info()를 확인하여 object라면 카테고리 데이터 취급한다.\n",
        "    - 단, 'symboling'변수도 더미변수로 만든다.\n",
        "* 카테고리 데이터 안에 3개 클래스가 있다면, 2개 컬럼이 만들어져야 한다.\n",
        "* 원본 컬럼은 제거한다.\n",
        "* 더미 변수 제작 후, x_test의 컬럼들은 x_train의 컬럼과 같아야 한다.\n",
        "    - x_train에 없는 x_test의 컬럼은 제거를 해야 한다.\n",
        "    - x_train에만 있는 컬럼은 x_test에도 만들어야 한다.(0으로 채운다.)\n",
        "------------------------------"
      ]
    },
    {
      "cell_type": "code",
      "metadata": {
        "id": "KS37BcEwdg9k"
      },
      "source": [
        "####################\n",
        "## your code here ##\n",
        "####################\n",
        "\n",
        "x_train = pd.get_dummies(x_train, columns = ['symboling', 'make', 'fuel_type', 'aspiration',\n",
        "       'num_of_doors', 'body_style', 'drive_wheels', 'engine_location',\n",
        "       'engine_type', 'num_of_cylinders', 'fuel_system'], drop_first=True)\n",
        "\n",
        "x_test = pd.get_dummies(x_test, columns = ['symboling', 'make', 'fuel_type', 'aspiration',\n",
        "       'num_of_doors', 'body_style', 'drive_wheels', 'engine_location',\n",
        "       'engine_type', 'num_of_cylinders', 'fuel_system'], drop_first=True)\n",
        "\n",
        "temp = pd.DataFrame()\n",
        "\n",
        "for col in x_train.columns :\n",
        "    try :\n",
        "        temp[col] = x_test[col]\n",
        "    except :\n",
        "        temp[col] = 0\n",
        "x_test = temp"
      ],
      "execution_count": null,
      "outputs": []
    },
    {
      "cell_type": "code",
      "metadata": {
        "id": "DXgBmuOpSNdI",
        "colab": {
          "base_uri": "https://localhost:8080/"
        },
        "outputId": "8fe8b6c1-9d37-4934-9054-c67000d1b639"
      },
      "source": [
        "print(\"train shape : \", x_train.shape)\n",
        "print(\"test shape : \", x_test.shape)"
      ],
      "execution_count": null,
      "outputs": [
        {
          "output_type": "stream",
          "name": "stdout",
          "text": [
            "train shape :  (160, 66)\n",
            "test shape :  (41, 66)\n"
          ]
        }
      ]
    },
    {
      "cell_type": "markdown",
      "metadata": {
        "id": "9y0RT02lgP5Y"
      },
      "source": [
        "# Q7. 선형회귀 모델을 학습시키시오.\n",
        "---------------------\n",
        "* 모델을 lr에 선언하시오.\n",
        "---------------------"
      ]
    },
    {
      "cell_type": "code",
      "metadata": {
        "colab": {
          "base_uri": "https://localhost:8080/"
        },
        "id": "J4WwLJ9LgXOT",
        "outputId": "6f30b140-4781-446a-83d3-72ab2441fade"
      },
      "source": [
        "####################\n",
        "## your code here ##\n",
        "####################\n",
        "from sklearn.linear_model import LinearRegression\n",
        "\n",
        "lr = LinearRegression()\n",
        "lr.fit(x_train, y_train)"
      ],
      "execution_count": null,
      "outputs": [
        {
          "output_type": "execute_result",
          "data": {
            "text/plain": [
              "LinearRegression(copy_X=True, fit_intercept=True, n_jobs=None, normalize=False)"
            ]
          },
          "metadata": {},
          "execution_count": 32
        }
      ]
    },
    {
      "cell_type": "code",
      "metadata": {
        "id": "l1UsGDqQSltx",
        "colab": {
          "base_uri": "https://localhost:8080/"
        },
        "outputId": "7dd16830-58b4-47b8-f5f4-959edf32b0c8"
      },
      "source": [
        "print(\"weight의 수 :\", lr.coef_.shape, \"bias : \", lr.intercept_)"
      ],
      "execution_count": null,
      "outputs": [
        {
          "output_type": "stream",
          "name": "stdout",
          "text": [
            "weight의 수 : (66,) bias :  -6919.302088719043\n"
          ]
        }
      ]
    },
    {
      "cell_type": "markdown",
      "metadata": {
        "id": "54NCfEZLggEb"
      },
      "source": [
        "# Q8. 트레이닝셋에서, 'aspiration_turbo'가 1인 경우만을 이용하여 선형회귀 모델을 학습시키시오.\n",
        "----------------\n",
        "* 모델을 lr_turbo 에 선언하시오.\n",
        "* 전처리 방식에 따라서 aspiration_std가 0인 경우를 골라야할 수도 있다.\n",
        "--------------"
      ]
    },
    {
      "cell_type": "code",
      "metadata": {
        "colab": {
          "base_uri": "https://localhost:8080/"
        },
        "id": "spoUS9ODhNgv",
        "outputId": "b54bf6d6-5794-4676-b57e-6a17ceb1e528"
      },
      "source": [
        "####################\n",
        "## your code here ##\n",
        "####################\n",
        "from sklearn.linear_model import LinearRegression\n",
        "\n",
        "lr_turbo = LinearRegression()\n",
        "\n",
        "x_train_t = x_train[x_train['aspiration_turbo']==1]\n",
        "y_train_t = y_train[x_train['aspiration_turbo']==1]\n",
        "\n",
        "lr_turbo.fit(x_train_t, y_train_t)\n"
      ],
      "execution_count": null,
      "outputs": [
        {
          "output_type": "execute_result",
          "data": {
            "text/plain": [
              "LinearRegression(copy_X=True, fit_intercept=True, n_jobs=None, normalize=False)"
            ]
          },
          "metadata": {},
          "execution_count": 39
        }
      ]
    },
    {
      "cell_type": "markdown",
      "metadata": {
        "id": "NI0OnIaGh73d"
      },
      "source": [
        "# Q9. 트레이닝셋에서, 'aspiration_turbo'가 0인 경우만을 이용하여 선형회귀 모델을 학습시키시오.\n",
        "----------------\n",
        "* 모델을 lr_std 에 선언하시오.\n",
        "* 전처리 방식에 따라서 aspiration_std가 1인 경우를 골라야할 수도 있다.\n",
        "--------------"
      ]
    },
    {
      "cell_type": "code",
      "metadata": {
        "colab": {
          "base_uri": "https://localhost:8080/"
        },
        "id": "EXlrpRgJh73d",
        "outputId": "44d8ddc9-2998-4d15-f7bc-8c29620e7845"
      },
      "source": [
        "####################\n",
        "## your code here ##\n",
        "####################\n",
        "from sklearn.linear_model import LinearRegression\n",
        "\n",
        "lr_std = LinearRegression()\n",
        "\n",
        "x_train_s = x_train[x_train['aspiration_turbo']==0]\n",
        "y_train_s = y_train[x_train['aspiration_turbo']==0]\n",
        "\n",
        "lr_std.fit(x_train_s, y_train_s)\n"
      ],
      "execution_count": null,
      "outputs": [
        {
          "output_type": "execute_result",
          "data": {
            "text/plain": [
              "LinearRegression(copy_X=True, fit_intercept=True, n_jobs=None, normalize=False)"
            ]
          },
          "metadata": {},
          "execution_count": 40
        }
      ]
    },
    {
      "cell_type": "markdown",
      "metadata": {
        "id": "g6k9Uf4SiI9K"
      },
      "source": [
        "# Q10. lr, lr_turbo, lr_std 를 테스트셋 위에서 평가하시오.\n",
        "--------------------\n",
        "* RMSE를 출력한다.\n",
        "* lr_turbo는 테스트셋에서, aspiration_turbo가 1인 경우만을 이용하여 평가한다.\n",
        "* lr_std는 테스트셋에서, aspiration_turbo가 0인 경우만을 이용하여 평가한다.\n",
        "-----------------------------------------------"
      ]
    },
    {
      "cell_type": "code",
      "metadata": {
        "colab": {
          "base_uri": "https://localhost:8080/"
        },
        "id": "mlim2nyBiYPl",
        "outputId": "6d04bad4-95b4-47f9-d1bb-e36f1ea62c94"
      },
      "source": [
        "####################\n",
        "## your code here ##\n",
        "####################\n",
        "from sklearn.metrics import mean_squared_error as MSE\n",
        "\n",
        "x_test_t = x_test[x_test['aspiration_turbo']==1]\n",
        "y_test_t = y_test[x_test['aspiration_turbo']==1]\n",
        "\n",
        "x_test_s = x_test[x_test['aspiration_turbo']==0]\n",
        "y_test_s = y_test[x_test['aspiration_turbo']==0]\n",
        "\n",
        "y_pred = lr.predict(x_test)\n",
        "y_pred_t = lr_turbo.predict(x_test_t)\n",
        "y_pred_s = lr_std.predict(x_test_s)\n",
        "\n",
        "rmse = MSE(y_test, y_pred)**.5\n",
        "rmse_turbo = MSE(y_test_t, y_pred_t)**.5\n",
        "rmse_std = MSE(y_test_s, y_pred_s)**.5\n",
        "\n",
        "print(f\"전체 모델의 RMSE : {rmse:.4f}\")\n",
        "print(f\"터보 모델의 RMSE : {rmse_turbo:.4f}\")\n",
        "print(f\"std 모델의 RMSE : {rmse_std:.4f}\")\n"
      ],
      "execution_count": null,
      "outputs": [
        {
          "output_type": "stream",
          "name": "stdout",
          "text": [
            "전체 모델의 RMSE : 2047.0041\n",
            "터보 모델의 RMSE : 72706.7265\n",
            "std 모델의 RMSE : 2273.9895\n"
          ]
        }
      ]
    },
    {
      "cell_type": "code",
      "metadata": {
        "id": "ATwpfRIV-9vq"
      },
      "source": [
        ""
      ],
      "execution_count": null,
      "outputs": []
    }
  ]
}