{
  "nbformat": 4,
  "nbformat_minor": 0,
  "metadata": {
    "kernelspec": {
      "display_name": "tf",
      "language": "python",
      "name": "tf"
    },
    "language_info": {
      "codemirror_mode": {
        "name": "ipython",
        "version": 3
      },
      "file_extension": ".py",
      "mimetype": "text/x-python",
      "name": "python",
      "nbconvert_exporter": "python",
      "pygments_lexer": "ipython3",
      "version": "3.6.9"
    },
    "colab": {
      "name": "Linear_Regression_1D.ipynb",
      "provenance": []
    }
  },
  "cells": [
    {
      "cell_type": "markdown",
      "metadata": {
        "id": "aGYq9yKuS7kg"
      },
      "source": [
        "# Supervised Learning"
      ]
    },
    {
      "cell_type": "markdown",
      "metadata": {
        "id": "Tdl9iu8DS7ko"
      },
      "source": [
        "## 1) Regression"
      ]
    },
    {
      "cell_type": "markdown",
      "metadata": {
        "id": "ffXMg1xbS7kp"
      },
      "source": [
        "### 1-1) Linear Regression from scratch"
      ]
    },
    {
      "cell_type": "code",
      "metadata": {
        "id": "J10hzBM0S7kp"
      },
      "source": [
        "import numpy as np\n",
        "from matplotlib import pyplot as plt\n",
        "% matplotlib inline"
      ],
      "execution_count": null,
      "outputs": []
    },
    {
      "cell_type": "markdown",
      "metadata": {
        "id": "A_xp8lptS7kr"
      },
      "source": [
        "# Step 1. Synthetic data Creation"
      ]
    },
    {
      "cell_type": "code",
      "metadata": {
        "id": "SbLRDEzwS7ks"
      },
      "source": [
        "# The number of data to be created\n",
        "m = 100"
      ],
      "execution_count": null,
      "outputs": []
    },
    {
      "cell_type": "code",
      "metadata": {
        "id": "lXVfxVrpS7kt"
      },
      "source": [
        "# 독립변수입력) x => 종속변수(정답) y \n",
        "x = np.random.randn(m, 1)\n",
        "y = 3 * x + np.random.rand(m, 1) * 5\n",
        "\n",
        "plt.scatter(x,y)\n",
        "plt.title(\"The distribution of created dataset \")\n",
        "plt.xlabel(\"input x\")\n",
        "plt.ylabel(\"output y\")"
      ],
      "execution_count": null,
      "outputs": []
    },
    {
      "cell_type": "code",
      "metadata": {
        "id": "bOxF1UL3S7ku"
      },
      "source": [
        "# 프로그래밍, 디버깅 과정에서 항상 데이터의 Shape을 보는 습관을 들이자.\n",
        "# 데이터의 수치는 보는 것은 코스트가 높은 행위이고, 생각보다 적은 정보를 준다.\n",
        "print (x.shape)\n",
        "print (y.shape)"
      ],
      "execution_count": null,
      "outputs": []
    },
    {
      "cell_type": "markdown",
      "metadata": {
        "id": "-qtTon0cS7kv"
      },
      "source": [
        "# Step 2. Model definition"
      ]
    },
    {
      "cell_type": "code",
      "metadata": {
        "id": "wCVgcTstS7kv"
      },
      "source": [
        "# initialization of weights and bias\n",
        "w = 0\n",
        "b = 0\n",
        "\n",
        "# Linear model : y = w*x + b\n",
        "def hypothesis(x, w, b):\n",
        "    pred = np.multiply(w, x) + b\n",
        "    return pred"
      ],
      "execution_count": null,
      "outputs": []
    },
    {
      "cell_type": "code",
      "metadata": {
        "id": "_ZAZM-PdS7kw"
      },
      "source": [
        "# 비용함수를 정의해봅시다! 학습에는 사용되지 않지만 학습과정에서 loss가 줄어드는지 확인해볼 수 있겠군요.\n",
        "\n",
        "loss = (1/2)*(hypothesis(x, w, b) - y)**2 # 1/2 * (h(x) - y)^2\n",
        "print(\"loss's shape? : \", loss.shape) #중간중간 정상적인 shape인지를 확인해줍시다."
      ],
      "execution_count": null,
      "outputs": []
    },
    {
      "cell_type": "code",
      "metadata": {
        "id": "2FStiDxKS7kx"
      },
      "source": [
        "# 모든 데이터에 대한 loss를 위해 총합을 구해봅시다.\n",
        "total_loss = (1/m)*np.sum(loss)\n",
        "print(\"loss's shape? : \", total_loss.shape)\n",
        "print(\"value of loss : \", total_loss)"
      ],
      "execution_count": null,
      "outputs": []
    },
    {
      "cell_type": "code",
      "metadata": {
        "id": "LL2m5Dm_S7kx"
      },
      "source": [
        "# 위에서 계산한대로 전체 loss의 평균을 리턴합니다.\n",
        "def cost(x, w, b, y):\n",
        "    loss = 1/2*(hypothesis(x, w, b) - y)**2 # loss = 1/2(h(x) - y)^2\n",
        "    total_loss = (1/m)*np.sum(loss)\n",
        "    return total_loss"
      ],
      "execution_count": null,
      "outputs": []
    },
    {
      "cell_type": "code",
      "metadata": {
        "id": "13Pv2n2mS7ky"
      },
      "source": [
        "cost(x, w, b, y)"
      ],
      "execution_count": null,
      "outputs": []
    },
    {
      "cell_type": "code",
      "metadata": {
        "id": "slKq5iBaS7ky"
      },
      "source": [
        "# 실제 학습에서는 gradient가 사용되죠?\n",
        "# 각 파라미터에 대한 gradient를 구해봅시다.\n",
        "# 자료에 gradient에 대한 수식이 있습니다.\n",
        "# d(cost)/dw =  (h(x) - y)(h(x))' = (h(x) - y)*x\n",
        "# d(cost)/db = (h(x) - y)(h(x))' = (h(x) -y)\n",
        "\n",
        "#shape 변화를 잘 트래킹하는 것이 요령입니다.\n",
        "print((hypothesis(x, w, b) - y).shape) # shape of (h(x) -y)\n",
        "print(x.shape) # shape of x\n",
        "print(((hypothesis(x, w, b) - y)*x).shape) # (h(x)-y)*x"
      ],
      "execution_count": null,
      "outputs": []
    },
    {
      "cell_type": "code",
      "metadata": {
        "id": "f4-5G0R0S7kz"
      },
      "source": [
        "# 마찬가지로 모든 데이터에 대한 평균을 구합니다.\n",
        "def derivative(x, w, b, y):\n",
        "    dw = (1/m)*np.sum(((hypothesis(x, w, b) - y)*x))\n",
        "    db = (1/m)*np.sum(((hypothesis(x, w, b) - y)))\n",
        "    return dw, db\n",
        "\n",
        "derivative(x,w,b,y)"
      ],
      "execution_count": null,
      "outputs": []
    },
    {
      "cell_type": "code",
      "metadata": {
        "id": "LnEWMolRS7kz"
      },
      "source": [
        "# 업데이트 함수(경사하강법) 구현\n",
        "def update(x, w, b, y, alpha):\n",
        "    dw, db = derivative(x, w, b, y)\n",
        "    w = w - alpha*dw # w := w + alpha * dw\n",
        "    b = b - alpha*db # b := b + alpha * db\n",
        "    return w, b"
      ],
      "execution_count": null,
      "outputs": []
    },
    {
      "cell_type": "markdown",
      "metadata": {
        "id": "uts4ZLM6S7kz"
      },
      "source": [
        "# Step 3. Training model"
      ]
    },
    {
      "cell_type": "code",
      "metadata": {
        "id": "x7iqb4UeTh-_"
      },
      "source": [
        "def visualize(w, b):\n",
        "    plt.scatter(x,y)\n",
        "    line_x = np.linspace(-4,4,100) # -4~4까지 100개의 값들\n",
        "    plt.plot(line_x, line_x * w + b) # -4~4까지 100개의 값에 대한 모델 출력값 = 선형모델이 만드는 선분으로 보일 것!\n",
        "    plt.show()"
      ],
      "execution_count": null,
      "outputs": []
    },
    {
      "cell_type": "code",
      "metadata": {
        "id": "9TT6DwXES7k0"
      },
      "source": [
        "# initialization of weights and bias\n",
        "w = 0\n",
        "b = 0"
      ],
      "execution_count": null,
      "outputs": []
    },
    {
      "cell_type": "code",
      "metadata": {
        "id": "KuZnkkFsS7k0"
      },
      "source": [
        "# 10번만 돌려봅시다.\n",
        "\n",
        "for i in range(10):\n",
        "    w, b = update(x,w,b,y, 0.01)\n",
        "    print(w, b)\n",
        "    visualize(w, b)"
      ],
      "execution_count": null,
      "outputs": []
    },
    {
      "cell_type": "code",
      "metadata": {
        "id": "TtC5_MemS7k0"
      },
      "source": [
        "# 100번당 이미지를 출력합니다.\n",
        "\n",
        "for i in range(1000):\n",
        "    w, b = update(x,w,b,y, 0.01) #학습률 0.01\n",
        "    if (i+1)%100 == 0:\n",
        "        visualize(w, b)"
      ],
      "execution_count": null,
      "outputs": []
    },
    {
      "cell_type": "code",
      "metadata": {
        "id": "M5iQga-OS7k0"
      },
      "source": [
        "w, b"
      ],
      "execution_count": null,
      "outputs": []
    },
    {
      "cell_type": "code",
      "metadata": {
        "id": "SFLr0ua7S7k1"
      },
      "source": [
        ""
      ],
      "execution_count": null,
      "outputs": []
    },
    {
      "cell_type": "markdown",
      "metadata": {
        "id": "zXAYPouQS7k1"
      },
      "source": [
        "### 1-2) Linear Regression with scikit-learn"
      ]
    },
    {
      "cell_type": "code",
      "metadata": {
        "id": "EDKbOFJHS7k1"
      },
      "source": [
        "from sklearn.linear_model import LinearRegression"
      ],
      "execution_count": null,
      "outputs": []
    },
    {
      "cell_type": "code",
      "metadata": {
        "id": "UFwqTx-pS7k1"
      },
      "source": [
        "reshaped_x = x.reshape((100,1))\n",
        "reshaped_y = y.reshape((100,1))\n",
        "model = LinearRegression()\n",
        "model.fit(reshaped_x,reshaped_y)"
      ],
      "execution_count": null,
      "outputs": []
    },
    {
      "cell_type": "code",
      "metadata": {
        "id": "M2ZSlbRCS7k2"
      },
      "source": [
        "print ('w =', model.coef_)\n",
        "print ('b =', model.intercept_)"
      ],
      "execution_count": null,
      "outputs": []
    },
    {
      "cell_type": "code",
      "metadata": {
        "id": "9C_ERdIAS7k2"
      },
      "source": [
        "from sklearn.metrics import mean_absolute_error as MAE\n",
        "predicted_x = model.predict(reshaped_x)\n",
        "mae = MAE(predicted_x, reshaped_y)\n",
        "print(\"mae : \", mae)"
      ],
      "execution_count": null,
      "outputs": []
    },
    {
      "cell_type": "code",
      "metadata": {
        "id": "I4F3tY27lNt9"
      },
      "source": [
        ""
      ],
      "execution_count": null,
      "outputs": []
    }
  ]
}