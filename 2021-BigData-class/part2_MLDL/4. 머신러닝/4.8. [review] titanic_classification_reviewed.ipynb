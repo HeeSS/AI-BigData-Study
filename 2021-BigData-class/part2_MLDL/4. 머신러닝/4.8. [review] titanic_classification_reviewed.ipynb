{
  "nbformat": 4,
  "nbformat_minor": 0,
  "metadata": {
    "colab": {
      "name": "titanic classification reviewed.ipynb",
      "provenance": [],
      "collapsed_sections": []
    },
    "kernelspec": {
      "display_name": "Python 3",
      "language": "python",
      "name": "python3"
    },
    "language_info": {
      "codemirror_mode": {
        "name": "ipython",
        "version": 3
      },
      "file_extension": ".py",
      "mimetype": "text/x-python",
      "name": "python",
      "nbconvert_exporter": "python",
      "pygments_lexer": "ipython3",
      "version": "3.6.9"
    }
  },
  "cells": [
    {
      "cell_type": "markdown",
      "metadata": {
        "id": "QFu6BpI3ImCg"
      },
      "source": [
        "# **Titanic 데이터를 이용한 <span style=\"color:darkgreen\">머신러닝</span> 문제**\n",
        "---"
      ]
    },
    {
      "cell_type": "markdown",
      "metadata": {
        "id": "YjQkc3VKsho0"
      },
      "source": [
        "> **<span style=\"color:red\">다음 문항을 풀기 전에 </span>아래 코드를 실행하시오.**<br>\n",
        "> 반드시 코드와 주석을 읽고 문제를 푸시오. <br>\n",
        "> 반드시 출력된 데이터 설명을 읽고 문제를 푸시오.\n",
        "\n",
        "---\n",
        "\n"
      ]
    },
    {
      "cell_type": "code",
      "metadata": {
        "id": "C9eLCghiKAul",
        "colab": {
          "base_uri": "https://localhost:8080/",
          "height": 462
        },
        "outputId": "2dd3d5ef-1581-4e5c-936e-1393f9119c2a"
      },
      "source": [
        "import numpy as np\n",
        "import pandas as pd\n",
        "import matplotlib.pyplot as plt\n",
        "from sklearn.datasets import fetch_openml\n",
        "\n",
        "x, y = fetch_openml(\"titanic\", version=1, as_frame=True, return_X_y=True)\n",
        "\n",
        "print( x.shape, y.shape)\n",
        "print(y[:4])\n",
        "x.head()"
      ],
      "execution_count": null,
      "outputs": [
        {
          "output_type": "stream",
          "name": "stdout",
          "text": [
            "(1309, 13) (1309,)\n",
            "0    1\n",
            "1    1\n",
            "2    0\n",
            "3    0\n",
            "Name: survived, dtype: category\n",
            "Categories (2, object): ['0', '1']\n"
          ]
        },
        {
          "output_type": "execute_result",
          "data": {
            "text/html": [
              "<div>\n",
              "<style scoped>\n",
              "    .dataframe tbody tr th:only-of-type {\n",
              "        vertical-align: middle;\n",
              "    }\n",
              "\n",
              "    .dataframe tbody tr th {\n",
              "        vertical-align: top;\n",
              "    }\n",
              "\n",
              "    .dataframe thead th {\n",
              "        text-align: right;\n",
              "    }\n",
              "</style>\n",
              "<table border=\"1\" class=\"dataframe\">\n",
              "  <thead>\n",
              "    <tr style=\"text-align: right;\">\n",
              "      <th></th>\n",
              "      <th>pclass</th>\n",
              "      <th>name</th>\n",
              "      <th>sex</th>\n",
              "      <th>age</th>\n",
              "      <th>sibsp</th>\n",
              "      <th>parch</th>\n",
              "      <th>ticket</th>\n",
              "      <th>fare</th>\n",
              "      <th>cabin</th>\n",
              "      <th>embarked</th>\n",
              "      <th>boat</th>\n",
              "      <th>body</th>\n",
              "      <th>home.dest</th>\n",
              "    </tr>\n",
              "  </thead>\n",
              "  <tbody>\n",
              "    <tr>\n",
              "      <th>0</th>\n",
              "      <td>1.0</td>\n",
              "      <td>Allen, Miss. Elisabeth Walton</td>\n",
              "      <td>female</td>\n",
              "      <td>29.0000</td>\n",
              "      <td>0.0</td>\n",
              "      <td>0.0</td>\n",
              "      <td>24160</td>\n",
              "      <td>211.3375</td>\n",
              "      <td>B5</td>\n",
              "      <td>S</td>\n",
              "      <td>2</td>\n",
              "      <td>NaN</td>\n",
              "      <td>St Louis, MO</td>\n",
              "    </tr>\n",
              "    <tr>\n",
              "      <th>1</th>\n",
              "      <td>1.0</td>\n",
              "      <td>Allison, Master. Hudson Trevor</td>\n",
              "      <td>male</td>\n",
              "      <td>0.9167</td>\n",
              "      <td>1.0</td>\n",
              "      <td>2.0</td>\n",
              "      <td>113781</td>\n",
              "      <td>151.5500</td>\n",
              "      <td>C22 C26</td>\n",
              "      <td>S</td>\n",
              "      <td>11</td>\n",
              "      <td>NaN</td>\n",
              "      <td>Montreal, PQ / Chesterville, ON</td>\n",
              "    </tr>\n",
              "    <tr>\n",
              "      <th>2</th>\n",
              "      <td>1.0</td>\n",
              "      <td>Allison, Miss. Helen Loraine</td>\n",
              "      <td>female</td>\n",
              "      <td>2.0000</td>\n",
              "      <td>1.0</td>\n",
              "      <td>2.0</td>\n",
              "      <td>113781</td>\n",
              "      <td>151.5500</td>\n",
              "      <td>C22 C26</td>\n",
              "      <td>S</td>\n",
              "      <td>None</td>\n",
              "      <td>NaN</td>\n",
              "      <td>Montreal, PQ / Chesterville, ON</td>\n",
              "    </tr>\n",
              "    <tr>\n",
              "      <th>3</th>\n",
              "      <td>1.0</td>\n",
              "      <td>Allison, Mr. Hudson Joshua Creighton</td>\n",
              "      <td>male</td>\n",
              "      <td>30.0000</td>\n",
              "      <td>1.0</td>\n",
              "      <td>2.0</td>\n",
              "      <td>113781</td>\n",
              "      <td>151.5500</td>\n",
              "      <td>C22 C26</td>\n",
              "      <td>S</td>\n",
              "      <td>None</td>\n",
              "      <td>135.0</td>\n",
              "      <td>Montreal, PQ / Chesterville, ON</td>\n",
              "    </tr>\n",
              "    <tr>\n",
              "      <th>4</th>\n",
              "      <td>1.0</td>\n",
              "      <td>Allison, Mrs. Hudson J C (Bessie Waldo Daniels)</td>\n",
              "      <td>female</td>\n",
              "      <td>25.0000</td>\n",
              "      <td>1.0</td>\n",
              "      <td>2.0</td>\n",
              "      <td>113781</td>\n",
              "      <td>151.5500</td>\n",
              "      <td>C22 C26</td>\n",
              "      <td>S</td>\n",
              "      <td>None</td>\n",
              "      <td>NaN</td>\n",
              "      <td>Montreal, PQ / Chesterville, ON</td>\n",
              "    </tr>\n",
              "  </tbody>\n",
              "</table>\n",
              "</div>"
            ],
            "text/plain": [
              "   pclass  ...                        home.dest\n",
              "0     1.0  ...                     St Louis, MO\n",
              "1     1.0  ...  Montreal, PQ / Chesterville, ON\n",
              "2     1.0  ...  Montreal, PQ / Chesterville, ON\n",
              "3     1.0  ...  Montreal, PQ / Chesterville, ON\n",
              "4     1.0  ...  Montreal, PQ / Chesterville, ON\n",
              "\n",
              "[5 rows x 13 columns]"
            ]
          },
          "metadata": {},
          "execution_count": 1
        }
      ]
    },
    {
      "cell_type": "code",
      "metadata": {
        "id": "ufogrnT9JXNp",
        "colab": {
          "base_uri": "https://localhost:8080/"
        },
        "outputId": "d6e4b8c4-aaad-431b-bc70-ff6eb0caf505"
      },
      "source": [
        "y.unique()"
      ],
      "execution_count": null,
      "outputs": [
        {
          "output_type": "execute_result",
          "data": {
            "text/plain": [
              "['1', '0']\n",
              "Categories (2, object): ['1', '0']"
            ]
          },
          "metadata": {},
          "execution_count": 3
        }
      ]
    },
    {
      "cell_type": "markdown",
      "metadata": {
        "id": "TMGU532GBerx"
      },
      "source": [
        "# **Q1. x에서 다음의 컬럼을 삭제하시오.**\n",
        "---------------------------------\n",
        "**삭제할 컬럼들**\n",
        "1. name\n",
        "2. ticket\n",
        "2. boat\n",
        "3. body\n",
        "4. home.dest\n",
        "---------------------------"
      ]
    },
    {
      "cell_type": "code",
      "metadata": {
        "id": "k6x4Hc09N1X8",
        "colab": {
          "base_uri": "https://localhost:8080/",
          "height": 143
        },
        "outputId": "ff8f0a34-9be0-4839-d4bf-2aacc10b103f"
      },
      "source": [
        "####################\n",
        "## Your code here ##\n",
        "####################\n",
        "\n",
        "x.drop(['name','ticket', 'boat', 'body', 'home.dest'], axis=1, inplace=True)\n",
        "x.head(3)"
      ],
      "execution_count": null,
      "outputs": [
        {
          "output_type": "execute_result",
          "data": {
            "text/html": [
              "<div>\n",
              "<style scoped>\n",
              "    .dataframe tbody tr th:only-of-type {\n",
              "        vertical-align: middle;\n",
              "    }\n",
              "\n",
              "    .dataframe tbody tr th {\n",
              "        vertical-align: top;\n",
              "    }\n",
              "\n",
              "    .dataframe thead th {\n",
              "        text-align: right;\n",
              "    }\n",
              "</style>\n",
              "<table border=\"1\" class=\"dataframe\">\n",
              "  <thead>\n",
              "    <tr style=\"text-align: right;\">\n",
              "      <th></th>\n",
              "      <th>pclass</th>\n",
              "      <th>sex</th>\n",
              "      <th>age</th>\n",
              "      <th>sibsp</th>\n",
              "      <th>parch</th>\n",
              "      <th>fare</th>\n",
              "      <th>cabin</th>\n",
              "      <th>embarked</th>\n",
              "    </tr>\n",
              "  </thead>\n",
              "  <tbody>\n",
              "    <tr>\n",
              "      <th>0</th>\n",
              "      <td>1.0</td>\n",
              "      <td>female</td>\n",
              "      <td>29.0000</td>\n",
              "      <td>0.0</td>\n",
              "      <td>0.0</td>\n",
              "      <td>211.3375</td>\n",
              "      <td>B5</td>\n",
              "      <td>S</td>\n",
              "    </tr>\n",
              "    <tr>\n",
              "      <th>1</th>\n",
              "      <td>1.0</td>\n",
              "      <td>male</td>\n",
              "      <td>0.9167</td>\n",
              "      <td>1.0</td>\n",
              "      <td>2.0</td>\n",
              "      <td>151.5500</td>\n",
              "      <td>C22 C26</td>\n",
              "      <td>S</td>\n",
              "    </tr>\n",
              "    <tr>\n",
              "      <th>2</th>\n",
              "      <td>1.0</td>\n",
              "      <td>female</td>\n",
              "      <td>2.0000</td>\n",
              "      <td>1.0</td>\n",
              "      <td>2.0</td>\n",
              "      <td>151.5500</td>\n",
              "      <td>C22 C26</td>\n",
              "      <td>S</td>\n",
              "    </tr>\n",
              "  </tbody>\n",
              "</table>\n",
              "</div>"
            ],
            "text/plain": [
              "   pclass     sex      age  sibsp  parch      fare    cabin embarked\n",
              "0     1.0  female  29.0000    0.0    0.0  211.3375       B5        S\n",
              "1     1.0    male   0.9167    1.0    2.0  151.5500  C22 C26        S\n",
              "2     1.0  female   2.0000    1.0    2.0  151.5500  C22 C26        S"
            ]
          },
          "metadata": {},
          "execution_count": 4
        }
      ]
    },
    {
      "cell_type": "markdown",
      "metadata": {
        "id": "5gwJ-yZrpKR7"
      },
      "source": [
        "# Q2. x의 cabin 컬럼을 다음 조건에 맞추어 변형하시오.\n",
        "-------------------\n",
        "* 값의 맨 앞글자만 남긴다.\n",
        "    * 예시) C22 C26 -> C\n",
        "    * 예시) B5 -> B\n",
        "* 값이 빈값일 경우, 'N'을 남긴다.\n",
        "--------------------"
      ]
    },
    {
      "cell_type": "code",
      "metadata": {
        "id": "elpxTu-BKsHr",
        "colab": {
          "base_uri": "https://localhost:8080/"
        },
        "outputId": "75c8070b-d263-4c04-9c2f-3117e177e6e0"
      },
      "source": [
        "print(x['cabin'][1308]) #NaN : missing value, none : empty"
      ],
      "execution_count": null,
      "outputs": [
        {
          "output_type": "stream",
          "name": "stdout",
          "text": [
            "None\n"
          ]
        }
      ]
    },
    {
      "cell_type": "code",
      "metadata": {
        "id": "k7uExZdmIUZM",
        "colab": {
          "base_uri": "https://localhost:8080/"
        },
        "outputId": "a80848c3-a3b0-4597-e2d5-d9a18b6a0723"
      },
      "source": [
        "pd.isna(x['cabin'][1308])"
      ],
      "execution_count": null,
      "outputs": [
        {
          "output_type": "execute_result",
          "data": {
            "text/plain": [
              "True"
            ]
          },
          "metadata": {},
          "execution_count": 6
        }
      ]
    },
    {
      "cell_type": "code",
      "metadata": {
        "id": "EKzmtTDkFgqF",
        "colab": {
          "base_uri": "https://localhost:8080/",
          "height": 205
        },
        "outputId": "10888739-935a-4072-f022-21ae5622717e"
      },
      "source": [
        "def convert(x):\n",
        "  if pd.isna(x):\n",
        "    return 'N'\n",
        "  else:\n",
        "    return x[0]\n",
        "\n",
        "x['cabin'] = x['cabin'].apply(convert)\n",
        "\n",
        "x.head(5)"
      ],
      "execution_count": null,
      "outputs": [
        {
          "output_type": "execute_result",
          "data": {
            "text/html": [
              "<div>\n",
              "<style scoped>\n",
              "    .dataframe tbody tr th:only-of-type {\n",
              "        vertical-align: middle;\n",
              "    }\n",
              "\n",
              "    .dataframe tbody tr th {\n",
              "        vertical-align: top;\n",
              "    }\n",
              "\n",
              "    .dataframe thead th {\n",
              "        text-align: right;\n",
              "    }\n",
              "</style>\n",
              "<table border=\"1\" class=\"dataframe\">\n",
              "  <thead>\n",
              "    <tr style=\"text-align: right;\">\n",
              "      <th></th>\n",
              "      <th>pclass</th>\n",
              "      <th>sex</th>\n",
              "      <th>age</th>\n",
              "      <th>sibsp</th>\n",
              "      <th>parch</th>\n",
              "      <th>fare</th>\n",
              "      <th>cabin</th>\n",
              "      <th>embarked</th>\n",
              "    </tr>\n",
              "  </thead>\n",
              "  <tbody>\n",
              "    <tr>\n",
              "      <th>0</th>\n",
              "      <td>1.0</td>\n",
              "      <td>female</td>\n",
              "      <td>29.0000</td>\n",
              "      <td>0.0</td>\n",
              "      <td>0.0</td>\n",
              "      <td>211.3375</td>\n",
              "      <td>B</td>\n",
              "      <td>S</td>\n",
              "    </tr>\n",
              "    <tr>\n",
              "      <th>1</th>\n",
              "      <td>1.0</td>\n",
              "      <td>male</td>\n",
              "      <td>0.9167</td>\n",
              "      <td>1.0</td>\n",
              "      <td>2.0</td>\n",
              "      <td>151.5500</td>\n",
              "      <td>C</td>\n",
              "      <td>S</td>\n",
              "    </tr>\n",
              "    <tr>\n",
              "      <th>2</th>\n",
              "      <td>1.0</td>\n",
              "      <td>female</td>\n",
              "      <td>2.0000</td>\n",
              "      <td>1.0</td>\n",
              "      <td>2.0</td>\n",
              "      <td>151.5500</td>\n",
              "      <td>C</td>\n",
              "      <td>S</td>\n",
              "    </tr>\n",
              "    <tr>\n",
              "      <th>3</th>\n",
              "      <td>1.0</td>\n",
              "      <td>male</td>\n",
              "      <td>30.0000</td>\n",
              "      <td>1.0</td>\n",
              "      <td>2.0</td>\n",
              "      <td>151.5500</td>\n",
              "      <td>C</td>\n",
              "      <td>S</td>\n",
              "    </tr>\n",
              "    <tr>\n",
              "      <th>4</th>\n",
              "      <td>1.0</td>\n",
              "      <td>female</td>\n",
              "      <td>25.0000</td>\n",
              "      <td>1.0</td>\n",
              "      <td>2.0</td>\n",
              "      <td>151.5500</td>\n",
              "      <td>C</td>\n",
              "      <td>S</td>\n",
              "    </tr>\n",
              "  </tbody>\n",
              "</table>\n",
              "</div>"
            ],
            "text/plain": [
              "   pclass     sex      age  sibsp  parch      fare cabin embarked\n",
              "0     1.0  female  29.0000    0.0    0.0  211.3375     B        S\n",
              "1     1.0    male   0.9167    1.0    2.0  151.5500     C        S\n",
              "2     1.0  female   2.0000    1.0    2.0  151.5500     C        S\n",
              "3     1.0    male  30.0000    1.0    2.0  151.5500     C        S\n",
              "4     1.0  female  25.0000    1.0    2.0  151.5500     C        S"
            ]
          },
          "metadata": {},
          "execution_count": 8
        }
      ]
    },
    {
      "cell_type": "code",
      "metadata": {
        "id": "gGiOX4YgG78g",
        "colab": {
          "base_uri": "https://localhost:8080/",
          "height": 35
        },
        "outputId": "0dce0b8c-fd83-4bb3-e0da-3e40160211e9"
      },
      "source": [
        "x['cabin'][1308]"
      ],
      "execution_count": null,
      "outputs": [
        {
          "output_type": "execute_result",
          "data": {
            "application/vnd.google.colaboratory.intrinsic+json": {
              "type": "string"
            },
            "text/plain": [
              "'N'"
            ]
          },
          "metadata": {},
          "execution_count": 18
        }
      ]
    },
    {
      "cell_type": "code",
      "metadata": {
        "id": "cAuRxyjRp2QY",
        "colab": {
          "base_uri": "https://localhost:8080/",
          "height": 143
        },
        "outputId": "7beedbda-8e92-424a-9106-de9140f4264b"
      },
      "source": [
        "####################\n",
        "## Your code here ##\n",
        "####################\n",
        "x.loc[ x['cabin'].isna(), 'cabin'] = 'N' #missing value 처리\n",
        "temp = [ cabin[0] for cabin in x['cabin'] ] #가장 앞 알파벳으로 처리\n",
        "x['cabin'] = temp\n",
        "\n",
        "x.head(3)"
      ],
      "execution_count": null,
      "outputs": [
        {
          "output_type": "execute_result",
          "data": {
            "text/html": [
              "<div>\n",
              "<style scoped>\n",
              "    .dataframe tbody tr th:only-of-type {\n",
              "        vertical-align: middle;\n",
              "    }\n",
              "\n",
              "    .dataframe tbody tr th {\n",
              "        vertical-align: top;\n",
              "    }\n",
              "\n",
              "    .dataframe thead th {\n",
              "        text-align: right;\n",
              "    }\n",
              "</style>\n",
              "<table border=\"1\" class=\"dataframe\">\n",
              "  <thead>\n",
              "    <tr style=\"text-align: right;\">\n",
              "      <th></th>\n",
              "      <th>pclass</th>\n",
              "      <th>sex</th>\n",
              "      <th>age</th>\n",
              "      <th>sibsp</th>\n",
              "      <th>parch</th>\n",
              "      <th>fare</th>\n",
              "      <th>cabin</th>\n",
              "      <th>embarked</th>\n",
              "    </tr>\n",
              "  </thead>\n",
              "  <tbody>\n",
              "    <tr>\n",
              "      <th>0</th>\n",
              "      <td>1.0</td>\n",
              "      <td>female</td>\n",
              "      <td>29.0000</td>\n",
              "      <td>0.0</td>\n",
              "      <td>0.0</td>\n",
              "      <td>211.3375</td>\n",
              "      <td>B</td>\n",
              "      <td>S</td>\n",
              "    </tr>\n",
              "    <tr>\n",
              "      <th>1</th>\n",
              "      <td>1.0</td>\n",
              "      <td>male</td>\n",
              "      <td>0.9167</td>\n",
              "      <td>1.0</td>\n",
              "      <td>2.0</td>\n",
              "      <td>151.5500</td>\n",
              "      <td>C</td>\n",
              "      <td>S</td>\n",
              "    </tr>\n",
              "    <tr>\n",
              "      <th>2</th>\n",
              "      <td>1.0</td>\n",
              "      <td>female</td>\n",
              "      <td>2.0000</td>\n",
              "      <td>1.0</td>\n",
              "      <td>2.0</td>\n",
              "      <td>151.5500</td>\n",
              "      <td>C</td>\n",
              "      <td>S</td>\n",
              "    </tr>\n",
              "  </tbody>\n",
              "</table>\n",
              "</div>"
            ],
            "text/plain": [
              "   pclass     sex      age  sibsp  parch      fare cabin embarked\n",
              "0     1.0  female  29.0000    0.0    0.0  211.3375     B        S\n",
              "1     1.0    male   0.9167    1.0    2.0  151.5500     C        S\n",
              "2     1.0  female   2.0000    1.0    2.0  151.5500     C        S"
            ]
          },
          "metadata": {},
          "execution_count": 3
        }
      ]
    },
    {
      "cell_type": "markdown",
      "metadata": {
        "id": "UTgMqQJUx_cb"
      },
      "source": [
        "# Q3. 다음 조건에 맞추어 x에 새로운 컬럼 fs를 만드시오.\n",
        "-------------------\n",
        "* sibsp와 parch의 합을 기준으로\n",
        "    - 1이하 : 'a' 를 값으로 갖는다.\n",
        "    - 1초과 4이하 : 'b' 를 값으로 갖는다.\n",
        "    - 4초과 : 'c' 를 값으로 갖는다.\n",
        "----------------"
      ]
    },
    {
      "cell_type": "code",
      "metadata": {
        "id": "VyzPE0zfx_cb",
        "colab": {
          "base_uri": "https://localhost:8080/",
          "height": 143
        },
        "outputId": "bca57a4a-9eaf-44b5-86ba-86db56c017e6"
      },
      "source": [
        "####################\n",
        "## Your code here ##\n",
        "####################\n",
        "\n",
        "temp = x['sibsp'] + x['parch']\n",
        "\n",
        "def convert(x):\n",
        "  if x<=1:\n",
        "    return 'a'\n",
        "  elif 1<x<=4:\n",
        "    return 'b'\n",
        "  else:\n",
        "    return 'c'\n",
        "temp = temp.apply(convert)\n",
        "\n",
        "#temp = pd.cut(temp, bins=[-1, 1, 4, np.inf], labels=['a','b','c'])\n",
        "x['fs'] = temp\n",
        "\n",
        "x.head(3)"
      ],
      "execution_count": null,
      "outputs": [
        {
          "output_type": "execute_result",
          "data": {
            "text/html": [
              "<div>\n",
              "<style scoped>\n",
              "    .dataframe tbody tr th:only-of-type {\n",
              "        vertical-align: middle;\n",
              "    }\n",
              "\n",
              "    .dataframe tbody tr th {\n",
              "        vertical-align: top;\n",
              "    }\n",
              "\n",
              "    .dataframe thead th {\n",
              "        text-align: right;\n",
              "    }\n",
              "</style>\n",
              "<table border=\"1\" class=\"dataframe\">\n",
              "  <thead>\n",
              "    <tr style=\"text-align: right;\">\n",
              "      <th></th>\n",
              "      <th>pclass</th>\n",
              "      <th>sex</th>\n",
              "      <th>age</th>\n",
              "      <th>sibsp</th>\n",
              "      <th>parch</th>\n",
              "      <th>fare</th>\n",
              "      <th>cabin</th>\n",
              "      <th>embarked</th>\n",
              "      <th>fs</th>\n",
              "    </tr>\n",
              "  </thead>\n",
              "  <tbody>\n",
              "    <tr>\n",
              "      <th>0</th>\n",
              "      <td>1.0</td>\n",
              "      <td>female</td>\n",
              "      <td>29.0000</td>\n",
              "      <td>0.0</td>\n",
              "      <td>0.0</td>\n",
              "      <td>211.3375</td>\n",
              "      <td>B</td>\n",
              "      <td>S</td>\n",
              "      <td>a</td>\n",
              "    </tr>\n",
              "    <tr>\n",
              "      <th>1</th>\n",
              "      <td>1.0</td>\n",
              "      <td>male</td>\n",
              "      <td>0.9167</td>\n",
              "      <td>1.0</td>\n",
              "      <td>2.0</td>\n",
              "      <td>151.5500</td>\n",
              "      <td>C</td>\n",
              "      <td>S</td>\n",
              "      <td>b</td>\n",
              "    </tr>\n",
              "    <tr>\n",
              "      <th>2</th>\n",
              "      <td>1.0</td>\n",
              "      <td>female</td>\n",
              "      <td>2.0000</td>\n",
              "      <td>1.0</td>\n",
              "      <td>2.0</td>\n",
              "      <td>151.5500</td>\n",
              "      <td>C</td>\n",
              "      <td>S</td>\n",
              "      <td>b</td>\n",
              "    </tr>\n",
              "  </tbody>\n",
              "</table>\n",
              "</div>"
            ],
            "text/plain": [
              "   pclass     sex      age  sibsp  parch      fare cabin embarked fs\n",
              "0     1.0  female  29.0000    0.0    0.0  211.3375     B        S  a\n",
              "1     1.0    male   0.9167    1.0    2.0  151.5500     C        S  b\n",
              "2     1.0  female   2.0000    1.0    2.0  151.5500     C        S  b"
            ]
          },
          "metadata": {},
          "execution_count": 9
        }
      ]
    },
    {
      "cell_type": "code",
      "metadata": {
        "id": "B1nFMDDtMReI",
        "colab": {
          "base_uri": "https://localhost:8080/"
        },
        "outputId": "8c8e089f-4cd9-41d0-bd09-ba9d15054664"
      },
      "source": [
        "x.fs.unique()"
      ],
      "execution_count": null,
      "outputs": [
        {
          "output_type": "execute_result",
          "data": {
            "text/plain": [
              "array(['a', 'b', 'c'], dtype=object)"
            ]
          },
          "metadata": {},
          "execution_count": 10
        }
      ]
    },
    {
      "cell_type": "markdown",
      "metadata": {
        "id": "Fp3Zu8kUyyCJ"
      },
      "source": [
        "# Q4. x와 y를 트레이닝/벨리데이션/테스트 셋으로 분리하시오.\n",
        "----------------------\n",
        "* 변수명 규칙 :\n",
        "    - x_train, x_valid, x_test\n",
        "    - y_train, y_valid, y_test\n",
        "* train : valid : test = 6 : 2 : 2\n",
        "* random state, seed 등은 2021로 고정\n",
        "------------------------"
      ]
    },
    {
      "cell_type": "code",
      "metadata": {
        "id": "d_vv3Z8Jzim7"
      },
      "source": [
        "####################\n",
        "## Your code here ##\n",
        "####################\n",
        "from sklearn.model_selection import train_test_split as tts\n",
        "\n",
        "x_train, x_test, y_train, y_test = tts(x, y, test_size=0.2, random_state=2021)\n",
        "x_train, x_valid, y_train, y_valid = tts(x_train, y_train, test_size=2/8, random_state = 2021)"
      ],
      "execution_count": null,
      "outputs": []
    },
    {
      "cell_type": "markdown",
      "metadata": {
        "id": "HQRUm3h_z2AF"
      },
      "source": [
        "# Q5. 카테고리 데이터들에 빈값이 있다면, 최빈값을 찾아 imputing하시오.\n",
        "----------------------------\n",
        "* 모든 전처리 규칙은 트레이닝 셋을 바탕으로 찾는다.\n",
        "* 대상 컬럼 : pclass, cabin, embarked\n",
        "* 모든 x들에 대해 진행\n",
        "----------------------------"
      ]
    },
    {
      "cell_type": "code",
      "metadata": {
        "id": "rm9WsBM30DXP",
        "colab": {
          "base_uri": "https://localhost:8080/"
        },
        "outputId": "ba014e94-b960-4d3c-d787-bda64d1f2ac9"
      },
      "source": [
        "####################\n",
        "## Your code here ##\n",
        "####################\n",
        "from sklearn.impute import SimpleImputer\n",
        "\n",
        "imputer = SimpleImputer(strategy='most_frequent')\n",
        "\n",
        "x_train[['pclass', 'cabin', 'embarked']] = imputer.fit_transform(x_train[['pclass', 'cabin', 'embarked']])\n",
        "x_valid[['pclass', 'cabin', 'embarked']] = imputer.transform( x_valid[['pclass', 'cabin', 'embarked']] )\n",
        "x_test[['pclass', 'cabin', 'embarked']] = imputer.transform( x_test[['pclass', 'cabin', 'embarked']] )"
      ],
      "execution_count": null,
      "outputs": [
        {
          "output_type": "stream",
          "name": "stderr",
          "text": [
            "/usr/local/lib/python3.7/dist-packages/ipykernel_launcher.py:10: SettingWithCopyWarning: \n",
            "A value is trying to be set on a copy of a slice from a DataFrame.\n",
            "Try using .loc[row_indexer,col_indexer] = value instead\n",
            "\n",
            "See the caveats in the documentation: https://pandas.pydata.org/pandas-docs/stable/user_guide/indexing.html#returning-a-view-versus-a-copy\n",
            "  # Remove the CWD from sys.path while we load stuff.\n",
            "/usr/local/lib/python3.7/dist-packages/pandas/core/indexing.py:1734: SettingWithCopyWarning: \n",
            "A value is trying to be set on a copy of a slice from a DataFrame.\n",
            "Try using .loc[row_indexer,col_indexer] = value instead\n",
            "\n",
            "See the caveats in the documentation: https://pandas.pydata.org/pandas-docs/stable/user_guide/indexing.html#returning-a-view-versus-a-copy\n",
            "  isetter(loc, value[:, i].tolist())\n"
          ]
        }
      ]
    },
    {
      "cell_type": "markdown",
      "metadata": {
        "id": "mZHMwrc5EreJ"
      },
      "source": [
        "# Q6. 연속형 데이터들에 빈값이 있다면, 중앙값을 찾아 imputing하시오.\n",
        "----------------------------\n",
        "* 모든 전처리 규칙은 트레이닝 셋을 바탕으로 찾는다.\n",
        "* 대상 컬럼 : age, fare\n",
        "* 모든 x들에 대해 진행\n",
        "----------------------------"
      ]
    },
    {
      "cell_type": "code",
      "metadata": {
        "id": "0zQ2Yrx9EreK",
        "colab": {
          "base_uri": "https://localhost:8080/"
        },
        "outputId": "fd7a3277-4fef-40e2-ebd8-897a03fa18b2"
      },
      "source": [
        "####################\n",
        "## Your code here ##\n",
        "####################\n",
        "from sklearn.impute import SimpleImputer\n",
        "\n",
        "imputer2 = SimpleImputer(strategy='median')\n",
        "\n",
        "x_train[['age', 'fare']] = imputer2.fit_transform(x_train[['age', 'fare']])\n",
        "x_valid[['age', 'fare']] = imputer2.transform( x_valid[['age', 'fare']] )\n",
        "x_test[['age', 'fare']] = imputer2.transform( x_test[['age', 'fare']] )"
      ],
      "execution_count": null,
      "outputs": [
        {
          "output_type": "stream",
          "name": "stderr",
          "text": [
            "/usr/local/lib/python3.7/dist-packages/ipykernel_launcher.py:10: SettingWithCopyWarning: \n",
            "A value is trying to be set on a copy of a slice from a DataFrame.\n",
            "Try using .loc[row_indexer,col_indexer] = value instead\n",
            "\n",
            "See the caveats in the documentation: https://pandas.pydata.org/pandas-docs/stable/user_guide/indexing.html#returning-a-view-versus-a-copy\n",
            "  # Remove the CWD from sys.path while we load stuff.\n",
            "/usr/local/lib/python3.7/dist-packages/pandas/core/indexing.py:1734: SettingWithCopyWarning: \n",
            "A value is trying to be set on a copy of a slice from a DataFrame.\n",
            "Try using .loc[row_indexer,col_indexer] = value instead\n",
            "\n",
            "See the caveats in the documentation: https://pandas.pydata.org/pandas-docs/stable/user_guide/indexing.html#returning-a-view-versus-a-copy\n",
            "  isetter(loc, value[:, i].tolist())\n"
          ]
        }
      ]
    },
    {
      "cell_type": "markdown",
      "metadata": {
        "id": "33L8AOKB6GGq"
      },
      "source": [
        "# Q7. 카테고리 데이터들을 dummy 변수화 하시오.\n",
        "-------------------------------\n",
        "* 모든 전처리 규칙은 트레이닝셋을 바탕으로 찾는다.\n",
        "* 대상 컬럼 : pclass, cabin, embarked, fs, sex\n",
        "* 더미변수를 만든 후, 원본 변수는 삭제한다.\n",
        "* 모든 x들에 대해 진행\n",
        "* 카테고리 안에 4개 클래스가 있다면, 3개 컬럼이 만들어져야 한다.\n",
        "* x_valid와 x_test의 컬럼들은 x_train의 컬럼과 종류와 순서가 같아야 한다.\n",
        "-------------------------------"
      ]
    },
    {
      "cell_type": "markdown",
      "metadata": {
        "id": "rMgJkIJONVNk"
      },
      "source": [
        "get_dummies는 카테고리 수만큼 column이 만들어지는데, 학습데이터에는 없지만 검증데이터에만 있는 데이터값이 있을 수 있습니다. 따라서 검증데이터에 생긴, 학습데이터에 없는 column을 제거하기 위해서 입니다. \n",
        "\n",
        "학습데이터 (1,2,3) -> (00,10,01) 검증 (1,2,3,4) = (000,100,010,001) -> 00, 10, 01, 00 (마지막 네번째 column 제거)  "
      ]
    },
    {
      "cell_type": "code",
      "metadata": {
        "id": "7pkUczKAHFMr"
      },
      "source": [
        "####################\n",
        "## Your code here ##\n",
        "####################\n",
        "x_train = pd.get_dummies(x_train, columns=['pclass', 'cabin', 'embarked', 'fs', 'sex'], drop_first= True)\n",
        "x_valid = pd.get_dummies(x_valid, columns=['pclass', 'cabin', 'embarked', 'fs', 'sex'], drop_first= True)\n",
        "x_test = pd.get_dummies(x_test, columns=['pclass', 'cabin', 'embarked', 'fs', 'sex'], drop_first= True)\n",
        "\n",
        "x_valid = x_valid[x_train.columns]\n",
        "x_test = x_test[x_train.columns]"
      ],
      "execution_count": null,
      "outputs": []
    },
    {
      "cell_type": "code",
      "metadata": {
        "id": "9ca30yjWNeWn",
        "colab": {
          "base_uri": "https://localhost:8080/",
          "height": 225
        },
        "outputId": "698ef280-556f-45b7-8b99-1bdfa97396fa"
      },
      "source": [
        "x_train.head()"
      ],
      "execution_count": null,
      "outputs": [
        {
          "output_type": "execute_result",
          "data": {
            "text/html": [
              "<div>\n",
              "<style scoped>\n",
              "    .dataframe tbody tr th:only-of-type {\n",
              "        vertical-align: middle;\n",
              "    }\n",
              "\n",
              "    .dataframe tbody tr th {\n",
              "        vertical-align: top;\n",
              "    }\n",
              "\n",
              "    .dataframe thead th {\n",
              "        text-align: right;\n",
              "    }\n",
              "</style>\n",
              "<table border=\"1\" class=\"dataframe\">\n",
              "  <thead>\n",
              "    <tr style=\"text-align: right;\">\n",
              "      <th></th>\n",
              "      <th>age</th>\n",
              "      <th>sibsp</th>\n",
              "      <th>parch</th>\n",
              "      <th>fare</th>\n",
              "      <th>pclass_2.0</th>\n",
              "      <th>pclass_3.0</th>\n",
              "      <th>cabin_B</th>\n",
              "      <th>cabin_C</th>\n",
              "      <th>cabin_D</th>\n",
              "      <th>cabin_E</th>\n",
              "      <th>cabin_F</th>\n",
              "      <th>cabin_G</th>\n",
              "      <th>cabin_N</th>\n",
              "      <th>embarked_Q</th>\n",
              "      <th>embarked_S</th>\n",
              "      <th>fs_b</th>\n",
              "      <th>fs_c</th>\n",
              "      <th>sex_male</th>\n",
              "    </tr>\n",
              "  </thead>\n",
              "  <tbody>\n",
              "    <tr>\n",
              "      <th>442</th>\n",
              "      <td>24.0</td>\n",
              "      <td>2.0</td>\n",
              "      <td>0.0</td>\n",
              "      <td>73.5000</td>\n",
              "      <td>1</td>\n",
              "      <td>0</td>\n",
              "      <td>0</td>\n",
              "      <td>0</td>\n",
              "      <td>0</td>\n",
              "      <td>0</td>\n",
              "      <td>0</td>\n",
              "      <td>0</td>\n",
              "      <td>1</td>\n",
              "      <td>0</td>\n",
              "      <td>1</td>\n",
              "      <td>1</td>\n",
              "      <td>0</td>\n",
              "      <td>1</td>\n",
              "    </tr>\n",
              "    <tr>\n",
              "      <th>260</th>\n",
              "      <td>40.0</td>\n",
              "      <td>0.0</td>\n",
              "      <td>0.0</td>\n",
              "      <td>153.4625</td>\n",
              "      <td>0</td>\n",
              "      <td>0</td>\n",
              "      <td>0</td>\n",
              "      <td>1</td>\n",
              "      <td>0</td>\n",
              "      <td>0</td>\n",
              "      <td>0</td>\n",
              "      <td>0</td>\n",
              "      <td>0</td>\n",
              "      <td>0</td>\n",
              "      <td>1</td>\n",
              "      <td>0</td>\n",
              "      <td>0</td>\n",
              "      <td>0</td>\n",
              "    </tr>\n",
              "    <tr>\n",
              "      <th>1212</th>\n",
              "      <td>28.0</td>\n",
              "      <td>0.0</td>\n",
              "      <td>0.0</td>\n",
              "      <td>7.8958</td>\n",
              "      <td>0</td>\n",
              "      <td>1</td>\n",
              "      <td>0</td>\n",
              "      <td>0</td>\n",
              "      <td>0</td>\n",
              "      <td>0</td>\n",
              "      <td>0</td>\n",
              "      <td>0</td>\n",
              "      <td>1</td>\n",
              "      <td>0</td>\n",
              "      <td>1</td>\n",
              "      <td>0</td>\n",
              "      <td>0</td>\n",
              "      <td>1</td>\n",
              "    </tr>\n",
              "    <tr>\n",
              "      <th>719</th>\n",
              "      <td>18.0</td>\n",
              "      <td>0.0</td>\n",
              "      <td>0.0</td>\n",
              "      <td>8.0500</td>\n",
              "      <td>0</td>\n",
              "      <td>1</td>\n",
              "      <td>0</td>\n",
              "      <td>0</td>\n",
              "      <td>0</td>\n",
              "      <td>0</td>\n",
              "      <td>0</td>\n",
              "      <td>0</td>\n",
              "      <td>1</td>\n",
              "      <td>0</td>\n",
              "      <td>1</td>\n",
              "      <td>0</td>\n",
              "      <td>0</td>\n",
              "      <td>1</td>\n",
              "    </tr>\n",
              "    <tr>\n",
              "      <th>780</th>\n",
              "      <td>23.0</td>\n",
              "      <td>0.0</td>\n",
              "      <td>0.0</td>\n",
              "      <td>8.0500</td>\n",
              "      <td>0</td>\n",
              "      <td>1</td>\n",
              "      <td>0</td>\n",
              "      <td>0</td>\n",
              "      <td>0</td>\n",
              "      <td>0</td>\n",
              "      <td>0</td>\n",
              "      <td>0</td>\n",
              "      <td>1</td>\n",
              "      <td>0</td>\n",
              "      <td>1</td>\n",
              "      <td>0</td>\n",
              "      <td>0</td>\n",
              "      <td>0</td>\n",
              "    </tr>\n",
              "  </tbody>\n",
              "</table>\n",
              "</div>"
            ],
            "text/plain": [
              "       age  sibsp  parch      fare  ...  embarked_S  fs_b  fs_c  sex_male\n",
              "442   24.0    2.0    0.0   73.5000  ...           1     1     0         1\n",
              "260   40.0    0.0    0.0  153.4625  ...           1     0     0         0\n",
              "1212  28.0    0.0    0.0    7.8958  ...           1     0     0         1\n",
              "719   18.0    0.0    0.0    8.0500  ...           1     0     0         1\n",
              "780   23.0    0.0    0.0    8.0500  ...           1     0     0         0\n",
              "\n",
              "[5 rows x 18 columns]"
            ]
          },
          "metadata": {},
          "execution_count": 16
        }
      ]
    },
    {
      "cell_type": "markdown",
      "metadata": {
        "id": "Ed8itOdVItVd"
      },
      "source": [
        "# Q8. 다음 조건에 맞추어 의사결정나무들을 학습시키시오.\n",
        "-----------------------\n",
        "* max depth는 3으로 고정한다.\n",
        "* min samples leaf 1개짜리 나무부터 1개씩 늘려서 min samples leaf가 30개인 나무까지, 총 30개의 의사결정 나무를 학습시킨다.\n",
        "* 학습된 의사결정나무들은 trees 변수에 리스트로 담아둔다.\n",
        "-----------------------"
      ]
    },
    {
      "cell_type": "code",
      "metadata": {
        "id": "3vwCdImWJFOq"
      },
      "source": [
        "####################\n",
        "## Your code here ##\n",
        "####################\n",
        "\n",
        "from sklearn.tree import DecisionTreeClassifier\n",
        "\n",
        "trees = []\n",
        "\n",
        "for i in range(30):\n",
        "    dtr = DecisionTreeClassifier(max_depth=3, min_samples_leaf=i+1)\n",
        "    dtr.fit(x_train, y_train)\n",
        "    trees.append(dtr)"
      ],
      "execution_count": null,
      "outputs": []
    },
    {
      "cell_type": "markdown",
      "metadata": {
        "id": "U9se0W3HNZl4"
      },
      "source": [
        "# Q9. 학습된 의사결정나무들의 성능을 벨리데이션셋에서 시각화 하시오.\n",
        "-------------------\n",
        "* y가 1 (생존)일 때를 positive, 0 (사망)일 때를 negative로 둔다.\n",
        "* 벨리데이션 셋에서 sensitivity를 계산하여 시각화 한다.\n",
        "* x축은 min sample leaf의 수, y축은 sensitivity\n",
        "* line chart를 그린다.\n",
        "* grid line을 추가한다.\n",
        "--------------------"
      ]
    },
    {
      "cell_type": "code",
      "metadata": {
        "id": "H5wWaaSeOm06",
        "colab": {
          "base_uri": "https://localhost:8080/",
          "height": 374
        },
        "outputId": "1d71d9ab-46e8-40ab-d103-0bcf0888cae1"
      },
      "source": [
        "####################\n",
        "## Your code here ##\n",
        "####################\n",
        "\n",
        "sensitivities = []\n",
        "\n",
        "for i in range(1, 31):\n",
        "    dtr = trees[i-1]\n",
        "    y_pred = dtr.predict(x_valid)\n",
        "\n",
        "    denominator = y_valid.astype(int).sum()\n",
        "    numerator = y_pred[y_valid == \"1\"].astype(int).sum()\n",
        "\n",
        "    sensitivities.append( numerator/denominator   )\n",
        "\n",
        "plt.figure(figsize=(10,6))\n",
        "plt.plot(range(1,31), sensitivities)\n",
        "plt.grid()\n",
        "plt.show()"
      ],
      "execution_count": null,
      "outputs": [
        {
          "output_type": "display_data",
          "data": {
            "image/png": "[encoded data removed]",
            "text/plain": [
              "<Figure size 720x432 with 1 Axes>"
            ]
          },
          "metadata": {
            "needs_background": "light"
          }
        }
      ]
    },
    {
      "cell_type": "code",
      "metadata": {
        "id": "AaOY0MNiPycN"
      },
      "source": [
        ""
      ],
      "execution_count": null,
      "outputs": []
    },
    {
      "cell_type": "markdown",
      "metadata": {
        "id": "tId31K0HPhdh"
      },
      "source": [
        "# Q10. Q9를 참고하여 가장 성능 좋은 (동일 성능이라면 가장 min sample leaf가 큰) 나무를 골라 테스트셋 위에서 평가하시오.\n",
        "----------------\n",
        "1. accuracy를 주석으로 명시하시오.\n",
        "2. 1을 positive로 두었을 때, sensitivity를 주석으로 명시하시오.\n",
        "3. 1을 positive로 두었을 때, specificity를 주석으로 명시하시오."
      ]
    },
    {
      "cell_type": "code",
      "metadata": {
        "id": "m9CD7H_gQe48",
        "colab": {
          "base_uri": "https://localhost:8080/",
          "height": 206
        },
        "outputId": "bfb23876-043e-48b2-f83e-c75dcfa90223"
      },
      "source": [
        "####################\n",
        "## Your code here ##\n",
        "####################\n",
        "\n",
        "from sklearn.metrics import classification_report\n",
        "\n",
        "best_tree = trees[24]\n",
        "y_pred = best_tree.predict(x_test)\n",
        "\n",
        "print(classification_report(y_test, y_pred, target_names=['negative', 'positive']))\n",
        "\n",
        "# accuracy : 83%\n",
        "# sensitivity : 81% \n",
        "# specificity : 84%\n",
        "\n",
        "'''\n",
        "Note that in binary classification, \n",
        "recall of the positive class is also known as “sensitivity”; \n",
        "recall of the negative class is “specificity”.\n",
        "'''"
      ],
      "execution_count": null,
      "outputs": [
        {
          "output_type": "stream",
          "name": "stdout",
          "text": [
            "              precision    recall  f1-score   support\n",
            "\n",
            "    negative       0.88      0.84      0.86       160\n",
            "    positive       0.77      0.81      0.79       102\n",
            "\n",
            "    accuracy                           0.83       262\n",
            "   macro avg       0.82      0.83      0.83       262\n",
            "weighted avg       0.83      0.83      0.83       262\n",
            "\n"
          ]
        },
        {
          "output_type": "execute_result",
          "data": {
            "application/vnd.google.colaboratory.intrinsic+json": {
              "type": "string"
            },
            "text/plain": [
              "'\\nNote that in binary classification, \\nrecall of the positive class is also known as “sensitivity”; \\nrecall of the negative class is “specificity”.\\n'"
            ]
          },
          "metadata": {},
          "execution_count": 19
        }
      ]
    },
    {
      "cell_type": "code",
      "metadata": {
        "id": "p6LEnoebFD9X"
      },
      "source": [
        ""
      ],
      "execution_count": null,
      "outputs": []
    }
  ]
}