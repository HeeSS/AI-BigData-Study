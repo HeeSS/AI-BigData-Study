{
  "nbformat": 4,
  "nbformat_minor": 0,
  "metadata": {
    "anaconda-cloud": {},
    "kernelspec": {
      "display_name": "tf",
      "language": "python",
      "name": "tf"
    },
    "language_info": {
      "codemirror_mode": {
        "name": "ipython",
        "version": 3
      },
      "file_extension": ".py",
      "mimetype": "text/x-python",
      "name": "python",
      "nbconvert_exporter": "python",
      "pygments_lexer": "ipython3",
      "version": "3.6.9"
    },
    "colab": {
      "name": "Logistic regression.ipynb",
      "provenance": []
    }
  },
  "cells": [
    {
      "cell_type": "markdown",
      "metadata": {
        "id": "rGGH_Dj4JA9C"
      },
      "source": [
        "# Supervised Learning"
      ]
    },
    {
      "cell_type": "markdown",
      "metadata": {
        "id": "dO7v6eb8JA9M"
      },
      "source": [
        "## 2) Logistic Regression (classification)"
      ]
    },
    {
      "cell_type": "markdown",
      "metadata": {
        "id": "dcc8n9i4JA9N"
      },
      "source": [
        "### 1-1) Logistic Regression from scratch"
      ]
    },
    {
      "cell_type": "code",
      "metadata": {
        "id": "t8iTSg-eJA9O"
      },
      "source": [
        "import numpy as np\n",
        "from matplotlib import pyplot as plt\n",
        "%matplotlib inline"
      ],
      "execution_count": null,
      "outputs": []
    },
    {
      "cell_type": "markdown",
      "metadata": {
        "id": "D4VsODq5JA9Q"
      },
      "source": [
        "# Step 1. Data Creation"
      ]
    },
    {
      "cell_type": "markdown",
      "metadata": {
        "id": "3S5skah7JA9R"
      },
      "source": [
        "## data ( height and weight of  adults and children)"
      ]
    },
    {
      "cell_type": "code",
      "metadata": {
        "id": "fZibstyTJA9S"
      },
      "source": [
        "# The number of data to be created\n",
        "m = 100"
      ],
      "execution_count": null,
      "outputs": []
    },
    {
      "cell_type": "code",
      "metadata": {
        "id": "ZopvgtMXJA9T"
      },
      "source": [
        "adult_height = np.random.normal(175, 5, [m, 1])\n",
        "adult_weight = np.random.normal(70, 5, [m, 1])\n",
        "\n",
        "adult_dataset = np.concatenate( (adult_weight, adult_height) , axis = 1)\n",
        "\n",
        "print(adult_dataset.shape)\n",
        "print(adult_dataset[:5])"
      ],
      "execution_count": null,
      "outputs": []
    },
    {
      "cell_type": "code",
      "metadata": {
        "id": "7tKQ3fmgJA9V"
      },
      "source": [
        "child_height = np.random.normal(120, 5, [m, 1])\n",
        "child_weight = np.random.normal(30, 5, [m, 1])\n",
        "\n",
        "child_dataset = np.concatenate( (child_weight, child_height) , axis = 1)\n",
        "\n",
        "print(child_dataset.shape)\n",
        "print(child_dataset[:5])"
      ],
      "execution_count": null,
      "outputs": []
    },
    {
      "cell_type": "code",
      "metadata": {
        "id": "03peVMEFJA9W"
      },
      "source": [
        "fig = plt.figure()\n",
        "ax1 = fig.add_subplot(111)\n",
        "ax1.scatter(adult_dataset[:,0], adult_dataset[:,1], c=np.array([(1, 1, 0)]))\n",
        "ax1.scatter(child_dataset[:,0], child_dataset[:,1], c=np.array([(0, 1, 0)]))\n",
        "plt.title(\"The distribution of created dataset \")\n",
        "plt.xlabel(\"height x2\")\n",
        "plt.ylabel(\"weight x1\")\n",
        "plt.show()"
      ],
      "execution_count": null,
      "outputs": []
    },
    {
      "cell_type": "markdown",
      "metadata": {
        "id": "7Rw1oQvZJA9Y"
      },
      "source": [
        "## Label"
      ]
    },
    {
      "cell_type": "code",
      "metadata": {
        "id": "fXvBxcXAJA9Z"
      },
      "source": [
        "# 각각의 클레스에 대한 레이블을 만들어줍니다.\n",
        "# adult는 1로, child는 0으로 지정합니다.\n",
        "# binary classification은 내가 찾는 클래스(1)이냐 아니냐(0)를 분류합니다.\n",
        "# 즉 우리가 학습시킬 모델은 성인과 성인이 아닌 데이터를 분류하는 모델입니다.\n",
        "\n",
        "adult_label = np.ones( shape=[m, 1] )\n",
        "child_label = np.zeros( shape=[m, 1] )\n",
        "label = np.concatenate( (adult_label, child_label) )\n",
        "print('label의 shape' , label.shape)\n",
        "print(label[:10])"
      ],
      "execution_count": null,
      "outputs": []
    },
    {
      "cell_type": "markdown",
      "metadata": {
        "id": "B32Q17-HJA9Z"
      },
      "source": [
        "## Data + Label"
      ]
    },
    {
      "cell_type": "code",
      "metadata": {
        "id": "-g1PeV3JJA9a"
      },
      "source": [
        "total_dataset = np.concatenate((adult_dataset , child_dataset))\n",
        "total_dataset = np.concatenate( (total_dataset, label), axis = 1  )\n",
        "\n",
        "np.random.shuffle(total_dataset) # Shuffle dataset\n",
        "print(total_dataset[:10])\n",
        "print(total_dataset.shape)"
      ],
      "execution_count": null,
      "outputs": []
    },
    {
      "cell_type": "markdown",
      "metadata": {
        "id": "N1fVEwiLJA9b"
      },
      "source": [
        "## simple scaling of dataset"
      ]
    },
    {
      "cell_type": "code",
      "metadata": {
        "id": "QB-Pv7-QJA9b"
      },
      "source": [
        "from sklearn.preprocessing import StandardScaler\n",
        "scaler = StandardScaler()\n",
        "\n",
        "scaler.fit(total_dataset[:,:2])\n",
        "print(scaler.mean_)\n"
      ],
      "execution_count": null,
      "outputs": []
    },
    {
      "cell_type": "code",
      "metadata": {
        "id": "_iTSQy2xJA9c"
      },
      "source": [
        "total_dataset[:,:2] = scaler.transform(total_dataset[:,:2])"
      ],
      "execution_count": null,
      "outputs": []
    },
    {
      "cell_type": "code",
      "metadata": {
        "id": "vdwX-Bd0JA9c"
      },
      "source": [
        "total_dataset.shape\n",
        "\n",
        "fig = plt.figure()\n",
        "ax1 = fig.add_subplot(111)\n",
        "color = [(1*i, 1, 0) for i in total_dataset[:,2] ]\n",
        "ax1.scatter(total_dataset[:,0], total_dataset[:,1], c = color)\n",
        "plt.show()"
      ],
      "execution_count": null,
      "outputs": []
    },
    {
      "cell_type": "markdown",
      "metadata": {
        "id": "EQAvw0YNJA9d"
      },
      "source": [
        "# Step 2. Model definition"
      ]
    },
    {
      "cell_type": "code",
      "metadata": {
        "id": "2MEcuB-TJA9d"
      },
      "source": [
        "def linear(x, w, b):\n",
        "    pred = np.matmul(x, w.T) + b\n",
        "    return pred"
      ],
      "execution_count": null,
      "outputs": []
    },
    {
      "cell_type": "code",
      "metadata": {
        "id": "SDMtDUr7JA9e"
      },
      "source": [
        "def sigmoid(x):\n",
        "    return 1/(1 + np.exp(-x))"
      ],
      "execution_count": null,
      "outputs": []
    },
    {
      "cell_type": "code",
      "metadata": {
        "id": "0sbCFeiaJA9e"
      },
      "source": [
        "def hypothesis(x,w,b):\n",
        "    return sigmoid(linear(x, w, b))"
      ],
      "execution_count": null,
      "outputs": []
    },
    {
      "cell_type": "code",
      "metadata": {
        "id": "prpJrH7RJA9f"
      },
      "source": [
        "def cost(x, w, b, y):\n",
        "    loss = -y*linear(x, w, b) + np.log(1 + np.exp(linear(x, w, b))) \n",
        "    #-ylog(h(x))-(1-y)log(1-h(x)) =  -y*(wx+b) + log(1+exp(wx+b))\n",
        "    cost = (1/m)*np.sum(loss) # mean of losses\n",
        "    return cost"
      ],
      "execution_count": null,
      "outputs": []
    },
    {
      "cell_type": "code",
      "metadata": {
        "id": "qOuggFjrJA9f"
      },
      "source": [
        "def derivative(x, w, b, y):\n",
        "    dw = (1/m)* np.sum( x*(hypothesis(x, w, b)-y) , axis = 0) # 1 x w_dim\n",
        "    # (1/m)*x(h(x)-y)\n",
        "    db = (1/m)* np.sum( hypothesis(x, w, b)-y, axis = 0 )\n",
        "    # (1/m)*(h(x)-y)\n",
        "    return dw, db"
      ],
      "execution_count": null,
      "outputs": []
    },
    {
      "cell_type": "code",
      "metadata": {
        "id": "eTWgX9UmJA9g"
      },
      "source": [
        "def update(x, w, b, y, alpha):\n",
        "    w = w - alpha*(derivative(x, w, b, y)[0]) # w := w + alpha * dw\n",
        "    b = b - alpha*(derivative(x, w, b, y)[1]) # b := b + alpha * db\n",
        "    return w, b"
      ],
      "execution_count": null,
      "outputs": []
    },
    {
      "cell_type": "markdown",
      "metadata": {
        "id": "mbIE2zECJA9g"
      },
      "source": [
        "# Step 3. Training model"
      ]
    },
    {
      "cell_type": "code",
      "metadata": {
        "id": "8A1XLtzhJA9g"
      },
      "source": [
        "# initialization of weights and bias\n",
        "w = np.array([[3.0, -3.0]])\n",
        "b = -1.345\n",
        "\n",
        "x = total_dataset[:, :2] # x1, x2\n",
        "y = total_dataset[:, 2:3] # label"
      ],
      "execution_count": null,
      "outputs": []
    },
    {
      "cell_type": "code",
      "metadata": {
        "id": "P-uTt0CHJA9g"
      },
      "source": [
        ""
      ],
      "execution_count": null,
      "outputs": []
    },
    {
      "cell_type": "markdown",
      "metadata": {
        "id": "CWoFhf5CJA9g"
      },
      "source": [
        "## 아래 두 개 cell을 반복하여 실행하며, 선형 분류기의 위치 변화를 관찰해보세요."
      ]
    },
    {
      "cell_type": "code",
      "metadata": {
        "id": "CPPD1pMyJA9h"
      },
      "source": [
        "def train(_iter, x, w, b, y):\n",
        "    for i in range(_iter):\n",
        "        w, b = update(x, w, b, y, alpha=0.001)\n",
        "    print ('cost =',cost(x, w, b, y))\n",
        "    print ('w =',w)\n",
        "    print ('b =',b)\n",
        "    return w, b\n",
        "\n",
        "def visualize(w, b):\n",
        "    fig = plt.figure()\n",
        "    ax1 = fig.add_subplot(111)\n",
        "    color = [(1*i, 1, 0) for i in total_dataset[:,2] ]\n",
        "    ax1.scatter(total_dataset[:,0], total_dataset[:,1], c = color)\n",
        "\n",
        "    p1 = np.array([0, -b/w[0, 1]])\n",
        "    p2 = np.array([-b[0]/w[0, 0], 0]) # b has the shape as [1]\n",
        "    coefficients = np.polyfit([p1[0], p2[0]], [p1[1][0], p2[1]], 1)  \n",
        "    polynomial = np.poly1d(coefficients)\n",
        "    x_axis = np.linspace(-2.0, 2.0)\n",
        "    y_axis = polynomial(x_axis)\n",
        "    ax1.set_ylim(-2.0, 2.0)\n",
        "    ax1.plot(x_axis, y_axis)\n",
        "\n",
        "    plt.show()"
      ],
      "execution_count": null,
      "outputs": []
    },
    {
      "cell_type": "code",
      "metadata": {
        "id": "-kZXAnFpJA9i"
      },
      "source": [
        "for i in range(20):\n",
        "    w, b = train(200, x, w, b, y)\n",
        "    visualize(w, b)"
      ],
      "execution_count": null,
      "outputs": []
    },
    {
      "cell_type": "code",
      "metadata": {
        "id": "WBju3_WCJA9i"
      },
      "source": [
        ""
      ],
      "execution_count": null,
      "outputs": []
    },
    {
      "cell_type": "markdown",
      "metadata": {
        "id": "r7ENlhpHJA9j"
      },
      "source": [
        "# 이런 문제는 어떨까요?"
      ]
    },
    {
      "cell_type": "code",
      "metadata": {
        "id": "p2gFA9XjJA9j"
      },
      "source": [
        "# 임의의 클래스 A와 클래스 B를 생성함.\n",
        "m = 200\n",
        "class_A = np.random.normal(0, 1, [m, 2])\n",
        "label_A = np.ones([m, 1])\n",
        "\n",
        "class_B_x = np.random.normal(0, 2, [m, 1])\n",
        "class_B_y = 0.5*class_B_x**2 - 3\n",
        "\n",
        "class_B = np.concatenate([class_B_x, class_B_y], axis = 1)\n",
        "label_B = np.zeros([m, 1])"
      ],
      "execution_count": null,
      "outputs": []
    },
    {
      "cell_type": "code",
      "metadata": {
        "id": "7u553Sm5JA9j"
      },
      "source": [
        "#데이터 분포를 볼까요?\n",
        "\n",
        "fig = plt.figure()\n",
        "ax1 = fig.add_subplot(111)\n",
        "\n",
        "ax1.set_title('nonlinear distribution')\n",
        "ax1.set_xlabel('x1')\n",
        "ax1.set_ylabel('x2')\n",
        "\n",
        "ax1.set_xlim([-4,4])\n",
        "ax1.set_ylim([-4,4])\n",
        "\n",
        "ax1.scatter(class_A[:,0], class_A[:,1], c='red')\n",
        "\n",
        "ax1.scatter(class_B[:,0], class_B[:,1])\n",
        "plt.show()"
      ],
      "execution_count": null,
      "outputs": []
    },
    {
      "cell_type": "code",
      "metadata": {
        "id": "4Y3gCPkdJA9k"
      },
      "source": [
        ""
      ],
      "execution_count": null,
      "outputs": []
    },
    {
      "cell_type": "code",
      "metadata": {
        "id": "bz1iafLWJA9l"
      },
      "source": [
        "import tensorflow as tf"
      ],
      "execution_count": null,
      "outputs": []
    },
    {
      "cell_type": "code",
      "metadata": {
        "id": "-ZrYlKHVJA9l"
      },
      "source": [
        "mnist = tf.keras.datasets.mnist\n",
        "(x_train, y_train), (x_test, y_test) = mnist.load_data()"
      ],
      "execution_count": null,
      "outputs": []
    },
    {
      "cell_type": "code",
      "metadata": {
        "id": "NtLwN1AHJA9m"
      },
      "source": [
        "#데이터의 shape을 볼까요?\n",
        "print(x_train.shape)"
      ],
      "execution_count": null,
      "outputs": []
    },
    {
      "cell_type": "code",
      "metadata": {
        "id": "o8OkQa_wJA9m"
      },
      "source": [
        "# 60000개 중 첫번째 데이터를 봅시다.\n",
        "img = x_train[0]\n",
        "plt.imshow(img, cmap='gray')\n",
        "plt.show()"
      ],
      "execution_count": null,
      "outputs": []
    },
    {
      "cell_type": "code",
      "metadata": {
        "id": "2DW2uTNgJA9n"
      },
      "source": [
        "# 값도 출력해봅시다.\n",
        "print(img)"
      ],
      "execution_count": null,
      "outputs": []
    },
    {
      "cell_type": "code",
      "metadata": {
        "id": "-A0rCK0vJA9n"
      },
      "source": [
        "# 값도 출력해봅시다.\n",
        "vectorized = np.reshape(img, [28*28])"
      ],
      "execution_count": null,
      "outputs": []
    },
    {
      "cell_type": "code",
      "metadata": {
        "id": "65GDIsNKJA9n"
      },
      "source": [
        "vectorized.shape"
      ],
      "execution_count": null,
      "outputs": []
    },
    {
      "cell_type": "code",
      "metadata": {
        "id": "J5bZVKwyJA9o"
      },
      "source": [
        "#이런 데이터도 잘 분류될 수 있을까?\n",
        "print(vectorized)"
      ],
      "execution_count": null,
      "outputs": []
    },
    {
      "cell_type": "code",
      "metadata": {
        "id": "3sLqJSkkJA9o"
      },
      "source": [
        ""
      ],
      "execution_count": null,
      "outputs": []
    }
  ]
}